{
 "cells": [
  {
   "cell_type": "markdown",
   "id": "7008d700-9dca-4107-9819-fe4418d95901",
   "metadata": {},
   "source": [
    "### hare krishna"
   ]
  },
  {
   "cell_type": "markdown",
   "id": "3f529448-efc0-4852-9ebd-e23bbe406869",
   "metadata": {},
   "source": [
    "- its not defined means the value that i want to use does not exist\n",
    "- or the code above is not executed in vs you execute all at once so you wont see this more in there bro"
   ]
  },
  {
   "cell_type": "markdown",
   "id": "61aa02a0-df7b-41da-82ef-47b5d8a6cf00",
   "metadata": {},
   "source": [
    "# ***know the errors better***"
   ]
  },
  {
   "cell_type": "markdown",
   "id": "7022b622-f5fc-439d-9a23-a95f929dbdc1",
   "metadata": {},
   "source": [
    "**type casting :** data type conversion...\n",
    "- each data type to the other data types."
   ]
  },
  {
   "cell_type": "markdown",
   "id": "8b3e35e3-749b-4598-87e2-4a1d34fba8b2",
   "metadata": {},
   "source": [
    "**lets see for int**"
   ]
  },
  {
   "cell_type": "code",
   "execution_count": 14,
   "id": "2c40bdb7-2989-419d-b720-65bd45f5f6a2",
   "metadata": {},
   "outputs": [
    {
     "data": {
      "text/plain": [
       "int"
      ]
     },
     "execution_count": 14,
     "metadata": {},
     "output_type": "execute_result"
    }
   ],
   "source": [
    "num = 100\n",
    "type(num)"
   ]
  },
  {
   "cell_type": "code",
   "execution_count": 15,
   "id": "7ec80a88-0478-4785-a0e0-c9a6052a626f",
   "metadata": {},
   "outputs": [
    {
     "data": {
      "text/plain": [
       "100.0"
      ]
     },
     "execution_count": 15,
     "metadata": {},
     "output_type": "execute_result"
    }
   ],
   "source": [
    "#to float\n",
    "float(num)"
   ]
  },
  {
   "cell_type": "code",
   "execution_count": 16,
   "id": "90918587-a40d-4e15-9192-861ab7079627",
   "metadata": {},
   "outputs": [
    {
     "data": {
      "text/plain": [
       "True"
      ]
     },
     "execution_count": 16,
     "metadata": {},
     "output_type": "execute_result"
    }
   ],
   "source": [
    "#to bool\n",
    "bool(num)"
   ]
  },
  {
   "cell_type": "code",
   "execution_count": 17,
   "id": "e4509a6e-877f-41c7-a442-73385126b149",
   "metadata": {},
   "outputs": [
    {
     "data": {
      "text/plain": [
       "'100'"
      ]
     },
     "execution_count": 17,
     "metadata": {},
     "output_type": "execute_result"
    }
   ],
   "source": [
    "#to str\n",
    "str(num)"
   ]
  },
  {
   "cell_type": "code",
   "execution_count": 3,
   "id": "f8b60c37-0b76-460c-955c-6cfff3d57bac",
   "metadata": {},
   "outputs": [],
   "source": [
    "#when the bool will become false when converting the int type?\n",
    "num1 = 0"
   ]
  },
  {
   "cell_type": "code",
   "execution_count": 4,
   "id": "af5c11aa-f0ba-4087-bda7-207328cb7229",
   "metadata": {},
   "outputs": [
    {
     "data": {
      "text/plain": [
       "False"
      ]
     },
     "execution_count": 4,
     "metadata": {},
     "output_type": "execute_result"
    }
   ],
   "source": [
    "#for any positive and nagative number it becomes true only only for o it givees false\n",
    "bool(num1)"
   ]
  },
  {
   "cell_type": "markdown",
   "id": "6ee62756-c591-4229-8e59-0e7e5e008676",
   "metadata": {},
   "source": [
    "**lets see for float**"
   ]
  },
  {
   "cell_type": "code",
   "execution_count": 27,
   "id": "1530d62c-c979-431c-b603-98d91b939826",
   "metadata": {},
   "outputs": [
    {
     "data": {
      "text/plain": [
       "'215.98'"
      ]
     },
     "execution_count": 27,
     "metadata": {},
     "output_type": "execute_result"
    }
   ],
   "source": [
    "num = 215.98\n",
    "str(num)"
   ]
  },
  {
   "cell_type": "code",
   "execution_count": 28,
   "id": "ad6619eb-e463-49ef-be8d-4eccfd792acd",
   "metadata": {},
   "outputs": [
    {
     "data": {
      "text/plain": [
       "True"
      ]
     },
     "execution_count": 28,
     "metadata": {},
     "output_type": "execute_result"
    }
   ],
   "source": [
    "bool(num)"
   ]
  },
  {
   "cell_type": "code",
   "execution_count": 29,
   "id": "524f5db2-6437-475a-971f-5ad594256c58",
   "metadata": {},
   "outputs": [
    {
     "data": {
      "text/plain": [
       "215"
      ]
     },
     "execution_count": 29,
     "metadata": {},
     "output_type": "execute_result"
    }
   ],
   "source": [
    "int(num)"
   ]
  },
  {
   "cell_type": "markdown",
   "id": "c4acaa21-425e-4632-b2f0-fcc1af1cea1d",
   "metadata": {},
   "source": [
    "**let's see for string**"
   ]
  },
  {
   "cell_type": "code",
   "execution_count": 42,
   "id": "4a5d1bd3-2d71-49f6-b806-863792928e91",
   "metadata": {},
   "outputs": [],
   "source": [
    "#case1\n",
    "str = 'str'\n",
    "#case2\n",
    "str1 = '48'\n",
    "#case3\n",
    "str2 = '6.99'\n"
   ]
  },
  {
   "cell_type": "code",
   "execution_count": 34,
   "id": "34270d92-c41c-49f9-918a-812c77d35cc7",
   "metadata": {},
   "outputs": [
    {
     "ename": "ValueError",
     "evalue": "invalid literal for int() with base 10: 'apple'",
     "output_type": "error",
     "traceback": [
      "\u001b[1;31m---------------------------------------------------------------------------\u001b[0m",
      "\u001b[1;31mValueError\u001b[0m                                Traceback (most recent call last)",
      "Cell \u001b[1;32mIn[34], line 1\u001b[0m\n\u001b[1;32m----> 1\u001b[0m \u001b[38;5;28;43mint\u001b[39;49m\u001b[43m(\u001b[49m\u001b[38;5;124;43m'\u001b[39;49m\u001b[38;5;124;43mapple\u001b[39;49m\u001b[38;5;124;43m'\u001b[39;49m\u001b[43m)\u001b[49m\n",
      "\u001b[1;31mValueError\u001b[0m: invalid literal for int() with base 10: 'apple'"
     ]
    }
   ],
   "source": [
    "int('apple')"
   ]
  },
  {
   "cell_type": "code",
   "execution_count": 35,
   "id": "6dd66aab-2371-4318-a1e5-4d0e9ebdf839",
   "metadata": {},
   "outputs": [
    {
     "ename": "ValueError",
     "evalue": "could not convert string to float: 'apple'",
     "output_type": "error",
     "traceback": [
      "\u001b[1;31m---------------------------------------------------------------------------\u001b[0m",
      "\u001b[1;31mValueError\u001b[0m                                Traceback (most recent call last)",
      "Cell \u001b[1;32mIn[35], line 1\u001b[0m\n\u001b[1;32m----> 1\u001b[0m \u001b[38;5;28;43mfloat\u001b[39;49m\u001b[43m(\u001b[49m\u001b[38;5;124;43m'\u001b[39;49m\u001b[38;5;124;43mapple\u001b[39;49m\u001b[38;5;124;43m'\u001b[39;49m\u001b[43m)\u001b[49m\n",
      "\u001b[1;31mValueError\u001b[0m: could not convert string to float: 'apple'"
     ]
    }
   ],
   "source": [
    "float('apple')"
   ]
  },
  {
   "cell_type": "code",
   "execution_count": 36,
   "id": "3121793e-3d70-4698-97c1-dca1756ddc3b",
   "metadata": {},
   "outputs": [
    {
     "data": {
      "text/plain": [
       "True"
      ]
     },
     "execution_count": 36,
     "metadata": {},
     "output_type": "execute_result"
    }
   ],
   "source": [
    "bool('apple')"
   ]
  },
  {
   "cell_type": "code",
   "execution_count": 37,
   "id": "731b8945-b061-4430-9e56-542687c45fef",
   "metadata": {},
   "outputs": [
    {
     "ename": "ValueError",
     "evalue": "invalid literal for int() with base 10: 'str'",
     "output_type": "error",
     "traceback": [
      "\u001b[1;31m---------------------------------------------------------------------------\u001b[0m",
      "\u001b[1;31mValueError\u001b[0m                                Traceback (most recent call last)",
      "Cell \u001b[1;32mIn[37], line 1\u001b[0m\n\u001b[1;32m----> 1\u001b[0m \u001b[38;5;28;43mint\u001b[39;49m\u001b[43m(\u001b[49m\u001b[38;5;28;43mstr\u001b[39;49m\u001b[43m)\u001b[49m\n",
      "\u001b[1;31mValueError\u001b[0m: invalid literal for int() with base 10: 'str'"
     ]
    }
   ],
   "source": [
    "int(str)"
   ]
  },
  {
   "cell_type": "code",
   "execution_count": 38,
   "id": "f6edf8a1-df7e-4b76-a4f6-9c882ad29580",
   "metadata": {},
   "outputs": [
    {
     "data": {
      "text/plain": [
       "48"
      ]
     },
     "execution_count": 38,
     "metadata": {},
     "output_type": "execute_result"
    }
   ],
   "source": [
    "int(str1)"
   ]
  },
  {
   "cell_type": "code",
   "execution_count": 40,
   "id": "fd1d0b5c-843c-4d4b-a0ad-50ee0ca3caac",
   "metadata": {},
   "outputs": [
    {
     "ename": "ValueError",
     "evalue": "invalid literal for int() with base 10: '6.99'",
     "output_type": "error",
     "traceback": [
      "\u001b[1;31m---------------------------------------------------------------------------\u001b[0m",
      "\u001b[1;31mValueError\u001b[0m                                Traceback (most recent call last)",
      "Cell \u001b[1;32mIn[40], line 1\u001b[0m\n\u001b[1;32m----> 1\u001b[0m \u001b[38;5;28;43mint\u001b[39;49m\u001b[43m(\u001b[49m\u001b[43mstr2\u001b[49m\u001b[43m)\u001b[49m\u001b[38;5;66;03m#you cant convert string-float to int\u001b[39;00m\n",
      "\u001b[1;31mValueError\u001b[0m: invalid literal for int() with base 10: '6.99'"
     ]
    }
   ],
   "source": [
    "int(str2)#you cant convert string-float to int"
   ]
  },
  {
   "cell_type": "code",
   "execution_count": 41,
   "id": "a75c98d0-a6a1-45a6-b3b0-710cd6a23603",
   "metadata": {},
   "outputs": [
    {
     "data": {
      "text/plain": [
       "6.99"
      ]
     },
     "execution_count": 41,
     "metadata": {},
     "output_type": "execute_result"
    }
   ],
   "source": [
    "float(str2)"
   ]
  },
  {
   "cell_type": "markdown",
   "id": "1bb8e186-14fa-4ab4-b87a-a64af0d9aba5",
   "metadata": {},
   "source": [
    "- when conversion integer will only work for int when its in string format\n",
    "- but we can convert the int in str format to float"
   ]
  },
  {
   "cell_type": "code",
   "execution_count": 45,
   "id": "4cb21a0a-40db-4365-b286-a531bf72c3e5",
   "metadata": {},
   "outputs": [
    {
     "data": {
      "text/plain": [
       "48.0"
      ]
     },
     "execution_count": 45,
     "metadata": {},
     "output_type": "execute_result"
    }
   ],
   "source": [
    "float(str1)"
   ]
  },
  {
   "cell_type": "code",
   "execution_count": 46,
   "id": "d999366b-8d47-4b52-bf22-3c1a883bce45",
   "metadata": {},
   "outputs": [
    {
     "data": {
      "text/plain": [
       "False"
      ]
     },
     "execution_count": 46,
     "metadata": {},
     "output_type": "execute_result"
    }
   ],
   "source": [
    "bool('')"
   ]
  },
  {
   "cell_type": "code",
   "execution_count": 47,
   "id": "ceafb450-a832-4c28-8261-cb359545ebde",
   "metadata": {},
   "outputs": [],
   "source": [
    "#empty string of boolean gives false"
   ]
  },
  {
   "cell_type": "markdown",
   "id": "fffabe71-98c5-482d-a1cc-3aae4a06ad79",
   "metadata": {},
   "source": [
    "**lets see  for the bool conversion**"
   ]
  },
  {
   "cell_type": "code",
   "execution_count": 50,
   "id": "756111c4-9577-4b5b-86e4-d09840bf3475",
   "metadata": {},
   "outputs": [
    {
     "data": {
      "text/plain": [
       "1.0"
      ]
     },
     "execution_count": 50,
     "metadata": {},
     "output_type": "execute_result"
    }
   ],
   "source": [
    "true = True\n",
    "float(true)"
   ]
  },
  {
   "cell_type": "code",
   "execution_count": 51,
   "id": "12d6823c-de5b-4acf-a39a-4cd32495f434",
   "metadata": {},
   "outputs": [
    {
     "data": {
      "text/plain": [
       "1"
      ]
     },
     "execution_count": 51,
     "metadata": {},
     "output_type": "execute_result"
    }
   ],
   "source": [
    "int(true)"
   ]
  },
  {
   "cell_type": "code",
   "execution_count": 55,
   "id": "3bf75408-5127-403a-9053-fa972587f865",
   "metadata": {},
   "outputs": [
    {
     "ename": "TypeError",
     "evalue": "'str' object is not callable",
     "output_type": "error",
     "traceback": [
      "\u001b[1;31m---------------------------------------------------------------------------\u001b[0m",
      "\u001b[1;31mTypeError\u001b[0m                                 Traceback (most recent call last)",
      "Cell \u001b[1;32mIn[55], line 1\u001b[0m\n\u001b[1;32m----> 1\u001b[0m \u001b[38;5;28;43mstr\u001b[39;49m\u001b[43m(\u001b[49m\u001b[43mtrue\u001b[49m\u001b[43m)\u001b[49m\n",
      "\u001b[1;31mTypeError\u001b[0m: 'str' object is not callable"
     ]
    }
   ],
   "source": [
    "str(true)"
   ]
  },
  {
   "cell_type": "code",
   "execution_count": 56,
   "id": "e449abda-5b69-4415-8812-38189c417992",
   "metadata": {},
   "outputs": [],
   "source": [
    "#when it shows\"'str' object is not callable\"execute this again in a new file or close and open it again it works "
   ]
  },
  {
   "cell_type": "code",
   "execution_count": null,
   "id": "ca37f651-553d-42d7-bdcd-60d6807a7f0f",
   "metadata": {},
   "outputs": [],
   "source": []
  }
 ],
 "metadata": {
  "kernelspec": {
   "display_name": "Python 3 (ipykernel)",
   "language": "python",
   "name": "python3"
  },
  "language_info": {
   "codemirror_mode": {
    "name": "ipython",
    "version": 3
   },
   "file_extension": ".py",
   "mimetype": "text/x-python",
   "name": "python",
   "nbconvert_exporter": "python",
   "pygments_lexer": "ipython3",
   "version": "3.11.4"
  }
 },
 "nbformat": 4,
 "nbformat_minor": 5
}
