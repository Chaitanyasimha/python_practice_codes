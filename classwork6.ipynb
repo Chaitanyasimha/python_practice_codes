{
 "cells": [
  {
   "cell_type": "markdown",
   "id": "a59f4ba4-05a8-474e-8609-ca21d36b6a0a",
   "metadata": {},
   "source": [
    "# Hare krishna"
   ]
  },
  {
   "cell_type": "markdown",
   "id": "29fddcda-56b8-4001-a845-2030674b43ba",
   "metadata": {},
   "source": [
    "### Case1"
   ]
  },
  {
   "cell_type": "code",
   "execution_count": 1,
   "id": "51010046-899b-4c00-9c66-66b874890bb9",
   "metadata": {},
   "outputs": [
    {
     "name": "stdout",
     "output_type": "stream",
     "text": [
      "30\n"
     ]
    }
   ],
   "source": [
    "def addition():\n",
    "    a = 10\n",
    "    b = 20\n",
    "    add = a+b\n",
    "    print(add)\n",
    "addition()"
   ]
  },
  {
   "cell_type": "markdown",
   "id": "f846e0b1-6c90-462c-a456-8ab309bc58cf",
   "metadata": {},
   "source": [
    "### Case2"
   ]
  },
  {
   "cell_type": "code",
   "execution_count": 3,
   "id": "6cb8c419-3f6d-4b55-a903-f047d567ac70",
   "metadata": {},
   "outputs": [
    {
     "name": "stdout",
     "output_type": "stream",
     "text": [
      "350\n"
     ]
    }
   ],
   "source": [
    "def addition1():\n",
    "    b1 = 250\n",
    "    add1 = a1 + b1\n",
    "    print(add1)\n",
    "a1 = 100\n",
    "addition1()"
   ]
  },
  {
   "cell_type": "markdown",
   "id": "0f107c20-b52c-4a0e-8214-06ac4e6210d9",
   "metadata": {},
   "source": [
    "### Case3"
   ]
  },
  {
   "cell_type": "code",
   "execution_count": 5,
   "id": "d27f34fb-2a96-4e4a-ad4c-a17bd85fae6a",
   "metadata": {},
   "outputs": [
    {
     "name": "stdout",
     "output_type": "stream",
     "text": [
      "1477\n"
     ]
    }
   ],
   "source": [
    "def addition2(a2,b2):\n",
    "    add2 = a2 + b2\n",
    "    print(add2)\n",
    "addition2(589,888)"
   ]
  },
  {
   "cell_type": "markdown",
   "id": "6477edd9-f35a-49ad-9b69-9014288510e6",
   "metadata": {},
   "source": [
    "### Case4"
   ]
  },
  {
   "cell_type": "code",
   "execution_count": 6,
   "id": "81417e50-04a5-4799-8f47-427277aacf14",
   "metadata": {},
   "outputs": [
    {
     "name": "stdout",
     "output_type": "stream",
     "text": [
      "9000\n"
     ]
    }
   ],
   "source": [
    "def addition3(a3,b3 = 2000):\n",
    "    add3 =  a3 + b3\n",
    "    print(add3)\n",
    "addition3(4000,5000)"
   ]
  },
  {
   "cell_type": "markdown",
   "id": "82959696-1480-40c8-b68d-7c7e0a7b57cb",
   "metadata": {},
   "source": [
    "### Case5"
   ]
  },
  {
   "cell_type": "code",
   "execution_count": 7,
   "id": "920a29a9-2cf5-4b69-83ef-b434c46c91f9",
   "metadata": {},
   "outputs": [
    {
     "name": "stdout",
     "output_type": "stream",
     "text": [
      "6000\n"
     ]
    }
   ],
   "source": [
    "def addition3(a3,b3 = 2000):\n",
    "    add3 =  a3 + b3\n",
    "    print(add3)\n",
    "addition3(4000)"
   ]
  },
  {
   "cell_type": "markdown",
   "id": "ecfe4b53-2f34-4805-b893-ee454e8d096c",
   "metadata": {},
   "source": [
    "### Case5"
   ]
  },
  {
   "cell_type": "code",
   "execution_count": 10,
   "id": "9a1757e8-1ff7-440d-9df3-38378cd3e7c4",
   "metadata": {},
   "outputs": [
    {
     "name": "stdout",
     "output_type": "stream",
     "text": [
      "5500\n"
     ]
    }
   ],
   "source": [
    "def addition3(a3,b3 = 2000):\n",
    "    add3 =  a3 + b3\n",
    "    print(add3)\n",
    "a3 = 3500\n",
    "addition3(a3)"
   ]
  },
  {
   "cell_type": "markdown",
   "id": "b01a1af4-a5cc-4d22-9ab2-c87af0d4e37a",
   "metadata": {},
   "source": [
    "### Case6"
   ]
  },
  {
   "cell_type": "code",
   "execution_count": 13,
   "id": "4bcbcfb7-5820-4086-ae47-97f58e918b95",
   "metadata": {},
   "outputs": [
    {
     "name": "stdout",
     "output_type": "stream",
     "text": [
      "11500\n"
     ]
    }
   ],
   "source": [
    "def addition3(b3 = 2000):\n",
    "    add3 =  a3 + b3\n",
    "    print(add3)\n",
    "a3 = 9500\n",
    "addition3()"
   ]
  },
  {
   "cell_type": "markdown",
   "id": "5e58e374-f602-463c-bdb6-38820f34911c",
   "metadata": {},
   "source": [
    "### Case7"
   ]
  },
  {
   "cell_type": "code",
   "execution_count": 14,
   "id": "c0b9234f-9890-4be2-9e17-1dbff521b9ec",
   "metadata": {},
   "outputs": [
    {
     "name": "stdout",
     "output_type": "stream",
     "text": [
      "9400\n"
     ]
    }
   ],
   "source": [
    "b3 = 5900\n",
    "def addition3():\n",
    "    add3 =  a3 + b3\n",
    "    print(add3)\n",
    "a3 = 3500\n",
    "addition3()"
   ]
  },
  {
   "cell_type": "markdown",
   "id": "c19a94d2-ad0a-46f2-aaac-8eb8c745e09c",
   "metadata": {},
   "source": [
    "### Case8"
   ]
  },
  {
   "cell_type": "code",
   "execution_count": 16,
   "id": "d7a5071e-66ec-479e-81d0-51b8b59e48c3",
   "metadata": {},
   "outputs": [
    {
     "name": "stdout",
     "output_type": "stream",
     "text": [
      "10000\n"
     ]
    }
   ],
   "source": [
    "def addition3(a3,b3 = 8000):\n",
    "    add3 =  a3 + b3\n",
    "    print(add3)\n",
    "b3 = 3000 \n",
    "addition3(2000)"
   ]
  },
  {
   "cell_type": "markdown",
   "id": "3ba750e8-a3c4-404d-8d21-c485461ad281",
   "metadata": {},
   "source": [
    "### case9"
   ]
  },
  {
   "cell_type": "code",
   "execution_count": 23,
   "id": "2332a9b5-75bc-49f5-a703-3f243e65c98b",
   "metadata": {},
   "outputs": [
    {
     "name": "stdout",
     "output_type": "stream",
     "text": [
      "16000\n"
     ]
    }
   ],
   "source": [
    "def addition33(a33,b33 = 5000):\n",
    "    add3 =  a33 + b33\n",
    "    print(add3)\n",
    "b3 = 3000 \n",
    "addition33(8000,8000)"
   ]
  },
  {
   "cell_type": "markdown",
   "id": "d4614d75-521a-4ba8-9762-6fe863e334e0",
   "metadata": {},
   "source": [
    "### Case10"
   ]
  },
  {
   "cell_type": "code",
   "execution_count": 25,
   "id": "75778e64-2b8f-457f-ada0-6fe526941649",
   "metadata": {},
   "outputs": [
    {
     "name": "stdout",
     "output_type": "stream",
     "text": [
      "16000\n"
     ]
    }
   ],
   "source": [
    "b33 = 9000 \n",
    "def addition33(a33,b33 = 5000):\n",
    "    add3 =  a33 + b33\n",
    "    print(add3)\n",
    "b33 = 3000 \n",
    "addition33(8000,8000)"
   ]
  },
  {
   "cell_type": "markdown",
   "id": "bb68439c-eda3-4634-ba9a-1dcbefe1026c",
   "metadata": {},
   "source": [
    "### Case11"
   ]
  },
  {
   "cell_type": "code",
   "execution_count": 29,
   "id": "c00fafa6-5c1e-4083-a87a-43f91dec05f8",
   "metadata": {},
   "outputs": [
    {
     "name": "stdout",
     "output_type": "stream",
     "text": [
      "17000\n"
     ]
    }
   ],
   "source": [
    "a36 = 77\n",
    "b36 = 9000 \n",
    "def addition3_(a36,b36 = 5000):\n",
    "    add33 =  a36 + b36\n",
    "    print(add33)\n",
    "b36 = 3000 \n",
    "addition3(9000,8000)"
   ]
  },
  {
   "cell_type": "markdown",
   "id": "95bf604c-5d15-43cb-b635-6736ff9e6cd7",
   "metadata": {},
   "source": [
    "### Case12"
   ]
  },
  {
   "cell_type": "code",
   "execution_count": 30,
   "id": "40263afa-a3a3-4886-8517-b868d51a851b",
   "metadata": {},
   "outputs": [
    {
     "name": "stdout",
     "output_type": "stream",
     "text": [
      "5200\n"
     ]
    }
   ],
   "source": [
    "a1=100\n",
    "b1=200\n",
    "def add11(a1=1000):\n",
    " a1=5000\n",
    " add1=a1+b1\n",
    " print(add1)\n",
    "add11(a1=2000)"
   ]
  },
  {
   "cell_type": "code",
   "execution_count": 31,
   "id": "f169e1bf-1d6f-4b07-97f6-1a16d3e865bc",
   "metadata": {},
   "outputs": [
    {
     "name": "stdin",
     "output_type": "stream",
     "text": [
      " [1,2,3,5]\n"
     ]
    },
    {
     "name": "stdout",
     "output_type": "stream",
     "text": [
      "[1,2,3,5]\n"
     ]
    }
   ],
   "source": [
    "n = input()\n",
    "print(n)"
   ]
  },
  {
   "cell_type": "code",
   "execution_count": 32,
   "id": "068fd0b0-6e43-4cee-827c-6dd577336ec6",
   "metadata": {},
   "outputs": [
    {
     "name": "stdin",
     "output_type": "stream",
     "text": [
      "number of elements in the tuple : 4\n",
      "enter the elements with a space : 3\n",
      "enter the elements with a space : 4\n",
      "enter the elements with a space : 6\n",
      "enter the elements with a space : 7\n"
     ]
    },
    {
     "name": "stdout",
     "output_type": "stream",
     "text": [
      "[3, 4, 6, 7]\n"
     ]
    }
   ],
   "source": [
    "# Enter your code here. Read input from STDIN. Print output to STDOUT\n",
    "n = eval(input(\"number of elements in the tuple :\"))\n",
    "t = []\n",
    "for i in range (n):\n",
    "    integers = eval(input(\"enter the elements with a space :\"))\n",
    "    t.append(integers)\n",
    "print(t)\n",
    "     \n"
   ]
  },
  {
   "cell_type": "code",
   "execution_count": null,
   "id": "3447264c-b779-42bf-994c-de1b361715db",
   "metadata": {},
   "outputs": [],
   "source": []
  }
 ],
 "metadata": {
  "kernelspec": {
   "display_name": "Python 3 (ipykernel)",
   "language": "python",
   "name": "python3"
  },
  "language_info": {
   "codemirror_mode": {
    "name": "ipython",
    "version": 3
   },
   "file_extension": ".py",
   "mimetype": "text/x-python",
   "name": "python",
   "nbconvert_exporter": "python",
   "pygments_lexer": "ipython3",
   "version": "3.11.4"
  }
 },
 "nbformat": 4,
 "nbformat_minor": 5
}
