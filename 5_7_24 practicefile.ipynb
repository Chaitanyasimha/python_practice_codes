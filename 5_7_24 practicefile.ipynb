{
 "cells": [
  {
   "cell_type": "code",
   "execution_count": 1,
   "id": "070fa948-6a18-47be-b944-328d8104034b",
   "metadata": {},
   "outputs": [
    {
     "name": "stdin",
     "output_type": "stream",
     "text": [
      " 3 3000\n"
     ]
    },
    {
     "name": "stdout",
     "output_type": "stream",
     "text": [
      "[3, 3000]\n"
     ]
    }
   ],
   "source": [
    "n = list(map(int,input().split()))\n",
    "print(n)"
   ]
  },
  {
   "cell_type": "code",
   "execution_count": 3,
   "id": "5db1a237-a681-4dd0-a819-50364d0987c0",
   "metadata": {},
   "outputs": [
    {
     "data": {
      "text/plain": [
       "3003"
      ]
     },
     "execution_count": 3,
     "metadata": {},
     "output_type": "execute_result"
    }
   ],
   "source": [
    "n[0]+n[1]"
   ]
  },
  {
   "cell_type": "code",
   "execution_count": 4,
   "id": "e6385761-e85f-487e-a6d1-2b8e39d1f738",
   "metadata": {},
   "outputs": [],
   "source": [
    "#tested the input list"
   ]
  },
  {
   "cell_type": "code",
   "execution_count": 23,
   "id": "e9f1a2c5-f3dd-4060-ae42-1a51c1f475a6",
   "metadata": {},
   "outputs": [
    {
     "name": "stdin",
     "output_type": "stream",
     "text": [
      " 8 1000\n",
      " 4 7 9\n",
      " 7 9\n",
      " 6 7\n",
      " 2 6\n",
      " 5 8\n",
      " 5 9\n",
      " 3 9\n"
     ]
    },
    {
     "name": "stdout",
     "output_type": "stream",
     "text": [
      "[81, 81, 49, 36, 64, 81, 81]\n",
      "473\n"
     ]
    }
   ],
   "source": [
    "#the  first code to try\n",
    "n = list(map(int,input().split()))\n",
    "new_liz = []\n",
    "for i in range (1,n[0]+1):\n",
    "    if i == 1:\n",
    "        i_1 = list(map(int,input().split()))\n",
    "        new_liz.append((max(i_1)**2))\n",
    "    if i == 2:\n",
    "        i_2 = list(map(int,input().split()))\n",
    "        new_liz.append((max(i_2)**2))\n",
    "    if i == 3:\n",
    "        i_3 = list(map(int,input().split()))\n",
    "        new_liz.append((max(i_3)**2))\n",
    "    if i == 4:\n",
    "        i_4 = list(map(int,input().split()))\n",
    "        new_liz.append((max(i_4)**2))\n",
    "    if i == 5:\n",
    "        i_5 = list(map(int,input().split()))\n",
    "        new_liz.append((max(i_5)**2))\n",
    "    if i == 6:\n",
    "        i_6 = list(map(int,input().split()))\n",
    "        new_liz.append((max(i_6)**2))\n",
    "    if i == 7:\n",
    "        i_7 = list(map(int,input().split()))\n",
    "        new_liz.append((max(i_7)**2))\n",
    "print(new_liz)\n",
    "summation = 0\n",
    "for j in range (len(new_liz)):\n",
    "    summation = summation + new_liz[j]\n",
    "result = summation % n[1]\n",
    "print(result)"
   ]
  },
  {
   "cell_type": "code",
   "execution_count": 25,
   "id": "969ed927-89a7-46ef-b6aa-f7d5ea2c5a41",
   "metadata": {},
   "outputs": [
    {
     "name": "stdin",
     "output_type": "stream",
     "text": [
      " 9941618\n",
      " 9924958\n",
      " 5645660\n",
      " 8804416\n",
      " 7851992\n",
      "  8639441\n",
      " 9504976\n",
      " 867\n"
     ]
    },
    {
     "name": "stdout",
     "output_type": "stream",
     "text": [
      "206\n"
     ]
    }
   ],
   "source": [
    "b = 0\n",
    "for i in range (7):\n",
    "    a = int(input())\n",
    "    b = b + a\n",
    "mod = int(input())\n",
    "res = b % mod\n",
    "print(res)"
   ]
  },
  {
   "cell_type": "code",
   "execution_count": 26,
   "id": "d1e9faf8-672f-48bf-87b2-5559ebc7c0b7",
   "metadata": {},
   "outputs": [
    {
     "name": "stdin",
     "output_type": "stream",
     "text": [
      " 9941618\n",
      " 9924958\n",
      " 5645660\n",
      " 8804416\n",
      " 7851992\n",
      " 8639441\n",
      " 9504976\n",
      " 867\n"
     ]
    },
    {
     "name": "stdout",
     "output_type": "stream",
     "text": [
      "206\n"
     ]
    }
   ],
   "source": [
    "b = 0\n",
    "for i in range (7):\n",
    "    a = int(input())\n",
    "    b = b + a\n",
    "mod = int(input())\n",
    "res = b % mod\n",
    "print(res)"
   ]
  },
  {
   "cell_type": "code",
   "execution_count": 36,
   "id": "4494ee06-459a-4f66-8902-171b5e7ab9f3",
   "metadata": {},
   "outputs": [
    {
     "data": {
      "text/plain": [
       "31"
      ]
     },
     "execution_count": 36,
     "metadata": {},
     "output_type": "execute_result"
    }
   ],
   "source": [
    "a = (9941618**2 + 9924958**2 + 5645660**2+8804416**2+7851992**2+8639441**2+9504976**2)%867\n",
    "a"
   ]
  },
  {
   "cell_type": "code",
   "execution_count": 34,
   "id": "35ae4216-3547-41e0-a914-53103bdeeba0",
   "metadata": {},
   "outputs": [
    {
     "data": {
      "text/plain": [
       "145"
      ]
     },
     "execution_count": 34,
     "metadata": {},
     "output_type": "execute_result"
    }
   ],
   "source": [
    "b =  ((9941618+ 9924958+ 5645660+8804416+78519922+8639441+9504976)**2)%867\n",
    "b"
   ]
  },
  {
   "cell_type": "code",
   "execution_count": 4,
   "id": "ef4aaed9-88d3-4d1d-946c-b734e30af730",
   "metadata": {},
   "outputs": [
    {
     "name": "stdin",
     "output_type": "stream",
     "text": [
      " 3 1000\n",
      " 2 5 4\n",
      " 3 7 8 9\n",
      " 5 5 7 8 9 10\n"
     ]
    },
    {
     "name": "stdout",
     "output_type": "stream",
     "text": [
      "[4, 25, 16]\n",
      "[9, 49, 64, 81]\n",
      "[25, 25, 49, 64, 81, 100]\n",
      "[]\n",
      "[]\n",
      "[]\n",
      "[]\n",
      "[38, 38, 62, 77, 94, 113, 78, 78, 102, 117, 134, 153, 93, 93, 117, 132, 149, 168, 110, 110, 134, 149, 166, 185, 59, 59, 83, 98, 115, 134, 99, 99, 123, 138, 155, 174, 114, 114, 138, 153, 170, 189, 131, 131, 155, 170, 187, 206, 50, 50, 74, 89, 106, 125, 90, 90, 114, 129, 146, 165, 105, 105, 129, 144, 161, 180, 122, 122, 146, 161, 178, 197]\n",
      "206\n"
     ]
    }
   ],
   "source": [
    "#the  second code to try\n",
    "n = list(map(int,input().split()))\n",
    "Result_liz = []\n",
    "liz_i1 = []\n",
    "liz_i2 = []\n",
    "liz_i3 = []\n",
    "liz_i4 = []\n",
    "liz_i5 = []\n",
    "liz_i6 = []\n",
    "liz_i7 = []\n",
    "#to create swith case using if statements and creating 7lists and square the values and print em to a new list.\n",
    "# the squaring before execution is important because the before square of individual elements then sum of its value,\n",
    "#                                                               sum of nums and then squareing them whole will cause different results. \n",
    "for i in range (1,n[0]+1):\n",
    "    if i == 1:\n",
    "        i_1 = list(map(int,input().split()))\n",
    "        for i_1_1 in range (len(i_1)):        # this loops take a input i_n where n is a loop number\n",
    "            liz_i1.append((i_1[i_1_1])**2)    # now we use a for loop to append the squared values to a list = liz_in where n is loopnum\n",
    "    if i == 2:                                # i_n_n we are using for every loop is to associate the list values.....\n",
    "        i_2 = list(map(int,input().split()))\n",
    "        for i_2_1 in range (len(i_2)):\n",
    "            liz_i2.append((i_2[i_2_1])**2)\n",
    "    if i == 3:\n",
    "        i_3 = list(map(int,input().split()))\n",
    "        for i_3_1 in range (len(i_3)):\n",
    "            liz_i3.append((i_3[i_3_1])**2)\n",
    "    if i == 4:\n",
    "        i_4 = list(map(int,input().split()))\n",
    "        for i_4_1 in range (len(i_4)):\n",
    "            liz_i4.append((i_4[i_4_1])**2)\n",
    "    if i == 5:\n",
    "        i_5 = list(map(int,input().split()))\n",
    "        for i_5_1 in range (len(i_5)):\n",
    "            liz_i5.append((i_5[i_5_1])**2)\n",
    "    if i == 6:\n",
    "        i_6 = list(map(int,input().split()))\n",
    "        for i_6_1 in range (len(i_6)):\n",
    "            liz_i6.append((i_6[i_6_1])**2)\n",
    "    if i == 7:\n",
    "        i_7 = list(map(int,input().split()))\n",
    "        for i_7_1 in range (len(i_7)):\n",
    "            liz_i7.append((i_7[i_7_1])**2)\n",
    "print(liz_i1)\n",
    "print(liz_i2)\n",
    "print(liz_i3)\n",
    "print(liz_i4)\n",
    "print(liz_i5)\n",
    "print(liz_i6)\n",
    "print(liz_i7)\n",
    "\n",
    "#incomplete block of code has to be completed after learning the logic...\n",
    "#we can possibly take the loop of each list and run through alll of them and make a list of the results and finding the max of the values\n",
    "#this is completely wrong i think because the index of the different lists is not same making it not possible for looping...\n",
    "#by throwing the out of index error if we might want to check we may go into further confusion.\n",
    "#we might can do it by minimyzing the looping by no of elements in a list and do the execution...\n",
    "summation = 0\n",
    "if n[0] == 3 :\n",
    "    for j_1 in range (len(liz_i1)):\n",
    "        for j_2 in range (len(liz_i2)):\n",
    "            for j_3 in range (len(liz_i3)):\n",
    "                summation = (liz_i1[j_1]+liz_i2[j_2]+liz_i3[j_3])%n[1]\n",
    "                Result_liz.append(summation)\n",
    "\n",
    "\n",
    "\n",
    "#summation = 0\n",
    "#for j in range (len(new_liz)):\n",
    "#    summation = summation + new_liz[j]\n",
    "#result = summation % n[1]\n",
    "print(Result_liz)\n",
    "print(max(Result_liz))\n",
    "#we have to find the maximum s value possible by looping through all the square values and doing th s operation on each list...\n",
    "#then make a list of s results and find and print the max number of it..."
   ]
  },
  {
   "cell_type": "code",
   "execution_count": null,
   "id": "79652d32-f5ef-41c4-a275-78693d8b1d22",
   "metadata": {},
   "outputs": [],
   "source": [
    "#my code for findinding that result is correct but it want to user \"itertool package\"\n",
    "\n",
    "#the  second code to try\n",
    "n = list(map(int,input().split()))\n",
    "Result_liz = []\n",
    "liz_i1 = []\n",
    "liz_i2 = []\n",
    "liz_i3 = []\n",
    "liz_i4 = []\n",
    "liz_i5 = []\n",
    "liz_i6 = []\n",
    "liz_i7 = []\n",
    "#to create swith case using if statements and creating 7lists and square the values and print em to a new list.\n",
    "# the squaring before execution is important because the before square of individual elements then sum of its value,\n",
    "#                                                               sum of nums and then squareing them whole will cause different results. \n",
    "for i in range (1,n[0]+1):\n",
    "    if i == 1:\n",
    "        i_1 = list(map(int,input().split()))\n",
    "        for i_1_1 in range (len(i_1)):        # this loops take a input i_n where n is a loop number\n",
    "            liz_i1.append((i_1[i_1_1])**2)    # now we use a for loop to append the squared values to a list = liz_in where n is loopnum\n",
    "    if i == 2:                                # i_n_n we are using for every loop is to associate the list values.....\n",
    "        i_2 = list(map(int,input().split()))\n",
    "        for i_2_1 in range (len(i_2)):\n",
    "            liz_i2.append((i_2[i_2_1])**2)\n",
    "    if i == 3:\n",
    "        i_3 = list(map(int,input().split()))\n",
    "        for i_3_1 in range (len(i_3)):\n",
    "            liz_i3.append((i_3[i_3_1])**2)\n",
    "    if i == 4:\n",
    "        i_4 = list(map(int,input().split()))\n",
    "        for i_4_1 in range (len(i_4)):\n",
    "            liz_i4.append((i_4[i_4_1])**2)\n",
    "    if i == 5:\n",
    "        i_5 = list(map(int,input().split()))\n",
    "        for i_5_1 in range (len(i_5)):\n",
    "            liz_i5.append((i_5[i_5_1])**2)\n",
    "    if i == 6:\n",
    "        i_6 = list(map(int,input().split()))\n",
    "        for i_6_1 in range (len(i_6)):\n",
    "            liz_i6.append((i_6[i_6_1])**2)\n",
    "    if i == 7:\n",
    "        i_7 = list(map(int,input().split()))\n",
    "        for i_7_1 in range (len(i_7)):\n",
    "            liz_i7.append((i_7[i_7_1])**2)\n",
    "\n",
    "#incomplete block of code has to be completed after learning the logic...\n",
    "#we can possibly take the loop of each list and run through alll of them and make a list of the results and finding the max of the values\n",
    "#this is completely wrong i think because the index of the different lists is not same making it not possible for looping...\n",
    "#by throwing the out of index error if we might want to check we may go into further confusion.\n",
    "#we might can do it by minimyzing the looping by no of elements in a list and do the execution...\n",
    "summation = 0\n",
    "\n",
    "\n",
    "##checking the all possible outcomes for the product\n",
    "if n[0] == 2 :\n",
    "    for j_1 in range (len(liz_i1)):\n",
    "        for j_2 in range (len(liz_i2)):\n",
    "            summation = (liz_i1[j_1]+liz_i2[j_2])%n[1]\n",
    "            Result_liz.append(summation)\n",
    "\n",
    "if n[0] == 3 :\n",
    "    for j_1 in range (len(liz_i1)):\n",
    "        for j_2 in range (len(liz_i2)):\n",
    "            for j_3 in range (len(liz_i3)):\n",
    "                summation = (liz_i1[j_1]+liz_i2[j_2]+liz_i3[j_3])%n[1]\n",
    "                Result_liz.append(summation)\n",
    "\n",
    "elif n[0] == 4 :\n",
    "    for j_1 in range (len(liz_i1)):\n",
    "        for j_2 in range (len(liz_i2)):\n",
    "            for j_3 in range (len(liz_i3)):\n",
    "                for j_4 in range (len(liz_4)):\n",
    "                    summation = (liz_i1[j_1]+liz_i2[j_2]+liz_i3[j_3]+liz_i4[j_4])%n[1]\n",
    "                    Result_liz.append(summation)\n",
    "\n",
    "elif n[0] == 5 :\n",
    "    for j_1 in range (len(liz_i1)):\n",
    "        for j_2 in range (len(liz_i2)):\n",
    "            for j_3 in range (len(liz_i3)):\n",
    "                for j_4 in range (len(liz_4)):\n",
    "                    for i_5 in range (len(liz_5)):\n",
    "                        summation = (liz_i1[j_1]+liz_i2[j_2]+liz_i3[j_3]+liz_i4[j_4]+liz_i5[j_5])%n[1]\n",
    "                        Result_liz.append(summation)\n",
    "\n",
    "elif n[0] == 6 :\n",
    "    for j_1 in range (len(liz_i1)):\n",
    "        for j_2 in range (len(liz_i2)):\n",
    "            for j_3 in range (len(liz_i3)):\n",
    "                for j_4 in range (len(liz_4)):\n",
    "                    for i_5 in range (len(liz_5)):\n",
    "                        for i_6 in range (len(liz_6))\n",
    "                            summation = (liz_i1[j_1]+liz_i2[j_2]+liz_i3[j_3]+liz_i4[j_4]+liz_i5[j_5]+liz_i6[j_6])%n[1]\n",
    "                            Result_liz.append(summation)\n",
    "\n",
    "elif n[0] == 7 :\n",
    "    for j_1 in range (len(liz_i1)):\n",
    "        for j_2 in range (len(liz_i2)):\n",
    "            for j_3 in range (len(liz_i3)):\n",
    "                for j_4 in range (len(liz_4)):\n",
    "                    for i_5 in range (len(liz_5)):\n",
    "                        for i_6 in range (len(liz_6)):\n",
    "                            for i_7 in range (len(liz_7)):\n",
    "                                summation = (liz_i1[j_1]+liz_i2[j_2]+liz_i3[j_3]+liz_i4[j_4]+liz_i5[j_5]+liz_i6[j_6]+liz_i7[j_7])%n[1]\n",
    "                                Result_liz.append(summation)\n",
    "\n",
    "\n",
    "#summation = 0\n",
    "#for j in range (len(new_liz)):\n",
    "#    summation = summation + new_liz[j]\n",
    "#result = summation % n[1]\n",
    "print(max(Result_liz))\n",
    "#we have to find the maximum s value possible by looping through all the square values and doing th s operation on each list...\n",
    "#then make a list of s results and find and print the max number of it..."
   ]
  },
  {
   "cell_type": "code",
   "execution_count": 41,
   "id": "e137892c-9fe2-4093-87cd-465020b46546",
   "metadata": {},
   "outputs": [
    {
     "name": "stdin",
     "output_type": "stream",
     "text": [
      " 1 1000\n",
      " 2 4 5\n"
     ]
    },
    {
     "name": "stdout",
     "output_type": "stream",
     "text": [
      "[4, 16, 25]\n"
     ]
    }
   ],
   "source": [
    "n = list(map(int,input().split()))\n",
    "new_liz = []\n",
    "liz_i1 = []\n",
    "for i in range (1,n[0]+1):\n",
    "    if i == 1:\n",
    "        i_1 = list(map(int,input().split()))\n",
    "        for i_1_1 in range (len(i_1)):\n",
    "            liz_i1.append((i_1[i_1_1])**2)\n",
    "print(liz_i1)"
   ]
  },
  {
   "cell_type": "code",
   "execution_count": null,
   "id": "91b0845e-7830-421f-8d65-481812b96fd9",
   "metadata": {},
   "outputs": [],
   "source": [
    "##code given by chatgpt using \"itertools\"\n",
    "\n",
    "from itertools import product\n",
    "\n",
    "# Reading the input\n",
    "n, m = map(int, input().split())\n",
    "lists = []\n",
    "\n",
    "for _ in range(n):\n",
    "    data = list(map(int, input().split()))\n",
    "    lists.append(data[1:])  # Skip the first element as it is the count of elements\n",
    "\n",
    "# Generate all combinations using itertools.product\n",
    "all_combinations = product(*lists)\n",
    "\n",
    "max_value = 0\n",
    "\n",
    "# Iterate over each combination\n",
    "for combination in all_combinations:\n",
    "    # Calculate the sum of squares\n",
    "    current_sum = sum(x**2 for x in combination) % m\n",
    "    # Update max_value if current_sum is greater\n",
    "    if current_sum > max_value:\n",
    "        max_value = current_sum\n",
    "\n",
    "# Print the maximum value\n",
    "print(max_value)\n"
   ]
  }
 ],
 "metadata": {
  "kernelspec": {
   "display_name": "Python 3 (ipykernel)",
   "language": "python",
   "name": "python3"
  },
  "language_info": {
   "codemirror_mode": {
    "name": "ipython",
    "version": 3
   },
   "file_extension": ".py",
   "mimetype": "text/x-python",
   "name": "python",
   "nbconvert_exporter": "python",
   "pygments_lexer": "ipython3",
   "version": "3.11.4"
  }
 },
 "nbformat": 4,
 "nbformat_minor": 5
}
