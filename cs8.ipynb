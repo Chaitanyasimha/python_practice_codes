{
 "cells": [
  {
   "cell_type": "code",
   "execution_count": 6,
   "id": "2a495b3a-588b-4b50-89b2-e55b79205b79",
   "metadata": {},
   "outputs": [
    {
     "name": "stdout",
     "output_type": "stream",
     "text": [
      "69 is a odd number.\n",
      "59 is a odd number.\n",
      "45 is a odd number.\n"
     ]
    }
   ],
   "source": [
    "#1Q) For example\n",
    "# take a random number between  1 to 100\n",
    "# print it is a even number and odd number\n",
    "# you need to generate 3 random number\n",
    "\n",
    "import random\n",
    "i = 1\n",
    "while i>0 :\n",
    "    num = random.randint(1,100)\n",
    "    if (num % 2 == 0):\n",
    "        print(f\"{num} is a even number.\")\n",
    "    else:\n",
    "        print(f\"{num} is a odd number.\")\n",
    "    if i == 3:\n",
    "        break\n",
    "    i = i+1"
   ]
  },
  {
   "cell_type": "code",
   "execution_count": 13,
   "id": "2fe52ca4-1413-4ac4-837d-d108ef87be31",
   "metadata": {},
   "outputs": [
    {
     "name": "stdout",
     "output_type": "stream",
     "text": [
      "11 odd num\n",
      "12 even\n",
      "13 odd num\n",
      "14 even\n",
      "15 odd num\n",
      "16 even\n",
      "17 odd num\n",
      "18 even\n",
      "19 odd num\n",
      "20 even\n"
     ]
    }
   ],
   "source": [
    "#2Q) wap ask the user print the number is even or odd between 10 to 20\n",
    "i = 11\n",
    "while i > 10 and i < 21:\n",
    "    if (i%2 == 0):\n",
    "        print(f\"{i} even\")\n",
    "    else :\n",
    "        print(f\"{i} odd num\")\n",
    "    i = i+1"
   ]
  },
  {
   "cell_type": "code",
   "execution_count": 4,
   "id": "b6f35b59-a4b2-4572-bd4f-d7a6a4b3c1fc",
   "metadata": {},
   "outputs": [
    {
     "name": "stdout",
     "output_type": "stream",
     "text": [
      " the square of 20 is 400\n",
      " the square of 21 is 441\n",
      " the square of 22 is 484\n",
      " the square of 23 is 529\n",
      " the square of 24 is 576\n",
      " the square of 25 is 625\n"
     ]
    }
   ],
   "source": [
    "#3Q) wap ask the user print the square of the number between\n",
    "# 20 to 25\n",
    "\n",
    "i = 20\n",
    "while i > 19 and i < 26 :\n",
    "    print(f\" the square of {i} is {i*i}\")\n",
    "    i = i+1"
   ]
  },
  {
   "cell_type": "code",
   "execution_count": 6,
   "id": "1e279eac-14f0-4cc7-9327-6ba6f5ec9bea",
   "metadata": {},
   "outputs": [
    {
     "name": "stdin",
     "output_type": "stream",
     "text": [
      "enter a the 1num : 4\n"
     ]
    },
    {
     "name": "stdout",
     "output_type": "stream",
     "text": [
      "the square of 4 is 16\n"
     ]
    },
    {
     "name": "stdin",
     "output_type": "stream",
     "text": [
      "enter a the 2num : 8\n"
     ]
    },
    {
     "name": "stdout",
     "output_type": "stream",
     "text": [
      "the square of 8 is 64\n"
     ]
    },
    {
     "name": "stdin",
     "output_type": "stream",
     "text": [
      "enter a the 3num : 98\n"
     ]
    },
    {
     "name": "stdout",
     "output_type": "stream",
     "text": [
      "the square of 98 is 9604\n"
     ]
    }
   ],
   "source": [
    "#4Q) WAP ask the user enter number three times find the square of the number\n",
    "# How many times loop should run\n",
    "\n",
    "i = 1\n",
    "while i < 4:\n",
    "    num = eval(input(f\"enter a the {i}num :\"))\n",
    "    print(f\"the square of {num} is {num**2}\")\n",
    "    i = i+1"
   ]
  },
  {
   "cell_type": "code",
   "execution_count": 7,
   "id": "fd06065a-227c-4c32-b7dc-75792357ea6f",
   "metadata": {},
   "outputs": [
    {
     "name": "stdin",
     "output_type": "stream",
     "text": [
      "enter a number : 14\n"
     ]
    },
    {
     "name": "stdout",
     "output_type": "stream",
     "text": [
      "14 X 1 = 14\n",
      "14 X 2 = 28\n",
      "14 X 3 = 42\n",
      "14 X 4 = 56\n",
      "14 X 5 = 70\n",
      "14 X 6 = 84\n",
      "14 X 7 = 98\n",
      "14 X 8 = 112\n",
      "14 X 9 = 126\n",
      "14 X 10 = 140\n"
     ]
    }
   ],
   "source": [
    "#5Q) Print the 14th table\n",
    "# ans:   14 x 1 = 14\n",
    "#        14 x 2 = 28\n",
    "#        14 x 3 = 42\n",
    "#\n",
    "#\n",
    "#        14 x10 = 140\n",
    "# How many times 10\n",
    "\n",
    "num = eval(input(\"enter a number :\"))\n",
    "i = 1\n",
    "while i < 11:\n",
    "    print(f\"{num} X {i} = {num*i}\")\n",
    "    i = i+1"
   ]
  },
  {
   "cell_type": "code",
   "execution_count": 9,
   "id": "9430df3d-6026-4575-8658-37317bfb961c",
   "metadata": {},
   "outputs": [
    {
     "name": "stdout",
     "output_type": "stream",
     "text": [
      "1 3 5 15 25 75 "
     ]
    }
   ],
   "source": [
    "#6 Q) Find the factors of 75\n",
    "# step-1: Iterate the loop = which numbers factor you want\n",
    "# step-2: Apply the if condition\n",
    "#         cond= divide the number with each i\n",
    "\n",
    "factor = 75\n",
    "i = 1\n",
    "while i < 76:\n",
    "    if (factor%i == 0):\n",
    "        print(i,end = \" \")\n",
    "    i = i+1"
   ]
  },
  {
   "cell_type": "code",
   "execution_count": 4,
   "id": "587bc287-4c74-49c1-ae71-0bd9bf3b7849",
   "metadata": {},
   "outputs": [
    {
     "name": "stdout",
     "output_type": "stream",
     "text": [
      "55\n"
     ]
    }
   ],
   "source": [
    "#7Q) Write the sum of first 10 Natural numbers\n",
    "# 1 to 10\n",
    "# 1+2+3+4+5+6+7+8+9+10=55\n",
    "\n",
    "summ = 0\n",
    "i = 1\n",
    "while i <= 10:\n",
    "    summ = summ + i\n",
    "    i = i+1\n",
    "print(summ)"
   ]
  },
  {
   "cell_type": "code",
   "execution_count": 32,
   "id": "2c6e6285-e7cf-4db6-a590-26fd960da05f",
   "metadata": {},
   "outputs": [
    {
     "name": "stdout",
     "output_type": "stream",
     "text": [
      "the average of first 10 nums :5.5\n"
     ]
    }
   ],
   "source": [
    "# 8Q) Average first 1 to 10 numbers\n",
    "# avg= summation of all the numbers/total number\n",
    "#Wap to find the average of ' N ' numbers in Python.\n",
    "\n",
    "summ = 0\n",
    "i = 1\n",
    "while i <= 10:\n",
    "    summ = summ + i\n",
    "    i = i+1\n",
    "avg = (summ)/10\n",
    "print(f\"the average of first 10 nums :{round(avg,2)}\")"
   ]
  },
  {
   "cell_type": "code",
   "execution_count": 39,
   "id": "a3dd9242-82d6-457a-9043-2b7434088266",
   "metadata": {},
   "outputs": [
    {
     "name": "stdout",
     "output_type": "stream",
     "text": [
      "1 3 5 15 25 75 \n",
      "the no of factors are :6\n"
     ]
    }
   ],
   "source": [
    "#9Q) Find the number of divisors of 75\n",
    "# ans: 1,3,5,15,25,75\n",
    "# Number =6\n",
    "\n",
    "factor = 75\n",
    "i = 1\n",
    "anum = 0\n",
    "while i < 76:\n",
    "    if (factor%i == 0):\n",
    "        print(i,end = \" \")\n",
    "        anum = anum + 1\n",
    "    i = i+1\n",
    "print(f\"\\nthe no of factors are :{anum}\")"
   ]
  },
  {
   "cell_type": "code",
   "execution_count": 44,
   "id": "c5d1a35e-10b9-421f-b937-79e5850a8ece",
   "metadata": {},
   "outputs": [
    {
     "name": "stdin",
     "output_type": "stream",
     "text": [
      "enter a num : 1\n"
     ]
    },
    {
     "name": "stdout",
     "output_type": "stream",
     "text": [
      "you_lose\n",
      "3 chances left.\n"
     ]
    },
    {
     "name": "stdin",
     "output_type": "stream",
     "text": [
      "enter a num : 2\n"
     ]
    },
    {
     "name": "stdout",
     "output_type": "stream",
     "text": [
      "you_lose\n",
      "2 chances left.\n"
     ]
    },
    {
     "name": "stdin",
     "output_type": "stream",
     "text": [
      "enter a num : 3\n"
     ]
    },
    {
     "name": "stdout",
     "output_type": "stream",
     "text": [
      "you_lose\n",
      "1 chances left.\n"
     ]
    },
    {
     "name": "stdin",
     "output_type": "stream",
     "text": [
      "enter a num : 4\n"
     ]
    },
    {
     "name": "stdout",
     "output_type": "stream",
     "text": [
      "you_lose\n",
      "0 chances left.\n",
      "\n",
      "0 chances left try again tommorow.\n"
     ]
    }
   ],
   "source": [
    "# 10Q)\n",
    "# Get a random number between  1 to 10 :  num1\n",
    "# Ask the user enter a number : num2\n",
    "# if num1 == num2  then print won\n",
    "# else print fail\n",
    "\n",
    "# Give 3 chances\n",
    "\n",
    "# Case-2: whenever you won the code should stop\n",
    "\n",
    "# Case-3:\n",
    "# Suppose i want to give 4 chances\n",
    "# Every time you fail I want to display\n",
    "#      Number of chances left\n",
    "\n",
    "# If all the chances you are used\n",
    "#    Try again after 24 hours\n",
    "\n",
    "# If you are win\n",
    "import random\n",
    "i = 3\n",
    "ran_num = random.randint(1,10)\n",
    "while i >= 0:\n",
    "    user_num = eval(input(\"enter a num :\"))\n",
    "    if ran_num == user_num:\n",
    "        print(\"you_won\")\n",
    "        break\n",
    "    else:\n",
    "        print(\"you_lose\")\n",
    "        print(f\"{i} chances left.\")\n",
    "    i = i - 1\n",
    "if i == -1:\n",
    "    print(\"\\n0 chances left try again tommorow.\")"
   ]
  },
  {
   "cell_type": "code",
   "execution_count": 58,
   "id": "812a3f0c-dbfe-4d3a-8b92-f16ce2790138",
   "metadata": {},
   "outputs": [
    {
     "name": "stdout",
     "output_type": "stream",
     "text": [
      "64 ,even\n",
      "38 ,even\n",
      "38 ,even\n",
      "50 ,even\n",
      "85 ,odd\n",
      "the no of even no are :4\n",
      "the no of odd no are :1\n"
     ]
    }
   ],
   "source": [
    "#11q) wap ask the user get 5 random numbers\n",
    "# Get it is an even number or odd number\n",
    "# also count how many even numbers are there\n",
    "# and  count how many odd numbers are there\n",
    "\n",
    "# Idea\n",
    "# take two counters one even and odd count\n",
    "# For loop 5 times\n",
    "# each time take the random number\n",
    "# If condition\n",
    "#    True counter update\n",
    "# else\n",
    "#   Update the counter\n",
    "\n",
    "even_count = 0 #counter\n",
    "odd_count = 0  #summator\n",
    "i = 1\n",
    "while i <= 5:\n",
    "    num = random.randint(1,100)\n",
    "    if (num % 2 == 0):\n",
    "        even_count = even_count+1\n",
    "        print(f\"{num} ,even\")\n",
    "    else:\n",
    "        odd_count = odd_count+1\n",
    "        print(f\"{num} ,odd\")\n",
    "    i = i+1\n",
    "print(f\"the no of even no are :{even_count}\")\n",
    "print(f\"the no of odd no are :{odd_count}\")"
   ]
  },
  {
   "cell_type": "code",
   "execution_count": 59,
   "id": "04e1bc11-a2f9-4e53-af07-e1b83f96a4b0",
   "metadata": {},
   "outputs": [
    {
     "name": "stdout",
     "output_type": "stream",
     "text": [
      "89 ,odd\n",
      "69 ,odd\n",
      "46 ,even\n",
      "81 ,odd\n",
      "84 ,even\n",
      "the no of even no are :2\n",
      "the no of odd no are :3\n",
      "the even summation of the nums are :130\n",
      "the odd summation of the nums are :239\n"
     ]
    }
   ],
   "source": [
    "#12Q) wap ask the user get 5 random numbers\n",
    "# Get it is an even number or odd number\n",
    "# also count how many even numbers are there\n",
    "# and  count how many odd numbers are there\n",
    "# I want summ even numbers\n",
    "# I want summ odd numbers\n",
    "\n",
    "even_count = 0 #counter\n",
    "odd_count = 0  #summator\n",
    "even_sum = 0\n",
    "odd_sum = 0\n",
    "i = 1\n",
    "while i <= 5:\n",
    "    num = random.randint(1,100)\n",
    "    if (num % 2 == 0):\n",
    "        even_count = even_count+1\n",
    "        even_sum = even_sum + num\n",
    "        print(f\"{num} ,even\")\n",
    "    else:\n",
    "        odd_count = odd_count+1\n",
    "        odd_sum = odd_sum + num\n",
    "        print(f\"{num} ,odd\")\n",
    "    i = i+1\n",
    "\n",
    "print(f\"the no of even no are :{even_count}\")\n",
    "print(f\"the no of odd no are :{odd_count}\")\n",
    "print(f\"the even summation of the nums are :{even_sum}\")\n",
    "print(f\"the odd summation of the nums are :{odd_sum}\")"
   ]
  },
  {
   "cell_type": "code",
   "execution_count": null,
   "id": "80c1c436-2223-41b0-bef0-6892ae660764",
   "metadata": {},
   "outputs": [],
   "source": []
  }
 ],
 "metadata": {
  "kernelspec": {
   "display_name": "Python 3 (ipykernel)",
   "language": "python",
   "name": "python3"
  },
  "language_info": {
   "codemirror_mode": {
    "name": "ipython",
    "version": 3
   },
   "file_extension": ".py",
   "mimetype": "text/x-python",
   "name": "python",
   "nbconvert_exporter": "python",
   "pygments_lexer": "ipython3",
   "version": "3.11.4"
  }
 },
 "nbformat": 4,
 "nbformat_minor": 5
}
