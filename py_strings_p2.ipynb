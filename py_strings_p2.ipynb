{
 "cells": [
  {
   "cell_type": "code",
   "execution_count": 3,
   "id": "0c4fac6d-cdf8-42f5-9fd3-74b973a9f031",
   "metadata": {},
   "outputs": [
    {
     "name": "stdout",
     "output_type": "stream",
     "text": [
      "5 4 3 2 1 "
     ]
    }
   ],
   "source": [
    "a = [1,2,3,4,5]\n",
    "b = reversed(a)\n",
    "for i in b:\n",
    "    print(i,end = \" \")"
   ]
  },
  {
   "cell_type": "code",
   "execution_count": 2,
   "id": "b8a1522b-a6eb-403f-a649-ff308af64e94",
   "metadata": {},
   "outputs": [
    {
     "ename": "TypeError",
     "evalue": "list.append() takes exactly one argument (3 given)",
     "output_type": "error",
     "traceback": [
      "\u001b[1;31m---------------------------------------------------------------------------\u001b[0m",
      "\u001b[1;31mTypeError\u001b[0m                                 Traceback (most recent call last)",
      "Cell \u001b[1;32mIn[2], line 2\u001b[0m\n\u001b[0;32m      1\u001b[0m c \u001b[38;5;241m=\u001b[39m []\n\u001b[1;32m----> 2\u001b[0m \u001b[43mc\u001b[49m\u001b[38;5;241;43m.\u001b[39;49m\u001b[43mappend\u001b[49m\u001b[43m(\u001b[49m\u001b[38;5;241;43m49\u001b[39;49m\u001b[43m,\u001b[49m\u001b[38;5;241;43m22\u001b[39;49m\u001b[43m,\u001b[49m\u001b[38;5;241;43m66\u001b[39;49m\u001b[43m)\u001b[49m\u001b[38;5;66;03m#error\u001b[39;00m\n",
      "\u001b[1;31mTypeError\u001b[0m: list.append() takes exactly one argument (3 given)"
     ]
    }
   ],
   "source": [
    "c = []\n",
    "c.append(49,22,66)#error"
   ]
  },
  {
   "cell_type": "code",
   "execution_count": 3,
   "id": "33eaedbe-ae8e-49fd-8a5a-5f711ae21f4f",
   "metadata": {},
   "outputs": [
    {
     "data": {
      "text/plain": [
       "[49]"
      ]
     },
     "execution_count": 3,
     "metadata": {},
     "output_type": "execute_result"
    }
   ],
   "source": [
    "c = []\n",
    "c.append(49)\n",
    "c"
   ]
  },
  {
   "cell_type": "code",
   "execution_count": 1,
   "id": "4ae84750-3959-4134-b274-79c4ccfe61ff",
   "metadata": {},
   "outputs": [
    {
     "data": {
      "text/plain": [
       "True"
      ]
     },
     "execution_count": 1,
     "metadata": {},
     "output_type": "execute_result"
    }
   ],
   "source": [
    "'nadeem' in '#' #\"nadeem\" is available in \"#\"\n",
    "'#' in 'nadeem' # is '#' available in nadeem\n",
    "'nad##m' in '#' # is 'nad##m' available in 'nad##m'\n",
    "'#' in 'nad##m' # is '#' available in 'nad##m'"
   ]
  },
  {
   "cell_type": "code",
   "execution_count": 2,
   "id": "80f2009a-cb08-4564-8bb5-fda0ae6b2194",
   "metadata": {},
   "outputs": [
    {
     "data": {
      "text/plain": [
       "'Hello this is chaitanya.hope you are doing well'"
      ]
     },
     "execution_count": 2,
     "metadata": {},
     "output_type": "execute_result"
    }
   ],
   "source": [
    "msg = \"hello this is chaitanya.hope you are doing well\"\n",
    "msg.capitalize()"
   ]
  },
  {
   "cell_type": "code",
   "execution_count": null,
   "id": "23b2be25-009d-4d70-ba8b-0d610936244d",
   "metadata": {},
   "outputs": [],
   "source": [
    "#do the same using captilize method\n",
    "#step-1:split the screen\n",
    "#step-2 : take empty list\n",
    "#step-3: iterate the each letter apply the captalize and append it\n",
    "#step-4:join the list"
   ]
  },
  {
   "cell_type": "code",
   "execution_count": null,
   "id": "89b70904-90d6-455f-a73b-a54901fecc3c",
   "metadata": {},
   "outputs": [],
   "source": [
    "str1 = \"hello im learning pythion\"\n",
    "liz = str1.split()\n",
    "for i in range (len(liz)):\n",
    "    "
   ]
  },
  {
   "cell_type": "markdown",
   "id": "4beee99a-8174-4c14-9498-eaebfa5a053c",
   "metadata": {},
   "source": [
    "**split vs join**\n",
    "- split will apply fir strings, to divide the words or charecters\n",
    "- when we split the elements will be stored in a list format\n",
    "- join is used to combine the elments of a string format\n",
    "- **split-strings**\n",
    "- **join-list**"
   ]
  },
  {
   "cell_type": "code",
   "execution_count": 3,
   "id": "e81540b3-662d-4f44-887a-d76d470a4d9a",
   "metadata": {},
   "outputs": [
    {
     "data": {
      "text/plain": [
       "'Hello Im Learning Python'"
      ]
     },
     "execution_count": 3,
     "metadata": {},
     "output_type": "execute_result"
    }
   ],
   "source": [
    "str1 = \"hello im learning python\"\n",
    "words  = str1.split()\n",
    "new_words = []\n",
    "for i in words:\n",
    "    new_words.append(i.capitalize())\n",
    "\" \".join(new_words)"
   ]
  },
  {
   "cell_type": "code",
   "execution_count": 18,
   "id": "03d836ce-c1ea-4781-8cd4-e7a9245fb828",
   "metadata": {},
   "outputs": [
    {
     "data": {
      "text/plain": [
       "4.243"
      ]
     },
     "execution_count": 18,
     "metadata": {},
     "output_type": "execute_result"
    }
   ],
   "source": [
    "#doing sqrt((x2-x1)**2 + (y2-y1)**2)\n",
    "import math\n",
    "a = [1,2] #x1,y1\n",
    "b = [4,5] #x2,y2\n",
    "v1 = b[0]-a[0] #x2-x1\n",
    "v2 = b[1]-a[1] #y2-y1\n",
    "v11 = v1**2\n",
    "v22 = v2**2\n",
    "ans = math.sqrt(v11+v22)\n",
    "round(ans,3)"
   ]
  },
  {
   "cell_type": "code",
   "execution_count": 17,
   "id": "c69410ba-064f-47e1-85fe-34788e875480",
   "metadata": {},
   "outputs": [
    {
     "name": "stdout",
     "output_type": "stream",
     "text": [
      "4.243\n"
     ]
    }
   ],
   "source": [
    "print(round(math.sqrt((b[0]-a[0])**2+ ((b[1]-a[1])**2)),3))\n",
    "#directly doing operation in a print operation"
   ]
  },
  {
   "cell_type": "code",
   "execution_count": 24,
   "id": "71cb47e6-79bd-4687-821c-396c8c92d37a",
   "metadata": {},
   "outputs": [
    {
     "name": "stdout",
     "output_type": "stream",
     "text": [
      "1 2\n",
      "2 3\n",
      "============\n",
      "2 3\n",
      "2 3\n",
      "============\n",
      "5 6\n",
      "2 3\n",
      "============\n",
      "1.414\n",
      "0.0\n",
      "4.243\n",
      "[1.414, 0.0, 4.243]\n"
     ]
    }
   ],
   "source": [
    "points = [[1,2],[2,3],[5,6]]\n",
    "val = [2,3]\n",
    "answers = []\n",
    "for i in points:\n",
    "    print(i[0],i[1])\n",
    "    print(val[0],val[1])\n",
    "    print(\"============\")\n",
    "\n",
    "for i in range(len(points)):\n",
    "    v1 = val[0]-points[i][0] #x2-x1\n",
    "    v2 = val[1]-points[i][1]  #y2-y1\n",
    "    v11 = v1**2\n",
    "    v22 = v2**2\n",
    "    ans = math.sqrt(v11+v22)\n",
    "    print(round(ans,3))\n",
    "    answers.append(round(ans,3))\n",
    "print(answers)"
   ]
  },
  {
   "cell_type": "code",
   "execution_count": 33,
   "id": "66ecbdc8-a895-4d89-9812-6a0ffcd3c574",
   "metadata": {},
   "outputs": [
    {
     "name": "stdout",
     "output_type": "stream",
     "text": [
      "hello\n",
      "0\n"
     ]
    }
   ],
   "source": [
    "#this question and this logic....hmm\n",
    "#i can do this question like this too\n",
    "str1 = \"hello hai how are you\"\n",
    "words = str1.split()\n",
    "len_words = []\n",
    "for i in words:\n",
    "    x = len(i)\n",
    "    len_words.append(x)\n",
    "max_len = max(len_words)    \n",
    "for i in words:\n",
    "    if len(i) == max_len:\n",
    "        print(i)\n",
    "        wanted_letter = i\n",
    "for i in range(len(words)):\n",
    "    if wanted_letter == words[i]:\n",
    "        print(i)"
   ]
  },
  {
   "cell_type": "code",
   "execution_count": null,
   "id": "d679ccdd-9a37-4b93-b888-1e88b4cca535",
   "metadata": {},
   "outputs": [],
   "source": []
  },
  {
   "cell_type": "code",
   "execution_count": null,
   "id": "e7ca7677-bf8b-4881-9c06-ce18c1634066",
   "metadata": {},
   "outputs": [],
   "source": []
  }
 ],
 "metadata": {
  "kernelspec": {
   "display_name": "Python 3 (ipykernel)",
   "language": "python",
   "name": "python3"
  },
  "language_info": {
   "codemirror_mode": {
    "name": "ipython",
    "version": 3
   },
   "file_extension": ".py",
   "mimetype": "text/x-python",
   "name": "python",
   "nbconvert_exporter": "python",
   "pygments_lexer": "ipython3",
   "version": "3.11.4"
  }
 },
 "nbformat": 4,
 "nbformat_minor": 5
}
