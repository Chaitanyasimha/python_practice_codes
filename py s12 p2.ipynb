{
 "cells": [
  {
   "cell_type": "markdown",
   "id": "d5a06364-03d6-4a37-abd9-c534add31c73",
   "metadata": {},
   "source": [
    "**loops :**\n",
    "- for loop\n",
    "- while loop : if you want to run an infinite iterations we can choose the whilw loop\n",
    "- every loop we need three things\n",
    "-           initial point(starting point)\n",
    "-           increment or decrement\n",
    "-           condition(stop point)"
   ]
  },
  {
   "cell_type": "markdown",
   "id": "b5340169-9cac-492b-8a9c-0c5694d7124f",
   "metadata": {},
   "source": [
    "- in for loop all three things (start stop increment(or)step)\n",
    "- in while loop we use those three things ,in as three lines.."
   ]
  },
  {
   "cell_type": "code",
   "execution_count": null,
   "id": "0324001c-ca0c-457a-9fbb-201ec88159a2",
   "metadata": {},
   "outputs": [],
   "source": [
    "# syntax:\n",
    "while <how to stop>:\n",
    "     codeline1\n",
    "     codeline2\n",
    "     <increment or decrement>"
   ]
  },
  {
   "cell_type": "code",
   "execution_count": null,
   "id": "5c348fc2-707d-4def-b668-ca1e05c5cf09",
   "metadata": {},
   "outputs": [],
   "source": [
    "if <condition>:"
   ]
  },
  {
   "cell_type": "code",
   "execution_count": 2,
   "id": "a52282cb-8e80-455e-a097-773d6dd28ddb",
   "metadata": {},
   "outputs": [
    {
     "name": "stdout",
     "output_type": "stream",
     "text": [
      "1 2 3 4 5 6 7 8 9 "
     ]
    }
   ],
   "source": [
    "for i in range(1,10,1):\n",
    "    print(i,end = \" \")"
   ]
  },
  {
   "cell_type": "code",
   "execution_count": 4,
   "id": "12b32d3f-f2d4-4580-aa1e-af3f5f9139b3",
   "metadata": {},
   "outputs": [
    {
     "name": "stdout",
     "output_type": "stream",
     "text": [
      "c h a i t a n y a   s i m h a "
     ]
    }
   ],
   "source": [
    "for i in \"chaitanya simha\":\n",
    "    print(i,end= \" \")"
   ]
  },
  {
   "cell_type": "code",
   "execution_count": 5,
   "id": "724a0c54-bd32-47ae-b042-613983bbdf4e",
   "metadata": {},
   "outputs": [],
   "source": [
    "# start point i = 1\n",
    "# while condition to stop:\n",
    "#        i = i + 1"
   ]
  },
  {
   "cell_type": "code",
   "execution_count": 6,
   "id": "a209fce5-a266-486a-ac4d-75af5dad0200",
   "metadata": {},
   "outputs": [
    {
     "name": "stdout",
     "output_type": "stream",
     "text": [
      "1 2 3 4 5 6 7 8 9 10 "
     ]
    }
   ],
   "source": [
    "i = 1\n",
    "while i > 0 and i < 11: #here in while loop unlike the for loop does not create a variable to associate with in the loop\n",
    "    print(i,end = \" \")  #so we have to give the variables before the initialization of while loop \n",
    "    i = i+1\n",
    "    "
   ]
  },
  {
   "cell_type": "code",
   "execution_count": 7,
   "id": "6899e294-51c6-4eae-a9ff-2ceac456d0c0",
   "metadata": {},
   "outputs": [
    {
     "name": "stdout",
     "output_type": "stream",
     "text": [
      "20 19 18 17 16 15 14 13 12 11 10 9 8 7 6 5 4 3 2 1 "
     ]
    }
   ],
   "source": [
    "#20 to 1\n",
    "i = 20\n",
    "while i > 0 and i < 21: \n",
    "    print(i,end = \" \")  \n",
    "    i = i-1"
   ]
  },
  {
   "cell_type": "code",
   "execution_count": 18,
   "id": "431b609f-facc-40b1-ae13-01952d4d4bb3",
   "metadata": {},
   "outputs": [
    {
     "name": "stdout",
     "output_type": "stream",
     "text": [
      "-20 -19 -18 -17 -16 -15 -14 -13 -12 -11 -10 -9 -8 -7 -6 -5 -4 -3 -2 -1 0 1 "
     ]
    }
   ],
   "source": [
    "#-20 to 1\n",
    "i = -20\n",
    "while i > -21 and i < 2: #here i > -21 and i < 2: as wrapper\n",
    "    print(i,end = \" \")  \n",
    "    i = i+1"
   ]
  },
  {
   "cell_type": "markdown",
   "id": "aeeb4d43-1a94-430d-b555-874df9f2aca1",
   "metadata": {},
   "source": [
    "**true :**\n",
    "- if you dont know about valid condition to enter inside the while loop\n",
    "- then use **true**\n",
    "- true will give entry pass irrespective of the condition\n",
    "- but if you want apply an if condition\n",
    "- if we did not use if condition it will be an infinite lines..."
   ]
  },
  {
   "cell_type": "code",
   "execution_count": 24,
   "id": "a5df1dca-eb1a-4165-88e8-6c5ba63b9c04",
   "metadata": {},
   "outputs": [
    {
     "name": "stdout",
     "output_type": "stream",
     "text": [
      "-20 -19 -18 -17 -16 -15 -14 -13 -12 -11 -10 "
     ]
    }
   ],
   "source": [
    "#-20 to 1\n",
    "i = -20\n",
    "while i < 2: #here i > -21 and i < 2: as wrapper\n",
    "    print(i,end = \" \")  \n",
    "    i = i+1\n",
    "    if i == -9:\n",
    "        break    # break will break first loop that its running into, if the break is part of it."
   ]
  },
  {
   "cell_type": "code",
   "execution_count": 3,
   "id": "1b0a25d0-8923-443d-b45b-9d691fbd8bbc",
   "metadata": {},
   "outputs": [
    {
     "name": "stdout",
     "output_type": "stream",
     "text": [
      "-1 -2 -3 -4 -5 -6 -7 -8 -9 -10 "
     ]
    }
   ],
   "source": [
    "i = -1\n",
    "while True:\n",
    "    print(i,end = \" \")\n",
    "    i = i-1\n",
    "    if i == -11:\n",
    "        break\n",
    "    "
   ]
  },
  {
   "cell_type": "code",
   "execution_count": null,
   "id": "95f5d30c-3a33-48df-a94d-e0bc3f8c71aa",
   "metadata": {},
   "outputs": [],
   "source": [
    "import random\n",
    "num = random.randint(1,100)\n",
    "for i in range(3)"
   ]
  },
  {
   "cell_type": "code",
   "execution_count": 6,
   "id": "6c0a879c-c883-4249-b8f9-21127b4913a3",
   "metadata": {},
   "outputs": [
    {
     "name": "stdout",
     "output_type": "stream",
     "text": [
      "0\n",
      "1\n",
      "2\n"
     ]
    }
   ],
   "source": [
    "#range(3) === tree lines\n",
    "i = 0\n",
    "while i<3:\n",
    "    print(i)\n",
    "    i = i+1     #this also is an example of wrapper( a start point an end point and a increment (or) decrement )"
   ]
  },
  {
   "cell_type": "code",
   "execution_count": null,
   "id": "40d29165-0c53-4603-8937-f175c95f4e04",
   "metadata": {},
   "outputs": [],
   "source": [
    "#range(3) === tree lines\n",
    "i = 0\n",
    "while i<3:\n",
    "    print(i)\n",
    "    i = i+1   "
   ]
  }
 ],
 "metadata": {
  "kernelspec": {
   "display_name": "Python 3 (ipykernel)",
   "language": "python",
   "name": "python3"
  },
  "language_info": {
   "codemirror_mode": {
    "name": "ipython",
    "version": 3
   },
   "file_extension": ".py",
   "mimetype": "text/x-python",
   "name": "python",
   "nbconvert_exporter": "python",
   "pygments_lexer": "ipython3",
   "version": "3.11.4"
  }
 },
 "nbformat": 4,
 "nbformat_minor": 5
}
