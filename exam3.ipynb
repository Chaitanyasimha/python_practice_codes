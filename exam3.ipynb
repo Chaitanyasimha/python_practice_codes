{
 "cells": [
  {
   "cell_type": "markdown",
   "id": "a0143969-275f-48e8-b917-d674e4d287af",
   "metadata": {},
   "source": [
    "# Hare Krishna"
   ]
  },
  {
   "cell_type": "markdown",
   "id": "b8d4a0fc-adf9-4cfa-9d1b-3c4c17177644",
   "metadata": {},
   "source": [
    "$EXAM 3$"
   ]
  },
  {
   "cell_type": "code",
   "execution_count": 9,
   "id": "c3d472d9-d096-46b9-82b6-71eeeba76c91",
   "metadata": {},
   "outputs": [
    {
     "name": "stdin",
     "output_type": "stream",
     "text": [
      "enter a num : 10\n"
     ]
    },
    {
     "name": "stdout",
     "output_type": "stream",
     "text": [
      "the sum of N integers from 0 to 10 is :45\n"
     ]
    }
   ],
   "source": [
    "#1. Write a Python program to find the sum of the first N natural numbers using a for loop.\n",
    "\n",
    "summ  = 0\n",
    "a = eval(input(\"enter a num :\"))\n",
    "for i in range(a):\n",
    "    summ = summ+i\n",
    "print(f\"the sum of N integers from 0 to {a} is :{summ}\")"
   ]
  },
  {
   "cell_type": "code",
   "execution_count": 11,
   "id": "4a8ee922-fbd2-4ece-8f6c-c9ac07c5a30c",
   "metadata": {},
   "outputs": [
    {
     "name": "stdin",
     "output_type": "stream",
     "text": [
      "enter a num : 75\n"
     ]
    },
    {
     "name": "stdout",
     "output_type": "stream",
     "text": [
      "1\n",
      "3\n",
      "5\n",
      "15\n",
      "25\n"
     ]
    }
   ],
   "source": [
    "#2. Write a Python program to calculate the factorial of a given number using a for loop.\n",
    "\n",
    "num = eval(input(\"enter a num :\"))\n",
    "for i in range(1,num):\n",
    "    if (num%i == 0):\n",
    "        print(i)"
   ]
  },
  {
   "cell_type": "code",
   "execution_count": 13,
   "id": "b8b8b0c0-278e-4489-834d-52c9f4408fde",
   "metadata": {},
   "outputs": [
    {
     "name": "stdin",
     "output_type": "stream",
     "text": [
      " 9\n"
     ]
    },
    {
     "name": "stdout",
     "output_type": "stream",
     "text": [
      "9 x 1 = 9\n",
      "9 x 2 = 18\n",
      "9 x 3 = 27\n",
      "9 x 4 = 36\n",
      "9 x 5 = 45\n",
      "9 x 6 = 54\n",
      "9 x 7 = 63\n",
      "9 x 8 = 72\n",
      "9 x 9 = 81\n",
      "9 x 10 = 90\n"
     ]
    }
   ],
   "source": [
    "#3. Write a Python program to print the multiplication table of a given number up to 10 using a for loop.\n",
    "\n",
    "num = eval(input())\n",
    "for i in range(1,11):\n",
    "    print(f\"{num} x {i} = {num*i}\")"
   ]
  },
  {
   "cell_type": "code",
   "execution_count": 21,
   "id": "837fc2e8-d08a-4b40-8dfb-c56905846431",
   "metadata": {},
   "outputs": [
    {
     "name": "stdin",
     "output_type": "stream",
     "text": [
      "enter a num : 15\n"
     ]
    },
    {
     "name": "stdout",
     "output_type": "stream",
     "text": [
      "15\n",
      "14\n",
      "13\n",
      "12\n",
      "11\n",
      "10\n",
      "9\n",
      "8\n",
      "7\n",
      "6\n",
      "5\n",
      "4\n",
      "3\n",
      "2\n",
      "1\n"
     ]
    }
   ],
   "source": [
    "#4. Write a Python program to print numbers from N down to 1 using a for loop.\n",
    "\n",
    "num = eval(input(\"enter a num :\"))\n",
    "if num < 0:\n",
    "    for i in range (num,2):\n",
    "        print(i)\n",
    "if num > 0:\n",
    "    for i in range (num,0,-1):\n",
    "        print(i)"
   ]
  },
  {
   "cell_type": "code",
   "execution_count": 28,
   "id": "64f5459b-c9eb-4468-a626-f7395d61900d",
   "metadata": {},
   "outputs": [
    {
     "name": "stdin",
     "output_type": "stream",
     "text": [
      "enter a num : 20\n"
     ]
    },
    {
     "name": "stdout",
     "output_type": "stream",
     "text": [
      "the sum of even numbers between 1 and 20 :90\n"
     ]
    }
   ],
   "source": [
    "# 5. Write a Python program to find the sum of all even numbers between 1 and N using a for loop.\n",
    "\n",
    "num = eval(input(\"enter a num :\"))\n",
    "summ = 0\n",
    "for i in range(2,num,2):\n",
    "    summ = summ+i\n",
    "\n",
    "print(f\"the sum of even numbers between 1 and {num} :{summ}\")"
   ]
  },
  {
   "cell_type": "code",
   "execution_count": null,
   "id": "cd1536e5-a540-4970-89e8-4132b4e15ac8",
   "metadata": {},
   "outputs": [],
   "source": []
  }
 ],
 "metadata": {
  "kernelspec": {
   "display_name": "Python 3 (ipykernel)",
   "language": "python",
   "name": "python3"
  },
  "language_info": {
   "codemirror_mode": {
    "name": "ipython",
    "version": 3
   },
   "file_extension": ".py",
   "mimetype": "text/x-python",
   "name": "python",
   "nbconvert_exporter": "python",
   "pygments_lexer": "ipython3",
   "version": "3.11.4"
  }
 },
 "nbformat": 4,
 "nbformat_minor": 5
}
