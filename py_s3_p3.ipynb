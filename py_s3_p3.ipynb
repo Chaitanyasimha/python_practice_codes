{
 "cells": [
  {
   "cell_type": "code",
   "execution_count": 2,
   "id": "f36a653f-054e-4254-907b-79f26ca8597d",
   "metadata": {},
   "outputs": [
    {
     "data": {
      "text/plain": [
       "'True'"
      ]
     },
     "execution_count": 2,
     "metadata": {},
     "output_type": "execute_result"
    }
   ],
   "source": [
    "true=True\n",
    "str(true)"
   ]
  },
  {
   "cell_type": "code",
   "execution_count": null,
   "id": "2084963c-b01b-4784-8c75-2cde2eab1e61",
   "metadata": {},
   "outputs": [],
   "source": []
  }
 ],
 "metadata": {
  "kernelspec": {
   "display_name": "Python 3 (ipykernel)",
   "language": "python",
   "name": "python3"
  },
  "language_info": {
   "codemirror_mode": {
    "name": "ipython",
    "version": 3
   },
   "file_extension": ".py",
   "mimetype": "text/x-python",
   "name": "python",
   "nbconvert_exporter": "python",
   "pygments_lexer": "ipython3",
   "version": "3.11.4"
  }
 },
 "nbformat": 4,
 "nbformat_minor": 5
}
