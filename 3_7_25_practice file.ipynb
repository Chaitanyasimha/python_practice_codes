{
 "cells": [
  {
   "cell_type": "code",
   "execution_count": 3,
   "id": "7590b3cd-3c8d-4590-928c-db97f52e54a3",
   "metadata": {},
   "outputs": [
    {
     "name": "stdin",
     "output_type": "stream",
     "text": [
      "enter the no of elements: 4\n",
      "enter the value1 : 2\n",
      "enter the value2 : 4\n",
      "enter the value3 : 5\n",
      "enter the value4 : 6\n"
     ]
    },
    {
     "name": "stdout",
     "output_type": "stream",
     "text": [
      "[2, 4, 5, 6]\n"
     ]
    }
   ],
   "source": [
    "nums = []\n",
    "N = int(input(\"enter the no of elements:\"))\n",
    "for i in range (1,N+1):\n",
    "    values = int(input(f\"enter the value{i} :\"))\n",
    "    nums.append(values)\n",
    "print(nums)"
   ]
  },
  {
   "cell_type": "code",
   "execution_count": null,
   "id": "a9b5ec94-ffe3-412e-a0d6-eaa1ea4c9960",
   "metadata": {},
   "outputs": [],
   "source": [
    "print(nums)\n",
    "target = int(input())\n",
    "#main loop\n",
    "for j in range (N):\n",
    "    for k in range (N):\n",
    "        while [j,k] != [k,j]:\n",
    "            if (nums[j]+nums[k]) == target:\n",
    "                print([j,k])"
   ]
  },
  {
   "cell_type": "code",
   "execution_count": 1,
   "id": "eeba8c73-e551-44bf-9d44-af05726d14a2",
   "metadata": {},
   "outputs": [
    {
     "name": "stdin",
     "output_type": "stream",
     "text": [
      " 4\n",
      " 5\n",
      " 8\n",
      " 9\n"
     ]
    },
    {
     "name": "stdout",
     "output_type": "stream",
     "text": [
      "[4, 5, 8, 9]\n"
     ]
    }
   ],
   "source": [
    "\n",
    "muli = [int(input()) for i in range(4)]\n",
    "print(muli)"
   ]
  },
  {
   "cell_type": "code",
   "execution_count": 7,
   "id": "3d0b3d6a-47a3-481e-be26-bc31b7698ec3",
   "metadata": {},
   "outputs": [
    {
     "name": "stdin",
     "output_type": "stream",
     "text": [
      " 4\n"
     ]
    }
   ],
   "source": [
    "koli = [int(input())]"
   ]
  },
  {
   "cell_type": "code",
   "execution_count": 5,
   "id": "212c83e0-6206-4274-8c25-f88cf48c8449",
   "metadata": {},
   "outputs": [
    {
     "name": "stdin",
     "output_type": "stream",
     "text": [
      "number of elements in the tuple : 4\n",
      "enter the elements with a space : 4 7 8 9\n"
     ]
    },
    {
     "name": "stdout",
     "output_type": "stream",
     "text": [
      "['4', '7', '8', '9']\n"
     ]
    }
   ],
   "source": [
    "# Enter your code here. Read input from STDIN. Print output to STDOUT\n",
    "n = eval(input(\"number of elements in the tuple :\"))\n",
    "t = []\n",
    "integers = input(\"enter the elements with a space :\")\n",
    "for i in range (n):\n",
    "    t = integers.split()\n",
    "print(t)\n",
    "     \n"
   ]
  },
  {
   "cell_type": "code",
   "execution_count": 1,
   "id": "5af0441c-ee67-49eb-850b-3426c2dc509b",
   "metadata": {},
   "outputs": [
    {
     "name": "stdout",
     "output_type": "stream",
     "text": [
      "10 11 12 13 14 15 16 17 18 19 "
     ]
    }
   ],
   "source": [
    "for i in range (10,20):\n",
    "    print(i,end = \" \")"
   ]
  },
  {
   "cell_type": "code",
   "execution_count": null,
   "id": "e5feb083-8cdd-422c-a997-a88218d8d4f1",
   "metadata": {},
   "outputs": [],
   "source": []
  },
  {
   "cell_type": "code",
   "execution_count": 25,
   "id": "c9238980-6307-4254-bca5-7e90366ce33c",
   "metadata": {},
   "outputs": [
    {
     "name": "stdin",
     "output_type": "stream",
     "text": [
      "number of elements in the tuple : 4\n",
      "enter the elements with a space : 4 7 9 8\n"
     ]
    },
    {
     "name": "stdout",
     "output_type": "stream",
     "text": [
      "['4', '7', '9', '8']\n"
     ]
    }
   ],
   "source": [
    "# Enter your code here. Read input from STDIN. Print output to STDOUT\n",
    "n = eval(input(\"number of elements in the tuple :\"))\n",
    "integers = input(\"enter the elements with a space :\")\n",
    "t = []\n",
    "k = []\n",
    "k = integers.split()\n",
    "print(k)"
   ]
  },
  {
   "cell_type": "code",
   "execution_count": 31,
   "id": "4f4276bb-0724-48c5-b1ea-1a5dcb95b94c",
   "metadata": {},
   "outputs": [
    {
     "data": {
      "text/plain": [
       "4"
      ]
     },
     "execution_count": 31,
     "metadata": {},
     "output_type": "execute_result"
    }
   ],
   "source": [
    "int(k[0])"
   ]
  },
  {
   "cell_type": "code",
   "execution_count": 32,
   "id": "199f01a9-4d95-414e-af69-9740ae2feb8f",
   "metadata": {},
   "outputs": [
    {
     "name": "stdout",
     "output_type": "stream",
     "text": [
      "[]\n"
     ]
    }
   ],
   "source": [
    "for m in range (0,i):\n",
    "    tt = int(k[i])\n",
    "    print(t_)\n",
    "    t.append(t_)\n",
    "print(t)"
   ]
  },
  {
   "cell_type": "code",
   "execution_count": 9,
   "id": "58590fef-dd82-4f2b-a4d9-c1cfaa4b83a8",
   "metadata": {},
   "outputs": [
    {
     "ename": "TypeError",
     "evalue": "unhashable type: 'list'",
     "output_type": "error",
     "traceback": [
      "\u001b[1;31m---------------------------------------------------------------------------\u001b[0m",
      "\u001b[1;31mTypeError\u001b[0m                                 Traceback (most recent call last)",
      "Cell \u001b[1;32mIn[9], line 1\u001b[0m\n\u001b[1;32m----> 1\u001b[0m \u001b[38;5;28;43mhash\u001b[39;49m\u001b[43m(\u001b[49m\u001b[43mt\u001b[49m\u001b[43m)\u001b[49m\n",
      "\u001b[1;31mTypeError\u001b[0m: unhashable type: 'list'"
     ]
    }
   ],
   "source": [
    "hash(t)"
   ]
  },
  {
   "cell_type": "code",
   "execution_count": null,
   "id": "7f5d0c1a-ba20-498f-a51d-794e6bb065a3",
   "metadata": {},
   "outputs": [],
   "source": []
  }
 ],
 "metadata": {
  "kernelspec": {
   "display_name": "Python 3 (ipykernel)",
   "language": "python",
   "name": "python3"
  },
  "language_info": {
   "codemirror_mode": {
    "name": "ipython",
    "version": 3
   },
   "file_extension": ".py",
   "mimetype": "text/x-python",
   "name": "python",
   "nbconvert_exporter": "python",
   "pygments_lexer": "ipython3",
   "version": "3.11.4"
  }
 },
 "nbformat": 4,
 "nbformat_minor": 5
}
