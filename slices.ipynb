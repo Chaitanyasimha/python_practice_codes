{
 "cells": [
  {
   "cell_type": "code",
   "execution_count": 1,
   "id": "d5383009-ca94-4559-91da-fd9fa21effd8",
   "metadata": {},
   "outputs": [],
   "source": [
    "name = \"Chaitanya simha\""
   ]
  },
  {
   "cell_type": "code",
   "execution_count": 25,
   "id": "a2493e9e-a2f6-4b21-b78b-96e10fe0d9fd",
   "metadata": {},
   "outputs": [
    {
     "data": {
      "text/plain": [
       "'haitanya simha'"
      ]
     },
     "execution_count": 25,
     "metadata": {},
     "output_type": "execute_result"
    }
   ],
   "source": [
    "name[1:]"
   ]
  },
  {
   "cell_type": "code",
   "execution_count": 26,
   "id": "c5fca741-e864-464d-8331-acf742aeb19d",
   "metadata": {},
   "outputs": [
    {
     "data": {
      "text/plain": [
       "'Chaitanya simh'"
      ]
     },
     "execution_count": 26,
     "metadata": {},
     "output_type": "execute_result"
    }
   ],
   "source": [
    "name[:-1:]"
   ]
  },
  {
   "cell_type": "code",
   "execution_count": 18,
   "id": "61a5a9b6-d919-4655-9fc7-eaf34dcad6c8",
   "metadata": {},
   "outputs": [
    {
     "data": {
      "text/plain": [
       "'ahmis aynatiahC'"
      ]
     },
     "execution_count": 18,
     "metadata": {},
     "output_type": "execute_result"
    }
   ],
   "source": [
    "name[-1::-1] #here it doesn't happen cause the elements arre in reverse and from reverse a is the first sts not excluded"
   ]
  },
  {
   "cell_type": "code",
   "execution_count": 20,
   "id": "28e133f7-50b5-429e-b077-d4adfd805b1d",
   "metadata": {},
   "outputs": [
    {
     "data": {
      "text/plain": [
       "'a'"
      ]
     },
     "execution_count": 20,
     "metadata": {},
     "output_type": "execute_result"
    }
   ],
   "source": [
    "name[-1:] #cause we are moving in a positive direction and peiniting from the last element so the only element in last will be printed\""
   ]
  },
  {
   "cell_type": "code",
   "execution_count": 24,
   "id": "b48e85a3-9da4-4067-8337-6040389cbac5",
   "metadata": {},
   "outputs": [
    {
     "data": {
      "text/plain": [
       "' '"
      ]
     },
     "execution_count": 24,
     "metadata": {},
     "output_type": "execute_result"
    }
   ],
   "source": [
    "name[9] #so space also has indexing"
   ]
  },
  {
   "cell_type": "markdown",
   "id": "5300564b-76ec-43fa-98b5-bd4a583f3031",
   "metadata": {},
   "source": [
    "**truncation behaviour**\n",
    "\n",
    "- if we give the idexing out of range ge for slicing it will ttruncate up to th eexisting index range and execute the slice."
   ]
  },
  {
   "cell_type": "code",
   "execution_count": 29,
   "id": "5ef60e3c-e2b5-4341-8057-e5986060f5e3",
   "metadata": {},
   "outputs": [
    {
     "data": {
      "text/plain": [
       "'anya simha'"
      ]
     },
     "execution_count": 29,
     "metadata": {},
     "output_type": "execute_result"
    }
   ],
   "source": [
    "name[5:500]"
   ]
  },
  {
   "cell_type": "code",
   "execution_count": 32,
   "id": "c3263026-5606-4d94-bb8e-2e5f14a6644b",
   "metadata": {},
   "outputs": [
    {
     "data": {
      "text/plain": [
       "'Chaitanya simha'"
      ]
     },
     "execution_count": 32,
     "metadata": {},
     "output_type": "execute_result"
    }
   ],
   "source": [
    "name[-20:500]"
   ]
  },
  {
   "cell_type": "code",
   "execution_count": 33,
   "id": "f387e8a2-b5b3-4548-97b4-69cbf4c5b39c",
   "metadata": {},
   "outputs": [
    {
     "data": {
      "text/plain": [
       "'Chaitanya simha'"
      ]
     },
     "execution_count": 33,
     "metadata": {},
     "output_type": "execute_result"
    }
   ],
   "source": [
    "name[-20:]"
   ]
  },
  {
   "cell_type": "code",
   "execution_count": 42,
   "id": "158b6f39-8f06-494b-8a9d-8868bbc74bb2",
   "metadata": {},
   "outputs": [
    {
     "data": {
      "text/plain": [
       "'ha'"
      ]
     },
     "execution_count": 42,
     "metadata": {},
     "output_type": "execute_result"
    }
   ],
   "source": [
    "name[-2:]#hre it is taking from backk ro front"
   ]
  },
  {
   "cell_type": "code",
   "execution_count": 43,
   "id": "00ce8d73-f4d1-43f2-9092-b4038991670d",
   "metadata": {},
   "outputs": [
    {
     "data": {
      "text/plain": [
       "''"
      ]
     },
     "execution_count": 43,
     "metadata": {},
     "output_type": "execute_result"
    }
   ],
   "source": [
    "name[500:]"
   ]
  },
  {
   "cell_type": "code",
   "execution_count": 45,
   "id": "bc300a75-c0ec-42a2-b798-d3c841d47592",
   "metadata": {},
   "outputs": [
    {
     "data": {
      "text/plain": [
       "''"
      ]
     },
     "execution_count": 45,
     "metadata": {},
     "output_type": "execute_result"
    }
   ],
   "source": [
    "name[-1:3]"
   ]
  },
  {
   "cell_type": "code",
   "execution_count": 51,
   "id": "a9a6f91f-4180-47cc-9112-58ddbc40e02c",
   "metadata": {},
   "outputs": [
    {
     "data": {
      "text/plain": [
       "''"
      ]
     },
     "execution_count": 51,
     "metadata": {},
     "output_type": "execute_result"
    }
   ],
   "source": [
    "name[-4:3] #the problem is because the loopingis going from negative to positive with out having a negative step \n",
    "#this only happen when you give the second element after the semicolon within the idex range"
   ]
  },
  {
   "cell_type": "code",
   "execution_count": 54,
   "id": "2f916397-fc50-40a3-bfa1-7fe4329b968c",
   "metadata": {},
   "outputs": [
    {
     "data": {
      "text/plain": [
       "'Chaitanya simha'"
      ]
     },
     "execution_count": 54,
     "metadata": {},
     "output_type": "execute_result"
    }
   ],
   "source": [
    "name[-15:500]#here it is traversing from -15 to to -14,-13,in this order so it comes in a order"
   ]
  },
  {
   "cell_type": "code",
   "execution_count": 57,
   "id": "14f86d1b-e3f6-46f7-94ea-0e5889329e28",
   "metadata": {},
   "outputs": [
    {
     "data": {
      "text/plain": [
       "'ahmis ayn'"
      ]
     },
     "execution_count": 57,
     "metadata": {},
     "output_type": "execute_result"
    }
   ],
   "source": [
    "name[:5:-1]#have to experiment a lot on the indices"
   ]
  },
  {
   "cell_type": "code",
   "execution_count": 64,
   "id": "aa9e5cc4-30a0-473c-8226-b4d1ae975290",
   "metadata": {},
   "outputs": [
    {
     "data": {
      "text/plain": [
       "''"
      ]
     },
     "execution_count": 64,
     "metadata": {},
     "output_type": "execute_result"
    }
   ],
   "source": [
    "name[-13:2:-2]"
   ]
  },
  {
   "cell_type": "code",
   "execution_count": 65,
   "id": "66b37a54-d37e-45c8-b179-b5031256d3f5",
   "metadata": {},
   "outputs": [
    {
     "data": {
      "text/plain": [
       "''"
      ]
     },
     "execution_count": 65,
     "metadata": {},
     "output_type": "execute_result"
    }
   ],
   "source": [
    "name[-13:2:2]"
   ]
  },
  {
   "cell_type": "code",
   "execution_count": null,
   "id": "d9a61468-5aef-4a1e-bb7f-f654e9bb6249",
   "metadata": {},
   "outputs": [],
   "source": []
  }
 ],
 "metadata": {
  "kernelspec": {
   "display_name": "Python 3 (ipykernel)",
   "language": "python",
   "name": "python3"
  },
  "language_info": {
   "codemirror_mode": {
    "name": "ipython",
    "version": 3
   },
   "file_extension": ".py",
   "mimetype": "text/x-python",
   "name": "python",
   "nbconvert_exporter": "python",
   "pygments_lexer": "ipython3",
   "version": "3.11.4"
  }
 },
 "nbformat": 4,
 "nbformat_minor": 5
}
