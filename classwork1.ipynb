{
 "cells": [
  {
   "cell_type": "code",
   "execution_count": 6,
   "id": "5066236a-979a-4c01-a604-dfb033b8b38a",
   "metadata": {},
   "outputs": [
    {
     "name": "stdin",
     "output_type": "stream",
     "text": [
      "give a num : 5\n"
     ]
    },
    {
     "data": {
      "text/plain": [
       "25"
      ]
     },
     "execution_count": 6,
     "metadata": {},
     "output_type": "execute_result"
    }
   ],
   "source": [
    "#1que_A\n",
    "a = eval(input(\"give a num :\"))\n",
    "square = a*a\n",
    "square\n"
   ]
  },
  {
   "cell_type": "code",
   "execution_count": 16,
   "id": "818c9cc8-7dc6-4197-bb84-40e20521ccba",
   "metadata": {},
   "outputs": [
    {
     "name": "stdin",
     "output_type": "stream",
     "text": [
      "enter the x_val : 5\n"
     ]
    },
    {
     "name": "stdout",
     "output_type": "stream",
     "text": [
      "5---10---15---20---25\n"
     ]
    }
   ],
   "source": [
    "#2que_A\n",
    "x = eval(input(\"enter the x_val :\"))\n",
    "print(x,end=\"---\")\n",
    "print(x*2,end=\"---\")\n",
    "print(x*3,end=\"---\")\n",
    "print(x*4,end=\"---\")\n",
    "print(x*5)"
   ]
  },
  {
   "cell_type": "code",
   "execution_count": 18,
   "id": "7f862820-dd7d-471d-bae1-0977b73bd6a8",
   "metadata": {},
   "outputs": [
    {
     "name": "stdin",
     "output_type": "stream",
     "text": [
      "enter the weight in kg : 1\n"
     ]
    },
    {
     "name": "stdout",
     "output_type": "stream",
     "text": [
      "1kg is equal to 2.2pounds\n"
     ]
    }
   ],
   "source": [
    "#3que_A\n",
    "weight = eval(input(\"enter the weight in kg :\"))\n",
    "in_pound = weight*2.2\n",
    "print(f\"{weight}kg is equal to {in_pound}pounds\")"
   ]
  },
  {
   "cell_type": "code",
   "execution_count": 20,
   "id": "75262043-58a8-442f-9b72-bc9a9cce95d2",
   "metadata": {},
   "outputs": [
    {
     "name": "stdin",
     "output_type": "stream",
     "text": [
      "enter n1 : 3\n",
      "enter n2 : 4\n",
      "enter n3 : 5\n"
     ]
    },
    {
     "name": "stdout",
     "output_type": "stream",
     "text": [
      "the total is 12,average is 4.0.\n"
     ]
    }
   ],
   "source": [
    "#4que_A\n",
    "n1 = eval(input(\"enter n1 :\"))\n",
    "n2 = eval(input(\"enter n2 :\"))\n",
    "n3 = eval(input(\"enter n3 :\"))\n",
    "total = n1+n2+n3\n",
    "avg = (n1+n2+n3)/3\n",
    "print(f\"the total is {total},average is {avg}.\")"
   ]
  },
  {
   "cell_type": "code",
   "execution_count": 31,
   "id": "b7269136-7225-47d1-854b-eb53ed445d75",
   "metadata": {},
   "outputs": [
    {
     "name": "stdin",
     "output_type": "stream",
     "text": [
      "the amount of meal : 1000\n",
      "the percentage of tip : 10\n"
     ]
    },
    {
     "name": "stdout",
     "output_type": "stream",
     "text": [
      "the meal amount :1000\n",
      "the tip price :100\n",
      "the total amount :1100\n"
     ]
    }
   ],
   "source": [
    "#5que_A\n",
    "meal_price = eval(input(\"the amount of meal :\"))\n",
    "tip_percent = eval(input(\"the percentage of tip :\"))\n",
    "tip_amount = meal_price*tip_percent/100\n",
    "print(\"the meal amount :\"+str(meal_price))\n",
    "print(\"the tip price :\"+str(int(tip_amount)))\n",
    "print(\"the total amount :\"+str(int(meal_price+tip_amount)))                  "
   ]
  },
  {
   "cell_type": "code",
   "execution_count": 36,
   "id": "fb4fde9d-f1d1-4fb4-816b-401ed27751bd",
   "metadata": {},
   "outputs": [
    {
     "name": "stdin",
     "output_type": "stream",
     "text": [
      "enter n1 : 2\n",
      "enter n2 : 2\n"
     ]
    },
    {
     "name": "stdout",
     "output_type": "stream",
     "text": [
      "the addition value :4 \n",
      "the substraction value :0 \n",
      "the multiply value :4\n",
      "the division value :1\n"
     ]
    }
   ],
   "source": [
    "#6que_a\n",
    "n1 = eval(input(\"enter n1 :\"))\n",
    "n2 = eval(input(\"enter n2 :\"))\n",
    "print(\"the addition value :\"+str(n1+n2),\"\\nthe substraction value :\"+str(n1-n2),\"\\nthe multiply value :\"+str(n1*n2))\n",
    "print(\"the division value :\"+str(int(n1/n2)))"
   ]
  },
  {
   "cell_type": "code",
   "execution_count": 52,
   "id": "51b97edc-0558-4ef2-92b2-7304db3e2195",
   "metadata": {},
   "outputs": [
    {
     "name": "stdin",
     "output_type": "stream",
     "text": [
      "enter the val of radius : 4\n"
     ]
    },
    {
     "name": "stdout",
     "output_type": "stream",
     "text": [
      "50.24\n"
     ]
    }
   ],
   "source": [
    "#7que_A\n",
    "pi = 3.14\n",
    "radius = eval(input(\"enter the val of radius :\"))\n",
    "area_of_circle = pi*radius*radus\n",
    "print(area_of_circle)"
   ]
  },
  {
   "cell_type": "code",
   "execution_count": 47,
   "id": "d10d0dc5-f178-4213-a0da-827d4d435073",
   "metadata": {},
   "outputs": [
    {
     "name": "stdin",
     "output_type": "stream",
     "text": [
      "enter n1 : 2\n",
      "how much 1$ in rupees : 83\n"
     ]
    },
    {
     "name": "stdout",
     "output_type": "stream",
     "text": [
      "the amount 2 in dollars is 166 in rupees \n"
     ]
    }
   ],
   "source": [
    "#8que_A\n",
    "amount_dol = eval(input(\"enter n1 :\"))\n",
    "amount_rupees = eval(input(\"how much 1$ in rupees :\"))\n",
    "print(f\"the amount {amount_dol} in dollars is {amount_rupees*amount_dol} in rupees \")"
   ]
  },
  {
   "cell_type": "code",
   "execution_count": 46,
   "id": "b1c297a7-c385-4acc-8f56-fd02ea6054d9",
   "metadata": {},
   "outputs": [
    {
     "name": "stdin",
     "output_type": "stream",
     "text": [
      "enter b : 4\n",
      "enter h : 4\n"
     ]
    },
    {
     "name": "stdout",
     "output_type": "stream",
     "text": [
      "8\n"
     ]
    }
   ],
   "source": [
    "#9que_A\n",
    "b = eval(input(\"enter b :\"))\n",
    "h = eval(input(\"enter h :\"))\n",
    "area = 1/2*b*h\n",
    "print(int(area))"
   ]
  },
  {
   "cell_type": "code",
   "execution_count": 48,
   "id": "44df1de6-d5f8-4d84-b399-ec3aa2a7c150",
   "metadata": {},
   "outputs": [
    {
     "name": "stdin",
     "output_type": "stream",
     "text": [
      "enter length : 4\n",
      "enter breadth : 4\n"
     ]
    },
    {
     "name": "stdout",
     "output_type": "stream",
     "text": [
      "16\n"
     ]
    }
   ],
   "source": [
    "#10que_A\n",
    "l = eval(input(\"enter length :\"))\n",
    "b = eval(input(\"enter breadth :\"))\n",
    "area_of_rec = l*b\n",
    "print(area_of_rec)"
   ]
  },
  {
   "cell_type": "code",
   "execution_count": 60,
   "id": "e515d3a8-d12a-42a0-b2c0-5fc05e935322",
   "metadata": {
    "scrolled": true
   },
   "outputs": [
    {
     "name": "stdout",
     "output_type": "stream",
     "text": [
      "Father: Hey Baby!\n",
      "Daughter: Hello Daddy\n",
      "Father: I heard your exams are over, what about result\n",
      "Daughter: Yes dad! Results are out.\n",
      "Father: what is the percentage?\n",
      "Daughter: I will give my subject wise marks , you tell me the percentage\n",
      "Father : Okay!\n"
     ]
    },
    {
     "name": "stdin",
     "output_type": "stream",
     "text": [
      "First Language: 100\n",
      "Second language: 100\n",
      "Third language: 99\n",
      "Science: 100\n",
      "Maths: 100\n"
     ]
    },
    {
     "name": "stdout",
     "output_type": "stream",
     "text": [
      "Daughter: Dad Now tell me how much percentage I got\n",
      "Father: Tell me the max marks of each subject\n"
     ]
    },
    {
     "name": "stdin",
     "output_type": "stream",
     "text": [
      "Max marks is?: 100\n"
     ]
    },
    {
     "name": "stdout",
     "output_type": "stream",
     "text": [
      "your total are :499\n",
      "max marks are :500\n",
      "your percentage is :99.8\n",
      "daughter :cry,cry....\n",
      "father :dont worry baby you can do best in next exam i bought you sweets\n",
      "father(in his brain):she never quits to be over dramatic\n"
     ]
    }
   ],
   "source": [
    "#11que_A\n",
    "print(\"Father: Hey Baby!\")\n",
    "print(\"Daughter: Hello Daddy\")\n",
    "print(\"Father: I heard your exams are over, what about result\")\n",
    "print(\"Daughter: Yes dad! Results are out.\")\n",
    "print(\"Father: what is the percentage?\")\n",
    "print(\"Daughter: I will give my subject wise marks , you tell me the percentage\")\n",
    "print(\"Father : Okay!\")\n",
    "sub1 = eval(input(\"First Language:\"))       \n",
    "sub2 = eval(input(\"Second language:\"))\n",
    "sub3 = eval(input(\"Third language:\"))\n",
    "sub4 = eval(input(\"Science:\"))\n",
    "sub5 = eval(input(\"Maths:\"))\n",
    "print(\"Daughter: Dad Now tell me how much percentage I got\")\n",
    "print(\"Father: Tell me the max marks of each subject\")\n",
    "max_mark = eval(input(\"Max marks is?:\"))\n",
    "total_marks_obtained = sub1 + sub2 + sub3 + sub4 + sub5\n",
    "total_max = max_mark * 5\n",
    "percentage = (total_marks_obtained / total_max) * 100\n",
    "print(f\"your total are :{total_marks_obtained}\\nmax marks are :{total_max}\\nyour percentage is :{percentage}\")\n",
    "if percentage<50:\n",
    "    print(\"daughter :cry,cry....\")\n",
    "    print(\"father :dont worry baby you can do best in next exam i bought you sweets\")\n",
    "else :\n",
    "    print(\"daughter :cry,cry....\")\n",
    "    print(\"father :dont worry baby you can do best in next exam i bought you sweets\")\n",
    "print(\"father(in his brain):she never quits to be over dramatic\")"
   ]
  },
  {
   "cell_type": "code",
   "execution_count": 1,
   "id": "974ec994-ebe3-4ecc-8558-c0d188ca3fa9",
   "metadata": {},
   "outputs": [],
   "source": [
    "#instead of print if you use the input it will take diologues one by one\n",
    "#not that it is very usefull tho"
   ]
  },
  {
   "cell_type": "code",
   "execution_count": 12,
   "id": "557c036e-59e6-47b8-8199-d06238b40d50",
   "metadata": {},
   "outputs": [],
   "source": [
    "#'sep' is seperator operator similar to end like "
   ]
  },
  {
   "cell_type": "code",
   "execution_count": null,
   "id": "4f4f9aaf-0ec5-4f24-8b28-67e3ea899f31",
   "metadata": {},
   "outputs": [],
   "source": []
  }
 ],
 "metadata": {
  "kernelspec": {
   "display_name": "Python 3 (ipykernel)",
   "language": "python",
   "name": "python3"
  },
  "language_info": {
   "codemirror_mode": {
    "name": "ipython",
    "version": 3
   },
   "file_extension": ".py",
   "mimetype": "text/x-python",
   "name": "python",
   "nbconvert_exporter": "python",
   "pygments_lexer": "ipython3",
   "version": "3.11.4"
  }
 },
 "nbformat": 4,
 "nbformat_minor": 5
}
