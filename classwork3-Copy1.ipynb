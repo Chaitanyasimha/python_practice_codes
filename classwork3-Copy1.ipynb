{
 "cells": [
  {
   "cell_type": "markdown",
   "id": "b03b63d3-799d-4dba-b4f4-8451b75a4c0f",
   "metadata": {},
   "source": [
    "## Hare krishna"
   ]
  },
  {
   "cell_type": "code",
   "execution_count": 1,
   "id": "4841d8f6-15c3-4890-8187-b108fc93a826",
   "metadata": {},
   "outputs": [],
   "source": [
    "import math"
   ]
  },
  {
   "cell_type": "code",
   "execution_count": 9,
   "id": "05444e0c-2004-42aa-ac36-c939b1b9dbf0",
   "metadata": {},
   "outputs": [
    {
     "name": "stdin",
     "output_type": "stream",
     "text": [
      "enter the basic salary : 150000\n"
     ]
    },
    {
     "name": "stdout",
     "output_type": "stream",
     "text": [
      "60000\n",
      "30000\n",
      "your gross salary allowance is 240000.\n"
     ]
    }
   ],
   "source": [
    " #que_1\n",
    "basic_salary = eval(input(\"enter the basic salary :\"))\n",
    "dearness_allowance = round(basic_salary*40/100)\n",
    "print(dearness_allowance)\n",
    "house_rent_allowance = round(basic_salary*20/100)\n",
    "print(house_rent_allowance)\n",
    "gross_salary = basic_salary+dearness_allowance+house_rent_allowance\n",
    "print(f\"your gross salary allowance is {gross_salary}.\")"
   ]
  },
  {
   "cell_type": "code",
   "execution_count": 14,
   "id": "1c8f14ad-9b87-41e8-b514-0dd73468802b",
   "metadata": {},
   "outputs": [
    {
     "name": "stdin",
     "output_type": "stream",
     "text": [
      "enter the distance between two cities in km : 60\n"
     ]
    },
    {
     "name": "stdout",
     "output_type": "stream",
     "text": [
      "the distance in meters :60000\n",
      "the distance in feet :1680000\n",
      "the distance in inches :20160000\n",
      "the distance in centimeters :51206400\n"
     ]
    }
   ],
   "source": [
    "#que_2\n",
    "distance = eval(input(\"enter the distance between two cities in km :\"))\n",
    "in_meters = distance*1000\n",
    "print(f\"the distance in meters :{in_meters}\")\n",
    "in_feet = round(in_meters*28)\n",
    "print(f\"the distance in feet :{in_feet}\")\n",
    "in_inches = round(in_feet*12)\n",
    "print(f\"the distance in inches :{in_inches}\")\n",
    "in_centimeters = round(in_inches*2.54)\n",
    "print(f\"the distance in centimeters :{in_centimeters}\")"
   ]
  },
  {
   "cell_type": "code",
   "execution_count": 16,
   "id": "7b902f7c-acf5-4db4-98e2-9c4420bb88e9",
   "metadata": {},
   "outputs": [
    {
     "name": "stdin",
     "output_type": "stream",
     "text": [
      "First Language: 100\n",
      "Second language: 100\n",
      "Third language: 99.9\n",
      "Science: 100\n",
      "Maths: 100\n",
      "Max marks is?: 100\n"
     ]
    },
    {
     "name": "stdout",
     "output_type": "stream",
     "text": [
      "your total are :499.9\n",
      "max marks are :500\n",
      "your percentage is :99.98\n"
     ]
    }
   ],
   "source": [
    "#que_3\n",
    "#11que_A\n",
    "sub1 = eval(input(\"First Language:\"))       \n",
    "sub2 = eval(input(\"Second language:\"))\n",
    "sub3 = eval(input(\"Third language:\"))\n",
    "sub4 = eval(input(\"Science:\"))\n",
    "sub5 = eval(input(\"Maths:\"))\n",
    "max_mark = eval(input(\"Max marks is?:\"))\n",
    "total_marks_obtained = sub1 + sub2 + sub3 + sub4 + sub5\n",
    "total_max = max_mark * 5\n",
    "percentage = round((total_marks_obtained / total_max) * 100,2)\n",
    "print(f\"your total are :{total_marks_obtained}\\nmax marks are :{total_max}\\nyour percentage is :{percentage}\")"
   ]
  },
  {
   "cell_type": "code",
   "execution_count": 21,
   "id": "b7639eac-3687-498a-86ee-bb50a4b34b59",
   "metadata": {},
   "outputs": [
    {
     "name": "stdin",
     "output_type": "stream",
     "text": [
      "enter temperature in farenheit : 269\n"
     ]
    },
    {
     "name": "stdout",
     "output_type": "stream",
     "text": [
      "269 farenheit is -4 in centigrade degree:\n"
     ]
    }
   ],
   "source": [
    "#que_4\n",
    "in_farenheit = eval(input(\"enter temperature in farenheit :\"))\n",
    "in_centigrade = in_farenheit-273\n",
    "print(f\"{in_farenheit} farenheit is {in_centigrade} in centigrade degree:\")"
   ]
  },
  {
   "cell_type": "code",
   "execution_count": 29,
   "id": "f72a2358-dfac-4572-9663-9c7b36619100",
   "metadata": {},
   "outputs": [
    {
     "name": "stdin",
     "output_type": "stream",
     "text": [
      "enter the lenghth : 11\n",
      "enter the breadth : 11\n"
     ]
    },
    {
     "name": "stdout",
     "output_type": "stream",
     "text": [
      "area of rectangle is 121\n",
      "perimeter of rectangle is 44\n"
     ]
    },
    {
     "name": "stdin",
     "output_type": "stream",
     "text": [
      "enter the radius : 2\n"
     ]
    },
    {
     "name": "stdout",
     "output_type": "stream",
     "text": [
      "area of circle is 12.6\n"
     ]
    }
   ],
   "source": [
    "#que_5\n",
    "#5. The length & breadth of a rectangle and radius of a circle are input through the keyboard. Write a program\n",
    "#to calculate the area & perimeter of the rectangle, and the area & circumference of the circle.\n",
    "length = eval(input(\"enter the lenghth :\"))\n",
    "bredth = eval(input(\"enter the breadth :\"))\n",
    "area_rec = length*bredth\n",
    "print(f\"area of rectangle is {area_rec}\")\n",
    "perimeter = 2*(length+bredth)\n",
    "print(f\"perimeter of rectangle is {perimeter}\")\n",
    "radius = eval(input(\"enter the radius :\"))\n",
    "area_cirle = round(math.pi*radius**2,1)\n",
    "print(f\"area of circle is {area_cirle}\")"
   ]
  },
  {
   "cell_type": "code",
   "execution_count": 38,
   "id": "3be41551-21ee-49b8-bbde-cec35ca93320",
   "metadata": {},
   "outputs": [
    {
     "name": "stdin",
     "output_type": "stream",
     "text": [
      "enter the c : 3\n",
      "enter the d : 5\n"
     ]
    },
    {
     "name": "stdout",
     "output_type": "stream",
     "text": [
      "5\n",
      "3\n",
      "swaping again :\n",
      "3\n",
      "5\n"
     ]
    }
   ],
   "source": [
    "#que6\n",
    "#whith out using temporary variable_m1\n",
    "c = eval(input(\"enter the c :\"))\n",
    "d = eval(input(\"enter the d :\")) \n",
    "c = c + d\n",
    "d = c - d\n",
    "c = c - d\n",
    "print(c)\n",
    "print(d)\n",
    "#with out using temporary variable_m2\n",
    "c,d = d,c\n",
    "print(\"swaping again :\")\n",
    "print(c)\n",
    "print(d)"
   ]
  },
  {
   "cell_type": "code",
   "execution_count": 47,
   "id": "4b6d9403-4f20-48ac-bb6f-69a17fc31ef8",
   "metadata": {},
   "outputs": [
    {
     "name": "stdin",
     "output_type": "stream",
     "text": [
      "enter num : 12345\n"
     ]
    },
    {
     "name": "stdout",
     "output_type": "stream",
     "text": [
      "54321\n"
     ]
    }
   ],
   "source": [
    "#7. If a five-digit number is input through the keyboard, write a program to reverse the number.  \n",
    "num = input(\"enter num :\")\n",
    "splited_tuple = num[::-1]\n",
    "print(int(splited_tuple))\n",
    "#this uses slices"
   ]
  },
  {
   "cell_type": "code",
   "execution_count": 4,
   "id": "2648b79b-864d-4a93-91c2-6c564e880bb0",
   "metadata": {},
   "outputs": [
    {
     "name": "stdin",
     "output_type": "stream",
     "text": [
      "enter the num : 123456\n"
     ]
    },
    {
     "name": "stdout",
     "output_type": "stream",
     "text": [
      "7\n"
     ]
    }
   ],
   "source": [
    "#que_8. If a four-digit number is input through the keyboard, write a program to obtain the sum of the first and last digit of this number.  \n",
    "num = input(\"enter the num :\")\n",
    "first_n = int(num[0])\n",
    "len_num = int(num[len(num) - 1])\n",
    "last_n = first_n + len_num\n",
    "print(last_n)"
   ]
  },
  {
   "cell_type": "code",
   "execution_count": 16,
   "id": "34d134e3-8114-48ae-b74f-147e91c3cd4a",
   "metadata": {},
   "outputs": [
    {
     "name": "stdin",
     "output_type": "stream",
     "text": [
      "enter percentage men : 52\n",
      "enter percentage of literacy : 48\n",
      "enter percentage of literate men : 35\n",
      "enter no of population : 80000\n"
     ]
    },
    {
     "name": "stdout",
     "output_type": "stream",
     "text": [
      "the no of men in the town are 41600.0\n",
      "the no of literates in the town are 38400.0\n",
      "the no of literate men in the town are 28000.0\n",
      "the no of illeterate men are :13600\n",
      "the no of illeterate women are :28000\n"
     ]
    }
   ],
   "source": [
    "#que_9.In a town, the percentage of men is 52. The percentage of total literacy is 48. If total percentage of literate\n",
    "#men is 35 of the total population, write a program to find the total number of illiterate men and women if\n",
    "#the population of the town is 80,000.\n",
    "\n",
    "#ans:\n",
    "p_men = eval(input(\"enter percentage men :\"))\n",
    "p_literacy = eval(input(\"enter percentage of literacy :\"))\n",
    "p_literate_men = eval(input(\"enter percentage of literate men :\"))\n",
    "population = eval(input(\"enter no of population :\"))\n",
    "no_of_men = round((population*p_men)/100,1)\n",
    "print(f\"the no of men in the town are {no_of_men}\")\n",
    "no_of_literates = round((population*p_literacy)/100,1)\n",
    "print(f\"the no of literates in the town are {no_of_literates}\")\n",
    "no_of_literate_men = round((population*p_literate_men)/100,1)\n",
    "print(f\"the no of literate men in the town are {no_of_literate_men}\")\n",
    "no_illiterate_men = round(no_of_men - no_of_literate_men)\n",
    "no_illiterate_women = round((population-no_of_men)-(no_of_literates - no_of_literate_men))\n",
    "print(f\"the no of illeterate men are :{no_illiterate_men}\")\n",
    "print(f\"the no of illeterate women are :{no_illiterate_women}\")"
   ]
  },
  {
   "cell_type": "code",
   "execution_count": 1,
   "id": "498c5ad2-ebae-44ec-8b4d-f6d7d3a20814",
   "metadata": {},
   "outputs": [
    {
     "name": "stdin",
     "output_type": "stream",
     "text": [
      "Please enter the amount:  2330\n"
     ]
    },
    {
     "name": "stdout",
     "output_type": "stream",
     "text": [
      "You get 23 100-rupee notes\n",
      "You get 3 10-rupee notes\n"
     ]
    }
   ],
   "source": [
    "#que_10. A cashier has currency notes of denominations 10, 50 and 100. If the amount to be withdrawn is input\n",
    "#through the keyboard in hundreds, find the total number of currency notes of each denomination the\n",
    "#cashier will have to give to the withdrawer.\n",
    "\n",
    "#ANS:\n",
    "def calculate_notes(amount):\n",
    "    notes_100 = amount // 100\n",
    "    amount %= 100\n",
    "\n",
    "    notes_50 = amount // 50 \n",
    "    amount %= 50\n",
    "\n",
    "    notes_10 = amount // 10\n",
    "\n",
    "    return notes_100, notes_50, notes_10\n",
    "\n",
    "amount = int(input(\"Please enter the amount: \"))\n",
    "\n",
    "notes_100, notes_50, notes_10 = calculate_notes(amount)\n",
    "\n",
    "if notes_100 > 0:\n",
    "    print(f\"You get {notes_100} 100-rupee notes\")\n",
    "if notes_50 > 0:\n",
    "    print(f\"You get {notes_50} 50-rupee notes\")\n",
    "if notes_10 > 0:\n",
    "    print(f\"You get {notes_10} 10-rupee notes\")\n",
    "\n"
   ]
  },
  {
   "cell_type": "code",
   "execution_count": null,
   "id": "cceceeff-a4cd-410d-85db-4d8f5baa4437",
   "metadata": {},
   "outputs": [],
   "source": []
  }
 ],
 "metadata": {
  "kernelspec": {
   "display_name": "Python 3 (ipykernel)",
   "language": "python",
   "name": "python3"
  },
  "language_info": {
   "codemirror_mode": {
    "name": "ipython",
    "version": 3
   },
   "file_extension": ".py",
   "mimetype": "text/x-python",
   "name": "python",
   "nbconvert_exporter": "python",
   "pygments_lexer": "ipython3",
   "version": "3.11.4"
  }
 },
 "nbformat": 4,
 "nbformat_minor": 5
}
