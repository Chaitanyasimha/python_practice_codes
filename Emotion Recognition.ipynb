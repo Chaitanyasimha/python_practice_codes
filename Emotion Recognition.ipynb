{
 "cells": [
  {
   "cell_type": "code",
   "execution_count": null,
   "id": "19e74ba7-83b6-445e-b785-23839ba18f31",
   "metadata": {},
   "outputs": [],
   "source": []
  }
 ],
 "metadata": {
  "kernelspec": {
   "display_name": "",
   "name": ""
  },
  "language_info": {
   "name": ""
  }
 },
 "nbformat": 4,
 "nbformat_minor": 5
}
