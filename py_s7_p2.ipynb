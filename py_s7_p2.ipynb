{
 "cells": [
  {
   "cell_type": "code",
   "execution_count": 12,
   "id": "091b015d-8ff1-4172-947c-76a305045ecc",
   "metadata": {},
   "outputs": [
    {
     "name": "stdin",
     "output_type": "stream",
     "text": [
      "enter the a value : 10\n",
      "enter the b value : 33\n",
      "1 for addition : \n",
      " 2 for substration : \n",
      " 3 for multiplication : \n",
      " 4 for division : \n",
      "enter the op from 1 to 4 :\n",
      " 3\n"
     ]
    },
    {
     "name": "stdout",
     "output_type": "stream",
     "text": [
      "you chose multiplication\n",
      "330\n"
     ]
    }
   ],
   "source": [
    "#wap code with 4 operations which will do basic arthematic operations\n",
    "a = eval(input(\"enter the a value :\"))\n",
    "b = eval(input(\"enter the b value :\"))\n",
    "op = eval(input(\"1 for addition : \\n 2 for substration : \\n 3 for multiplication : \\n 4 for division : \\nenter the op from 1 to 4 :\\n\" ))\n",
    "while op<0 or op>4:\n",
    "    print(\"please entera valid option :\")\n",
    "    op = eval(input(\"1 for addition : \\n 2 for substration : \\n 3 for multiplication : \\n 4 for division : \\nenter the op from 1 to 4 :\\n\" ))\n",
    "if op == 1:\n",
    "    print(\"you chose addition\")\n",
    "    print(round(a+b,2))\n",
    "elif op == 2:\n",
    "    print(\"you chose substraction\")\n",
    "    print(round(a-b,2))\n",
    "elif op == 3:\n",
    "    print(\"you chose multiplication\")\n",
    "    print(round(a*b,2))\n",
    "elif op == 4:\n",
    "    print(\"you chose division\")\n",
    "    print(round(a/b,2))\n",
    " #correct this after the class   "
   ]
  },
  {
   "cell_type": "code",
   "execution_count": 2,
   "id": "dd98c23c-9c06-4876-8545-fa63b00ad0f6",
   "metadata": {},
   "outputs": [
    {
     "name": "stdin",
     "output_type": "stream",
     "text": [
      "enter your gender : kj\n"
     ]
    },
    {
     "name": "stdout",
     "output_type": "stream",
     "text": [
      "invalid gender try again\n"
     ]
    },
    {
     "name": "stdin",
     "output_type": "stream",
     "text": [
      "enter your gender : xujt\n"
     ]
    },
    {
     "name": "stdout",
     "output_type": "stream",
     "text": [
      "invalid gender try again\n"
     ]
    },
    {
     "name": "stdin",
     "output_type": "stream",
     "text": [
      "enter your gender : Male\n",
      "enter your age : 21\n"
     ]
    },
    {
     "name": "stdout",
     "output_type": "stream",
     "text": [
      "young man\n"
     ]
    }
   ],
   "source": [
    "#wap ask th euser enter the gender\n",
    "#if gender equal to male\n",
    "#            ask user enter age\n",
    "#            if the age greaterthan 60 print ss\n",
    "#            if the age between 30 to 60 print man\n",
    "#             if the age between 15 to 30 print young man\n",
    "#             other wise print boy\n",
    "##if gender equal to female\n",
    "#            ask user enter age\n",
    "#            if the age greaterthan 60 print ss\n",
    "#            if the age between 30 to 60 print woman\n",
    "#             if the age between 15 to 30 print young lady\n",
    "#             other wise print girl\n",
    "gender = input(\"enter your gender :\")\n",
    "while gender.lower() != \"male\" and gender.lower() != \"female\":\n",
    "    print(\"invalid gender try again\")\n",
    "    gender = input(\"enter your gender :\")\n",
    "if gender.lower() == \"male\":\n",
    "    age = eval(input(\"enter your age :\"))\n",
    "    if age > 60 :\n",
    "        print(\"ss\")\n",
    "    elif age > 30 and age < 60:\n",
    "        print(\"man\")\n",
    "    elif age >15 and age <30:\n",
    "        print(\"young man\")\n",
    "    else:\n",
    "        print(\"boy\")\n",
    "if gender.lower() == \"female\":\n",
    "    age = eval(input(\"enter your age :\"))\n",
    "    if age > 60 :\n",
    "        print(\"ss\")\n",
    "    elif age > 30 and age < 60:\n",
    "        print(\"woman\")\n",
    "    elif age >15 and age <30:\n",
    "        print(\"young lady\")\n",
    "    else:\n",
    "        print(\"girl\")"
   ]
  },
  {
   "cell_type": "code",
   "execution_count": 14,
   "id": "9dd2dd7d-a477-4546-bc77-aff2e353cb31",
   "metadata": {},
   "outputs": [
    {
     "name": "stdin",
     "output_type": "stream",
     "text": [
      "enter a num : -44\n"
     ]
    },
    {
     "name": "stdout",
     "output_type": "stream",
     "text": [
      "negative\n"
     ]
    }
   ],
   "source": [
    "#for finding a num is 0 or +ve or -ve\n",
    "num = eval(input(\"enter a num :\"))\n",
    "if num>0 or num == 0:\n",
    "    if num == 0:\n",
    "        print(\"zero\")\n",
    "    else:\n",
    "        print(\"positive\")\n",
    "else:\n",
    "    print(\"negative\")\n",
    "#do pyton use >= in operations"
   ]
  },
  {
   "cell_type": "code",
   "execution_count": null,
   "id": "b0530232-2fc8-4af8-97f4-0a34b6ee0a80",
   "metadata": {},
   "outputs": [],
   "source": [
    "#find the max in num in 3 nums\n",
    "num1 = eval(input(\"enter val of num1 :\"))\n",
    "num2 = eval(input(\"enter val of num2 :\"))\n",
    "num3 = eval(input(\"enter val of num3 :\"))\n",
    "if num1 > num2 and num1 > num3:\n",
    "    print(\"n1 is the max val\")\n",
    "elif num2 > num1 and num2 > num3:\n",
    "    print(\"n2 is the max val\")\n",
    "if num1 > num2 and num1 > num3:\n",
    "    print(\"n1 is the max val\")"
   ]
  }
 ],
 "metadata": {
  "kernelspec": {
   "display_name": "Python 3 (ipykernel)",
   "language": "python",
   "name": "python3"
  },
  "language_info": {
   "codemirror_mode": {
    "name": "ipython",
    "version": 3
   },
   "file_extension": ".py",
   "mimetype": "text/x-python",
   "name": "python",
   "nbconvert_exporter": "python",
   "pygments_lexer": "ipython3",
   "version": "3.11.4"
  }
 },
 "nbformat": 4,
 "nbformat_minor": 5
}
