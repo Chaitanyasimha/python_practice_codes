{
 "cells": [
  {
   "cell_type": "markdown",
   "id": "89901f5b-775e-41f9-9ac1-738a7c2d19ca",
   "metadata": {},
   "source": [
    "# Hare Krishna"
   ]
  },
  {
   "cell_type": "code",
   "execution_count": 1,
   "id": "e76dfcd1-8e73-4742-9f2c-8b200fedbdf2",
   "metadata": {},
   "outputs": [],
   "source": [
    "#\"making the code with what ever minimal have been taught thats a talent to be recogonized huh...\""
   ]
  },
  {
   "cell_type": "code",
   "execution_count": 2,
   "id": "341ff5ae-4a84-4c9a-a802-87e6341ce4d9",
   "metadata": {},
   "outputs": [],
   "source": [
    "#by experience we will scan through the descriptions easily and analyze quickly how to write the code."
   ]
  },
  {
   "cell_type": "code",
   "execution_count": 3,
   "id": "a77298f7-da1a-4e03-901a-9e1152af70c4",
   "metadata": {},
   "outputs": [],
   "source": [
    "#omkar sir recoment hacker ran"
   ]
  },
  {
   "cell_type": "code",
   "execution_count": 4,
   "id": "a950a3ee-bd69-42e9-8887-9498dfcc2f70",
   "metadata": {},
   "outputs": [],
   "source": [
    "#when ever i don't understand the logic i have to repeat it again and execute the same question in many ways\n",
    "#and make it have the right output without seeing the code do th eexecution second time."
   ]
  },
  {
   "cell_type": "markdown",
   "id": "067ed373-99d9-4608-951d-57b0d3051164",
   "metadata": {},
   "source": [
    "### solve the process and result will fix it self,solve the result without addresing the process \"that result is just temporary\""
   ]
  },
  {
   "cell_type": "code",
   "execution_count": null,
   "id": "5166ebcc-6211-422b-a61f-0af1e915402c",
   "metadata": {},
   "outputs": [],
   "source": []
  }
 ],
 "metadata": {
  "kernelspec": {
   "display_name": "Python 3 (ipykernel)",
   "language": "python",
   "name": "python3"
  },
  "language_info": {
   "codemirror_mode": {
    "name": "ipython",
    "version": 3
   },
   "file_extension": ".py",
   "mimetype": "text/x-python",
   "name": "python",
   "nbconvert_exporter": "python",
   "pygments_lexer": "ipython3",
   "version": "3.11.4"
  }
 },
 "nbformat": 4,
 "nbformat_minor": 5
}
