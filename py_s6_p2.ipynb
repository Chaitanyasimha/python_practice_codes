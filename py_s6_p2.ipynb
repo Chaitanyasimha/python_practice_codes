{
 "cells": [
  {
   "cell_type": "code",
   "execution_count": 7,
   "id": "954d9311-5d4a-4b2c-b5b7-0d51f5257ab9",
   "metadata": {},
   "outputs": [
    {
     "name": "stdout",
     "output_type": "stream",
     "text": [
      "hi papa\n",
      "yo kidoo\n",
      "do we have the party today\n"
     ]
    }
   ],
   "source": [
    "#using the time.sleep we can simulate a coversation using print statements better\n",
    "import time\n",
    "print(\"hi papa\")\n",
    "time.sleep(2)\n",
    "print(\"yo kidoo\")\n",
    "time.sleep(2)\n",
    "print(\"do we have the party today\")"
   ]
  },
  {
   "cell_type": "code",
   "execution_count": 8,
   "id": "06438a6b-5597-442e-955c-40f9d9c10fc3",
   "metadata": {},
   "outputs": [
    {
     "data": {
      "text/plain": [
       "<module 'numpy' from 'C:\\\\Users\\\\chait\\\\AppData\\\\Local\\\\Programs\\\\Python\\\\Python311\\\\Lib\\\\site-packages\\\\numpy\\\\__init__.py'>"
      ]
     },
     "execution_count": 8,
     "metadata": {},
     "output_type": "execute_result"
    }
   ],
   "source": [
    "import numpy\n",
    "numpy"
   ]
  },
  {
   "cell_type": "code",
   "execution_count": 6,
   "id": "6cbaa062-ca19-435e-985c-4e4db40c40bc",
   "metadata": {},
   "outputs": [
    {
     "name": "stdout",
     "output_type": "stream",
     "text": [
      "30\n"
     ]
    }
   ],
   "source": [
    "# \"hard coding\" is wher we fix the values\n",
    "a=10\n",
    "b=20\n",
    "print(a+b)"
   ]
  },
  {
   "cell_type": "code",
   "execution_count": 10,
   "id": "19c12ac5-b092-48d7-848f-ed648dd98d9e",
   "metadata": {},
   "outputs": [
    {
     "name": "stdin",
     "output_type": "stream",
     "text": [
      "num : 2\n",
      "num : 3\n"
     ]
    },
    {
     "name": "stdout",
     "output_type": "stream",
     "text": [
      "5\n"
     ]
    }
   ],
   "source": [
    "#\"soft coding\" (0r) \"dynamic coding\" how we are giving the giving random inputs each time and are flexible\n",
    "\"\"\"\n",
    "three ways of coding :\n",
    "        1.hard coding,\n",
    "        2.keyword coding,\n",
    "        3.using Random keywords :taking numbers randomly\n",
    "\"\"\"\n",
    "import random\n",
    "a=eval(input(\"num :\"))\n",
    "b=eval(input(\"num :\"))\n",
    "print(a+b)"
   ]
  },
  {
   "cell_type": "code",
   "execution_count": 12,
   "id": "3e23f89a-0bd3-486e-93ba-2589e5932c96",
   "metadata": {},
   "outputs": [
    {
     "name": "stdout",
     "output_type": "stream",
     "text": [
      "154\n",
      "51.33\n"
     ]
    }
   ],
   "source": [
    "a=random.randint(0,100)\n",
    "b=random.randint(0,100)\n",
    "c=random.randint(0,100)\n",
    "print(a+b+c)\n",
    "avg = (a+b+c)/3\n",
    "round(avg)\n",
    "#we can also write like\n",
    "avg = round((a+b+c)/3,2) #direcly use the round keyword while calculating\n",
    "print(avg)"
   ]
  },
  {
   "cell_type": "code",
   "execution_count": 13,
   "id": "12d8b0e8-59a9-4e58-aaec-65494cd0b648",
   "metadata": {},
   "outputs": [
    {
     "data": {
      "text/plain": [
       "51.33"
      ]
     },
     "execution_count": 13,
     "metadata": {},
     "output_type": "execute_result"
    }
   ],
   "source": [
    "round(avg,4)#we can give how many digits we want after the decimal point"
   ]
  },
  {
   "cell_type": "markdown",
   "id": "7339b75b-1353-4703-8453-a55da1bf19e1",
   "metadata": {},
   "source": [
    "## assignment 2 is same questions but has to use the random,and time.sleep for the last question,use round keyword anytime we will deal with floats"
   ]
  },
  {
   "cell_type": "markdown",
   "id": "a7698730-c029-4544-9ca9-523e72264386",
   "metadata": {},
   "source": [
    "## its a rule to import all the packages at the start of the file"
   ]
  },
  {
   "cell_type": "code",
   "execution_count": null,
   "id": "27f0f52a-5e59-4b05-a906-454429ccfe01",
   "metadata": {},
   "outputs": [],
   "source": []
  }
 ],
 "metadata": {
  "kernelspec": {
   "display_name": "Python 3 (ipykernel)",
   "language": "python",
   "name": "python3"
  },
  "language_info": {
   "codemirror_mode": {
    "name": "ipython",
    "version": 3
   },
   "file_extension": ".py",
   "mimetype": "text/x-python",
   "name": "python",
   "nbconvert_exporter": "python",
   "pygments_lexer": "ipython3",
   "version": "3.11.4"
  }
 },
 "nbformat": 4,
 "nbformat_minor": 5
}
