{
 "cells": [
  {
   "cell_type": "code",
   "execution_count": 17,
   "id": "d1174f50-b859-40e2-8bf2-942613a7c83b",
   "metadata": {},
   "outputs": [
    {
     "name": "stdin",
     "output_type": "stream",
     "text": [
      " 2 3 4 4\n"
     ]
    },
    {
     "name": "stdout",
     "output_type": "stream",
     "text": [
      "[2, 3, 4, 4]\n",
      "2\n"
     ]
    }
   ],
   "source": [
    "n1 = input(\"\")\n",
    "A = []\n",
    "s_p = n1.split()\n",
    "for i in range (len(s_p)):\n",
    "    A.append(int(s_p[i]))\n",
    "    \n",
    "A.sort()\n",
    "print(A)\n",
    "#maxu = max(A)previouslused this block out of the loop so the taking the max num only happened once and caused some logic issue in while loop\n",
    "A.remove(max(A))\n",
    "position_find = 3\n",
    "for i in range (1,position_find):# i have included the \"-1\" in this code for loop takes the start argument automatically 0 and prints 0 1 2 3\n",
    "    maxu = max(A)\n",
    "    while max(A) == maxu:## please make sure that you keep doubt in every posible block of code\n",
    "        A.remove(max(A))\n",
    "print(max(A)) \n"
   ]
  },
  {
   "cell_type": "markdown",
   "id": "3ebc3253-554b-4279-8141-bf31b4f05b9c",
   "metadata": {},
   "source": [
    "- here in this code we can found out what ever is the 2nd max or 3rd max or any position of max in a list\n",
    "- i can also make a little difference in the code for position find with taking input from the console"
   ]
  },
  {
   "cell_type": "code",
   "execution_count": null,
   "id": "307d70d4-f80c-48e5-be10-ef5d7cbe1d73",
   "metadata": {},
   "outputs": [],
   "source": []
  }
 ],
 "metadata": {
  "kernelspec": {
   "display_name": "Python 3 (ipykernel)",
   "language": "python",
   "name": "python3"
  },
  "language_info": {
   "codemirror_mode": {
    "name": "ipython",
    "version": 3
   },
   "file_extension": ".py",
   "mimetype": "text/x-python",
   "name": "python",
   "nbconvert_exporter": "python",
   "pygments_lexer": "ipython3",
   "version": "3.11.4"
  }
 },
 "nbformat": 4,
 "nbformat_minor": 5
}
