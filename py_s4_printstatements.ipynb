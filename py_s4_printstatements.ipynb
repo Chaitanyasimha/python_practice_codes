{
 "cells": [
  {
   "cell_type": "markdown",
   "id": "5ea831af-6663-4f3f-8549-840fd1459122",
   "metadata": {},
   "source": [
    "- the code or the the values in the print statement are not saved they are just printed..."
   ]
  },
  {
   "cell_type": "markdown",
   "id": "fecc6686-069d-410c-b833-d2e09cd92699",
   "metadata": {},
   "source": [
    "**format method in print statements**"
   ]
  },
  {
   "cell_type": "code",
   "execution_count": 9,
   "id": "924b929d-d576-43bb-a528-4d42320392c1",
   "metadata": {},
   "outputs": [
    {
     "name": "stdout",
     "output_type": "stream",
     "text": [
      "dheeraj and karthik are brothers of simha\n"
     ]
    }
   ],
   "source": [
    "a='simha'\n",
    "b='dheeraj'\n",
    "c='karthik'\n",
    "print(\"{} and {} are brothers of {}\".format(b,c,a));"
   ]
  },
  {
   "cell_type": "markdown",
   "id": "cf1bee5f-521a-406a-92c4-006601748b5c",
   "metadata": {},
   "source": [
    "**f strings usage**"
   ]
  },
  {
   "cell_type": "code",
   "execution_count": 11,
   "id": "019b7de0-f40e-42f3-bc60-932f5a030c12",
   "metadata": {},
   "outputs": [
    {
     "name": "stdout",
     "output_type": "stream",
     "text": [
      "simha,dheeraj are brothers of karthik\n"
     ]
    }
   ],
   "source": [
    "print(f\"{a},{b} are brothers of {c}\")"
   ]
  },
  {
   "cell_type": "code",
   "execution_count": null,
   "id": "83e74331-bbe2-40c8-8216-eed34b54e9da",
   "metadata": {},
   "outputs": [],
   "source": []
  }
 ],
 "metadata": {
  "kernelspec": {
   "display_name": "Python 3 (ipykernel)",
   "language": "python",
   "name": "python3"
  },
  "language_info": {
   "codemirror_mode": {
    "name": "ipython",
    "version": 3
   },
   "file_extension": ".py",
   "mimetype": "text/x-python",
   "name": "python",
   "nbconvert_exporter": "python",
   "pygments_lexer": "ipython3",
   "version": "3.11.4"
  }
 },
 "nbformat": 4,
 "nbformat_minor": 5
}
