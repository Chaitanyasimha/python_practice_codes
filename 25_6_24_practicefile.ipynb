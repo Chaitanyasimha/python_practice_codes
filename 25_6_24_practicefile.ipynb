{
 "cells": [
  {
   "cell_type": "markdown",
   "id": "bfa5512e-8c60-47f5-b0f2-e529d1538c8d",
   "metadata": {},
   "source": [
    "## Hare krishna"
   ]
  },
  {
   "cell_type": "markdown",
   "id": "f0fdfd77-6491-45cb-bf70-ff6bf7e7dd34",
   "metadata": {},
   "source": [
    "### 3rd is time package"
   ]
  },
  {
   "cell_type": "code",
   "execution_count": 3,
   "id": "d92ec22d-ffca-4321-9261-85280623cdc1",
   "metadata": {},
   "outputs": [],
   "source": [
    "import time"
   ]
  },
  {
   "cell_type": "code",
   "execution_count": 4,
   "id": "7e957d36-1dba-4f51-aa23-7c249cb76bae",
   "metadata": {},
   "outputs": [
    {
     "data": {
      "text/plain": [
       "['_STRUCT_TM_ITEMS',\n",
       " '__doc__',\n",
       " '__loader__',\n",
       " '__name__',\n",
       " '__package__',\n",
       " '__spec__',\n",
       " 'altzone',\n",
       " 'asctime',\n",
       " 'ctime',\n",
       " 'daylight',\n",
       " 'get_clock_info',\n",
       " 'gmtime',\n",
       " 'localtime',\n",
       " 'mktime',\n",
       " 'monotonic',\n",
       " 'monotonic_ns',\n",
       " 'perf_counter',\n",
       " 'perf_counter_ns',\n",
       " 'process_time',\n",
       " 'process_time_ns',\n",
       " 'sleep',\n",
       " 'strftime',\n",
       " 'strptime',\n",
       " 'struct_time',\n",
       " 'thread_time',\n",
       " 'thread_time_ns',\n",
       " 'time',\n",
       " 'time_ns',\n",
       " 'timezone',\n",
       " 'tzname']"
      ]
     },
     "execution_count": 4,
     "metadata": {},
     "output_type": "execute_result"
    }
   ],
   "source": [
    "dir(time)"
   ]
  },
  {
   "cell_type": "markdown",
   "id": "7875e205-ae83-4098-9557-1c1156d695cc",
   "metadata": {},
   "source": [
    "### I choose 9 of em to practice :timezone, altzone, asctime, ctime, daylight, get_clock_info, localtime, perf_counter, tzname"
   ]
  },
  {
   "cell_type": "code",
   "execution_count": 6,
   "id": "4194e8b3-ea77-462f-9c65-849e84ae405b",
   "metadata": {},
   "outputs": [
    {
     "data": {
      "text/plain": [
       "-19800"
      ]
     },
     "execution_count": 6,
     "metadata": {},
     "output_type": "execute_result"
    }
   ],
   "source": [
    "time.timezone"
   ]
  },
  {
   "cell_type": "code",
   "execution_count": 7,
   "id": "23ac0716-9051-4334-b883-284995ffefbe",
   "metadata": {},
   "outputs": [
    {
     "ename": "TypeError",
     "evalue": "'int' object is not callable",
     "output_type": "error",
     "traceback": [
      "\u001b[1;31m---------------------------------------------------------------------------\u001b[0m",
      "\u001b[1;31mTypeError\u001b[0m                                 Traceback (most recent call last)",
      "Cell \u001b[1;32mIn[7], line 1\u001b[0m\n\u001b[1;32m----> 1\u001b[0m \u001b[43mtime\u001b[49m\u001b[38;5;241;43m.\u001b[39;49m\u001b[43mtimezone\u001b[49m\u001b[43m(\u001b[49m\u001b[43m)\u001b[49m\n",
      "\u001b[1;31mTypeError\u001b[0m: 'int' object is not callable"
     ]
    }
   ],
   "source": [
    "time.timezone()"
   ]
  },
  {
   "cell_type": "markdown",
   "id": "ec9c7e73-7c36-4e61-9a32-b4bf330945ba",
   "metadata": {},
   "source": [
    "### properties of timezone\n",
    "- its a instance and it shows the timezone as numerical num "
   ]
  },
  {
   "cell_type": "code",
   "execution_count": 9,
   "id": "d4fd7c50-e534-488d-8c38-c9a3bb5e22ba",
   "metadata": {},
   "outputs": [
    {
     "data": {
      "text/plain": [
       "-23400"
      ]
     },
     "execution_count": 9,
     "metadata": {},
     "output_type": "execute_result"
    }
   ],
   "source": [
    "time.altzone"
   ]
  },
  {
   "cell_type": "code",
   "execution_count": 10,
   "id": "395d8f5d-394d-41ee-a423-9791ff538242",
   "metadata": {},
   "outputs": [
    {
     "ename": "TypeError",
     "evalue": "'int' object is not callable",
     "output_type": "error",
     "traceback": [
      "\u001b[1;31m---------------------------------------------------------------------------\u001b[0m",
      "\u001b[1;31mTypeError\u001b[0m                                 Traceback (most recent call last)",
      "Cell \u001b[1;32mIn[10], line 1\u001b[0m\n\u001b[1;32m----> 1\u001b[0m \u001b[43mtime\u001b[49m\u001b[38;5;241;43m.\u001b[39;49m\u001b[43maltzone\u001b[49m\u001b[43m(\u001b[49m\u001b[43m)\u001b[49m\n",
      "\u001b[1;31mTypeError\u001b[0m: 'int' object is not callable"
     ]
    }
   ],
   "source": [
    "time.altzone()"
   ]
  },
  {
   "cell_type": "markdown",
   "id": "96982f44-60f1-4bf8-808b-53931f64259f",
   "metadata": {},
   "source": [
    "### properties of altzone\n",
    "- its a instance and it shows the altzone as numerical num "
   ]
  },
  {
   "cell_type": "code",
   "execution_count": 12,
   "id": "2fde59af-e1da-410f-81b9-b7856753624a",
   "metadata": {},
   "outputs": [
    {
     "data": {
      "text/plain": [
       "<function time.asctime>"
      ]
     },
     "execution_count": 12,
     "metadata": {},
     "output_type": "execute_result"
    }
   ],
   "source": [
    "time.asctime"
   ]
  },
  {
   "cell_type": "code",
   "execution_count": 13,
   "id": "7be48ff4-5720-4544-b752-ba2312ebee75",
   "metadata": {},
   "outputs": [
    {
     "data": {
      "text/plain": [
       "'Tue Jun 25 10:40:42 2024'"
      ]
     },
     "execution_count": 13,
     "metadata": {},
     "output_type": "execute_result"
    }
   ],
   "source": [
    "time.asctime()"
   ]
  },
  {
   "cell_type": "markdown",
   "id": "04305aec-f04e-4cfe-9b90-044ac3050c2f",
   "metadata": {},
   "source": [
    "### properties of asctime\n",
    "- its a callible function but does not take any arguments\n",
    "- returns the present time, date, day, year.  "
   ]
  },
  {
   "cell_type": "code",
   "execution_count": 14,
   "id": "7dae6388-428d-436b-bb36-2631f634990a",
   "metadata": {},
   "outputs": [
    {
     "data": {
      "text/plain": [
       "<function time.ctime>"
      ]
     },
     "execution_count": 14,
     "metadata": {},
     "output_type": "execute_result"
    }
   ],
   "source": [
    "time.ctime"
   ]
  },
  {
   "cell_type": "code",
   "execution_count": 17,
   "id": "efb9296f-7430-4c1a-a482-0fb32c0a3338",
   "metadata": {},
   "outputs": [
    {
     "data": {
      "text/plain": [
       "'Tue Jun 25 10:55:26 2024'"
      ]
     },
     "execution_count": 17,
     "metadata": {},
     "output_type": "execute_result"
    }
   ],
   "source": [
    "time.ctime()"
   ]
  },
  {
   "cell_type": "code",
   "execution_count": 20,
   "id": "38e798ad-bf50-4cc2-ba2a-e3e6ca5d6057",
   "metadata": {},
   "outputs": [
    {
     "data": {
      "text/plain": [
       "'Thu Jan  1 05:30:04 1970'"
      ]
     },
     "execution_count": 20,
     "metadata": {},
     "output_type": "execute_result"
    }
   ],
   "source": [
    "time.ctime(4)"
   ]
  },
  {
   "cell_type": "code",
   "execution_count": 19,
   "id": "163ae0f6-9494-4c1b-85af-5ccf03eab642",
   "metadata": {},
   "outputs": [
    {
     "data": {
      "text/plain": [
       "'Fri Jan  1 05:30:00 2021'"
      ]
     },
     "execution_count": 19,
     "metadata": {},
     "output_type": "execute_result"
    }
   ],
   "source": [
    "time.ctime(1609459200 )"
   ]
  },
  {
   "cell_type": "markdown",
   "id": "3d4ee1c1-2dd9-450b-b221-f1180166d46a",
   "metadata": {},
   "source": [
    "### properties of ctime\n",
    "- its a callible method\n",
    "- if we pass no arguments it will print the current time\n",
    "- if we a pass a random number into it, it will take the number as seconds and adds it to the standard time January 1, 1970, 00:00:00 UTC\n",
    "- but if we give some seconds formats it will convert it into human redeable format\n",
    "- seconds to time format.... "
   ]
  },
  {
   "cell_type": "code",
   "execution_count": 21,
   "id": "f55c5a3e-98a2-4b9f-8d9f-eb941956f977",
   "metadata": {},
   "outputs": [
    {
     "data": {
      "text/plain": [
       "0"
      ]
     },
     "execution_count": 21,
     "metadata": {},
     "output_type": "execute_result"
    }
   ],
   "source": [
    "time.daylight"
   ]
  },
  {
   "cell_type": "code",
   "execution_count": 22,
   "id": "f4c5189f-c479-481a-945b-3b2ee4f6e906",
   "metadata": {},
   "outputs": [
    {
     "ename": "TypeError",
     "evalue": "'int' object is not callable",
     "output_type": "error",
     "traceback": [
      "\u001b[1;31m---------------------------------------------------------------------------\u001b[0m",
      "\u001b[1;31mTypeError\u001b[0m                                 Traceback (most recent call last)",
      "Cell \u001b[1;32mIn[22], line 1\u001b[0m\n\u001b[1;32m----> 1\u001b[0m \u001b[43mtime\u001b[49m\u001b[38;5;241;43m.\u001b[39;49m\u001b[43mdaylight\u001b[49m\u001b[43m(\u001b[49m\u001b[43m)\u001b[49m\n",
      "\u001b[1;31mTypeError\u001b[0m: 'int' object is not callable"
     ]
    }
   ],
   "source": [
    "time.daylight()"
   ]
  },
  {
   "cell_type": "markdown",
   "id": "8ff98cf5-e737-4204-9f94-c2fb4743a0a1",
   "metadata": {},
   "source": [
    "### properties of daylight\n",
    "- its not callible\n",
    "- it returns 0 "
   ]
  },
  {
   "cell_type": "code",
   "execution_count": 23,
   "id": "8e5382fb-6c52-4a8d-b021-aa9c7c20f16c",
   "metadata": {},
   "outputs": [
    {
     "data": {
      "text/plain": [
       "<function time.get_clock_info>"
      ]
     },
     "execution_count": 23,
     "metadata": {},
     "output_type": "execute_result"
    }
   ],
   "source": [
    "time.get_clock_info"
   ]
  },
  {
   "cell_type": "code",
   "execution_count": 24,
   "id": "16367e61-4595-4e3c-af86-6fd9eae024f8",
   "metadata": {},
   "outputs": [
    {
     "ename": "TypeError",
     "evalue": "get_clock_info() takes exactly 1 argument (0 given)",
     "output_type": "error",
     "traceback": [
      "\u001b[1;31m---------------------------------------------------------------------------\u001b[0m",
      "\u001b[1;31mTypeError\u001b[0m                                 Traceback (most recent call last)",
      "Cell \u001b[1;32mIn[24], line 1\u001b[0m\n\u001b[1;32m----> 1\u001b[0m \u001b[43mtime\u001b[49m\u001b[38;5;241;43m.\u001b[39;49m\u001b[43mget_clock_info\u001b[49m\u001b[43m(\u001b[49m\u001b[43m)\u001b[49m\n",
      "\u001b[1;31mTypeError\u001b[0m: get_clock_info() takes exactly 1 argument (0 given)"
     ]
    }
   ],
   "source": [
    "time.get_clock_info()"
   ]
  },
  {
   "cell_type": "code",
   "execution_count": 27,
   "id": "aa6614ed-f59f-4725-970c-01bd1c6d4d7d",
   "metadata": {},
   "outputs": [
    {
     "data": {
      "text/plain": [
       "namespace(implementation='GetTickCount64()',\n",
       "          monotonic=True,\n",
       "          adjustable=False,\n",
       "          resolution=0.015625)"
      ]
     },
     "execution_count": 27,
     "metadata": {},
     "output_type": "execute_result"
    }
   ],
   "source": [
    "time.get_clock_info('monotonic')"
   ]
  },
  {
   "cell_type": "markdown",
   "id": "d94d06fa-15b2-4d59-83d4-c64a6a937d89",
   "metadata": {},
   "source": [
    "### properties of get_clock_info\n",
    "- it takes exactly one argument and it has to be a string\n",
    "- we have to give the clock name as a string to get the output\n",
    "- it shows the info of different clocks types in python"
   ]
  },
  {
   "cell_type": "code",
   "execution_count": 28,
   "id": "572e62cc-de5a-4ba5-a994-bca9f6353a22",
   "metadata": {},
   "outputs": [
    {
     "data": {
      "text/plain": [
       "('India Standard Time', 'India Daylight Time')"
      ]
     },
     "execution_count": 28,
     "metadata": {},
     "output_type": "execute_result"
    }
   ],
   "source": [
    "time.tzname"
   ]
  },
  {
   "cell_type": "code",
   "execution_count": 29,
   "id": "dd00a703-2224-43c9-bd6a-9f8f733377ff",
   "metadata": {},
   "outputs": [
    {
     "ename": "TypeError",
     "evalue": "'tuple' object is not callable",
     "output_type": "error",
     "traceback": [
      "\u001b[1;31m---------------------------------------------------------------------------\u001b[0m",
      "\u001b[1;31mTypeError\u001b[0m                                 Traceback (most recent call last)",
      "Cell \u001b[1;32mIn[29], line 1\u001b[0m\n\u001b[1;32m----> 1\u001b[0m \u001b[43mtime\u001b[49m\u001b[38;5;241;43m.\u001b[39;49m\u001b[43mtzname\u001b[49m\u001b[43m(\u001b[49m\u001b[43m)\u001b[49m\n",
      "\u001b[1;31mTypeError\u001b[0m: 'tuple' object is not callable"
     ]
    }
   ],
   "source": [
    "time.tzname()"
   ]
  },
  {
   "cell_type": "markdown",
   "id": "6545c3aa-a000-4559-a1d7-259e6117dafb",
   "metadata": {},
   "source": [
    "### properties of tzname\n",
    "- it not a callable\n",
    "- it gives the name of the timezone we are in"
   ]
  },
  {
   "cell_type": "code",
   "execution_count": null,
   "id": "b0e50da1-5369-44d7-8168-d56960e1002e",
   "metadata": {},
   "outputs": [],
   "source": []
  }
 ],
 "metadata": {
  "kernelspec": {
   "display_name": "Python 3 (ipykernel)",
   "language": "python",
   "name": "python3"
  },
  "language_info": {
   "codemirror_mode": {
    "name": "ipython",
    "version": 3
   },
   "file_extension": ".py",
   "mimetype": "text/x-python",
   "name": "python",
   "nbconvert_exporter": "python",
   "pygments_lexer": "ipython3",
   "version": "3.11.4"
  }
 },
 "nbformat": 4,
 "nbformat_minor": 5
}
