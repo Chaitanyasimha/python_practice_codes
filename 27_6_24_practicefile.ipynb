{
 "cells": [
  {
   "cell_type": "code",
   "execution_count": 25,
   "id": "8fcab056-bdb7-4217-8d0f-7aa005c7741b",
   "metadata": {},
   "outputs": [
    {
     "name": "stdin",
     "output_type": "stream",
     "text": [
      " 1\n",
      " 1\n",
      " 1\n",
      " 2\n"
     ]
    },
    {
     "name": "stdout",
     "output_type": "stream",
     "text": [
      "[[0, 0, 0], [0, 0, 1], [0, 1, 0], [1, 0, 0], [1, 1, 1]]\n"
     ]
    }
   ],
   "source": [
    "x = int(input())\n",
    "y = int(input())\n",
    "z = int(input())\n",
    "n = int(input())\n",
    "l1 = [i for i in range (x+1)]\n",
    "l2 = [j for j in range (y+1)]\n",
    "l3 = [k for k in range (z+1)]\n",
    "wanted_lists=[[i,j,k]for i in l1 for j in l2 for k in l3 if(i+j+k != n)]\n",
    "print(wanted_lists)"
   ]
  },
  {
   "cell_type": "markdown",
   "id": "5fc25e37-f18b-48ef-87a6-f4cf8a068b80",
   "metadata": {},
   "source": [
    "### mistakes that you did \n",
    "- you forget to keep () for the range and insert the value in x input\n",
    "- you have to enter at least one inputing to the list comprehension\n",
    "- ex: \"for i in range x\"  ok you gave the loop perfect but you never gave the values theat you want to enter in the list\n",
    "- \"i for i in range (x)\" see the second one you gave i values to be entered to the list\n",
    "- the list comprehensions never take the , only direct command statements any loop functions of conditional statements are acceptrable\n",
    "- if you want to insert more values in a single time like list of lists **ex: l1 =  [[1,2,3],[2,3,4]...]** you can use this representation in the list coprehensions **[(i,j,k)for i in l1 for j in l2 for k in k2 if(i+j+k =! n)]**\n"
   ]
  },
  {
   "cell_type": "code",
   "execution_count": null,
   "id": "c13eef19-b17c-48a4-b14b-8c0eb7f04d50",
   "metadata": {},
   "outputs": [],
   "source": [
    "def is_vowel(letter):\n",
    "    return letter in ['a', 'e', 'i', 'o', 'u', 'y']\n",
    "\n",
    "def score_words(words):\n",
    "    score = 0\n",
    "    for word in words:\n",
    "        num_vowels = 0\n",
    "        word.split()#here it eill split but when you print it does not seem split because it not cut into indivilal elements of a list\n",
    "        for letter in word:\n",
    "            if is_vowel(letter):\n",
    "                num_vowels += 1\n",
    "        if num_vowels % 2 == 0:\n",
    "            score += 2\n",
    "        else:\n",
    "            ++score\n",
    "    return score\n",
    "\n",
    "\n",
    "n = int(input())\n",
    "words = input().split()\n",
    "print(score_words(words))"
   ]
  },
  {
   "cell_type": "code",
   "execution_count": 1,
   "id": "2f0c6a66-f261-45e7-a080-aea95190e86c",
   "metadata": {},
   "outputs": [],
   "source": [
    "#the thing that wrong and error in that code was it was pre increment be wanted the post increment\n",
    "#it does not throw error because it was not syntax error and post increment is not possible in the python only in loops it is possible\n",
    "#if we didn't knew the concept i would have seaarched for the bug all day long that \n",
    "#it has nothing wrong in the code but why is not working properly"
   ]
  },
  {
   "cell_type": "markdown",
   "id": "66f30b8e-94e4-4d49-9466-b58a12f1bbe2",
   "metadata": {},
   "source": [
    "- when debuging code look out for the code which is not syntax error \n",
    "- because it may have the **logic incorrect in the code somewhere #check for it**"
   ]
  },
  {
   "cell_type": "markdown",
   "id": "eaf76d31-1e93-4fe5-a8e2-9efecbf9e1b4",
   "metadata": {},
   "source": [
    "- python allows us to write the for loops than other language which will so useful.\n",
    "- instead of \"for (i = 0,i<j,i++)\".\n",
    "- python we just have to give like this \"for i in range(0, j, 1): \" in this code (0,j) is enough because default increment is 1."
   ]
  },
  {
   "cell_type": "code",
   "execution_count": null,
   "id": "cfcd0f32-a7eb-435b-bb75-0430d3d1242a",
   "metadata": {},
   "outputs": [],
   "source": []
  }
 ],
 "metadata": {
  "kernelspec": {
   "display_name": "Python 3 (ipykernel)",
   "language": "python",
   "name": "python3"
  },
  "language_info": {
   "codemirror_mode": {
    "name": "ipython",
    "version": 3
   },
   "file_extension": ".py",
   "mimetype": "text/x-python",
   "name": "python",
   "nbconvert_exporter": "python",
   "pygments_lexer": "ipython3",
   "version": "3.11.4"
  }
 },
 "nbformat": 4,
 "nbformat_minor": 5
}
