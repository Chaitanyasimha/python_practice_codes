{
 "cells": [
  {
   "cell_type": "code",
   "execution_count": 9,
   "id": "cbbf8e63-009d-4af3-911f-d5b21d72b8aa",
   "metadata": {},
   "outputs": [
    {
     "data": {
      "text/plain": [
       "1500"
      ]
     },
     "execution_count": 9,
     "metadata": {},
     "output_type": "execute_result"
    }
   ],
   "source": [
    "num1 = 1000 \n",
    "num2 = 2000\n",
    "avg = (num1+num2)/2\n",
    "int(average)"
   ]
  },
  {
   "cell_type": "code",
   "execution_count": 10,
   "id": "a5c4bf56-0153-4c25-a866-676e22cdbf5d",
   "metadata": {},
   "outputs": [
    {
     "name": "stdout",
     "output_type": "stream",
     "text": [
      "the avg of 1000 and 2000 is 1500.0 \n"
     ]
    }
   ],
   "source": [
    "print(f\"the avg of {num1} and {num2} is {avg} \")"
   ]
  },
  {
   "cell_type": "markdown",
   "id": "9c5d7246-f391-4194-9b82-e0cc170a92c6",
   "metadata": {},
   "source": [
    "### mistakes in using formattiong\n",
    "- format spelling\n",
    "- bracketas are not providing\n",
    "-"
   ]
  },
  {
   "cell_type": "code",
   "execution_count": 12,
   "id": "b5738cf7-b596-4c24-a164-83cf015a6c47",
   "metadata": {},
   "outputs": [],
   "source": [
    "# take the radius of circle\n",
    "# take the pi value : 3.14\n",
    "# find area of circle : pi*r*r"
   ]
  },
  {
   "cell_type": "code",
   "execution_count": 15,
   "id": "2796a3ef-5739-4acd-9006-12fb76e4af9d",
   "metadata": {},
   "outputs": [
    {
     "data": {
      "text/plain": [
       "78.5"
      ]
     },
     "execution_count": 15,
     "metadata": {},
     "output_type": "execute_result"
    }
   ],
   "source": [
    "pi = 3.14\n",
    "r = 5\n",
    "rad  = pi*r*r\n",
    "rad"
   ]
  },
  {
   "cell_type": "code",
   "execution_count": 16,
   "id": "a4c65616-ec46-408b-980f-5f8cdf4c4852",
   "metadata": {},
   "outputs": [],
   "source": [
    "#area,triangle = 1/2*base*height"
   ]
  },
  {
   "cell_type": "code",
   "execution_count": 19,
   "id": "26011637-d019-4059-9293-8ea32ad73350",
   "metadata": {},
   "outputs": [
    {
     "name": "stdout",
     "output_type": "stream",
     "text": [
      "Area of triangle is 2156\n"
     ]
    }
   ],
   "source": [
    "b = 56\n",
    "h = 77\n",
    "area = 1/2*a*h\n",
    "print(f\"Area of triangle is {int(area)}\")"
   ]
  },
  {
   "cell_type": "code",
   "execution_count": 20,
   "id": "e4752797-000b-44ed-88d1-1b10f3539323",
   "metadata": {},
   "outputs": [],
   "source": [
    "#for using the user inputs from the console use **input**"
   ]
  },
  {
   "cell_type": "code",
   "execution_count": 21,
   "id": "c7a24f14-4e1d-42a1-ba2e-5f1d483a29ca",
   "metadata": {},
   "outputs": [
    {
     "name": "stdin",
     "output_type": "stream",
     "text": [
      "enter i: 99\n"
     ]
    }
   ],
   "source": [
    "i = input(\"enter i:\")"
   ]
  },
  {
   "cell_type": "code",
   "execution_count": 23,
   "id": "98f3ace9-c070-45e4-b9f1-f8e2db7e5270",
   "metadata": {},
   "outputs": [],
   "source": [
    "#take the bill amount : 1000\n",
    "#take the tiip percentage  = 10\n",
    "#calcullate tip amount\n",
    "#calculate the total bill\n",
    "#print the total bill"
   ]
  },
  {
   "cell_type": "code",
   "execution_count": 29,
   "id": "5ba06dee-1549-4f52-926a-822dac450e89",
   "metadata": {},
   "outputs": [
    {
     "name": "stdout",
     "output_type": "stream",
     "text": [
      "100\n",
      "1100\n"
     ]
    }
   ],
   "source": [
    "bill = 1000\n",
    "tip_p = 10\n",
    "tip_amount = 1000*10/100\n",
    "print(int(tip_amount))\n",
    "t_bill = tip_amount + bill\n",
    "print(int(t_bill))"
   ]
  },
  {
   "cell_type": "code",
   "execution_count": 32,
   "id": "d658b120-2214-4e2d-a1be-35ff009b5a6b",
   "metadata": {},
   "outputs": [
    {
     "name": "stdout",
     "output_type": "stream",
     "text": [
      "100 200\n",
      "40,56&77\n"
     ]
    }
   ],
   "source": [
    "#using \"\"end\"\" to remove the gap or combining two print statements in 1\n",
    "print(100,end = \" \")\n",
    "print(200)\n",
    "print(40,end = \",\")\n",
    "print(56,end = \"&\")\n",
    "print(77)"
   ]
  },
  {
   "cell_type": "code",
   "execution_count": null,
   "id": "ed1ef488-1b67-4f08-b310-e83583c5a228",
   "metadata": {},
   "outputs": [],
   "source": []
  }
 ],
 "metadata": {
  "kernelspec": {
   "display_name": "Python 3 (ipykernel)",
   "language": "python",
   "name": "python3"
  },
  "language_info": {
   "codemirror_mode": {
    "name": "ipython",
    "version": 3
   },
   "file_extension": ".py",
   "mimetype": "text/x-python",
   "name": "python",
   "nbconvert_exporter": "python",
   "pygments_lexer": "ipython3",
   "version": "3.11.4"
  }
 },
 "nbformat": 4,
 "nbformat_minor": 5
}
