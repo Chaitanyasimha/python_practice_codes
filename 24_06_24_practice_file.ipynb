{
 "cells": [
  {
   "cell_type": "markdown",
   "id": "96671369-4fc1-4784-8b22-013b7b9122ed",
   "metadata": {},
   "source": [
    "# hare krishna"
   ]
  },
  {
   "cell_type": "markdown",
   "id": "dd18f5e9-a8f3-4724-8e48-1b5b67b34c45",
   "metadata": {},
   "source": [
    "# \"learning about some pacakges using python not youtube or others\"  "
   ]
  },
  {
   "cell_type": "markdown",
   "id": "634c8b68-06ac-49cc-96e7-a1e30255e4ea",
   "metadata": {},
   "source": [
    "## 1st \"random\" package"
   ]
  },
  {
   "cell_type": "code",
   "execution_count": 1,
   "id": "091148d3-9d35-47c0-83a4-5bd50d34ccdd",
   "metadata": {},
   "outputs": [],
   "source": [
    "import random"
   ]
  },
  {
   "cell_type": "code",
   "execution_count": 2,
   "id": "de851325-42a0-454e-932e-b84f10acf3fd",
   "metadata": {},
   "outputs": [
    {
     "data": {
      "text/plain": [
       "['BPF',\n",
       " 'LOG4',\n",
       " 'NV_MAGICCONST',\n",
       " 'RECIP_BPF',\n",
       " 'Random',\n",
       " 'SG_MAGICCONST',\n",
       " 'SystemRandom',\n",
       " 'TWOPI',\n",
       " '_ONE',\n",
       " '_Sequence',\n",
       " '_Set',\n",
       " '__all__',\n",
       " '__builtins__',\n",
       " '__cached__',\n",
       " '__doc__',\n",
       " '__file__',\n",
       " '__loader__',\n",
       " '__name__',\n",
       " '__package__',\n",
       " '__spec__',\n",
       " '_accumulate',\n",
       " '_acos',\n",
       " '_bisect',\n",
       " '_ceil',\n",
       " '_cos',\n",
       " '_e',\n",
       " '_exp',\n",
       " '_floor',\n",
       " '_index',\n",
       " '_inst',\n",
       " '_isfinite',\n",
       " '_log',\n",
       " '_os',\n",
       " '_pi',\n",
       " '_random',\n",
       " '_repeat',\n",
       " '_sha512',\n",
       " '_sin',\n",
       " '_sqrt',\n",
       " '_test',\n",
       " '_test_generator',\n",
       " '_urandom',\n",
       " '_warn',\n",
       " 'betavariate',\n",
       " 'choice',\n",
       " 'choices',\n",
       " 'expovariate',\n",
       " 'gammavariate',\n",
       " 'gauss',\n",
       " 'getrandbits',\n",
       " 'getstate',\n",
       " 'lognormvariate',\n",
       " 'normalvariate',\n",
       " 'paretovariate',\n",
       " 'randbytes',\n",
       " 'randint',\n",
       " 'random',\n",
       " 'randrange',\n",
       " 'sample',\n",
       " 'seed',\n",
       " 'setstate',\n",
       " 'shuffle',\n",
       " 'triangular',\n",
       " 'uniform',\n",
       " 'vonmisesvariate',\n",
       " 'weibullvariate']"
      ]
     },
     "execution_count": 2,
     "metadata": {},
     "output_type": "execute_result"
    }
   ],
   "source": [
    "dir(random)"
   ]
  },
  {
   "cell_type": "markdown",
   "id": "48336157-d314-4338-bfaa-2d5ccc91ae01",
   "metadata": {
    "jp-MarkdownHeadingCollapsed": true
   },
   "source": [
    "### I choose 9 of em to practice :random, shuffle, SG_MAGICCONST, randrange, randint, randbytes, choice, gauss, uniform"
   ]
  },
  {
   "cell_type": "markdown",
   "id": "cbd777eb-0a2a-4326-a124-4daa5110c9e5",
   "metadata": {},
   "source": [
    "### make your own errors and know why it came in the first place"
   ]
  },
  {
   "cell_type": "markdown",
   "id": "7646912b-efba-4213-aa9f-38d037f4d87c",
   "metadata": {},
   "source": [
    "- values in a package like **math.pi** are called **instance** in python\n",
    "- def_function : i is an operation stored in a variable creted using define keyword\n",
    "- def_method : its a operation that we use using a package and will be created using the class **keyword**\n",
    "- def_keyword : a keyword is a reserved word that has a special meaning and purpose in the language's syntax,these cannot be used as identifiers\n",
    "- def_identifiers : identifiers are just the names that we provide to variables,function,modules and others to use them using that name we have given"
   ]
  },
  {
   "cell_type": "markdown",
   "id": "8217aef2-434e-4e30-be9b-4cb02acf6f1d",
   "metadata": {},
   "source": [
    "### you have to write the properties and the rules for that method in the last if ther are any for that method\n",
    "### the python in the jupyter will forget the before code so we have to re execute the wanted block of code (or) the run button in the top dashboard"
   ]
  },
  {
   "cell_type": "code",
   "execution_count": 31,
   "id": "bba7e2da-d85e-4698-8638-37861b280f49",
   "metadata": {},
   "outputs": [
    {
     "data": {
      "text/plain": [
       "0.33652584775445293"
      ]
     },
     "execution_count": 31,
     "metadata": {},
     "output_type": "execute_result"
    }
   ],
   "source": [
    "random.random()"
   ]
  },
  {
   "cell_type": "code",
   "execution_count": 6,
   "id": "7e267d38-3752-4267-8134-315ab428db51",
   "metadata": {},
   "outputs": [
    {
     "data": {
      "text/plain": [
       "<random.Random at 0x1a83c38e400>"
      ]
     },
     "execution_count": 6,
     "metadata": {},
     "output_type": "execute_result"
    }
   ],
   "source": [
    "random.Random()"
   ]
  },
  {
   "cell_type": "code",
   "execution_count": 7,
   "id": "b1158fea-f7fe-46ca-813c-2c72779b9678",
   "metadata": {},
   "outputs": [],
   "source": [
    "#this error is because of using the wrong spelling its\"random\" not \"Random\""
   ]
  },
  {
   "cell_type": "code",
   "execution_count": 8,
   "id": "8fefde35-88d6-40df-98b5-e338bc8f960c",
   "metadata": {},
   "outputs": [
    {
     "data": {
      "text/plain": [
       "<function Random.random()>"
      ]
     },
     "execution_count": 8,
     "metadata": {},
     "output_type": "execute_result"
    }
   ],
   "source": [
    "random.random"
   ]
  },
  {
   "cell_type": "code",
   "execution_count": 9,
   "id": "5a215d5d-c2e1-4b9e-9091-7f42e4e357b9",
   "metadata": {},
   "outputs": [],
   "source": [
    "#its cause of no brackets."
   ]
  },
  {
   "cell_type": "code",
   "execution_count": 21,
   "id": "d73db103-74aa-42e5-a7f5-194447e159a3",
   "metadata": {},
   "outputs": [
    {
     "ename": "TypeError",
     "evalue": "Random.random() takes no arguments (1 given)",
     "output_type": "error",
     "traceback": [
      "\u001b[1;31m---------------------------------------------------------------------------\u001b[0m",
      "\u001b[1;31mTypeError\u001b[0m                                 Traceback (most recent call last)",
      "Cell \u001b[1;32mIn[21], line 1\u001b[0m\n\u001b[1;32m----> 1\u001b[0m \u001b[43mrandom\u001b[49m\u001b[38;5;241;43m.\u001b[39;49m\u001b[43mrandom\u001b[49m\u001b[43m(\u001b[49m\u001b[38;5;241;43m67\u001b[39;49m\u001b[43m)\u001b[49m\n",
      "\u001b[1;31mTypeError\u001b[0m: Random.random() takes no arguments (1 given)"
     ]
    }
   ],
   "source": [
    "random.random(67)"
   ]
  },
  {
   "cell_type": "code",
   "execution_count": 33,
   "id": "bacff538-6296-4278-be01-b9b02419b180",
   "metadata": {},
   "outputs": [],
   "source": [
    "#cause it take no arguments in it"
   ]
  },
  {
   "cell_type": "markdown",
   "id": "8c649a05-90d6-4b85-bbab-70d37670bd9a",
   "metadata": {},
   "source": [
    "### properties of random\n",
    "- it only gives the output between o and 1\n",
    "- it does not take any value or range as an argument"
   ]
  },
  {
   "cell_type": "code",
   "execution_count": 10,
   "id": "29b2808c-a488-4954-b467-3a09f6e49ae2",
   "metadata": {},
   "outputs": [
    {
     "ename": "TypeError",
     "evalue": "'float' object is not callable",
     "output_type": "error",
     "traceback": [
      "\u001b[1;31m---------------------------------------------------------------------------\u001b[0m",
      "\u001b[1;31mTypeError\u001b[0m                                 Traceback (most recent call last)",
      "Cell \u001b[1;32mIn[10], line 1\u001b[0m\n\u001b[1;32m----> 1\u001b[0m \u001b[43mrandom\u001b[49m\u001b[38;5;241;43m.\u001b[39;49m\u001b[43mSG_MAGICCONST\u001b[49m\u001b[43m(\u001b[49m\u001b[43m)\u001b[49m\n",
      "\u001b[1;31mTypeError\u001b[0m: 'float' object is not callable"
     ]
    }
   ],
   "source": [
    "random.SG_MAGICCONST()"
   ]
  },
  {
   "cell_type": "code",
   "execution_count": 11,
   "id": "f7fdffc1-04e7-4ff5-be1b-0db43b4ef1ba",
   "metadata": {},
   "outputs": [],
   "source": [
    "#cause of its a value not a method"
   ]
  },
  {
   "cell_type": "markdown",
   "id": "c4a0db27-e945-4084-b642-f98755bc3f22",
   "metadata": {},
   "source": [
    "### there are two types of fuctions they are\n",
    "-        type 1:the different operations that you create are called the functions \n",
    "-        type 2:Functions in Python are reusable blocks of code that perform a specific task, defined using the `def` keyword."
   ]
  },
  {
   "cell_type": "code",
   "execution_count": 25,
   "id": "1da106a2-f479-4868-8e9d-01bd79e71cae",
   "metadata": {},
   "outputs": [
    {
     "data": {
      "text/plain": [
       "2.504077396776274"
      ]
     },
     "execution_count": 25,
     "metadata": {},
     "output_type": "execute_result"
    }
   ],
   "source": [
    "random.SG_MAGICCONST"
   ]
  },
  {
   "cell_type": "code",
   "execution_count": 15,
   "id": "640fe437-6a67-442e-be67-e59ceab81b40",
   "metadata": {},
   "outputs": [
    {
     "ename": "AttributeError",
     "evalue": "module 'random' has no attribute 'sG_MAGICCONST'",
     "output_type": "error",
     "traceback": [
      "\u001b[1;31m---------------------------------------------------------------------------\u001b[0m",
      "\u001b[1;31mAttributeError\u001b[0m                            Traceback (most recent call last)",
      "Cell \u001b[1;32mIn[15], line 1\u001b[0m\n\u001b[1;32m----> 1\u001b[0m \u001b[43mrandom\u001b[49m\u001b[38;5;241;43m.\u001b[39;49m\u001b[43msG_MAGICCONST\u001b[49m\n",
      "\u001b[1;31mAttributeError\u001b[0m: module 'random' has no attribute 'sG_MAGICCONST'"
     ]
    }
   ],
   "source": [
    "random.sG_MAGICCONST"
   ]
  },
  {
   "cell_type": "code",
   "execution_count": 16,
   "id": "8fd087f7-3ce8-4906-b77e-5cff1e908ba4",
   "metadata": {},
   "outputs": [],
   "source": [
    "#cause there is no such method in that package,maybe you have done some spelling mistake"
   ]
  },
  {
   "cell_type": "code",
   "execution_count": 17,
   "id": "925b722d-10ce-4be1-b464-260cacd3e96b",
   "metadata": {},
   "outputs": [
    {
     "data": {
      "text/plain": [
       "<bound method Random.randrange of <random.Random object at 0x000001A839250A70>>"
      ]
     },
     "execution_count": 17,
     "metadata": {},
     "output_type": "execute_result"
    }
   ],
   "source": [
    "random.randrange"
   ]
  },
  {
   "cell_type": "code",
   "execution_count": 18,
   "id": "a007198a-9929-42d9-ba70-57ad564d0ead",
   "metadata": {},
   "outputs": [
    {
     "ename": "TypeError",
     "evalue": "Random.randrange() missing 1 required positional argument: 'start'",
     "output_type": "error",
     "traceback": [
      "\u001b[1;31m---------------------------------------------------------------------------\u001b[0m",
      "\u001b[1;31mTypeError\u001b[0m                                 Traceback (most recent call last)",
      "Cell \u001b[1;32mIn[18], line 1\u001b[0m\n\u001b[1;32m----> 1\u001b[0m \u001b[43mrandom\u001b[49m\u001b[38;5;241;43m.\u001b[39;49m\u001b[43mrandrange\u001b[49m\u001b[43m(\u001b[49m\u001b[43m)\u001b[49m\n",
      "\u001b[1;31mTypeError\u001b[0m: Random.randrange() missing 1 required positional argument: 'start'"
     ]
    }
   ],
   "source": [
    "random.randrange()"
   ]
  },
  {
   "cell_type": "code",
   "execution_count": 20,
   "id": "68cc1dd8-e43d-4465-ba48-03a2cdb1f6f4",
   "metadata": {},
   "outputs": [],
   "source": [
    "#cause its showing there is no start nor end nor step\n",
    "#at least we have to provide the \"end\" means which number we want the ending in that range"
   ]
  },
  {
   "cell_type": "code",
   "execution_count": 24,
   "id": "b9b1dc32-1830-4d78-9d9e-4a9ca3dcd774",
   "metadata": {},
   "outputs": [
    {
     "data": {
      "text/plain": [
       "9"
      ]
     },
     "execution_count": 24,
     "metadata": {},
     "output_type": "execute_result"
    }
   ],
   "source": [
    "random.randrange(10)#in randrange we can use range but with \"random\" method we can't "
   ]
  },
  {
   "cell_type": "code",
   "execution_count": 40,
   "id": "614d5ab3-5f8f-47c2-b92e-6fc9e5d085c6",
   "metadata": {},
   "outputs": [
    {
     "ename": "ValueError",
     "evalue": "empty range for randrange()",
     "output_type": "error",
     "traceback": [
      "\u001b[1;31m---------------------------------------------------------------------------\u001b[0m",
      "\u001b[1;31mValueError\u001b[0m                                Traceback (most recent call last)",
      "Cell \u001b[1;32mIn[40], line 1\u001b[0m\n\u001b[1;32m----> 1\u001b[0m \u001b[43mrandom\u001b[49m\u001b[38;5;241;43m.\u001b[39;49m\u001b[43mrandrange\u001b[49m\u001b[43m(\u001b[49m\u001b[38;5;241;43m-\u001b[39;49m\u001b[38;5;241;43m77\u001b[39;49m\u001b[43m)\u001b[49m\n",
      "File \u001b[1;32m~\\AppData\\Local\\Programs\\Python\\Python311\\Lib\\random.py:313\u001b[0m, in \u001b[0;36mRandom.randrange\u001b[1;34m(self, start, stop, step)\u001b[0m\n\u001b[0;32m    311\u001b[0m     \u001b[38;5;28;01mif\u001b[39;00m istart \u001b[38;5;241m>\u001b[39m \u001b[38;5;241m0\u001b[39m:\n\u001b[0;32m    312\u001b[0m         \u001b[38;5;28;01mreturn\u001b[39;00m \u001b[38;5;28mself\u001b[39m\u001b[38;5;241m.\u001b[39m_randbelow(istart)\n\u001b[1;32m--> 313\u001b[0m     \u001b[38;5;28;01mraise\u001b[39;00m \u001b[38;5;167;01mValueError\u001b[39;00m(\u001b[38;5;124m\"\u001b[39m\u001b[38;5;124mempty range for randrange()\u001b[39m\u001b[38;5;124m\"\u001b[39m)\n\u001b[0;32m    315\u001b[0m \u001b[38;5;66;03m# stop argument supplied.\u001b[39;00m\n\u001b[0;32m    316\u001b[0m \u001b[38;5;28;01mtry\u001b[39;00m:\n",
      "\u001b[1;31mValueError\u001b[0m: empty range for randrange()"
     ]
    }
   ],
   "source": [
    "random.randrange(-77)"
   ]
  },
  {
   "cell_type": "code",
   "execution_count": 41,
   "id": "49abdae6-18b5-47c2-809f-c7c327a8289d",
   "metadata": {},
   "outputs": [],
   "source": [
    "#cause it not in range randrange will not take nagatives"
   ]
  },
  {
   "cell_type": "code",
   "execution_count": 50,
   "id": "b0e066f6-5705-4e9e-aa8e-a2d60b247d07",
   "metadata": {},
   "outputs": [
    {
     "data": {
      "text/plain": [
       "-43"
      ]
     },
     "execution_count": 50,
     "metadata": {},
     "output_type": "execute_result"
    }
   ],
   "source": [
    "random.randrange(-55,2,2)"
   ]
  },
  {
   "cell_type": "markdown",
   "id": "ab93d52b-98d1-410f-8727-85e92276c32a",
   "metadata": {},
   "source": [
    "## properties of randrange :\n",
    "- it does take values as argument\n",
    "- if we give one value it will assume its the max range end and gives random values before it\n",
    "- the range start from zero to value provided but does not take negatives as value in the argument if you just give one argument value\n",
    "- it takes nagitive range but only with 2 or 3 arguments\n",
    "- can have the step to use step to randomize"
   ]
  },
  {
   "cell_type": "code",
   "execution_count": 42,
   "id": "feb6c5fa-a914-48b9-8005-601b52c536c6",
   "metadata": {},
   "outputs": [
    {
     "data": {
      "text/plain": [
       "<bound method Random.randint of <random.Random object at 0x000001A839250A70>>"
      ]
     },
     "execution_count": 42,
     "metadata": {},
     "output_type": "execute_result"
    }
   ],
   "source": [
    "random.randint"
   ]
  },
  {
   "cell_type": "code",
   "execution_count": 43,
   "id": "3314a0ea-fb27-4b2b-8ca3-2c9822b362cf",
   "metadata": {},
   "outputs": [
    {
     "ename": "TypeError",
     "evalue": "Random.randint() missing 2 required positional arguments: 'a' and 'b'",
     "output_type": "error",
     "traceback": [
      "\u001b[1;31m---------------------------------------------------------------------------\u001b[0m",
      "\u001b[1;31mTypeError\u001b[0m                                 Traceback (most recent call last)",
      "Cell \u001b[1;32mIn[43], line 1\u001b[0m\n\u001b[1;32m----> 1\u001b[0m \u001b[43mrandom\u001b[49m\u001b[38;5;241;43m.\u001b[39;49m\u001b[43mrandint\u001b[49m\u001b[43m(\u001b[49m\u001b[43m)\u001b[49m\n",
      "\u001b[1;31mTypeError\u001b[0m: Random.randint() missing 2 required positional arguments: 'a' and 'b'"
     ]
    }
   ],
   "source": [
    "random.randint()"
   ]
  },
  {
   "cell_type": "code",
   "execution_count": null,
   "id": "a2041315-fc66-419d-8d50-2f9fa307b83a",
   "metadata": {},
   "outputs": [],
   "source": [
    "#cause you gave no argument but it defintly require 2 arguments no less than that"
   ]
  },
  {
   "cell_type": "code",
   "execution_count": 44,
   "id": "1bf6670f-eeab-4e04-917e-c39e4d24883d",
   "metadata": {},
   "outputs": [
    {
     "ename": "TypeError",
     "evalue": "Random.randint() missing 1 required positional argument: 'b'",
     "output_type": "error",
     "traceback": [
      "\u001b[1;31m---------------------------------------------------------------------------\u001b[0m",
      "\u001b[1;31mTypeError\u001b[0m                                 Traceback (most recent call last)",
      "Cell \u001b[1;32mIn[44], line 1\u001b[0m\n\u001b[1;32m----> 1\u001b[0m \u001b[43mrandom\u001b[49m\u001b[38;5;241;43m.\u001b[39;49m\u001b[43mrandint\u001b[49m\u001b[43m(\u001b[49m\u001b[38;5;241;43m3\u001b[39;49m\u001b[43m)\u001b[49m\n",
      "\u001b[1;31mTypeError\u001b[0m: Random.randint() missing 1 required positional argument: 'b'"
     ]
    }
   ],
   "source": [
    "random.randint(3)"
   ]
  },
  {
   "cell_type": "code",
   "execution_count": 45,
   "id": "77a7f3dc-361c-479f-9565-47de9fa352ca",
   "metadata": {},
   "outputs": [],
   "source": [
    "#you only gave 1"
   ]
  },
  {
   "cell_type": "code",
   "execution_count": 46,
   "id": "f725381f-f3b6-43fc-a02d-f9b304b6f47e",
   "metadata": {},
   "outputs": [
    {
     "data": {
      "text/plain": [
       "-46"
      ]
     },
     "execution_count": 46,
     "metadata": {},
     "output_type": "execute_result"
    }
   ],
   "source": [
    "random.randint(-55,55)"
   ]
  },
  {
   "cell_type": "code",
   "execution_count": 51,
   "id": "2df0a0c7-e92d-49c6-b231-27ae0d26ba50",
   "metadata": {},
   "outputs": [
    {
     "ename": "TypeError",
     "evalue": "Random.randint() takes 3 positional arguments but 4 were given",
     "output_type": "error",
     "traceback": [
      "\u001b[1;31m---------------------------------------------------------------------------\u001b[0m",
      "\u001b[1;31mTypeError\u001b[0m                                 Traceback (most recent call last)",
      "Cell \u001b[1;32mIn[51], line 1\u001b[0m\n\u001b[1;32m----> 1\u001b[0m \u001b[43mrandom\u001b[49m\u001b[38;5;241;43m.\u001b[39;49m\u001b[43mrandint\u001b[49m\u001b[43m(\u001b[49m\u001b[38;5;241;43m-\u001b[39;49m\u001b[38;5;241;43m88\u001b[39;49m\u001b[43m,\u001b[49m\u001b[38;5;241;43m88\u001b[39;49m\u001b[43m,\u001b[49m\u001b[38;5;241;43m2\u001b[39;49m\u001b[43m)\u001b[49m\n",
      "\u001b[1;31mTypeError\u001b[0m: Random.randint() takes 3 positional arguments but 4 were given"
     ]
    }
   ],
   "source": [
    "random.randint(-88,88,2)"
   ]
  },
  {
   "cell_type": "code",
   "execution_count": null,
   "id": "d238d334-0d5b-4366-a8bc-60ebec794859",
   "metadata": {},
   "outputs": [],
   "source": [
    "#it cant take step function  "
   ]
  },
  {
   "cell_type": "markdown",
   "id": "26d717e2-82f7-48ad-a338-e0a06424ea3b",
   "metadata": {},
   "source": [
    "### properties of rand int\n",
    "- it can take -ve values as the range\n",
    "- you have to definetly give two arguments no less or nore than that\n",
    "- it cannot take the step function to randomize"
   ]
  },
  {
   "cell_type": "code",
   "execution_count": 52,
   "id": "3986564a-5d86-46e1-a3d5-60d6a691d274",
   "metadata": {},
   "outputs": [
    {
     "ename": "AttributeError",
     "evalue": "module 'random' has no attribute 'suffle'",
     "output_type": "error",
     "traceback": [
      "\u001b[1;31m---------------------------------------------------------------------------\u001b[0m",
      "\u001b[1;31mAttributeError\u001b[0m                            Traceback (most recent call last)",
      "Cell \u001b[1;32mIn[52], line 1\u001b[0m\n\u001b[1;32m----> 1\u001b[0m \u001b[43mrandom\u001b[49m\u001b[38;5;241;43m.\u001b[39;49m\u001b[43msuffle\u001b[49m()\n",
      "\u001b[1;31mAttributeError\u001b[0m: module 'random' has no attribute 'suffle'"
     ]
    }
   ],
   "source": [
    "random.suffle()"
   ]
  },
  {
   "cell_type": "code",
   "execution_count": 53,
   "id": "8fc9ae7b-b130-454a-a796-99fe738944d0",
   "metadata": {},
   "outputs": [
    {
     "ename": "TypeError",
     "evalue": "Random.shuffle() missing 1 required positional argument: 'x'",
     "output_type": "error",
     "traceback": [
      "\u001b[1;31m---------------------------------------------------------------------------\u001b[0m",
      "\u001b[1;31mTypeError\u001b[0m                                 Traceback (most recent call last)",
      "Cell \u001b[1;32mIn[53], line 1\u001b[0m\n\u001b[1;32m----> 1\u001b[0m \u001b[43mrandom\u001b[49m\u001b[38;5;241;43m.\u001b[39;49m\u001b[43mshuffle\u001b[49m\u001b[43m(\u001b[49m\u001b[43m)\u001b[49m\n",
      "\u001b[1;31mTypeError\u001b[0m: Random.shuffle() missing 1 required positional argument: 'x'"
     ]
    }
   ],
   "source": [
    "random.shuffle()"
   ]
  },
  {
   "cell_type": "code",
   "execution_count": 54,
   "id": "a6cae49f-752a-4eff-97f9-d473e83fe144",
   "metadata": {},
   "outputs": [],
   "source": [
    "#requires exactly 1 argument"
   ]
  },
  {
   "cell_type": "code",
   "execution_count": 11,
   "id": "e46642bc-344b-4628-a0a5-12a20e99bd88",
   "metadata": {},
   "outputs": [
    {
     "name": "stdout",
     "output_type": "stream",
     "text": [
      "None\n"
     ]
    }
   ],
   "source": [
    "list_of_nums = [1,2,3,4,5,6,7,8,9]\n",
    "print(random.shuffle(list_of_nums))"
   ]
  },
  {
   "cell_type": "code",
   "execution_count": null,
   "id": "d855a692-ba8d-4291-9195-453837245778",
   "metadata": {},
   "outputs": [],
   "source": [
    "#cause it does not alter the list directly nor it create a new list"
   ]
  },
  {
   "cell_type": "code",
   "execution_count": 60,
   "id": "1815b056-8906-4331-b98d-60edfbe7a2f9",
   "metadata": {},
   "outputs": [
    {
     "name": "stdout",
     "output_type": "stream",
     "text": [
      "None\n"
     ]
    }
   ],
   "source": [
    "randomized_list = random.shuffle(list_of_nums)\n",
    "print(randomized_list)"
   ]
  },
  {
   "cell_type": "code",
   "execution_count": null,
   "id": "600825b8-bf2a-45c8-bc96-a288c73cd373",
   "metadata": {},
   "outputs": [],
   "source": [
    "#even if you assign the shuffle method of a list to any other variable it will give the \"none\" as output"
   ]
  },
  {
   "cell_type": "code",
   "execution_count": 59,
   "id": "de4db0ee-aee9-4e03-a252-bba4d507ca84",
   "metadata": {},
   "outputs": [
    {
     "data": {
      "text/plain": [
       "[2, 8, 3, 7, 6, 9, 1, 5, 4]"
      ]
     },
     "execution_count": 59,
     "metadata": {},
     "output_type": "execute_result"
    }
   ],
   "source": [
    "list_of_nums"
   ]
  },
  {
   "cell_type": "markdown",
   "id": "a45ca078-feb2-45c7-9166-69ec5a025470",
   "metadata": {},
   "source": [
    "### properties of list\n",
    "- it will only shuffules a list nothing else\n",
    "- it will not alter the list directly nor it create a new list\n",
    "- it just returns none as output\n",
    "- but try to print the list you used for shuffling and you will see the randomized_list"
   ]
  },
  {
   "cell_type": "code",
   "execution_count": 67,
   "id": "df2798c5-23d5-4298-8ea3-5d7693a6d130",
   "metadata": {},
   "outputs": [
    {
     "data": {
      "text/plain": [
       "<bound method Random.randbytes of <random.Random object at 0x000001A839250A70>>"
      ]
     },
     "execution_count": 67,
     "metadata": {},
     "output_type": "execute_result"
    }
   ],
   "source": [
    "random.randbytes"
   ]
  },
  {
   "cell_type": "code",
   "execution_count": 68,
   "id": "0f85f63b-a543-4287-977a-657d311a3bbc",
   "metadata": {},
   "outputs": [
    {
     "ename": "TypeError",
     "evalue": "Random.randbytes() missing 1 required positional argument: 'n'",
     "output_type": "error",
     "traceback": [
      "\u001b[1;31m---------------------------------------------------------------------------\u001b[0m",
      "\u001b[1;31mTypeError\u001b[0m                                 Traceback (most recent call last)",
      "Cell \u001b[1;32mIn[68], line 1\u001b[0m\n\u001b[1;32m----> 1\u001b[0m \u001b[43mrandom\u001b[49m\u001b[38;5;241;43m.\u001b[39;49m\u001b[43mrandbytes\u001b[49m\u001b[43m(\u001b[49m\u001b[43m)\u001b[49m\n",
      "\u001b[1;31mTypeError\u001b[0m: Random.randbytes() missing 1 required positional argument: 'n'"
     ]
    }
   ],
   "source": [
    "random.randbytes()"
   ]
  },
  {
   "cell_type": "code",
   "execution_count": 80,
   "id": "00789cf9-dd92-4d2b-bfa6-b33a843b7ce6",
   "metadata": {},
   "outputs": [
    {
     "data": {
      "text/plain": [
       "b'\\xa1m\\xcb\\xc5\\xcd\\x999U\\xac.\\xca'"
      ]
     },
     "execution_count": 80,
     "metadata": {},
     "output_type": "execute_result"
    }
   ],
   "source": [
    "random.randbytes(11)"
   ]
  },
  {
   "cell_type": "markdown",
   "id": "ecb41e62-543d-4f49-8e54-62e9fdb3b809",
   "metadata": {},
   "source": [
    "### properties of randbytes \n",
    "- it will take exaactly one argument\n",
    "- and gives n random bytes for the n number given as the argument"
   ]
  },
  {
   "cell_type": "code",
   "execution_count": 82,
   "id": "02e445e7-c6ef-4592-805a-67ebc3d510cf",
   "metadata": {},
   "outputs": [
    {
     "data": {
      "text/plain": [
       "<function _sha512.sha512(string=b'', *, usedforsecurity=True)>"
      ]
     },
     "execution_count": 82,
     "metadata": {},
     "output_type": "execute_result"
    }
   ],
   "source": [
    "random._sha512"
   ]
  },
  {
   "cell_type": "code",
   "execution_count": 83,
   "id": "807ab5b7-c974-4845-8a3b-df76aa6bd444",
   "metadata": {},
   "outputs": [
    {
     "data": {
      "text/plain": [
       "<_sha512.sha512 at 0x1a83f8d8b80>"
      ]
     },
     "execution_count": 83,
     "metadata": {},
     "output_type": "execute_result"
    }
   ],
   "source": [
    "random._sha512()"
   ]
  },
  {
   "cell_type": "code",
   "execution_count": 85,
   "id": "88e5a384-9e5a-47a1-a719-5e42d9c2c91c",
   "metadata": {},
   "outputs": [],
   "source": [
    "#<_sha512.sha512 at 0x1a83f8d8b80> is Python's default representation of the sha_instance object."
   ]
  },
  {
   "cell_type": "code",
   "execution_count": 84,
   "id": "ac85af1f-2d59-49d1-9cfc-f22df07b38f4",
   "metadata": {},
   "outputs": [
    {
     "ename": "TypeError",
     "evalue": "object supporting the buffer API required",
     "output_type": "error",
     "traceback": [
      "\u001b[1;31m---------------------------------------------------------------------------\u001b[0m",
      "\u001b[1;31mTypeError\u001b[0m                                 Traceback (most recent call last)",
      "Cell \u001b[1;32mIn[84], line 1\u001b[0m\n\u001b[1;32m----> 1\u001b[0m \u001b[43mrandom\u001b[49m\u001b[38;5;241;43m.\u001b[39;49m\u001b[43m_sha512\u001b[49m\u001b[43m(\u001b[49m\u001b[38;5;241;43m77\u001b[39;49m\u001b[43m)\u001b[49m\n",
      "\u001b[1;31mTypeError\u001b[0m: object supporting the buffer API required"
     ]
    }
   ],
   "source": [
    "random._sha512(77)"
   ]
  },
  {
   "cell_type": "code",
   "execution_count": 86,
   "id": "21f4373c-54c0-41de-80cc-11204f91adfb",
   "metadata": {},
   "outputs": [],
   "source": [
    "#stop the hell up\n",
    "#you are not ready to do a encrytion algorith method with out using any object or any data to updaate the _sha512 method"
   ]
  },
  {
   "cell_type": "code",
   "execution_count": 5,
   "id": "0d503641-4eb9-4d47-9a40-fcdd1ec5aaa1",
   "metadata": {},
   "outputs": [
    {
     "data": {
      "text/plain": [
       "<bound method Random.choice of <random.Random object at 0x000001AA201F2510>>"
      ]
     },
     "execution_count": 5,
     "metadata": {},
     "output_type": "execute_result"
    }
   ],
   "source": [
    "random.choice"
   ]
  },
  {
   "cell_type": "code",
   "execution_count": 6,
   "id": "44586547-a87b-4236-a87e-4c1ab5cca1ff",
   "metadata": {},
   "outputs": [
    {
     "ename": "TypeError",
     "evalue": "Random.choice() missing 1 required positional argument: 'seq'",
     "output_type": "error",
     "traceback": [
      "\u001b[1;31m---------------------------------------------------------------------------\u001b[0m",
      "\u001b[1;31mTypeError\u001b[0m                                 Traceback (most recent call last)",
      "Cell \u001b[1;32mIn[6], line 1\u001b[0m\n\u001b[1;32m----> 1\u001b[0m \u001b[43mrandom\u001b[49m\u001b[38;5;241;43m.\u001b[39;49m\u001b[43mchoice\u001b[49m\u001b[43m(\u001b[49m\u001b[43m)\u001b[49m\n",
      "\u001b[1;31mTypeError\u001b[0m: Random.choice() missing 1 required positional argument: 'seq'"
     ]
    }
   ],
   "source": [
    "random.choice()"
   ]
  },
  {
   "cell_type": "code",
   "execution_count": 17,
   "id": "19f3a50f-b16c-4004-a75f-aee5d9eff12f",
   "metadata": {},
   "outputs": [
    {
     "data": {
      "text/plain": [
       "'rav'"
      ]
     },
     "execution_count": 17,
     "metadata": {},
     "output_type": "execute_result"
    }
   ],
   "source": [
    "random.choice([1,2,3,4,5,6,7,8,\"rav\",\"0\"])"
   ]
  },
  {
   "cell_type": "code",
   "execution_count": 12,
   "id": "ce6901cb-62d5-4ffe-9bc0-cf6e103d7602",
   "metadata": {},
   "outputs": [
    {
     "data": {
      "text/plain": [
       "8"
      ]
     },
     "execution_count": 12,
     "metadata": {},
     "output_type": "execute_result"
    }
   ],
   "source": [
    "random.choice(list_of_nums)"
   ]
  },
  {
   "cell_type": "markdown",
   "id": "d892bdbc-935e-4838-9be4-43204ddda053",
   "metadata": {},
   "source": [
    "### properties of choice\n",
    "- it will give a random element in a list or a tuple as the result\n",
    "- it will not return null\n",
    "- it can take the variable name of the list as the atribute\n",
    "- instead you can use others"
   ]
  },
  {
   "cell_type": "code",
   "execution_count": 18,
   "id": "91bb5959-71ac-40b8-b39e-7600f293e26c",
   "metadata": {},
   "outputs": [
    {
     "data": {
      "text/plain": [
       "<function random._test_generator(n, func, args)>"
      ]
     },
     "execution_count": 18,
     "metadata": {},
     "output_type": "execute_result"
    }
   ],
   "source": [
    "random._test_generator"
   ]
  },
  {
   "cell_type": "code",
   "execution_count": 22,
   "id": "a75b42d7-23e0-4394-acf9-7ceb33cbcf1d",
   "metadata": {},
   "outputs": [
    {
     "ename": "TypeError",
     "evalue": "85 argument after * must be an iterable, not int",
     "output_type": "error",
     "traceback": [
      "\u001b[1;31m---------------------------------------------------------------------------\u001b[0m",
      "\u001b[1;31mTypeError\u001b[0m                                 Traceback (most recent call last)",
      "Cell \u001b[1;32mIn[22], line 1\u001b[0m\n\u001b[1;32m----> 1\u001b[0m \u001b[43mrandom\u001b[49m\u001b[38;5;241;43m.\u001b[39;49m\u001b[43m_test_generator\u001b[49m\u001b[43m(\u001b[49m\u001b[38;5;241;43m6\u001b[39;49m\u001b[43m,\u001b[49m\u001b[38;5;241;43m85\u001b[39;49m\u001b[43m,\u001b[49m\u001b[38;5;241;43m7\u001b[39;49m\u001b[43m)\u001b[49m\n",
      "File \u001b[1;32m~\\AppData\\Local\\Programs\\Python\\Python311\\Lib\\random.py:865\u001b[0m, in \u001b[0;36m_test_generator\u001b[1;34m(n, func, args)\u001b[0m\n\u001b[0;32m    862\u001b[0m \u001b[38;5;28;01mfrom\u001b[39;00m \u001b[38;5;21;01mtime\u001b[39;00m \u001b[38;5;28;01mimport\u001b[39;00m perf_counter\n\u001b[0;32m    864\u001b[0m t0 \u001b[38;5;241m=\u001b[39m perf_counter()\n\u001b[1;32m--> 865\u001b[0m data \u001b[38;5;241m=\u001b[39m \u001b[43m[\u001b[49m\u001b[43mfunc\u001b[49m\u001b[43m(\u001b[49m\u001b[38;5;241;43m*\u001b[39;49m\u001b[43margs\u001b[49m\u001b[43m)\u001b[49m\u001b[43m \u001b[49m\u001b[38;5;28;43;01mfor\u001b[39;49;00m\u001b[43m \u001b[49m\u001b[43mi\u001b[49m\u001b[43m \u001b[49m\u001b[38;5;129;43;01min\u001b[39;49;00m\u001b[43m \u001b[49m\u001b[43m_repeat\u001b[49m\u001b[43m(\u001b[49m\u001b[38;5;28;43;01mNone\u001b[39;49;00m\u001b[43m,\u001b[49m\u001b[43m \u001b[49m\u001b[43mn\u001b[49m\u001b[43m)\u001b[49m\u001b[43m]\u001b[49m\n\u001b[0;32m    866\u001b[0m t1 \u001b[38;5;241m=\u001b[39m perf_counter()\n\u001b[0;32m    868\u001b[0m xbar \u001b[38;5;241m=\u001b[39m mean(data)\n",
      "File \u001b[1;32m~\\AppData\\Local\\Programs\\Python\\Python311\\Lib\\random.py:865\u001b[0m, in \u001b[0;36m<listcomp>\u001b[1;34m(.0)\u001b[0m\n\u001b[0;32m    862\u001b[0m \u001b[38;5;28;01mfrom\u001b[39;00m \u001b[38;5;21;01mtime\u001b[39;00m \u001b[38;5;28;01mimport\u001b[39;00m perf_counter\n\u001b[0;32m    864\u001b[0m t0 \u001b[38;5;241m=\u001b[39m perf_counter()\n\u001b[1;32m--> 865\u001b[0m data \u001b[38;5;241m=\u001b[39m [\u001b[43mfunc\u001b[49m\u001b[43m(\u001b[49m\u001b[38;5;241;43m*\u001b[39;49m\u001b[43margs\u001b[49m\u001b[43m)\u001b[49m \u001b[38;5;28;01mfor\u001b[39;00m i \u001b[38;5;129;01min\u001b[39;00m _repeat(\u001b[38;5;28;01mNone\u001b[39;00m, n)]\n\u001b[0;32m    866\u001b[0m t1 \u001b[38;5;241m=\u001b[39m perf_counter()\n\u001b[0;32m    868\u001b[0m xbar \u001b[38;5;241m=\u001b[39m mean(data)\n",
      "\u001b[1;31mTypeError\u001b[0m: 85 argument after * must be an iterable, not int"
     ]
    }
   ],
   "source": [
    "random._test_generator(6,85,7)"
   ]
  },
  {
   "cell_type": "code",
   "execution_count": 33,
   "id": "5062bbb7-5542-4e7d-8162-3b1edc96d79e",
   "metadata": {},
   "outputs": [],
   "source": [
    "#The _test_generator function is an internal function used for testing and benchmarking,\n",
    "#and it expects specific arguments in a certain format.\n",
    "#However, this function is not meant to be used directly by users."
   ]
  },
  {
   "cell_type": "code",
   "execution_count": 25,
   "id": "26f9998e-0c3a-42b5-83cf-4e7cebc2d72e",
   "metadata": {},
   "outputs": [
    {
     "data": {
      "text/plain": [
       "<bound method Random.gauss of <random.Random object at 0x000001AA201F2510>>"
      ]
     },
     "execution_count": 25,
     "metadata": {},
     "output_type": "execute_result"
    }
   ],
   "source": [
    "random.gauss"
   ]
  },
  {
   "cell_type": "code",
   "execution_count": 28,
   "id": "7d7c192f-3399-4aa5-87df-6deede413de7",
   "metadata": {},
   "outputs": [
    {
     "data": {
      "text/plain": [
       "2.159751672060504"
      ]
     },
     "execution_count": 28,
     "metadata": {},
     "output_type": "execute_result"
    }
   ],
   "source": [
    "random.gauss()"
   ]
  },
  {
   "cell_type": "code",
   "execution_count": 31,
   "id": "2d64d1b5-7abc-42d9-aed3-230877a0fd81",
   "metadata": {},
   "outputs": [
    {
     "data": {
      "text/plain": [
       "97.31211696166042"
      ]
     },
     "execution_count": 31,
     "metadata": {},
     "output_type": "execute_result"
    }
   ],
   "source": [
    "random.gauss(98)"
   ]
  },
  {
   "cell_type": "code",
   "execution_count": 37,
   "id": "36d97dd2-8f3f-4faa-8cb3-701734636a01",
   "metadata": {},
   "outputs": [
    {
     "data": {
      "text/plain": [
       "11.087840132155211"
      ]
     },
     "execution_count": 37,
     "metadata": {},
     "output_type": "execute_result"
    }
   ],
   "source": [
    "random.gauss(9.9)"
   ]
  },
  {
   "cell_type": "code",
   "execution_count": 34,
   "id": "33c0f7c5-996c-4866-9624-ff80abdc7438",
   "metadata": {},
   "outputs": [
    {
     "data": {
      "text/plain": [
       "'\\nMany natural and human-made phenomena follow a normal distribution, such as:\\n\\nHeights of people\\nMeasurement errors\\nIQ scores\\nStock market returns\\nUsing random.gauss, you can simulate these types of data.\\n'"
      ]
     },
     "execution_count": 34,
     "metadata": {},
     "output_type": "execute_result"
    }
   ],
   "source": [
    "#The random.gauss function in Python is used to generate random numbers following a Gaussian (normal) distribution\n",
    "\"\"\"\n",
    "Many natural and human-made phenomena follow a normal distribution, such as:\n",
    "\n",
    "Heights of people\n",
    "Measurement errors\n",
    "IQ scores\n",
    "Stock market returns\n",
    "Using random.gauss, you can simulate these types of data.\n",
    "\"\"\""
   ]
  },
  {
   "cell_type": "markdown",
   "id": "53a24db5-a2e5-45da-93d0-bb7958291124",
   "metadata": {},
   "source": [
    "### properties 0f gauss\n",
    "- we can use it with no argument\n",
    "- or 1 numerical argument with int (or) float"
   ]
  },
  {
   "cell_type": "code",
   "execution_count": 38,
   "id": "deae9b0d-11bc-45f8-b5bd-23d612f75f19",
   "metadata": {},
   "outputs": [
    {
     "data": {
      "text/plain": [
       "<bound method Random.uniform of <random.Random object at 0x000001AA201F2510>>"
      ]
     },
     "execution_count": 38,
     "metadata": {},
     "output_type": "execute_result"
    }
   ],
   "source": [
    "random.uniform"
   ]
  },
  {
   "cell_type": "code",
   "execution_count": 39,
   "id": "a4280436-ffa4-40f9-879b-51d34419e0dd",
   "metadata": {},
   "outputs": [
    {
     "ename": "TypeError",
     "evalue": "Random.uniform() missing 2 required positional arguments: 'a' and 'b'",
     "output_type": "error",
     "traceback": [
      "\u001b[1;31m---------------------------------------------------------------------------\u001b[0m",
      "\u001b[1;31mTypeError\u001b[0m                                 Traceback (most recent call last)",
      "Cell \u001b[1;32mIn[39], line 1\u001b[0m\n\u001b[1;32m----> 1\u001b[0m \u001b[43mrandom\u001b[49m\u001b[38;5;241;43m.\u001b[39;49m\u001b[43muniform\u001b[49m\u001b[43m(\u001b[49m\u001b[43m)\u001b[49m\n",
      "\u001b[1;31mTypeError\u001b[0m: Random.uniform() missing 2 required positional arguments: 'a' and 'b'"
     ]
    }
   ],
   "source": [
    "random.uniform()"
   ]
  },
  {
   "cell_type": "code",
   "execution_count": 40,
   "id": "34064d6f-68f2-4d96-a4da-cd26381c9536",
   "metadata": {},
   "outputs": [],
   "source": [
    "#requires two attributes"
   ]
  },
  {
   "cell_type": "code",
   "execution_count": 45,
   "id": "25c236b6-e087-4038-93af-031c32180462",
   "metadata": {},
   "outputs": [
    {
     "data": {
      "text/plain": [
       "5.180223063987124"
      ]
     },
     "execution_count": 45,
     "metadata": {},
     "output_type": "execute_result"
    }
   ],
   "source": [
    "random.uniform(-2,6)"
   ]
  },
  {
   "cell_type": "markdown",
   "id": "06cb1db0-ace4-42fa-a06f-46d2fe9fba40",
   "metadata": {},
   "source": [
    "### properties of uniform\n",
    "- it takes exactly 2 arguments +ve or -ve and prints a random number between the two numbers given\n",
    "- Get a random number in the range [a, b] or [a, b] depending on rounding"
   ]
  },
  {
   "cell_type": "markdown",
   "id": "66bdd72e-b447-4f8f-b94f-12efe54a95de",
   "metadata": {},
   "source": [
    "## 2nd is \"time\" package"
   ]
  },
  {
   "cell_type": "code",
   "execution_count": 47,
   "id": "5fc18ffd-1bcd-42cb-8b08-69afaaa4f6b1",
   "metadata": {},
   "outputs": [],
   "source": [
    "import math"
   ]
  },
  {
   "cell_type": "code",
   "execution_count": 48,
   "id": "f9633147-47f2-49ad-87df-cfac1c219c75",
   "metadata": {},
   "outputs": [
    {
     "data": {
      "text/plain": [
       "['__doc__',\n",
       " '__loader__',\n",
       " '__name__',\n",
       " '__package__',\n",
       " '__spec__',\n",
       " 'acos',\n",
       " 'acosh',\n",
       " 'asin',\n",
       " 'asinh',\n",
       " 'atan',\n",
       " 'atan2',\n",
       " 'atanh',\n",
       " 'cbrt',\n",
       " 'ceil',\n",
       " 'comb',\n",
       " 'copysign',\n",
       " 'cos',\n",
       " 'cosh',\n",
       " 'degrees',\n",
       " 'dist',\n",
       " 'e',\n",
       " 'erf',\n",
       " 'erfc',\n",
       " 'exp',\n",
       " 'exp2',\n",
       " 'expm1',\n",
       " 'fabs',\n",
       " 'factorial',\n",
       " 'floor',\n",
       " 'fmod',\n",
       " 'frexp',\n",
       " 'fsum',\n",
       " 'gamma',\n",
       " 'gcd',\n",
       " 'hypot',\n",
       " 'inf',\n",
       " 'isclose',\n",
       " 'isfinite',\n",
       " 'isinf',\n",
       " 'isnan',\n",
       " 'isqrt',\n",
       " 'lcm',\n",
       " 'ldexp',\n",
       " 'lgamma',\n",
       " 'log',\n",
       " 'log10',\n",
       " 'log1p',\n",
       " 'log2',\n",
       " 'modf',\n",
       " 'nan',\n",
       " 'nextafter',\n",
       " 'perm',\n",
       " 'pi',\n",
       " 'pow',\n",
       " 'prod',\n",
       " 'radians',\n",
       " 'remainder',\n",
       " 'sin',\n",
       " 'sinh',\n",
       " 'sqrt',\n",
       " 'tan',\n",
       " 'tanh',\n",
       " 'tau',\n",
       " 'trunc',\n",
       " 'ulp']"
      ]
     },
     "execution_count": 48,
     "metadata": {},
     "output_type": "execute_result"
    }
   ],
   "source": [
    "dir(math)"
   ]
  },
  {
   "cell_type": "markdown",
   "id": "14cb7289-bcca-489c-b4d6-99f716cd3fdb",
   "metadata": {},
   "source": [
    "## I choose 9 of em to practice :remainder, gcd, sqrt, isfinite, acosh, trunc, radians, prod, lcm."
   ]
  },
  {
   "cell_type": "code",
   "execution_count": 5,
   "id": "996aee5e-35f7-4a03-9a7c-34438d44a7aa",
   "metadata": {},
   "outputs": [
    {
     "data": {
      "text/plain": [
       "<function math.remainder(x, y, /)>"
      ]
     },
     "execution_count": 5,
     "metadata": {},
     "output_type": "execute_result"
    }
   ],
   "source": [
    "math.remainder"
   ]
  },
  {
   "cell_type": "code",
   "execution_count": 6,
   "id": "70db9195-0779-4094-babb-58634727d33d",
   "metadata": {},
   "outputs": [
    {
     "ename": "TypeError",
     "evalue": "remainder expected 2 arguments, got 0",
     "output_type": "error",
     "traceback": [
      "\u001b[1;31m---------------------------------------------------------------------------\u001b[0m",
      "\u001b[1;31mTypeError\u001b[0m                                 Traceback (most recent call last)",
      "Cell \u001b[1;32mIn[6], line 1\u001b[0m\n\u001b[1;32m----> 1\u001b[0m \u001b[43mmath\u001b[49m\u001b[38;5;241;43m.\u001b[39;49m\u001b[43mremainder\u001b[49m\u001b[43m(\u001b[49m\u001b[43m)\u001b[49m\n",
      "\u001b[1;31mTypeError\u001b[0m: remainder expected 2 arguments, got 0"
     ]
    }
   ],
   "source": [
    "math.remainder()"
   ]
  },
  {
   "cell_type": "code",
   "execution_count": 8,
   "id": "603dcf8f-d940-45e4-bd83-32dd55caed24",
   "metadata": {},
   "outputs": [
    {
     "data": {
      "text/plain": [
       "0"
      ]
     },
     "execution_count": 8,
     "metadata": {},
     "output_type": "execute_result"
    }
   ],
   "source": [
    "int(math.remainder(90,9))"
   ]
  },
  {
   "cell_type": "markdown",
   "id": "5fdc86a9-9881-45e0-9917-4ebb27b1a1dd",
   "metadata": {},
   "source": [
    "### properties of remainder\n",
    "- it takes exactly two arguments\n",
    "- gives the remainder of a 'x' div by a 'y'"
   ]
  },
  {
   "cell_type": "code",
   "execution_count": 9,
   "id": "f161411b-0b30-4b69-a5f3-781f1cb6b80a",
   "metadata": {},
   "outputs": [
    {
     "data": {
      "text/plain": [
       "<function math.gcd(*integers)>"
      ]
     },
     "execution_count": 9,
     "metadata": {},
     "output_type": "execute_result"
    }
   ],
   "source": [
    "math.gcd"
   ]
  },
  {
   "cell_type": "code",
   "execution_count": 10,
   "id": "04768617-110f-4327-9749-98f2300274cd",
   "metadata": {},
   "outputs": [
    {
     "data": {
      "text/plain": [
       "0"
      ]
     },
     "execution_count": 10,
     "metadata": {},
     "output_type": "execute_result"
    }
   ],
   "source": [
    "math.gcd()"
   ]
  },
  {
   "cell_type": "code",
   "execution_count": 11,
   "id": "fe136f53-f651-445f-a0f9-ea12091efd2a",
   "metadata": {},
   "outputs": [
    {
     "data": {
      "text/plain": [
       "30"
      ]
     },
     "execution_count": 11,
     "metadata": {},
     "output_type": "execute_result"
    }
   ],
   "source": [
    "math.gcd(-30)"
   ]
  },
  {
   "cell_type": "code",
   "execution_count": 12,
   "id": "f1f32677-fd14-40e7-a62d-a66364a99a15",
   "metadata": {},
   "outputs": [
    {
     "data": {
      "text/plain": [
       "33"
      ]
     },
     "execution_count": 12,
     "metadata": {},
     "output_type": "execute_result"
    }
   ],
   "source": [
    "math.gcd(-33)"
   ]
  },
  {
   "cell_type": "code",
   "execution_count": 15,
   "id": "b3e40375-d139-455f-af89-123587a6cc01",
   "metadata": {},
   "outputs": [
    {
     "data": {
      "text/plain": [
       "60000"
      ]
     },
     "execution_count": 15,
     "metadata": {},
     "output_type": "execute_result"
    }
   ],
   "source": [
    "math.gcd(-60000)"
   ]
  },
  {
   "cell_type": "code",
   "execution_count": 18,
   "id": "0d0065af-b6a4-4303-828b-21a0ca90f75a",
   "metadata": {},
   "outputs": [
    {
     "data": {
      "text/plain": [
       "6"
      ]
     },
     "execution_count": 18,
     "metadata": {},
     "output_type": "execute_result"
    }
   ],
   "source": [
    "math.gcd(-60000,6)"
   ]
  },
  {
   "cell_type": "code",
   "execution_count": 22,
   "id": "ea19e5e1-9b96-4da3-ba12-8a46f8ae4ade",
   "metadata": {},
   "outputs": [
    {
     "data": {
      "text/plain": [
       "1"
      ]
     },
     "execution_count": 22,
     "metadata": {},
     "output_type": "execute_result"
    }
   ],
   "source": [
    "math.gcd(-60000,6,7,7)"
   ]
  },
  {
   "cell_type": "markdown",
   "id": "01a32a7e-ecef-47f6-8f8b-c58f7e3e3d2c",
   "metadata": {},
   "source": [
    "### properties of gcd\n",
    "- it takes any no of arguments and gives the gcd value of the numbers.\n",
    "- and if empty brackets are given it will return zero."
   ]
  },
  {
   "cell_type": "code",
   "execution_count": 49,
   "id": "89684b0a-8395-4dd2-a96a-a8ad78dd1af9",
   "metadata": {},
   "outputs": [
    {
     "ename": "TypeError",
     "evalue": "math.sqrt() takes exactly one argument (0 given)",
     "output_type": "error",
     "traceback": [
      "\u001b[1;31m---------------------------------------------------------------------------\u001b[0m",
      "\u001b[1;31mTypeError\u001b[0m                                 Traceback (most recent call last)",
      "Cell \u001b[1;32mIn[49], line 1\u001b[0m\n\u001b[1;32m----> 1\u001b[0m \u001b[43mmath\u001b[49m\u001b[38;5;241;43m.\u001b[39;49m\u001b[43msqrt\u001b[49m\u001b[43m(\u001b[49m\u001b[43m)\u001b[49m\n",
      "\u001b[1;31mTypeError\u001b[0m: math.sqrt() takes exactly one argument (0 given)"
     ]
    }
   ],
   "source": [
    "math.sqrt()"
   ]
  },
  {
   "cell_type": "code",
   "execution_count": 51,
   "id": "0094bd67-beb1-477c-ac98-e594bca2d2d5",
   "metadata": {},
   "outputs": [
    {
     "data": {
      "text/plain": [
       "6.63"
      ]
     },
     "execution_count": 51,
     "metadata": {},
     "output_type": "execute_result"
    }
   ],
   "source": [
    "round(math.sqrt(44),2)"
   ]
  },
  {
   "cell_type": "markdown",
   "id": "d80070fe-fa5d-4ce1-8815-fa85a60c0316",
   "metadata": {},
   "source": [
    "# properties of sqrt\n",
    "- it takes exactly one argument\n",
    "- returns the square of the argument"
   ]
  },
  {
   "cell_type": "code",
   "execution_count": 53,
   "id": "d7b0740f-4133-42bf-9eee-8e80a7d43ca3",
   "metadata": {},
   "outputs": [
    {
     "ename": "TypeError",
     "evalue": "math.isfinite() takes exactly one argument (0 given)",
     "output_type": "error",
     "traceback": [
      "\u001b[1;31m---------------------------------------------------------------------------\u001b[0m",
      "\u001b[1;31mTypeError\u001b[0m                                 Traceback (most recent call last)",
      "Cell \u001b[1;32mIn[53], line 1\u001b[0m\n\u001b[1;32m----> 1\u001b[0m \u001b[43mmath\u001b[49m\u001b[38;5;241;43m.\u001b[39;49m\u001b[43misfinite\u001b[49m\u001b[43m(\u001b[49m\u001b[43m)\u001b[49m\n",
      "\u001b[1;31mTypeError\u001b[0m: math.isfinite() takes exactly one argument (0 given)"
     ]
    }
   ],
   "source": [
    "math.isfinite()"
   ]
  },
  {
   "cell_type": "code",
   "execution_count": 55,
   "id": "c3d920cf-db21-4fd1-a2a0-6a64f6182e30",
   "metadata": {},
   "outputs": [
    {
     "data": {
      "text/plain": [
       "True"
      ]
     },
     "execution_count": 55,
     "metadata": {},
     "output_type": "execute_result"
    }
   ],
   "source": [
    "math.isfinite(44)"
   ]
  },
  {
   "cell_type": "markdown",
   "id": "4bd1b245-4419-4d13-ac58-9efe952bdc63",
   "metadata": {},
   "source": [
    "# properties of isfinite\n",
    "- it takes exactlt one argument\n",
    "- will check if a value is a finite number or not.."
   ]
  },
  {
   "cell_type": "code",
   "execution_count": 56,
   "id": "5b589d40-ac0d-44d6-8d9c-1d71ed59b58b",
   "metadata": {},
   "outputs": [
    {
     "ename": "TypeError",
     "evalue": "math.acosh() takes exactly one argument (0 given)",
     "output_type": "error",
     "traceback": [
      "\u001b[1;31m---------------------------------------------------------------------------\u001b[0m",
      "\u001b[1;31mTypeError\u001b[0m                                 Traceback (most recent call last)",
      "Cell \u001b[1;32mIn[56], line 1\u001b[0m\n\u001b[1;32m----> 1\u001b[0m \u001b[43mmath\u001b[49m\u001b[38;5;241;43m.\u001b[39;49m\u001b[43macosh\u001b[49m\u001b[43m(\u001b[49m\u001b[43m)\u001b[49m\n",
      "\u001b[1;31mTypeError\u001b[0m: math.acosh() takes exactly one argument (0 given)"
     ]
    }
   ],
   "source": [
    "math.acosh()"
   ]
  },
  {
   "cell_type": "code",
   "execution_count": 58,
   "id": "f7790a83-0a71-425f-974f-9387ee8d93bc",
   "metadata": {},
   "outputs": [
    {
     "data": {
      "text/plain": [
       "4.0940666686320855"
      ]
     },
     "execution_count": 58,
     "metadata": {},
     "output_type": "execute_result"
    }
   ],
   "source": [
    "math.acosh(30)"
   ]
  },
  {
   "cell_type": "code",
   "execution_count": 60,
   "id": "c0c37922-ab73-49af-8bcf-47ed6c292441",
   "metadata": {},
   "outputs": [
    {
     "data": {
      "text/plain": [
       "4.1"
      ]
     },
     "execution_count": 60,
     "metadata": {},
     "output_type": "execute_result"
    }
   ],
   "source": [
    "round(math.acosh(30),1)#you can use round or can skip it"
   ]
  },
  {
   "cell_type": "markdown",
   "id": "5d005c61-35d7-4b70-b4bc-77529fb63209",
   "metadata": {},
   "source": [
    "### properties of acosh\n",
    "- it takes exactly one argument\n",
    "- and will return cosh value of that s "
   ]
  },
  {
   "cell_type": "code",
   "execution_count": 61,
   "id": "9edd21dd-c04a-42b4-9f5d-0d75ad152920",
   "metadata": {},
   "outputs": [
    {
     "ename": "TypeError",
     "evalue": "math.trunc() takes exactly one argument (0 given)",
     "output_type": "error",
     "traceback": [
      "\u001b[1;31m---------------------------------------------------------------------------\u001b[0m",
      "\u001b[1;31mTypeError\u001b[0m                                 Traceback (most recent call last)",
      "Cell \u001b[1;32mIn[61], line 1\u001b[0m\n\u001b[1;32m----> 1\u001b[0m \u001b[43mmath\u001b[49m\u001b[38;5;241;43m.\u001b[39;49m\u001b[43mtrunc\u001b[49m\u001b[43m(\u001b[49m\u001b[43m)\u001b[49m\n",
      "\u001b[1;31mTypeError\u001b[0m: math.trunc() takes exactly one argument (0 given)"
     ]
    }
   ],
   "source": [
    "math.trunc()"
   ]
  },
  {
   "cell_type": "code",
   "execution_count": 66,
   "id": "ecb18bd4-2951-49ef-9616-34c2fda2dfe2",
   "metadata": {},
   "outputs": [
    {
     "data": {
      "text/plain": [
       "-55"
      ]
     },
     "execution_count": 66,
     "metadata": {},
     "output_type": "execute_result"
    }
   ],
   "source": [
    "math.trunc(-55.67)"
   ]
  },
  {
   "cell_type": "markdown",
   "id": "ddae070d-30d2-4ff3-8896-cbdce96e20ea",
   "metadata": {},
   "source": [
    "### properties of trunc\n",
    "- it will take exactly one argument and it can be +ve or -ve\n",
    "- it will return the trunc value of the argument\n",
    "- means what ever float value is it will decrease it and take the lower value of that value ex:9.99 will turn to 9"
   ]
  },
  {
   "cell_type": "code",
   "execution_count": 67,
   "id": "91e86c09-f8f1-41b6-9cb3-3402fb788c8a",
   "metadata": {},
   "outputs": [
    {
     "data": {
      "text/plain": [
       "<function math.radians(x, /)>"
      ]
     },
     "execution_count": 67,
     "metadata": {},
     "output_type": "execute_result"
    }
   ],
   "source": [
    "math.radians"
   ]
  },
  {
   "cell_type": "code",
   "execution_count": 70,
   "id": "5c095985-2955-43c0-9fce-b76b422696f0",
   "metadata": {},
   "outputs": [
    {
     "ename": "TypeError",
     "evalue": "math.radians() takes exactly one argument (0 given)",
     "output_type": "error",
     "traceback": [
      "\u001b[1;31m---------------------------------------------------------------------------\u001b[0m",
      "\u001b[1;31mTypeError\u001b[0m                                 Traceback (most recent call last)",
      "Cell \u001b[1;32mIn[70], line 1\u001b[0m\n\u001b[1;32m----> 1\u001b[0m \u001b[43mmath\u001b[49m\u001b[38;5;241;43m.\u001b[39;49m\u001b[43mradians\u001b[49m\u001b[43m(\u001b[49m\u001b[43m)\u001b[49m\n",
      "\u001b[1;31mTypeError\u001b[0m: math.radians() takes exactly one argument (0 given)"
     ]
    }
   ],
   "source": [
    "math.radians()"
   ]
  },
  {
   "cell_type": "code",
   "execution_count": 74,
   "id": "24194873-5a56-4547-b2d1-0bb878da50de",
   "metadata": {},
   "outputs": [
    {
     "data": {
      "text/plain": [
       "-1.1519173063162575"
      ]
     },
     "execution_count": 74,
     "metadata": {},
     "output_type": "execute_result"
    }
   ],
   "source": [
    "math.radians(-66)"
   ]
  },
  {
   "cell_type": "markdown",
   "id": "e880bdc8-034e-4a75-a66e-73845ec578e5",
   "metadata": {},
   "source": [
    "### properties of radians\n",
    "- it takes exactly one argument and Convert angle x(-ve or -ve) from degrees to radians."
   ]
  },
  {
   "cell_type": "markdown",
   "id": "b69e4413-0d64-4cdc-8087-33a2281dd860",
   "metadata": {},
   "source": [
    "# **imp note :\n",
    "- remember that when ever you are not geting output after a code has been executed and dont see any error output too\n",
    "- you have clicked the block of code into **raw** format in the top."
   ]
  },
  {
   "cell_type": "code",
   "execution_count": 76,
   "id": "73489ed1-ad7f-41b4-8097-f4d22fa75da1",
   "metadata": {},
   "outputs": [
    {
     "ename": "TypeError",
     "evalue": "prod() takes exactly 1 positional argument (0 given)",
     "output_type": "error",
     "traceback": [
      "\u001b[1;31m---------------------------------------------------------------------------\u001b[0m",
      "\u001b[1;31mTypeError\u001b[0m                                 Traceback (most recent call last)",
      "Cell \u001b[1;32mIn[76], line 1\u001b[0m\n\u001b[1;32m----> 1\u001b[0m \u001b[43mmath\u001b[49m\u001b[38;5;241;43m.\u001b[39;49m\u001b[43mprod\u001b[49m\u001b[43m(\u001b[49m\u001b[43m)\u001b[49m\n",
      "\u001b[1;31mTypeError\u001b[0m: prod() takes exactly 1 positional argument (0 given)"
     ]
    }
   ],
   "source": [
    "math.prod()"
   ]
  },
  {
   "cell_type": "code",
   "execution_count": 79,
   "id": "0b3329bf-ce9a-4b0c-8769-55e96a97ef6f",
   "metadata": {},
   "outputs": [
    {
     "ename": "TypeError",
     "evalue": "'int' object is not iterable",
     "output_type": "error",
     "traceback": [
      "\u001b[1;31m---------------------------------------------------------------------------\u001b[0m",
      "\u001b[1;31mTypeError\u001b[0m                                 Traceback (most recent call last)",
      "Cell \u001b[1;32mIn[79], line 1\u001b[0m\n\u001b[1;32m----> 1\u001b[0m \u001b[43mmath\u001b[49m\u001b[38;5;241;43m.\u001b[39;49m\u001b[43mprod\u001b[49m\u001b[43m(\u001b[49m\u001b[38;5;241;43m6\u001b[39;49m\u001b[43m)\u001b[49m\n",
      "\u001b[1;31mTypeError\u001b[0m: 'int' object is not iterable"
     ]
    }
   ],
   "source": [
    "math.prod(6)"
   ]
  },
  {
   "cell_type": "code",
   "execution_count": 80,
   "id": "7ac3b709-af5e-48d7-b3f8-17dac9a99d30",
   "metadata": {},
   "outputs": [
    {
     "data": {
      "text/plain": [
       "362880"
      ]
     },
     "execution_count": 80,
     "metadata": {},
     "output_type": "execute_result"
    }
   ],
   "source": [
    "math.prod([1,2,3,4,5,6,7,8,9])"
   ]
  },
  {
   "cell_type": "markdown",
   "id": "ff77ab41-4ddb-42ae-b164-682dc543aa3a",
   "metadata": {},
   "source": [
    "# properties of prod\n",
    "- it takes exacltly iterable argument such as list or tuple\n",
    "- it can take the list directly and find a product too"
   ]
  },
  {
   "cell_type": "code",
   "execution_count": 81,
   "id": "cd9edbc1-c9c4-453a-aa83-94be7fc0083e",
   "metadata": {},
   "outputs": [
    {
     "data": {
      "text/plain": [
       "1"
      ]
     },
     "execution_count": 81,
     "metadata": {},
     "output_type": "execute_result"
    }
   ],
   "source": [
    "math.lcm()"
   ]
  },
  {
   "cell_type": "code",
   "execution_count": 84,
   "id": "d2d76b01-220d-40a3-b33c-db328eada3d5",
   "metadata": {},
   "outputs": [
    {
     "data": {
      "text/plain": [
       "85"
      ]
     },
     "execution_count": 84,
     "metadata": {},
     "output_type": "execute_result"
    }
   ],
   "source": [
    "math.lcm(85)"
   ]
  },
  {
   "cell_type": "code",
   "execution_count": 89,
   "id": "755e7ccd-ff39-4c1b-9fd8-a5a428fbf019",
   "metadata": {},
   "outputs": [
    {
     "data": {
      "text/plain": [
       "792"
      ]
     },
     "execution_count": 89,
     "metadata": {},
     "output_type": "execute_result"
    }
   ],
   "source": [
    "math.lcm(88,9,6)"
   ]
  },
  {
   "cell_type": "markdown",
   "id": "96aa50ea-454c-4e70-afa4-62b1c48c76fb",
   "metadata": {},
   "source": [
    "# properties of lcm\n",
    "- it can take zero arguments and will return 1 as result\n",
    "- it can take n no of arguments and return the lcm of the argument values"
   ]
  },
  {
   "cell_type": "code",
   "execution_count": null,
   "id": "db53f896-2e22-46b3-b5e8-10c9b7996ed9",
   "metadata": {},
   "outputs": [],
   "source": []
  }
 ],
 "metadata": {
  "kernelspec": {
   "display_name": "Python 3 (ipykernel)",
   "language": "python",
   "name": "python3"
  },
  "language_info": {
   "codemirror_mode": {
    "name": "ipython",
    "version": 3
   },
   "file_extension": ".py",
   "mimetype": "text/x-python",
   "name": "python",
   "nbconvert_exporter": "python",
   "pygments_lexer": "ipython3",
   "version": "3.11.4"
  }
 },
 "nbformat": 4,
 "nbformat_minor": 5
}
