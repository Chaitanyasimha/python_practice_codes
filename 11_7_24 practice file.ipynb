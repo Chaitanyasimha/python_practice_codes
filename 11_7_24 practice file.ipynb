{
 "cells": [
  {
   "cell_type": "code",
   "execution_count": 2,
   "id": "0a055502-fecd-4e46-8673-a5311ed9e2ea",
   "metadata": {},
   "outputs": [
    {
     "data": {
      "text/plain": [
       "'i'"
      ]
     },
     "execution_count": 2,
     "metadata": {},
     "output_type": "execute_result"
    }
   ],
   "source": [
    "\"I\".lower()"
   ]
  },
  {
   "cell_type": "code",
   "execution_count": 3,
   "id": "b283c83a-a87e-405d-8897-005a2bfb5fba",
   "metadata": {},
   "outputs": [
    {
     "data": {
      "text/plain": [
       "False"
      ]
     },
     "execution_count": 3,
     "metadata": {},
     "output_type": "execute_result"
    }
   ],
   "source": [
    "\"I\".islower()"
   ]
  },
  {
   "cell_type": "code",
   "execution_count": 11,
   "id": "6f2e8bfa-e7fc-437a-99ab-ab992dca20fe",
   "metadata": {},
   "outputs": [
    {
     "name": "stdin",
     "output_type": "stream",
     "text": [
      " History\n"
     ]
    },
    {
     "name": "stdout",
     "output_type": "stream",
     "text": [
      "hISTORY\n"
     ]
    }
   ],
   "source": [
    "#1que\n",
    "\n",
    "def swap_case(s):\n",
    "    str1 = \"\"\n",
    "    for i in s:\n",
    "        if i.islower():\n",
    "            str1 = str1+i.upper()\n",
    "        else:\n",
    "            str1 = str1+i.lower()\n",
    "    return str1\n",
    "            \n",
    "\n",
    "s = input()\n",
    "result = swap_case(s)\n",
    "print(result)"
   ]
  },
  {
   "cell_type": "code",
   "execution_count": null,
   "id": "b6eead55-6b36-4ec8-8f84-010a7c41a440",
   "metadata": {},
   "outputs": [],
   "source": [
    "#here it returned none cause the value in the function has not been returned\n",
    "#we have to give return as output not none as output because we are using it in a operation"
   ]
  },
  {
   "cell_type": "code",
   "execution_count": 8,
   "id": "cd19b4d8-b861-4645-9322-ec939c515a09",
   "metadata": {},
   "outputs": [
    {
     "name": "stdin",
     "output_type": "stream",
     "text": [
      " History\n"
     ]
    },
    {
     "ename": "TypeError",
     "evalue": "can only concatenate str (not \"builtin_function_or_method\") to str",
     "output_type": "error",
     "traceback": [
      "\u001b[1;31m---------------------------------------------------------------------------\u001b[0m",
      "\u001b[1;31mTypeError\u001b[0m                                 Traceback (most recent call last)",
      "Cell \u001b[1;32mIn[8], line 12\u001b[0m\n\u001b[0;32m      8\u001b[0m     \u001b[38;5;28;01mreturn\u001b[39;00m str1\n\u001b[0;32m     11\u001b[0m s \u001b[38;5;241m=\u001b[39m \u001b[38;5;28minput\u001b[39m()\n\u001b[1;32m---> 12\u001b[0m result \u001b[38;5;241m=\u001b[39m \u001b[43mswap_case\u001b[49m\u001b[43m(\u001b[49m\u001b[43ms\u001b[49m\u001b[43m)\u001b[49m\n\u001b[0;32m     13\u001b[0m \u001b[38;5;28mprint\u001b[39m(result)\n",
      "Cell \u001b[1;32mIn[8], line 7\u001b[0m, in \u001b[0;36mswap_case\u001b[1;34m(s)\u001b[0m\n\u001b[0;32m      5\u001b[0m         str1 \u001b[38;5;241m=\u001b[39m str1\u001b[38;5;241m+\u001b[39mi\u001b[38;5;241m.\u001b[39mupper\n\u001b[0;32m      6\u001b[0m     \u001b[38;5;28;01melse\u001b[39;00m:\n\u001b[1;32m----> 7\u001b[0m         str1 \u001b[38;5;241m=\u001b[39m \u001b[43mstr1\u001b[49m\u001b[38;5;241;43m+\u001b[39;49m\u001b[43mi\u001b[49m\u001b[38;5;241;43m.\u001b[39;49m\u001b[43mlower\u001b[49m\n\u001b[0;32m      8\u001b[0m \u001b[38;5;28;01mreturn\u001b[39;00m str1\n",
      "\u001b[1;31mTypeError\u001b[0m: can only concatenate str (not \"builtin_function_or_method\") to str"
     ]
    }
   ],
   "source": [
    "def swap_case(s):\n",
    "    str1 = \"\"\n",
    "    for i in s:\n",
    "        if i.islower():\n",
    "            str1 = str1+i.upper\n",
    "        else:\n",
    "            str1 = str1+i.lower\n",
    "    return str1\n",
    "            \n",
    "\n",
    "s = input()\n",
    "result = swap_case(s)\n",
    "print(result)"
   ]
  },
  {
   "cell_type": "code",
   "execution_count": null,
   "id": "8864ee15-b05f-46bb-afbe-e4e9eef4b86a",
   "metadata": {},
   "outputs": [],
   "source": [
    "#the error here is because you have not put the brakets to close the lower method so its a not a valid syntax"
   ]
  },
  {
   "cell_type": "code",
   "execution_count": 10,
   "id": "80f1bbe5-9f95-4ee5-a941-53602669f753",
   "metadata": {},
   "outputs": [
    {
     "name": "stdin",
     "output_type": "stream",
     "text": [
      " this is world\n"
     ]
    },
    {
     "name": "stdout",
     "output_type": "stream",
     "text": [
      "this-is-world\n"
     ]
    }
   ],
   "source": [
    "#2que\n",
    "\n",
    "def split_and_join(line):\n",
    "    line = line.split()\n",
    "    line = \"-\".join(line)\n",
    "    return line\n",
    "\n",
    "if __name__ == '__main__':\n",
    "    line = input()\n",
    "    result = split_and_join(line)\n",
    "    print(result)"
   ]
  },
  {
   "cell_type": "code",
   "execution_count": 12,
   "id": "35600a70-225c-4232-b092-537ea1205199",
   "metadata": {},
   "outputs": [
    {
     "name": "stdin",
     "output_type": "stream",
     "text": [
      " chai\n",
      " simha\n"
     ]
    },
    {
     "name": "stdout",
     "output_type": "stream",
     "text": [
      "Hello chai simha! you just delved into python.\n"
     ]
    }
   ],
   "source": [
    "#3que\n",
    "\n",
    "#\n",
    "# Complete the 'print_full_name' function below.\n",
    "#\n",
    "# The function is expected to return a STRING.\n",
    "# The function accepts following parameters:\n",
    "#  1. STRING first\n",
    "#  2. STRING last\n",
    "#\n",
    "\n",
    "def print_full_name(first, last):\n",
    "    return (print(f\"Hello {first_name} {last_name}! you just delved into python.\"))\n",
    "if __name__ == '__main__':\n",
    "    first_name = input()\n",
    "    last_name = input()\n",
    "    print_full_name(first_name, last_name)"
   ]
  },
  {
   "cell_type": "code",
   "execution_count": 13,
   "id": "ac5c60a5-58a1-4ae3-aed8-f36f8a153346",
   "metadata": {},
   "outputs": [],
   "source": [
    "# i can also use print statements as return..."
   ]
  },
  {
   "cell_type": "code",
   "execution_count": 14,
   "id": "d7e2f078-72dc-4901-b004-c4977f122fcc",
   "metadata": {},
   "outputs": [
    {
     "name": "stdin",
     "output_type": "stream",
     "text": [
      " abarakadabra\n",
      " 5 k\n"
     ]
    },
    {
     "name": "stdout",
     "output_type": "stream",
     "text": [
      "abarakadabra\n"
     ]
    }
   ],
   "source": [
    "#4que\n",
    "\n",
    "def mutate_string(string, position, character):\n",
    "    global s\n",
    "    s = list(s)\n",
    "    #s.insert(position,character)#this is just going to be inserting the value not replace it.\n",
    "    s[position] = character\n",
    "    s = \"\".join(s)\n",
    "    return s\n",
    "\n",
    "if __name__ == '__main__':\n",
    "    s = input()\n",
    "    i, c = input().split()\n",
    "    s_new = mutate_string(s, int(i), c)\n",
    "    print(s_new)"
   ]
  },
  {
   "cell_type": "code",
   "execution_count": 16,
   "id": "799d30c6-41aa-4769-ad66-27cd187e2418",
   "metadata": {},
   "outputs": [
    {
     "name": "stdin",
     "output_type": "stream",
     "text": [
      " hbjkkj\n"
     ]
    },
    {
     "name": "stdout",
     "output_type": "stream",
     "text": [
      "hbjkkj\n"
     ]
    }
   ],
   "source": [
    "string = input().strip()\n",
    "print(string)"
   ]
  },
  {
   "cell_type": "code",
   "execution_count": 19,
   "id": "f96ba404-791b-465f-806e-87f9f96be31c",
   "metadata": {},
   "outputs": [
    {
     "ename": "TypeError",
     "evalue": "ord() expected a character, but string of length 7 found",
     "output_type": "error",
     "traceback": [
      "\u001b[1;31m---------------------------------------------------------------------------\u001b[0m",
      "\u001b[1;31mTypeError\u001b[0m                                 Traceback (most recent call last)",
      "Cell \u001b[1;32mIn[19], line 1\u001b[0m\n\u001b[1;32m----> 1\u001b[0m \u001b[38;5;28;43mord\u001b[39;49m\u001b[43m(\u001b[49m\u001b[38;5;124;43m\"\u001b[39;49m\u001b[38;5;124;43mkarthik\u001b[39;49m\u001b[38;5;124;43m\"\u001b[39;49m\u001b[43m)\u001b[49m\n",
      "\u001b[1;31mTypeError\u001b[0m: ord() expected a character, but string of length 7 found"
     ]
    }
   ],
   "source": [
    "ord(\"karthik\")"
   ]
  },
  {
   "cell_type": "code",
   "execution_count": 21,
   "id": "2e1ad523-0d78-42e2-8ade-ac0a5de907e0",
   "metadata": {},
   "outputs": [
    {
     "data": {
      "text/plain": [
       "107"
      ]
     },
     "execution_count": 21,
     "metadata": {},
     "output_type": "execute_result"
    }
   ],
   "source": [
    "ord('k')"
   ]
  },
  {
   "cell_type": "code",
   "execution_count": 2,
   "id": "d9782f40-6889-424e-a347-51120bddacea",
   "metadata": {},
   "outputs": [
    {
     "name": "stdin",
     "output_type": "stream",
     "text": [
      " abcdcdc\n",
      " cdc\n"
     ]
    },
    {
     "name": "stdout",
     "output_type": "stream",
     "text": [
      "6\n"
     ]
    }
   ],
   "source": [
    "liz = []\n",
    "def count_substring(string, sub_string):\n",
    "    aka_count = 0\n",
    "    ele_list1 = []\n",
    "    ele_list2 = []\n",
    "    for ele_1 in string:\n",
    "        ele_list1.append(ord(ele_1))\n",
    "    for ele_2 in sub_string:\n",
    "        ele_list2.append(ord(ele_2))\n",
    "    for i in range (len(string)):\n",
    "        for j in range(len(sub_string)):\n",
    "              liz.append(ele_list1[j])\n",
    "        if ele_2 == liz:\n",
    "            aka_count = aka_count + 1\n",
    "            for k in range(len(liz)):\n",
    "                print(liz)\n",
    "                liz.remove(liz[k])\n",
    "    return i\n",
    "#here the strip removes the spaces in the string\n",
    "if __name__ == '__main__':\n",
    "    string = input().strip()\n",
    "    sub_string = input().strip()\n",
    "    count = count_substring(string, sub_string)\n",
    "    print(count)"
   ]
  },
  {
   "cell_type": "code",
   "execution_count": 3,
   "id": "929a5a07-6c63-4939-9599-ea18e59c1986",
   "metadata": {},
   "outputs": [
    {
     "data": {
      "text/plain": [
       "[97,\n",
       " 98,\n",
       " 99,\n",
       " 97,\n",
       " 98,\n",
       " 99,\n",
       " 97,\n",
       " 98,\n",
       " 99,\n",
       " 97,\n",
       " 98,\n",
       " 99,\n",
       " 97,\n",
       " 98,\n",
       " 99,\n",
       " 97,\n",
       " 98,\n",
       " 99,\n",
       " 97,\n",
       " 98,\n",
       " 99]"
      ]
     },
     "execution_count": 3,
     "metadata": {},
     "output_type": "execute_result"
    }
   ],
   "source": [
    "liz"
   ]
  },
  {
   "cell_type": "code",
   "execution_count": 5,
   "id": "273c921f-8d5a-4f85-b20d-6e1474873185",
   "metadata": {},
   "outputs": [
    {
     "name": "stdin",
     "output_type": "stream",
     "text": [
      " abcdcdc\n",
      " cdc\n"
     ]
    },
    {
     "name": "stdout",
     "output_type": "stream",
     "text": [
      "3\n"
     ]
    }
   ],
   "source": [
    "liz = []\n",
    "def count_substring(string, sub_string):\n",
    "    aka_count = 0\n",
    "    ele_list1 = []\n",
    "    ele_list2 = []\n",
    "    for ele_1 in string:\n",
    "        ele_list1.append(ord(ele_1))\n",
    "    for ele_2 in sub_string:\n",
    "        ele_list2.append(ord(ele_2))\n",
    "    for i in range (len(string)-len(sub_string)):\n",
    "        for j in range(len(sub_string)):\n",
    "              liz.append(ele_list1[j])\n",
    "        if ele_list1 == liz:\n",
    "            aka_count = aka_count + 1\n",
    "            for k in range(len(liz)):\n",
    "                liz.remove(liz[k])\n",
    "        ele_list1.remove(ele_list1[0])\n",
    "    return i\n",
    "#here the strip removes the spaces in the string\n",
    "if __name__ == '__main__':\n",
    "    string = input().strip()\n",
    "    sub_string = input().strip()\n",
    "    count = count_substring(string, sub_string)\n",
    "    print(count)"
   ]
  },
  {
   "cell_type": "code",
   "execution_count": 7,
   "id": "fb158985-b867-4fda-babf-d527d60dcf3c",
   "metadata": {},
   "outputs": [
    {
     "data": {
      "text/plain": [
       "[97, 98, 99, 98, 99, 100, 99, 100, 99, 100, 99, 100]"
      ]
     },
     "execution_count": 7,
     "metadata": {},
     "output_type": "execute_result"
    }
   ],
   "source": [
    "liz"
   ]
  },
  {
   "cell_type": "code",
   "execution_count": null,
   "id": "974dbe23-8224-47e6-b874-94ec0c0c5073",
   "metadata": {},
   "outputs": [],
   "source": [
    "liz = []\n",
    "def count_substring(string, sub_string):\n",
    "    aka_count = 0\n",
    "    for i in range(len(string) - len(sub_string)+1):\n",
    "        if string[i:i+len(sub_string)] == sub_string:\n",
    "            aka_count = aka_count+1 \n",
    "    \n",
    "    return aka_count\n",
    "    \n",
    "#here the strip removes the spaces in the string\n",
    "if __name__ == '__main__':\n",
    "    string = input().strip()\n",
    "    sub_string = input().strip()\n",
    "    \n",
    "    count = count_substring(string, sub_string)\n",
    "    print(count)"
   ]
  },
  {
   "cell_type": "code",
   "execution_count": null,
   "id": "8ac5bec3-14ee-4b33-9682-3d6357df8ad1",
   "metadata": {},
   "outputs": [],
   "source": [
    "#=====simply by slicing we can check the two strings sequences are same or not\n",
    "#======by using slicing with for loop to get elements([i:i+len(sub_string)] because it can take the no of elemments in substring and-)\n",
    "#======(-by skiping one element each time it is checking making it easy to use like this to iterate trough (set of elements) each time \n",
    "#(-excluding a given indices and testing others....)\n",
    "###############very useful method to loop trough sequences###############"
   ]
  }
 ],
 "metadata": {
  "kernelspec": {
   "display_name": "Python 3 (ipykernel)",
   "language": "python",
   "name": "python3"
  },
  "language_info": {
   "codemirror_mode": {
    "name": "ipython",
    "version": 3
   },
   "file_extension": ".py",
   "mimetype": "text/x-python",
   "name": "python",
   "nbconvert_exporter": "python",
   "pygments_lexer": "ipython3",
   "version": "3.11.4"
  }
 },
 "nbformat": 4,
 "nbformat_minor": 5
}
