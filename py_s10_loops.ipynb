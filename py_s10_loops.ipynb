{
 "cells": [
  {
   "cell_type": "markdown",
   "id": "f88f4787-b051-42c3-9703-4c12e5bbe79d",
   "metadata": {},
   "source": [
    "**loops :**\n",
    "- iterate a piece of code until; the condition satisfy\n",
    "- we can run a code normally\n",
    "- we can use the code"
   ]
  },
  {
   "cell_type": "code",
   "execution_count": 2,
   "id": "fd57e57c-b6c9-4be7-be96-cd2717aec8d5",
   "metadata": {},
   "outputs": [
    {
     "name": "stdin",
     "output_type": "stream",
     "text": [
      "enter a num : 3\n"
     ]
    },
    {
     "name": "stdout",
     "output_type": "stream",
     "text": [
      "9\n"
     ]
    },
    {
     "name": "stdin",
     "output_type": "stream",
     "text": [
      "enter a num : 7\n"
     ]
    },
    {
     "name": "stdout",
     "output_type": "stream",
     "text": [
      "49\n"
     ]
    },
    {
     "name": "stdin",
     "output_type": "stream",
     "text": [
      "enter a num : 5\n"
     ]
    },
    {
     "name": "stdout",
     "output_type": "stream",
     "text": [
      "25\n"
     ]
    },
    {
     "name": "stdin",
     "output_type": "stream",
     "text": [
      "enter a num : 2\n"
     ]
    },
    {
     "name": "stdout",
     "output_type": "stream",
     "text": [
      "4\n"
     ]
    },
    {
     "name": "stdin",
     "output_type": "stream",
     "text": [
      "enter a num : 3\n"
     ]
    },
    {
     "name": "stdout",
     "output_type": "stream",
     "text": [
      "9\n"
     ]
    },
    {
     "name": "stdin",
     "output_type": "stream",
     "text": [
      "enter a num : 5\n"
     ]
    },
    {
     "name": "stdout",
     "output_type": "stream",
     "text": [
      "25\n"
     ]
    },
    {
     "name": "stdin",
     "output_type": "stream",
     "text": [
      "enter a num : 6\n"
     ]
    },
    {
     "name": "stdout",
     "output_type": "stream",
     "text": [
      "36\n"
     ]
    },
    {
     "name": "stdin",
     "output_type": "stream",
     "text": [
      "enter a num : 7\n"
     ]
    },
    {
     "name": "stdout",
     "output_type": "stream",
     "text": [
      "49\n"
     ]
    },
    {
     "name": "stdin",
     "output_type": "stream",
     "text": [
      "enter a num : 8\n"
     ]
    },
    {
     "name": "stdout",
     "output_type": "stream",
     "text": [
      "64\n"
     ]
    },
    {
     "name": "stdin",
     "output_type": "stream",
     "text": [
      "enter a num : 9\n"
     ]
    },
    {
     "name": "stdout",
     "output_type": "stream",
     "text": [
      "81\n"
     ]
    }
   ],
   "source": [
    "for i in range(10):\n",
    "    num = eval(input(\"enter a num :\"))\n",
    "    print(num**2)"
   ]
  },
  {
   "cell_type": "code",
   "execution_count": 5,
   "id": "9cfba0e0-fb82-4c1d-9dbc-eb4f22277c92",
   "metadata": {},
   "outputs": [
    {
     "name": "stdin",
     "output_type": "stream",
     "text": [
      "enter a num : 14\n"
     ]
    },
    {
     "name": "stdout",
     "output_type": "stream",
     "text": [
      "14 x 1 = 14\n",
      "14 x 2 = 28\n",
      "14 x 3 = 42\n",
      "14 x 4 = 56\n",
      "14 x 5 = 70\n",
      "14 x 6 = 84\n",
      "14 x 7 = 98\n",
      "14 x 8 = 112\n",
      "14 x 9 = 126\n",
      "14 x 10 = 140\n"
     ]
    }
   ],
   "source": [
    "num = eval(input(\"enter a num :\"))\n",
    "for i in range(1,11):\n",
    "    print(f\"{num} x {i} = {num*i}\")"
   ]
  },
  {
   "cell_type": "code",
   "execution_count": 6,
   "id": "c6245900-b596-4ffe-b1de-b2039249ca1f",
   "metadata": {},
   "outputs": [],
   "source": [
    "#thats 5th question"
   ]
  },
  {
   "cell_type": "code",
   "execution_count": null,
   "id": "387deb28-ecb1-4cc2-8fef-e996b0cd5b26",
   "metadata": {},
   "outputs": [],
   "source": [
    "#6que find the factors of 75\n",
    "#step1: Iterate the loop = which numbers factors you want\n",
    "#step2: apply the if condition\n",
    "#              "
   ]
  },
  {
   "cell_type": "code",
   "execution_count": 10,
   "id": "12b69877-4e6d-48ef-94a4-b71939221315",
   "metadata": {},
   "outputs": [
    {
     "name": "stdin",
     "output_type": "stream",
     "text": [
      " 75\n"
     ]
    },
    {
     "name": "stdout",
     "output_type": "stream",
     "text": [
      "the factors of the 75 are: [1, 3, 5, 15, 25, 75]\n"
     ]
    }
   ],
   "source": [
    "l = []\n",
    "num = eval(input())\n",
    "for i in range (1,76):\n",
    "    if(num%i == 0):\n",
    "        l.append(i)\n",
    "print(f\"the factors of the 75 are: {l}\")"
   ]
  },
  {
   "cell_type": "code",
   "execution_count": 11,
   "id": "763dfee2-3969-4fe4-9e4a-d985325f8df7",
   "metadata": {},
   "outputs": [
    {
     "name": "stdout",
     "output_type": "stream",
     "text": [
      "0 + 1 = 1\n",
      "1 + 2 = 3\n",
      "3 + 3 = 6\n",
      "6 + 4 = 10\n",
      "10 + 5 = 15\n",
      "15 + 6 = 21\n",
      "21 + 7 = 28\n",
      "28 + 8 = 36\n",
      "36 + 9 = 45\n",
      "45 + 10 = 55\n"
     ]
    }
   ],
   "source": [
    "summ = 0\n",
    "anum = 0\n",
    "for i in range (1,11):\n",
    "    summ = summ+i\n",
    "    print(f\"{anum} + {i} = {summ}\")\n",
    "    anum = anum+i"
   ]
  },
  {
   "cell_type": "code",
   "execution_count": 16,
   "id": "90358222-2ad8-45f5-a0e7-e604383631f7",
   "metadata": {},
   "outputs": [
    {
     "name": "stdout",
     "output_type": "stream",
     "text": [
      "5.5\n"
     ]
    }
   ],
   "source": [
    "#avg of 1-10 nums\n",
    "summ = 0\n",
    "for i in range (1,11):\n",
    "    summ = summ+i\n",
    "    avg = summ/10\n",
    "print(avg)"
   ]
  },
  {
   "cell_type": "code",
   "execution_count": null,
   "id": "459f0d25-56a0-4e0d-bd48-1b779b5caa80",
   "metadata": {},
   "outputs": [],
   "source": [
    "import random\n",
    "n1 = random.randint(1,10)\n",
    "n2 = eval(+)"
   ]
  }
 ],
 "metadata": {
  "kernelspec": {
   "display_name": "Python 3 (ipykernel)",
   "language": "python",
   "name": "python3"
  },
  "language_info": {
   "codemirror_mode": {
    "name": "ipython",
    "version": 3
   },
   "file_extension": ".py",
   "mimetype": "text/x-python",
   "name": "python",
   "nbconvert_exporter": "python",
   "pygments_lexer": "ipython3",
   "version": "3.11.4"
  }
 },
 "nbformat": 4,
 "nbformat_minor": 5
}
