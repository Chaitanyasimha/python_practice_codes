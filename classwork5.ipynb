{
 "cells": [
  {
   "cell_type": "markdown",
   "id": "b053258a-9c23-49c8-bdc7-0621c51c8131",
   "metadata": {},
   "source": [
    "# Hare Krishna "
   ]
  },
  {
   "cell_type": "code",
   "execution_count": 18,
   "id": "ca3064ef-4042-48d7-abac-a0d21420e4cd",
   "metadata": {},
   "outputs": [],
   "source": [
    "#imports\n",
    "import random\n",
    "import math"
   ]
  },
  {
   "cell_type": "markdown",
   "id": "b21ecc63-25aa-4afc-91e4-7e4c03a970c5",
   "metadata": {},
   "source": [
    "# que 1:"
   ]
  },
  {
   "cell_type": "markdown",
   "id": "f0d6849f-680a-4592-84c0-26cffacdaca0",
   "metadata": {},
   "source": [
    "- **function without arguments**"
   ]
  },
  {
   "cell_type": "code",
   "execution_count": 72,
   "id": "eeba5d17-c9e7-4bad-909e-95f35f9ecac5",
   "metadata": {},
   "outputs": [
    {
     "name": "stdin",
     "output_type": "stream",
     "text": [
      "enter n1 value : 33\n",
      "enter n2 value : 79\n",
      "enter n3 value : 88\n"
     ]
    },
    {
     "name": "stdout",
     "output_type": "stream",
     "text": [
      "the average for the 3 numbers is 66.7\n"
     ]
    }
   ],
   "source": [
    "# wap ask the user enter 3 numbers calculate average\n",
    "#------------------------------------------------------------------------\n",
    "\n",
    "#without arguments case1\n",
    "def get_avg():\n",
    "    n1 = eval(input(\"enter n1 value :\"))\n",
    "    n2 = eval(input(\"enter n2 value :\"))\n",
    "    n3 = eval(input(\"enter n3 value :\"))\n",
    "    avg = round((n1+n2+n3)/3,1)\n",
    "    print(f\"the average for the 3 numbers is {avg}\")\n",
    "get_avg()"
   ]
  },
  {
   "cell_type": "code",
   "execution_count": 9,
   "id": "3a9bf2f5-3e63-4cd1-91bc-df3eee6475b3",
   "metadata": {},
   "outputs": [
    {
     "name": "stdin",
     "output_type": "stream",
     "text": [
      "enter n1 value : 29\n",
      "enter n2 value : 58\n",
      "enter n3 value : 55\n"
     ]
    },
    {
     "name": "stdout",
     "output_type": "stream",
     "text": [
      "the average for the 3 numbers is 47.3\n"
     ]
    }
   ],
   "source": [
    "#with out arguments case2 :\n",
    "def get_avg():\n",
    "    avg = round((n1+n2+n3)/3,1)\n",
    "    print(f\"the average for the 3 numbers is {avg}\")\n",
    "n1 = eval(input(\"enter n1 value :\"))\n",
    "n2 = eval(input(\"enter n2 value :\"))\n",
    "n3 = eval(input(\"enter n3 value :\"))\n",
    "get_avg()"
   ]
  },
  {
   "cell_type": "markdown",
   "id": "eaefad2b-68eb-4e77-b65f-af1a1b5b1ff1",
   "metadata": {},
   "source": [
    "- **function with arguments**"
   ]
  },
  {
   "cell_type": "code",
   "execution_count": 12,
   "id": "bb579e69-874f-4ee1-b2a0-0115422a559a",
   "metadata": {},
   "outputs": [
    {
     "name": "stdin",
     "output_type": "stream",
     "text": [
      "enter n1 value : 20\n",
      "enter n2 value : 23\n",
      "enter n3 value : 99\n"
     ]
    },
    {
     "name": "stdout",
     "output_type": "stream",
     "text": [
      "the average for the 3 numbers is 47.3\n"
     ]
    }
   ],
   "source": [
    "#with arguments case1:\n",
    "def get_avg(n1,n2,n3):\n",
    "    avg = round((n1+n2+n3)/3,1)\n",
    "    print(f\"the average for the 3 numbers is {avg}\")\n",
    "n1 = eval(input(\"enter n1 value :\"))\n",
    "n2 = eval(input(\"enter n2 value :\"))\n",
    "n3 = eval(input(\"enter n3 value :\"))\n",
    "get_avg(n1,n2,n3)"
   ]
  },
  {
   "cell_type": "code",
   "execution_count": 14,
   "id": "baa4f496-e401-49ce-aef6-1980a0672ed9",
   "metadata": {},
   "outputs": [
    {
     "name": "stdin",
     "output_type": "stream",
     "text": [
      "enter n1 value : 33\n",
      "enter n2 value : 67\n",
      "enter n3 value : 99\n"
     ]
    },
    {
     "name": "stdout",
     "output_type": "stream",
     "text": [
      "the average for the 3 numbers is 66.3\n"
     ]
    }
   ],
   "source": [
    "#with arguments case1:\n",
    "def get_avg(n1,n2,n3):\n",
    "    n1 = eval(input(\"enter n1 value :\"))# some cases this method can be problematic\n",
    "    n2 = eval(input(\"enter n2 value :\"))\n",
    "    n3 = eval(input(\"enter n3 value :\"))\n",
    "    avg = round((n1+n2+n3)/3,1)\n",
    "    print(f\"the average for the 3 numbers is {avg}\")\n",
    "get_avg(n1,n2,n3)"
   ]
  },
  {
   "cell_type": "markdown",
   "id": "b756d663-c5c1-4864-9a67-dc0ddc11855c",
   "metadata": {},
   "source": [
    "# que 2:"
   ]
  },
  {
   "cell_type": "markdown",
   "id": "74dcfb55-2e2a-413f-8de7-abfafade56ae",
   "metadata": {},
   "source": [
    "- **function without arguments**"
   ]
  },
  {
   "cell_type": "code",
   "execution_count": 15,
   "id": "3d2de10b-d16f-4ce0-a6b6-1f2879c2dd95",
   "metadata": {},
   "outputs": [
    {
     "name": "stdin",
     "output_type": "stream",
     "text": [
      "enter the radius of circle : 22\n"
     ]
    },
    {
     "name": "stdout",
     "output_type": "stream",
     "text": [
      "the area of circle is : 1520\n"
     ]
    },
    {
     "data": {
      "text/plain": [
       "1520"
      ]
     },
     "execution_count": 15,
     "metadata": {},
     "output_type": "execute_result"
    }
   ],
   "source": [
    "# wap ask the uer enter radius values find the area of the circle\n",
    "#-------------------------------------------------------------------------\n",
    "def area_circle():\n",
    "    pi = 3.14\n",
    "    area = round(pi*radius**2)\n",
    "    print(f\"the area of circle is : {area}\")\n",
    "    return area#this will  do the same  as print too but if you take normal input variables you have return them or they will give none...\n",
    "radius = eval(input(\"enter the radius of circle :\"))\n",
    "area_circle()\n"
   ]
  },
  {
   "cell_type": "code",
   "execution_count": 16,
   "id": "d9dc6466-0cda-431b-a74c-3b3738810b13",
   "metadata": {},
   "outputs": [
    {
     "name": "stdin",
     "output_type": "stream",
     "text": [
      "enter the radius of circle : 23\n"
     ]
    },
    {
     "name": "stdout",
     "output_type": "stream",
     "text": [
      "the area of circle is : 1661\n"
     ]
    },
    {
     "data": {
      "text/plain": [
       "1661"
      ]
     },
     "execution_count": 16,
     "metadata": {},
     "output_type": "execute_result"
    }
   ],
   "source": [
    "# wap ask the uer enter radius values find the area of the circle\n",
    "#-------------------------------------------------------------------------\n",
    "def area_circle(radius):\n",
    "    pi = 3.14\n",
    "    area = round(pi*radius**2)\n",
    "    print(f\"the area of circle is : {area}\")\n",
    "    return area#this will  do the same  as print too but if you take normal input variables you have return them or they will give none...\n",
    "radius = eval(input(\"enter the radius of circle :\"))\n",
    "area_circle(radius)"
   ]
  },
  {
   "cell_type": "markdown",
   "id": "441f64ed-2814-4fcb-b063-732ca0bd8f01",
   "metadata": {},
   "source": [
    "# que 3:"
   ]
  },
  {
   "cell_type": "markdown",
   "id": "c544e73f-4acd-43f4-a652-d9d1e9a6f81b",
   "metadata": {},
   "source": [
    "- **function without arguments**"
   ]
  },
  {
   "cell_type": "code",
   "execution_count": 26,
   "id": "4433581c-0848-45c9-915a-e3e8eb2e76ff",
   "metadata": {},
   "outputs": [
    {
     "name": "stdin",
     "output_type": "stream",
     "text": [
      "enter the meal price : 1000\n",
      "enter the tip percentage : 10\n"
     ]
    },
    {
     "name": "stdout",
     "output_type": "stream",
     "text": [
      "the tip price :100\n",
      "the total amount :1100\n"
     ]
    }
   ],
   "source": [
    "# wap ask the user bill amount,\n",
    "#     ask the user how much tip you want pay in percentage\n",
    "#     calculate totalbill\n",
    "#-----------------------------------------------------------------------------\n",
    "def total_price():\n",
    "    tip_amount = round(meal_price*tip_percent/100)\n",
    "    print(\"the tip price :\"+str(int(tip_amount)))\n",
    "    print(\"the total amount :\"+str(int(meal_price+tip_amount)))\n",
    "#total_price() if i write here the privious stored values of tip price and tip percent are taken not the new ones\n",
    "meal_price = eval(input(\"enter the meal price :\"))\n",
    "tip_percent = eval(input(\"enter the tip percentage :\"))\n",
    "total_price()"
   ]
  },
  {
   "cell_type": "markdown",
   "id": "aa44b651-b765-4f76-a844-dcd91f0dc08f",
   "metadata": {},
   "source": [
    "- **function with arguments**"
   ]
  },
  {
   "cell_type": "code",
   "execution_count": 28,
   "id": "0ae08a7c-6a01-4c6f-9faa-e6f6d58e8ed6",
   "metadata": {},
   "outputs": [
    {
     "name": "stdin",
     "output_type": "stream",
     "text": [
      "enter the meal price : 1000\n",
      "enter the tip percentage : 14\n"
     ]
    },
    {
     "name": "stdout",
     "output_type": "stream",
     "text": [
      "the tip price :140\n",
      "the total amount :1140\n"
     ]
    }
   ],
   "source": [
    "def total_price(meal_price,tip_percent):\n",
    "    tip_amount = round(meal_price*tip_percent/100)\n",
    "    print(\"the tip price :\"+str(int(tip_amount)))\n",
    "    print(\"the total amount :\"+str(int(meal_price+tip_amount)))\n",
    "meal_price = eval(input(\"enter the meal price :\"))\n",
    "tip_percent = eval(input(\"enter the tip percentage :\"))\n",
    "total_price(meal_price,tip_percent)"
   ]
  },
  {
   "cell_type": "markdown",
   "id": "2c5e97bc-7db9-4ba1-9827-52e907f54f07",
   "metadata": {},
   "source": [
    "# que 4:"
   ]
  },
  {
   "cell_type": "markdown",
   "id": "b34467dd-c5ba-4110-a62c-1f2715c027f1",
   "metadata": {},
   "source": [
    "- **function without arguments**"
   ]
  },
  {
   "cell_type": "code",
   "execution_count": 31,
   "id": "51e5585b-eeb0-43c3-be47-2857ead1c1b9",
   "metadata": {},
   "outputs": [
    {
     "name": "stdin",
     "output_type": "stream",
     "text": [
      "enter the breadth : 33\n",
      "enter the height : 23\n"
     ]
    },
    {
     "name": "stdout",
     "output_type": "stream",
     "text": [
      "the area of triangle 379\n"
     ]
    }
   ],
   "source": [
    "#wap ask the user enter base height calculate area of the traingle\n",
    "#-------------------------------------------------------------------------------\n",
    "def area_tri():\n",
    "    area = 1/2*b*h\n",
    "    print(f\"the area of triangle {int(area)}\")\n",
    "b =  eval(input(\"enter the breadth :\"))\n",
    "h = eval(input(\"enter the height :\"))\n",
    "area_tri()"
   ]
  },
  {
   "cell_type": "markdown",
   "id": "5e5900f3-fc65-4121-a47f-834a32c47e10",
   "metadata": {},
   "source": [
    "- **function with arguments**"
   ]
  },
  {
   "cell_type": "code",
   "execution_count": 32,
   "id": "4d2b3604-20cf-4bae-a9e0-c3a27783a98d",
   "metadata": {},
   "outputs": [
    {
     "name": "stdin",
     "output_type": "stream",
     "text": [
      "enter the breadth : 12\n",
      "enter the height : 9\n"
     ]
    },
    {
     "name": "stdout",
     "output_type": "stream",
     "text": [
      "the area of triangle 54\n"
     ]
    }
   ],
   "source": [
    "def area_tri(b,h):\n",
    "    area = 1/2*b*h\n",
    "    print(f\"the area of triangle {int(area)}\")\n",
    "b =  eval(input(\"enter the breadth :\"))\n",
    "h = eval(input(\"enter the height :\"))\n",
    "area_tri(b,h)"
   ]
  },
  {
   "cell_type": "markdown",
   "id": "76108539-6d2a-49d1-a19d-33fa7544d5ea",
   "metadata": {},
   "source": [
    "# que 5:"
   ]
  },
  {
   "cell_type": "markdown",
   "id": "a25d39d5-7c3d-4ce4-aaeb-faa3a975aa35",
   "metadata": {},
   "source": [
    "- **function without arguments**"
   ]
  },
  {
   "cell_type": "code",
   "execution_count": 36,
   "id": "6b2cae3c-b2f3-42bb-a018-65deb8d37de1",
   "metadata": {},
   "outputs": [
    {
     "name": "stdin",
     "output_type": "stream",
     "text": [
      "enter length : 2\n",
      "enter breadth : 3\n"
     ]
    },
    {
     "name": "stdout",
     "output_type": "stream",
     "text": [
      "the area of rectangle is 6\n"
     ]
    }
   ],
   "source": [
    "#wap ask the user enter length and breadth calculate area of the rectangle\n",
    "#------------------------------------------------------------------------------------\n",
    "\n",
    "def rec_area():\n",
    "    area_of_rec = l*b\n",
    "    print(f\"the area of rectangle is {area_of_rec}\")\n",
    "l = eval(input(\"enter length :\"))\n",
    "b = eval(input(\"enter breadth :\"))\n",
    "rec_area()"
   ]
  },
  {
   "cell_type": "markdown",
   "id": "a691634f-ced0-4cda-aca9-7aceb24c68b7",
   "metadata": {},
   "source": [
    "- **function with arguments**"
   ]
  },
  {
   "cell_type": "code",
   "execution_count": 37,
   "id": "2f698bf6-2be5-4f92-ac1d-b7ff527d20f8",
   "metadata": {},
   "outputs": [
    {
     "name": "stdin",
     "output_type": "stream",
     "text": [
      "enter length : 4\n",
      "enter breadth : 6\n"
     ]
    },
    {
     "name": "stdout",
     "output_type": "stream",
     "text": [
      "the area of rectangle is 24\n"
     ]
    }
   ],
   "source": [
    "def rec_area(l,b):\n",
    "    area_of_rec = l*b\n",
    "    print(f\"the area of rectangle is {area_of_rec}\")\n",
    "l = eval(input(\"enter length :\"))\n",
    "b = eval(input(\"enter breadth :\"))\n",
    "rec_area(l,b)"
   ]
  },
  {
   "cell_type": "markdown",
   "id": "bc65e60a-e81c-4182-a083-2e0b25df5e3f",
   "metadata": {},
   "source": [
    "# que 6:"
   ]
  },
  {
   "cell_type": "markdown",
   "id": "d50e2d8d-d883-4ac4-b9e7-ce3b438db79c",
   "metadata": {},
   "source": [
    "- **function without arguments**"
   ]
  },
  {
   "cell_type": "code",
   "execution_count": 39,
   "id": "4288b615-809d-47a4-8610-916da347a824",
   "metadata": {},
   "outputs": [
    {
     "name": "stdin",
     "output_type": "stream",
     "text": [
      "enter val of num : 33\n"
     ]
    },
    {
     "name": "stdout",
     "output_type": "stream",
     "text": [
      "33 is odd\n"
     ]
    }
   ],
   "source": [
    "## wap ask the user enter a number\n",
    "# find it is a even number or odd number\n",
    "#------------------------------------------------------------------------------------------\n",
    "\n",
    "def check_even_odd():\n",
    "    number = eval(input(\"enter val of num :\"))\n",
    "    if(number%2 == 0):\n",
    "        print(f\"{number} is even\")\n",
    "    else:\n",
    "        print(f\"{number} is odd\")\n",
    "check_even_odd()"
   ]
  },
  {
   "cell_type": "markdown",
   "id": "ce216f4a-befd-4ed6-9741-a9a5748820b1",
   "metadata": {},
   "source": [
    "- **function with arguments**"
   ]
  },
  {
   "cell_type": "code",
   "execution_count": 40,
   "id": "15f448c3-d81e-4dbb-b855-7adeacc9cc5d",
   "metadata": {},
   "outputs": [
    {
     "name": "stdin",
     "output_type": "stream",
     "text": [
      "enter val of num : 22\n"
     ]
    },
    {
     "name": "stdout",
     "output_type": "stream",
     "text": [
      "22 is even\n"
     ]
    }
   ],
   "source": [
    "def check_even_odd(number):\n",
    "    if(number%2 == 0):\n",
    "        print(f\"{number} is even\")\n",
    "    else:\n",
    "        print(f\"{number} is odd\")\n",
    "\n",
    "number = eval(input(\"enter val of num :\"))\n",
    "check_even_odd(number)"
   ]
  },
  {
   "cell_type": "markdown",
   "id": "f06894a8-ec13-49db-9a87-db31fddf9625",
   "metadata": {},
   "source": [
    "# que 7:"
   ]
  },
  {
   "cell_type": "markdown",
   "id": "b3c93388-11f1-4011-8b53-5d88fbfadf83",
   "metadata": {},
   "source": [
    "- **function without arguments**"
   ]
  },
  {
   "cell_type": "code",
   "execution_count": 42,
   "id": "44513832-74bc-4816-8259-cf9074916ca7",
   "metadata": {},
   "outputs": [
    {
     "name": "stdin",
     "output_type": "stream",
     "text": [
      "enter the distance : 20\n"
     ]
    },
    {
     "name": "stdout",
     "output_type": "stream",
     "text": [
      "Have a free ride,'enjoy pandagow'.\n"
     ]
    }
   ],
   "source": [
    "## wap ask the user enter the distance\n",
    "# if distance greater than 25km\n",
    "#      then enter the charge\n",
    "#      print the total cost\n",
    "#otherwise\n",
    "#      print free ride\n",
    "\n",
    "\n",
    "#-------------------------------------------------------------------------------------------------------------------------------------\n",
    "# Implement the above problem by taking a random input  between  1, 100\n",
    "\n",
    "def ride(): \n",
    "    if distance>25:\n",
    "        charge = eval(input(\"enter the charge :\"))\n",
    "        total_cost = distance*charge\n",
    "        print(f\"your total cost of your ride is '{total_cost}'.\")\n",
    "    else:\n",
    "        print(\"Have a free ride,'enjoy pandagow'.\")\n",
    "\n",
    "distance = eval(input(\"enter the distance :\"))\n",
    "ride()"
   ]
  },
  {
   "cell_type": "markdown",
   "id": "f9cfd07e-9064-45b6-aed0-03ad27a391a7",
   "metadata": {},
   "source": [
    "- **function with arguments**"
   ]
  },
  {
   "cell_type": "code",
   "execution_count": 44,
   "id": "ffa06af1-d79a-49e0-860b-d169e6931ac6",
   "metadata": {},
   "outputs": [
    {
     "name": "stdin",
     "output_type": "stream",
     "text": [
      "enter the distance : 30\n",
      "enter the charge : 5\n"
     ]
    },
    {
     "name": "stdout",
     "output_type": "stream",
     "text": [
      "your total cost of your ride is '150'.\n"
     ]
    }
   ],
   "source": [
    "def ride(distance): \n",
    "    if distance>25:\n",
    "        charge = eval(input(\"enter the charge :\"))\n",
    "        total_cost = distance*charge\n",
    "        print(f\"your total cost of your ride is '{total_cost}'.\")\n",
    "    else:\n",
    "        print(\"Have a free ride,'enjoy pandagow'.\")\n",
    "\n",
    "distance = eval(input(\"enter the distance :\"))\n",
    "ride(distance)"
   ]
  },
  {
   "cell_type": "markdown",
   "id": "ae365b44-0879-4110-b219-dc9bdf053bd3",
   "metadata": {},
   "source": [
    "# que 8:"
   ]
  },
  {
   "cell_type": "markdown",
   "id": "7c8c8e54-7357-4c8f-8a1c-72053b655430",
   "metadata": {},
   "source": [
    "- **function without arguments**"
   ]
  },
  {
   "cell_type": "code",
   "execution_count": 46,
   "id": "2a71e05b-daff-4919-8983-ca5c936e58ff",
   "metadata": {},
   "outputs": [
    {
     "name": "stdin",
     "output_type": "stream",
     "text": [
      "enter the distance : 30\n",
      "enter the cutoff : 25\n"
     ]
    },
    {
     "name": "stdout",
     "output_type": "stream",
     "text": [
      "the total cost of your ride is '150'.\n"
     ]
    }
   ],
   "source": [
    "# wap ask the user enter the distance\n",
    "# cutoff distance enter 25\n",
    "# if distance greater than 25km\n",
    "#      print(\"good news your charge is aplicable for only remaining of 25\")\n",
    "#      chargeble distance= distance-cutoff\n",
    "#      then enter the charge\n",
    "#      print the total cost\n",
    "#otherwise\n",
    "#      print free ride\n",
    "\n",
    "def dis_charge():\n",
    "    if distance>cutoff_distance:\n",
    "        charge = distance - cutoff_distance\n",
    "        total_cost = distance*charge\n",
    "        print(f\"the total cost of your ride is '{total_cost}'.\")\n",
    "    else:\n",
    "        print(\"Have a free ride,'enjoy pandagow'.\")\n",
    "distance = eval(input(\"enter the distance :\"))\n",
    "cutoff_distance = eval(input(\"enter the cutoff :\"))\n",
    "dis_charge()"
   ]
  },
  {
   "cell_type": "markdown",
   "id": "b315e19e-538c-46a6-aae2-d2820b6bddb9",
   "metadata": {},
   "source": [
    "- **function with arguments**"
   ]
  },
  {
   "cell_type": "code",
   "execution_count": 47,
   "id": "ada3c2be-7a8a-4b9d-96c9-cfce2211ff6c",
   "metadata": {},
   "outputs": [
    {
     "name": "stdin",
     "output_type": "stream",
     "text": [
      "enter the distance : 26\n",
      "enter the cutoff : 25\n"
     ]
    },
    {
     "name": "stdout",
     "output_type": "stream",
     "text": [
      "the total cost of your ride is '26'.\n"
     ]
    }
   ],
   "source": [
    "def dis_charge(distance,cutoff_distance):\n",
    "    if distance>cutoff_distance:\n",
    "        charge = distance - cutoff_distance\n",
    "        total_cost = distance*charge\n",
    "        print(f\"the total cost of your ride is '{total_cost}'.\")\n",
    "    else:\n",
    "        print(\"Have a free ride,'enjoy pandagow'.\")\n",
    "distance = eval(input(\"enter the distance :\"))\n",
    "cutoff_distance = eval(input(\"enter the cutoff :\"))\n",
    "dis_charge(distance,cutoff_distance)"
   ]
  },
  {
   "cell_type": "markdown",
   "id": "507994cf-6763-492a-9654-99d39571098a",
   "metadata": {},
   "source": [
    "# que 10:"
   ]
  },
  {
   "cell_type": "markdown",
   "id": "7de633e1-400d-424d-9fee-351a80f2d930",
   "metadata": {},
   "source": [
    "- **function without arguments**"
   ]
  },
  {
   "cell_type": "code",
   "execution_count": 48,
   "id": "c4479894-66de-4f19-a7e7-790806b5ba50",
   "metadata": {},
   "outputs": [
    {
     "name": "stdin",
     "output_type": "stream",
     "text": [
      "enter your course : data science\n",
      "enter your institute : free chaitanya parayana\n"
     ]
    },
    {
     "name": "stdout",
     "output_type": "stream",
     "text": [
      "mama nuv mavaadive raa.\n"
     ]
    }
   ],
   "source": [
    "# wap ask the user enter the course\n",
    "# ask the user enter the Institute\n",
    "# if the course equal to data science and institute equal to naresh it\n",
    "#     then you are good\n",
    "# otherwise\n",
    "#     you are bad\n",
    "#=====================================================================\n",
    "\n",
    "def goodbad_Person():\n",
    "    course = input(\"enter your course :\")\n",
    "    institute = input(\"enter your institute :\")\n",
    "    if course.lower() == \"data science\" and institute.lower() == \"naresh it\":\n",
    "        print(\"eww toperr\")\n",
    "    else:\n",
    "        print(\"mama nuv mavaadive raa.\")\n",
    "goodbad_Person()"
   ]
  },
  {
   "cell_type": "markdown",
   "id": "a945400b-957d-41ec-b404-e3330a250b07",
   "metadata": {},
   "source": [
    "- **function with arguments**"
   ]
  },
  {
   "cell_type": "code",
   "execution_count": 51,
   "id": "ad0545f6-0ca9-4f47-8eb1-33e8078b5b6a",
   "metadata": {},
   "outputs": [
    {
     "name": "stdin",
     "output_type": "stream",
     "text": [
      "enter your course : Data Science\n",
      "enter your institute : Naresh It\n"
     ]
    },
    {
     "name": "stdout",
     "output_type": "stream",
     "text": [
      "eww toperr\n"
     ]
    }
   ],
   "source": [
    "def goodbad_Person(course,institute):\n",
    "    if course.lower() == \"data science\" and institute.lower() == \"naresh it\":\n",
    "        print(\"eww toperr\")\n",
    "    else:\n",
    "        print(\"mama nuv mavaadive raa.\")\n",
    "\n",
    "\n",
    "course = input(\"enter your course :\")\n",
    "institute = input(\"enter your institute :\")\n",
    "goodbad_Person(course,institute)"
   ]
  },
  {
   "cell_type": "markdown",
   "id": "44009ce3-7505-443c-85c7-d6a96b77abf9",
   "metadata": {},
   "source": [
    "# que 11:"
   ]
  },
  {
   "cell_type": "markdown",
   "id": "ab582e9d-fb38-4683-99f0-b10ec9b114b8",
   "metadata": {},
   "source": [
    "- **function without arguments**"
   ]
  },
  {
   "cell_type": "code",
   "execution_count": 52,
   "id": "8dfeadd8-60ef-4e91-9867-7661d43cce09",
   "metadata": {},
   "outputs": [
    {
     "name": "stdin",
     "output_type": "stream",
     "text": [
      "enter a number between 1 to 10 : 3\n",
      "enter a number between 1 to 10 : 3\n"
     ]
    },
    {
     "name": "stdout",
     "output_type": "stream",
     "text": [
      "you won the lottery\n"
     ]
    }
   ],
   "source": [
    "# wap ask the user enter a random number between 1 to 10, treat this as number1\n",
    "# ask the user enter another number from keyboard, treat this as number2\n",
    "# if number1 equal to number2\n",
    "#     print you won\n",
    "# otherwise\n",
    "#     print you lost\n",
    "#=============================================================================\n",
    "\n",
    "def lottery():\n",
    "    num1 = eval(input(\"enter a number between 1 to 10 :\"))\n",
    "    while num1<1 or num1>10:\n",
    "        print(\"can you enter a valid please...\")\n",
    "        num1 = eval(input(\"enter a number between 1 to 10 :\"))\n",
    "    num2 = eval(input(\"enter a number between 1 to 10 :\"))\n",
    "    while num2<1 or num2>10:\n",
    "        print(\"can you enter a valid please...\")\n",
    "        num2 = eval(input(\"enter a number between 1 to 10 :\"))\n",
    "    if num1 == num2:\n",
    "        print(\"you won the lottery\")\n",
    "    else:\n",
    "        print(\"you lost\")\n",
    "lottery()"
   ]
  },
  {
   "cell_type": "markdown",
   "id": "7ffcea3a-b8a6-4eea-9a7e-89ca1f6a6649",
   "metadata": {},
   "source": [
    "- **function with arguments**"
   ]
  },
  {
   "cell_type": "code",
   "execution_count": 54,
   "id": "e8857a5c-4552-4aed-9218-eec699cc131c",
   "metadata": {},
   "outputs": [
    {
     "name": "stdin",
     "output_type": "stream",
     "text": [
      "enter a number between 1 to 10 : 7\n",
      "enter a number between 1 to 10 : 99\n"
     ]
    },
    {
     "name": "stdout",
     "output_type": "stream",
     "text": [
      "can you enter a valid please...\n"
     ]
    },
    {
     "name": "stdin",
     "output_type": "stream",
     "text": [
      "enter a number between 1 to 10 : 79\n"
     ]
    },
    {
     "name": "stdout",
     "output_type": "stream",
     "text": [
      "can you enter a valid please...\n"
     ]
    },
    {
     "name": "stdin",
     "output_type": "stream",
     "text": [
      "enter a number between 1 to 10 : 7\n"
     ]
    },
    {
     "name": "stdout",
     "output_type": "stream",
     "text": [
      "you won the lottery\n"
     ]
    }
   ],
   "source": [
    "def lottery(num1,num2):\n",
    "    while num1<1 or num1>10:\n",
    "        print(\"can you enter a valid please...\")\n",
    "        num1 = eval(input(\"enter a number between 1 to 10 :\"))\n",
    "    while num2<1 or num2>10:\n",
    "        print(\"can you enter a valid please...\")\n",
    "        num2 = eval(input(\"enter a number between 1 to 10 :\"))\n",
    "    if num1 == num2:\n",
    "        print(\"you won the lottery\")\n",
    "    else:\n",
    "        print(\"you lost\")\n",
    "num1 = eval(input(\"enter a number between 1 to 10 :\"))\n",
    "num2 = eval(input(\"enter a number between 1 to 10 :\"))\n",
    "lottery(num1,num2)"
   ]
  },
  {
   "cell_type": "markdown",
   "id": "4e19c6fd-1c0e-4dcd-b813-fe421af2c450",
   "metadata": {},
   "source": [
    "# que 12:"
   ]
  },
  {
   "cell_type": "markdown",
   "id": "cd4067c8-1fd1-47f5-b4f6-d881444828c5",
   "metadata": {},
   "source": [
    "- **function without arguments**"
   ]
  },
  {
   "cell_type": "code",
   "execution_count": 56,
   "id": "db20cdd3-0beb-48f2-8cf7-b258b0575b69",
   "metadata": {},
   "outputs": [
    {
     "name": "stdin",
     "output_type": "stream",
     "text": [
      "enter num : 1\n"
     ]
    },
    {
     "name": "stdout",
     "output_type": "stream",
     "text": [
      "one\n"
     ]
    }
   ],
   "source": [
    "# wap ask the user enter number\n",
    "# if number equal to 1 then print one\n",
    "# if number equal to 2 then print two\n",
    "# if number equal to 3 then print three\n",
    "# otherwise  print enter a valid number\n",
    "#======================================\n",
    "def numfind():\n",
    "    num = eval(input(\"enter num :\"))\n",
    "    if num == 1:\n",
    "        print(\"one\")\n",
    "    elif num == 2:\n",
    "        print(\"two\")\n",
    "    elif num == 3:\n",
    "        print(\"three\")\n",
    "    elif num == 4:\n",
    "        print(\"four\")\n",
    "    else:\n",
    "        print(\"enter a valid num\")\n",
    "numfind()"
   ]
  },
  {
   "cell_type": "markdown",
   "id": "6945cb9a-1afe-465f-9bf5-63c0ca3ecc2c",
   "metadata": {},
   "source": [
    "- **function with arguments**"
   ]
  },
  {
   "cell_type": "code",
   "execution_count": 58,
   "id": "781fb5a4-d469-4bb7-bdc4-bfc1c4ee6ee6",
   "metadata": {},
   "outputs": [
    {
     "name": "stdin",
     "output_type": "stream",
     "text": [
      "enter num : 3\n"
     ]
    },
    {
     "name": "stdout",
     "output_type": "stream",
     "text": [
      "three\n"
     ]
    }
   ],
   "source": [
    "def numfind(num):\n",
    "    if num == 1:\n",
    "        print(\"one\")\n",
    "    elif num == 2:\n",
    "        print(\"two\")\n",
    "    elif num == 3:\n",
    "        print(\"three\")\n",
    "    elif num == 4:\n",
    "        print(\"four\")\n",
    "    else:\n",
    "        print(\"enter a valid num\")\n",
    "num = eval(input(\"enter num :\"))\n",
    "numfind(num)"
   ]
  },
  {
   "cell_type": "markdown",
   "id": "20f3c7cf-5853-4955-937f-60a576e37777",
   "metadata": {},
   "source": [
    "# que 13:"
   ]
  },
  {
   "cell_type": "markdown",
   "id": "7c509e1d-a3f7-4829-804c-69327fbddf87",
   "metadata": {},
   "source": [
    "- **function without arguments**"
   ]
  },
  {
   "cell_type": "code",
   "execution_count": 59,
   "id": "284d4e9f-7b26-4f43-a046-59e85bb80ee7",
   "metadata": {},
   "outputs": [
    {
     "name": "stdin",
     "output_type": "stream",
     "text": [
      "enter a num : 4\n"
     ]
    },
    {
     "name": "stdout",
     "output_type": "stream",
     "text": [
      "even\n"
     ]
    }
   ],
   "source": [
    "# wap ask the user enter a number\n",
    "# if that number greater than zero print postive\n",
    "# if that number less than zero print negative\n",
    "# otherwise print zero\n",
    "#=================================================\n",
    "\n",
    "def check1():\n",
    "    num = eval(input(\"enter a num :\"))\n",
    "    if num>0:\n",
    "        print(\"even\")\n",
    "    else:\n",
    "        print(\"negative\")\n",
    "check1()"
   ]
  },
  {
   "cell_type": "markdown",
   "id": "7437059c-053a-44e9-b431-1b7c642f7b9e",
   "metadata": {},
   "source": [
    "- **function with arguments**"
   ]
  },
  {
   "cell_type": "code",
   "execution_count": 60,
   "id": "5393ed24-828f-4031-b43b-9194dc18bc8b",
   "metadata": {},
   "outputs": [
    {
     "name": "stdin",
     "output_type": "stream",
     "text": [
      "enter a num : 3\n"
     ]
    },
    {
     "name": "stdout",
     "output_type": "stream",
     "text": [
      "even\n"
     ]
    }
   ],
   "source": [
    "def check1(num):\n",
    "    num = eval(input(\"enter a num :\"))\n",
    "    if num>0:\n",
    "        print(\"even\")\n",
    "    else:\n",
    "        print(\"negative\")\n",
    "check1(num)"
   ]
  },
  {
   "cell_type": "markdown",
   "id": "f145c241-a98c-4298-840d-ef3109a230c8",
   "metadata": {},
   "source": [
    "# que 14:"
   ]
  },
  {
   "cell_type": "markdown",
   "id": "cd1913d5-c665-4f4e-8fa6-737b689fdf85",
   "metadata": {},
   "source": [
    "- **function without arguments**"
   ]
  },
  {
   "cell_type": "code",
   "execution_count": 61,
   "id": "b6d55bdf-e3a2-4305-bfe4-652dd8b7ec48",
   "metadata": {},
   "outputs": [
    {
     "name": "stdin",
     "output_type": "stream",
     "text": [
      "enter the marks percentage  44\n"
     ]
    },
    {
     "name": "stdout",
     "output_type": "stream",
     "text": [
      "d grade\n"
     ]
    }
   ],
   "source": [
    "# WAP ask the user enter the percentage of marks 0 to 100\n",
    "# if percentagw gretaer than 90  print A garde\n",
    "# if percentage between 75 to 90 print B garde\n",
    "# if percentage between 50 to 75 print C grade\n",
    "# if percentage between 35 to 50 print D grade\n",
    "# if percentage less than 35 print Fail\n",
    "#=========================================================\n",
    "\n",
    "def grade_eval():\n",
    "    percent_marks = eval(input(\"enter the marks percentage \"))\n",
    "    if percent_marks > 90:\n",
    "        print(\"a grade\")\n",
    "    elif percent_marks >75 and percent_marks < 90:\n",
    "        print(\"b grade\")\n",
    "    elif percent_marks >50 and percent_marks < 75:\n",
    "        print(\"c grade\")\n",
    "    elif percent_marks >35 and percent_marks < 50:\n",
    "        print(\"d grade\")\n",
    "    else:\n",
    "        print(\"fail\")\n",
    "grade_eval()"
   ]
  },
  {
   "cell_type": "markdown",
   "id": "9e202b8a-1bc4-499c-91ff-0bf516679e5e",
   "metadata": {},
   "source": [
    "- **function with arguments**"
   ]
  },
  {
   "cell_type": "code",
   "execution_count": 65,
   "id": "97a49ad6-4752-408d-8fa1-d2196db1ad10",
   "metadata": {},
   "outputs": [
    {
     "name": "stdin",
     "output_type": "stream",
     "text": [
      "enter the marks percentage  55\n"
     ]
    },
    {
     "name": "stdout",
     "output_type": "stream",
     "text": [
      "c grade\n"
     ]
    }
   ],
   "source": [
    "def grade_eval(percent_marks):\n",
    "    percent_marks = eval(input(\"enter the marks percentage \"))\n",
    "    if percent_marks > 90:\n",
    "        print(\"a grade\")\n",
    "    elif percent_marks >75 and percent_marks < 90:\n",
    "        print(\"b grade\")\n",
    "    elif percent_marks >50 and percent_marks < 75:\n",
    "        print(\"c grade\")\n",
    "    elif percent_marks >35 and percent_marks < 50:\n",
    "        print(\"d grade\")\n",
    "    else:\n",
    "        print(\"fail\")\n",
    "\n",
    "grade_eval(percent_marks)"
   ]
  },
  {
   "cell_type": "markdown",
   "id": "8ebf8436-2f1b-4004-89cc-d6e9d75d5f7e",
   "metadata": {},
   "source": [
    "# que 15:"
   ]
  },
  {
   "cell_type": "markdown",
   "id": "2c73e906-06c5-43df-b1a5-86edeb1dc7c1",
   "metadata": {},
   "source": [
    "- **function without arguments**"
   ]
  },
  {
   "cell_type": "code",
   "execution_count": 67,
   "id": "02d995f5-20e5-40b9-8af8-73292dfa65bb",
   "metadata": {},
   "outputs": [
    {
     "name": "stdin",
     "output_type": "stream",
     "text": [
      "enter your age: 21\n"
     ]
    },
    {
     "name": "stdout",
     "output_type": "stream",
     "text": [
      "you are a young person\n"
     ]
    }
   ],
   "source": [
    "# WAP ask the user enter the age\n",
    "# if the age greater tahn 100 print you are lucky\n",
    "# if the age gretaer than 75 print old age\n",
    "# if the age  between 50 to 75 print ss\n",
    "# if the age between  30 tp 50 print MA\n",
    "# if the age between  15 to 30 print young age\n",
    "# if the afe between less than 15 print kid\n",
    "#====================================================\n",
    "def old():\n",
    "    age = eval(input(\"enter your age:\"))\n",
    "    if age > 100 :\n",
    "        print(\"you are lucky \")\n",
    "    elif age > 75 :\n",
    "        print(\"you are an old age person\")\n",
    "    elif age >= 50 and age <= 75:\n",
    "        print(\"you are an SS\")\n",
    "    elif age >= 30 and age <= 50:\n",
    "        print(\"you are an MA\")\n",
    "    elif age >= 15 and age <= 30:\n",
    "        print(\"you are a young person\")\n",
    "    else:\n",
    "        print(\"you are a kid\")\n",
    "old()"
   ]
  },
  {
   "cell_type": "markdown",
   "id": "33e5e6cf-a812-41f0-9318-d3c07d78a879",
   "metadata": {},
   "source": [
    "- **function with arguments**"
   ]
  },
  {
   "cell_type": "code",
   "execution_count": 71,
   "id": "3ae92db4-9a1f-4238-9869-880d84082622",
   "metadata": {},
   "outputs": [
    {
     "name": "stdin",
     "output_type": "stream",
     "text": [
      "enter your age: 21\n"
     ]
    },
    {
     "name": "stdout",
     "output_type": "stream",
     "text": [
      "you are a young person\n"
     ]
    }
   ],
   "source": [
    "def old(age):\n",
    "    if age > 100 :\n",
    "        print(\"you are lucky \")\n",
    "    elif age > 75 :\n",
    "        print(\"you are an old age person\")\n",
    "    elif age >= 50 and age <= 75:\n",
    "        print(\"you are an SS\")\n",
    "    elif age >= 30 and age <= 50:\n",
    "        print(\"you are an MA\")\n",
    "    elif age >= 15 and age <= 30:\n",
    "        print(\"you are a young person\")\n",
    "    else:\n",
    "        print(\"you are a kid\")\n",
    "age = eval(input(\"enter your age:\"))\n",
    "old(age)"
   ]
  },
  {
   "cell_type": "code",
   "execution_count": null,
   "id": "d49fceff-d012-444a-ad83-4943199d823c",
   "metadata": {},
   "outputs": [],
   "source": [
    "def addition2()"
   ]
  }
 ],
 "metadata": {
  "kernelspec": {
   "display_name": "Python 3 (ipykernel)",
   "language": "python",
   "name": "python3"
  },
  "language_info": {
   "codemirror_mode": {
    "name": "ipython",
    "version": 3
   },
   "file_extension": ".py",
   "mimetype": "text/x-python",
   "name": "python",
   "nbconvert_exporter": "python",
   "pygments_lexer": "ipython3",
   "version": "3.11.4"
  }
 },
 "nbformat": 4,
 "nbformat_minor": 5
}
