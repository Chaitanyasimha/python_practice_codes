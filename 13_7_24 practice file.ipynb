{
 "cells": [
  {
   "cell_type": "code",
   "execution_count": null,
   "id": "8684fccb-c6de-47ac-8d7c-ae9158e60913",
   "metadata": {},
   "outputs": [],
   "source": []
  },
  {
   "cell_type": "code",
   "execution_count": 3,
   "id": "91e10c5c-81b7-4200-883a-9cfd51930e25",
   "metadata": {},
   "outputs": [
    {
     "name": "stdin",
     "output_type": "stream",
     "text": [
      " 123\n"
     ]
    },
    {
     "name": "stdout",
     "output_type": "stream",
     "text": [
      "True\n",
      "False\n",
      "True\n",
      "False\n",
      "False\n"
     ]
    }
   ],
   "source": [
    "string = input()\n",
    "for i in range(len(string)):\n",
    "    a = string[i].isalnum()\n",
    "    if string[i].isalnum():\n",
    "        print(string[i].isalnum())\n",
    "        break\n",
    "if a != True and a == False:\n",
    "    print(\"False\")\n",
    "\n",
    "\n",
    "\n",
    "\n",
    "for i in range(len(string)):\n",
    "    a = string[i].isalpha()\n",
    "    if string[i].isalpha():\n",
    "        print(string[i].isalpha())\n",
    "        break\n",
    "if a != True and a == False:\n",
    "    print(\"False\")\n",
    "        \n",
    "        \n",
    "        \n",
    "for i in range(len(string)):\n",
    "    a = string[i].isdigit()\n",
    "    if string[i].isdigit():\n",
    "        print(string[i].isdigit())\n",
    "        break\n",
    "if a != True and a == False:\n",
    "    print(\"False\")\n",
    "        \n",
    "           \n",
    "for i in range(len(string)):\n",
    "    a = string[i].islower()\n",
    "    if string[i].islower():\n",
    "        print(string[i].islower())\n",
    "        break\n",
    "if a != True and a == False:\n",
    "    print(\"False\")\n",
    "  \n",
    "  \n",
    "        \n",
    "for i in range(len(string)):\n",
    "    a = string[i].isupper()\n",
    "    if string[i].isupper():\n",
    "        print(string[i].isupper())\n",
    "        break\n",
    "if a != True and a == False:\n",
    "    print(\"False\")\n",
    "        "
   ]
  },
  {
   "cell_type": "code",
   "execution_count": 5,
   "id": "0fce9fac-2c6d-42d8-8a48-e68343095e78",
   "metadata": {},
   "outputs": [
    {
     "data": {
      "text/plain": [
       "True"
      ]
     },
     "execution_count": 5,
     "metadata": {},
     "output_type": "execute_result"
    }
   ],
   "source": [
    "any(c.isalnum() for c in string)"
   ]
  },
  {
   "cell_type": "code",
   "execution_count": 42,
   "id": "2cafc8c8-663d-470f-9ebb-a84b76047647",
   "metadata": {},
   "outputs": [
    {
     "name": "stdin",
     "output_type": "stream",
     "text": [
      " 5\n"
     ]
    },
    {
     "name": "stdout",
     "output_type": "stream",
     "text": [
      "    H    \n",
      "   HHH   \n",
      "  HHHHH  \n",
      " HHHHHHH \n",
      "HHHHHHHHH\n"
     ]
    }
   ],
   "source": [
    "#Replace all ______ with rjust, ljust or center. \n",
    "\n",
    "thickness = int(input()) #This must be an odd number\n",
    "c = 'H'\n",
    "\n",
    "#Top Cone\n",
    "for i in range(thickness):\n",
    "    print((c*i).rjust(thickness-1)+c+(c*i).ljust(thickness-1))\n",
    "    #here when ever multiplying a string to anb number you will get that many strings"
   ]
  },
  {
   "cell_type": "code",
   "execution_count": 86,
   "id": "662d2943-c7fe-4ecc-a422-94821b33dc33",
   "metadata": {},
   "outputs": [
    {
     "name": "stdout",
     "output_type": "stream",
     "text": [
      "    H    \n",
      "   HHH   \n",
      "  HHHHH  \n",
      " HHHHHHH \n",
      "HHHHHHHHH\n",
      "  HHHHH               HHHHH             \n",
      "  HHHHH               HHHHH             \n",
      "  HHHHH               HHHHH             \n",
      "  HHHHH               HHHHH             \n",
      "  HHHHH               HHHHH             \n",
      "  HHHHH               HHHHH             \n",
      "  HHHHHHHHHHHHHHHHHHHHHHHHH\n",
      "  HHHHHHHHHHHHHHHHHHHHHHHHH\n",
      "  HHHHHHHHHHHHHHHHHHHHHHHHH\n",
      "  HHHHH               HHHHH             \n",
      "  HHHHH               HHHHH             \n",
      "  HHHHH               HHHHH             \n",
      "  HHHHH               HHHHH             \n",
      "  HHHHH               HHHHH             \n",
      "  HHHHH               HHHHH             \n",
      "                                                                                                                  HHHHHHHHHHH\n",
      "                                                                                                                  HHHH HHHHH \n",
      "                                                                                                                  HHH  HHHH  \n",
      "                                                                                                                  HH   HHH   \n",
      "                                                                                                                  H    HH    \n"
     ]
    }
   ],
   "source": [
    "for i in range(thickness):\n",
    "    print((c*i).rjust(thickness-1)+c+(c*i).ljust(thickness-1))\n",
    "#Top Pillars\n",
    "for i in range(thickness+1):\n",
    "    print((c*thickness).center(thickness*2)+(c*thickness).center(thickness*6))\n",
    "#body \n",
    "for i in range(thickness-2):\n",
    "    print((c*thickness*thickness).rjust(thickness*thickness+int(thickness/2)))#the normal divide sym is float but // is int \n",
    "#if we want to move the letters the number that is in argument has to be bigger than the \n",
    "#no of times the symbol has been repeated\n",
    "for i in range(thickness+1):\n",
    "    print((c*thickness).center(thickness*2)+(c*thickness).center(thickness*6))\n",
    "#this error of huge gap between the two figures is because the(value i have given is 3times of the actual size from the \"center\")\n",
    "#consider using center and you will see a minimised gap\n",
    "for i in range(thickness):\n",
    "    print(((c*(thickness-i)).ljust(thickness)+c+(c*(thickness-i)).ljust(thickness)).rjust(thickness**3))"
   ]
  },
  {
   "cell_type": "code",
   "execution_count": 85,
   "id": "09c8ac0a-b11f-479f-8ea1-5330b4ef0413",
   "metadata": {},
   "outputs": [
    {
     "name": "stdout",
     "output_type": "stream",
     "text": [
      "    H    \n",
      "   HHH   \n",
      "  HHHHH  \n",
      " HHHHHHH \n",
      "HHHHHHHHH\n",
      "  HHHHH               HHHHH             \n",
      "  HHHHH               HHHHH             \n",
      "  HHHHH               HHHHH             \n",
      "  HHHHH               HHHHH             \n",
      "  HHHHH               HHHHH             \n",
      "  HHHHH               HHHHH             \n",
      "  HHHHHHHHHHHHHHHHHHHHHHHHH\n",
      "  HHHHHHHHHHHHHHHHHHHHHHHHH\n",
      "  HHHHHHHHHHHHHHHHHHHHHHHHH\n",
      "  HHHHH               HHHHH             \n",
      "  HHHHH               HHHHH             \n",
      "  HHHHH               HHHHH             \n",
      "  HHHHH               HHHHH             \n",
      "  HHHHH               HHHHH             \n",
      "  HHHHH               HHHHH             \n",
      "                                                         HHHHHHHHHHH                                                         \n",
      "                                                         HHHH HHHHH                                                          \n",
      "                                                         HHH  HHHH                                                           \n",
      "                                                         HH   HHH                                                            \n",
      "                                                         H    HH                                                             \n"
     ]
    }
   ],
   "source": [
    "for i in range(thickness):\n",
    "    print((c*i).rjust(thickness-1)+c+(c*i).ljust(thickness-1))\n",
    "#Top Pillars\n",
    "for i in range(thickness+1):\n",
    "    print((c*thickness).center(thickness*2)+(c*thickness).center(thickness*6))\n",
    "#body \n",
    "for i in range(thickness-2):\n",
    "    print((c*thickness*thickness).rjust(thickness*thickness+int(thickness/2)))#the normal divide sym is float but // is int \n",
    "#if we want to move the letters the number that is in argument has to be bigger than the \n",
    "#no of times the symbol has been repeated\n",
    "for i in range(thickness+1):\n",
    "    print((c*thickness).center(thickness*2)+(c*thickness).center(thickness*6))\n",
    "#this error of huge gap between the two figures is because the(value i have given is 3times of the actual size from the \"center\")\n",
    "#consider using center and you will see a minimised gap\n",
    "for i in range(thickness):\n",
    "    print(((c*(thickness-i)).ljust(thickness)+c+(c*(thickness-i)).ljust(thickness)).center(thickness**3))"
   ]
  },
  {
   "cell_type": "code",
   "execution_count": 89,
   "id": "a78c2b61-9506-4869-80ec-0b3cb9bcf50c",
   "metadata": {},
   "outputs": [
    {
     "name": "stdout",
     "output_type": "stream",
     "text": [
      "    H    \n",
      "   HHH   \n",
      "  HHHHH  \n",
      " HHHHHHH \n",
      "HHHHHHHHH\n",
      "  HHHHH               HHHHH             \n",
      "  HHHHH               HHHHH             \n",
      "  HHHHH               HHHHH             \n",
      "  HHHHH               HHHHH             \n",
      "  HHHHH               HHHHH             \n",
      "  HHHHH               HHHHH             \n",
      "  HHHHHHHHHHHHHHHHHHHHHHHHH\n",
      "  HHHHHHHHHHHHHHHHHHHHHHHHH\n",
      "  HHHHHHHHHHHHHHHHHHHHHHHHH\n",
      "  HHHHH               HHHHH             \n",
      "  HHHHH               HHHHH             \n",
      "  HHHHH               HHHHH             \n",
      "  HHHHH               HHHHH             \n",
      "  HHHHH               HHHHH             \n",
      "  HHHHH               HHHHH             \n",
      "HHHHHHHHHHH                                                                                                                  \n",
      "HHHH HHHHH                                                                                                                   \n",
      "HHH  HHHH                                                                                                                    \n",
      "HH   HHH                                                                                                                     \n",
      "H    HH                                                                                                                      \n"
     ]
    }
   ],
   "source": [
    "for i in range(thickness):\n",
    "    print((c*i).rjust(thickness-1)+c+(c*i).ljust(thickness-1))\n",
    "#Top Pillars\n",
    "for i in range(thickness+1):\n",
    "    print((c*thickness).center(thickness*2)+(c*thickness).center(thickness*6))\n",
    "#body \n",
    "for i in range(thickness-2):\n",
    "    print((c*thickness*thickness).rjust(thickness*thickness+int(thickness/2)))#the normal divide sym is float but // is int \n",
    "#if we want to move the letters the number that is in argument has to be bigger than the \n",
    "#no of times the symbol has been repeated\n",
    "for i in range(thickness+1):\n",
    "    print((c*thickness).center(thickness*2)+(c*thickness).center(thickness*6))\n",
    "#this error of huge gap between the two figures is because the(value i have given is 3times of the actual size from the \"center\")\n",
    "#consider using center and you will see a minimised gap\n",
    "#note : \"now you see the gap go to zero because its defaultly inward to left and when you try to give so much number for the gap this happen\"\n",
    "for i in range(thickness):\n",
    "    print(((c*(thickness-i)).ljust(thickness)+c+(c*(thickness-i)).ljust(thickness)).ljust(thickness**3))"
   ]
  },
  {
   "cell_type": "code",
   "execution_count": 92,
   "id": "6589494e-1dc5-4dac-957e-279884c6e439",
   "metadata": {},
   "outputs": [
    {
     "name": "stdout",
     "output_type": "stream",
     "text": [
      "    H    \n",
      "   HHH   \n",
      "  HHHHH  \n",
      " HHHHHHH \n",
      "HHHHHHHHH\n",
      "  HHHHH               HHHHH             \n",
      "  HHHHH               HHHHH             \n",
      "  HHHHH               HHHHH             \n",
      "  HHHHH               HHHHH             \n",
      "  HHHHH               HHHHH             \n",
      "  HHHHH               HHHHH             \n",
      "  HHHHHHHHHHHHHHHHHHHHHHHHH\n",
      "  HHHHHHHHHHHHHHHHHHHHHHHHH\n",
      "  HHHHHHHHHHHHHHHHHHHHHHHHH\n",
      "  HHHHH               HHHHH             \n",
      "  HHHHH               HHHHH             \n",
      "  HHHHH               HHHHH             \n",
      "  HHHHH               HHHHH             \n",
      "  HHHHH               HHHHH             \n",
      "  HHHHH               HHHHH             \n",
      "HHHHHHHHHHH                                                                                                                  \n",
      " HHHHHHHHH                                                                                                                   \n",
      "  HHHHHHH                                                                                                                    \n",
      "   HHHHH                                                                                                                     \n",
      "    HHH                                                                                                                      \n"
     ]
    }
   ],
   "source": [
    "for i in range(thickness):\n",
    "    print((c*i).rjust(thickness-1)+c+(c*i).ljust(thickness-1))\n",
    "#Top Pillars\n",
    "for i in range(thickness+1):\n",
    "    print((c*thickness).center(thickness*2)+(c*thickness).center(thickness*6))\n",
    "#body \n",
    "for i in range(thickness-2):\n",
    "    print((c*thickness*thickness).rjust(thickness*thickness+int(thickness/2)))#the normal divide sym is float but // is int \n",
    "#if we want to move the letters the number that is in argument has to be bigger than the \n",
    "#no of times the symbol has been repeated\n",
    "for i in range(thickness+1):\n",
    "    print((c*thickness).center(thickness*2)+(c*thickness).center(thickness*6))\n",
    "#this error of huge gap between the two figures is because the(value i have given is 3times of the actual size from the \"center\")\n",
    "#consider using center and you will see a minimised gap\n",
    "#note : \"now you see the gap go to zero because its defaultly inward to left and when you try to give so much number for the gap this happen\"\n",
    "for i in range(thickness):\n",
    "    print(((c*(thickness-i)).rjust(thickness)+c+(c*(thickness-i)).ljust(thickness)).ljust(thickness**3))\n",
    "#try to push thde creasing of the left part to right by pushing it into right and the slope will change to rightside"
   ]
  },
  {
   "cell_type": "code",
   "execution_count": 101,
   "id": "f6860d1b-223a-480d-8df2-b0d3d98eb980",
   "metadata": {},
   "outputs": [
    {
     "name": "stdout",
     "output_type": "stream",
     "text": [
      "    H    \n",
      "   HHH   \n",
      "  HHHHH  \n",
      " HHHHHHH \n",
      "HHHHHHHHH\n",
      "  HHHHH               HHHHH             \n",
      "  HHHHH               HHHHH             \n",
      "  HHHHH               HHHHH             \n",
      "  HHHHH               HHHHH             \n",
      "  HHHHH               HHHHH             \n",
      "  HHHHH               HHHHH             \n",
      "  HHHHHHHHHHHHHHHHHHHHHHHHH\n",
      "  HHHHHHHHHHHHHHHHHHHHHHHHH\n",
      "  HHHHHHHHHHHHHHHHHHHHHHHHH\n",
      "  HHHHH               HHHHH             \n",
      "  HHHHH               HHHHH             \n",
      "  HHHHH               HHHHH             \n",
      "  HHHHH               HHHHH             \n",
      "  HHHHH               HHHHH             \n",
      "  HHHHH               HHHHH             \n",
      " HHHHHHHHH                                                                                                                   \n",
      "  HHHHHHH                                                                                                                    \n",
      "   HHHHH                                                                                                                     \n",
      "    HHH                                                                                                                      \n",
      "     H                                                                                                                       \n"
     ]
    }
   ],
   "source": [
    "for i in range(thickness):\n",
    "    print((c*i).rjust(thickness-1)+c+(c*i).ljust(thickness-1))\n",
    "#Top Pillars\n",
    "for i in range(thickness+1):\n",
    "    print((c*thickness).center(thickness*2)+(c*thickness).center(thickness*6))\n",
    "#body \n",
    "for i in range(thickness-2):\n",
    "    print((c*thickness*thickness).rjust(thickness*thickness+int(thickness/2)))#the normal divide sym is float but // is int \n",
    "#if we want to move the letters the number that is in argument has to be bigger than the \n",
    "#no of times the symbol has been repeated\n",
    "for i in range(thickness+1):\n",
    "    print((c*thickness).center(thickness*2)+(c*thickness).center(thickness*6))\n",
    "#this error of huge gap between the two figures is because the(value i have given is 3times of the actual size from the \"center\")\n",
    "#consider using center and you will see a minimised gap\n",
    "#note : \"now you see the gap go to zero because its defaultly inward to left and when you try to give so much number for the gap this happen\"\n",
    "for i in range(thickness):\n",
    "    print(((c*(thickness-i-1)).rjust(thickness)+c+(c*(thickness-i-1)).ljust(thickness)).ljust(thickness**3))\n",
    "#try to push thde creasing of the left part to right by pushing it into right and the slope will change to rightside\n",
    "#in the lower crown part(you have multiplied everthing from(c*(thickness-i)) this includes i from 0 to 4,c*4,3,2,1)\n",
    "#because i is from zero intialy there us no reduction done so add -1 to perfect the crown"
   ]
  },
  {
   "cell_type": "code",
   "execution_count": null,
   "id": "e7ba445e-bcf8-4daf-aac6-21bb03fc6bb2",
   "metadata": {},
   "outputs": [],
   "source": [
    "#now thats a perfect picture"
   ]
  },
  {
   "cell_type": "code",
   "execution_count": 28,
   "id": "bd17f598-eaf7-4d0d-86f3-d00649ed1b8e",
   "metadata": {},
   "outputs": [
    {
     "name": "stdout",
     "output_type": "stream",
     "text": [
      "   H   \n",
      "  HHH  \n",
      " HHHHH \n",
      "HHHHHHH\n",
      "HHHH\n",
      "HHHH\n",
      "HHHH\n",
      "HHHH\n"
     ]
    }
   ],
   "source": [
    "for i in range(thickness):\n",
    "    print((c*i).rjust(thickness-1)+c+(c*i).ljust(thickness-1))\n",
    "for j in range(thickness):\n",
    "    print((c*thickness).center(thickness))"
   ]
  },
  {
   "cell_type": "code",
   "execution_count": 104,
   "id": "7eefb0d3-5626-457f-9dbd-a9cee2562fdb",
   "metadata": {},
   "outputs": [
    {
     "name": "stdout",
     "output_type": "stream",
     "text": [
      "    H    \n",
      "   HHH   \n",
      "  HHHHH  \n",
      " HHHHHHH \n",
      "HHHHHHHHH\n",
      "  HHHHH               HHHHH             \n",
      "  HHHHH               HHHHH             \n",
      "  HHHHH               HHHHH             \n",
      "  HHHHH               HHHHH             \n",
      "  HHHHH               HHHHH             \n",
      "  HHHHH               HHHHH             \n",
      "  HHHHHHHHHHHHHHHHHHHHHHHHH\n",
      "  HHHHHHHHHHHHHHHHHHHHHHHHH\n",
      "  HHHHHHHHHHHHHHHHHHHHHHHHH\n",
      "  HHHHH               HHHHH             \n",
      "  HHHHH               HHHHH             \n",
      "  HHHHH               HHHHH             \n",
      "  HHHHH               HHHHH             \n",
      "  HHHHH               HHHHH             \n",
      "  HHHHH               HHHHH             \n",
      "                    HHHHHHHHH \n",
      "                     HHHHHHH  \n",
      "                      HHHHH   \n",
      "                       HHH    \n",
      "                        H     \n"
     ]
    }
   ],
   "source": [
    "for i in range(thickness):\n",
    "    print((c*i).rjust(thickness-1)+c+(c*i).ljust(thickness-1))\n",
    "#Top Pillars\n",
    "for i in range(thickness+1):\n",
    "    print((c*thickness).center(thickness*2)+(c*thickness).center(thickness*6))\n",
    "#body \n",
    "for i in range(thickness-2):\n",
    "    print((c*thickness*thickness).rjust(thickness*thickness+int(thickness/2)))#the normal divide sym is float but // is int \n",
    "#if we want to move the letters the number that is in argument has to be bigger than the \n",
    "#no of times the symbol has been repeated\n",
    "for i in range(thickness+1):\n",
    "    print((c*thickness).center(thickness*2)+(c*thickness).center(thickness*6))\n",
    "#this error of huge gap between the two figures is because the(value i have given is 3times of the actual size from the \"center\")\n",
    "#consider using center and you will see a minimised gap\n",
    "#note : \"now you see the gap go to zero because its defaultly inward to left and when you try to give so much number for the gap this happen\"\n",
    "for i in range(thickness):\n",
    "    print(((c*(thickness-i-1)).rjust(thickness)+c+(c*(thickness-i-1)).ljust(thickness)).rjust(thickness**2+thickness))\n",
    "#try to push thde creasing of the left part to right by pushing it into right and the slope will change to rightside\n",
    "\n",
    "#in the lower crown part(you have multiplied everthing from(c*(thickness-i)) this includes i from 0 to 4,c*4,3,2,1)\n",
    "#because i is from zero intialy there us no reduction done so add -1 to perfect the crown\n",
    "\n",
    "#now align the crown the right place give the right amount of space and do it from the center"
   ]
  },
  {
   "cell_type": "code",
   "execution_count": 12,
   "id": "9440e4d3-e396-4fd6-9dd3-7221589df87f",
   "metadata": {},
   "outputs": [
    {
     "data": {
      "text/plain": [
       "'hhhh'"
      ]
     },
     "execution_count": 12,
     "metadata": {},
     "output_type": "execute_result"
    }
   ],
   "source": [
    "s = \"h\"\n",
    "n = 4\n",
    "s*n"
   ]
  },
  {
   "cell_type": "code",
   "execution_count": 100,
   "id": "01308267-2ac1-4b50-9425-809e300cc19e",
   "metadata": {},
   "outputs": [
    {
     "data": {
      "text/plain": [
       "'h'"
      ]
     },
     "execution_count": 100,
     "metadata": {},
     "output_type": "execute_result"
    }
   ],
   "source": [
    "(s*1).center(1)"
   ]
  },
  {
   "cell_type": "code",
   "execution_count": null,
   "id": "6fe967ee-9f6b-473f-8aba-745c7263566e",
   "metadata": {},
   "outputs": [],
   "source": [
    "#understand that whenever seeing \"ljust\" :you will see the string will thrown towards leftside\n",
    "#understand that whenever seeing \"rjust\" :you wil see the string will thrown towards rightside\n",
    "#and \"center\" will be thrown in to center from left and right with the same number \n",
    "# ex: if i.center(4) you will be seeing something like this : ----i-----"
   ]
  },
  {
   "cell_type": "code",
   "execution_count": null,
   "id": "fda68fec-6461-465d-bbcc-2173a2c84dc7",
   "metadata": {},
   "outputs": [],
   "source": [
    "#Top Pillars\n",
    "for j in range(thickness+1):\n",
    "    print((c*thickness).center(thickness*2)+(c*thickness).rjust(thickness*6))\n"
   ]
  },
  {
   "cell_type": "code",
   "execution_count": null,
   "id": "a785fcb6-51ea-4abc-be11-77a5eb157193",
   "metadata": {},
   "outputs": [],
   "source": [
    "for i in range(thickness):\n",
    "    print(((c*(thickness-i-1)).rjust(thickness)+c+(c*(thickness-i-1)).ljust(thickness)).rjust(thickness*6))"
   ]
  },
  {
   "cell_type": "code",
   "execution_count": 105,
   "id": "a7b63302-34e2-4a6d-978f-81cc3a13b3d0",
   "metadata": {},
   "outputs": [
    {
     "name": "stdout",
     "output_type": "stream",
     "text": [
      "*******\n",
      "*    *\n",
      "*   *\n",
      "*  *\n",
      " * ***\n",
      " *  *\n",
      " * *\n",
      " *\n"
     ]
    }
   ],
   "source": [
    "print(\"*******\")\n",
    "print(\"*    *\")\n",
    "print(\"*   *\")\n",
    "print(\"*  *\")\n",
    "print(\" * ***\")\n",
    "print(\" *  *\")\n",
    "print(\" * *\")\n",
    "print(\" *\")"
   ]
  },
  {
   "cell_type": "code",
   "execution_count": 108,
   "id": "26a2914c-c089-45c7-b6c2-397ffaf719b9",
   "metadata": {},
   "outputs": [
    {
     "name": "stdout",
     "output_type": "stream",
     "text": [
      "  \n",
      "    H    \n",
      "   HHH   \n",
      "  HHHHH  \n",
      " HHHHHHH \n",
      "HHHHHHHHH\n",
      "  HHHHH               HHHHH             \n",
      "  HHHHH               HHHHH             \n",
      "  HHHHH               HHHHH             \n",
      "  HHHHH               HHHHH             \n",
      "  HHHHH               HHHHH             \n",
      "  HHHHH               HHHHH             \n",
      "  HHHHHHHHHHHHHHHHHHHHHHHHH\n",
      "  HHHHHHHHHHHHHHHHHHHHHHHHH\n",
      "  HHHHHHHHHHHHHHHHHHHHHHHHH\n",
      "  HHHHH               HHHHH             \n",
      "  HHHHH               HHHHH             \n",
      "  HHHHH               HHHHH             \n",
      "  HHHHH               HHHHH             \n",
      "  HHHHH               HHHHH             \n",
      "  HHHHH               HHHHH             \n",
      "                    HHHHHHHHH \n",
      "                     HHHHHHH  \n",
      "                      HHHHH   \n",
      "                       HHH    \n",
      "                        H     \n"
     ]
    }
   ],
   "source": [
    "print(\"\"\"  \n",
    "    H    \n",
    "   HHH   \n",
    "  HHHHH  \n",
    " HHHHHHH \n",
    "HHHHHHHHH\n",
    "  HHHHH               HHHHH             \n",
    "  HHHHH               HHHHH             \n",
    "  HHHHH               HHHHH             \n",
    "  HHHHH               HHHHH             \n",
    "  HHHHH               HHHHH             \n",
    "  HHHHH               HHHHH             \n",
    "  HHHHHHHHHHHHHHHHHHHHHHHHH\n",
    "  HHHHHHHHHHHHHHHHHHHHHHHHH\n",
    "  HHHHHHHHHHHHHHHHHHHHHHHHH\n",
    "  HHHHH               HHHHH             \n",
    "  HHHHH               HHHHH             \n",
    "  HHHHH               HHHHH             \n",
    "  HHHHH               HHHHH             \n",
    "  HHHHH               HHHHH             \n",
    "  HHHHH               HHHHH             \n",
    "                    HHHHHHHHH \n",
    "                     HHHHHHH  \n",
    "                      HHHHH   \n",
    "                       HHH    \n",
    "                        H     \"\"\")\n",
    "#this does not work good if you would be asked with some other sizes it would consume a hell of time for that..."
   ]
  },
  {
   "cell_type": "code",
   "execution_count": 181,
   "id": "1aea2027-a30d-4a7d-a2ed-99f19b894aa9",
   "metadata": {},
   "outputs": [
    {
     "ename": "IndexError",
     "evalue": "string index out of range",
     "output_type": "error",
     "traceback": [
      "\u001b[1;31m---------------------------------------------------------------------------\u001b[0m",
      "\u001b[1;31mIndexError\u001b[0m                                Traceback (most recent call last)",
      "Cell \u001b[1;32mIn[181], line 3\u001b[0m\n\u001b[0;32m      1\u001b[0m s \u001b[38;5;241m=\u001b[39m \u001b[38;5;124m\"\u001b[39m\u001b[38;5;124m1 w 2 r 3g\u001b[39m\u001b[38;5;124m\"\u001b[39m \u001b[38;5;66;03m#they have asked to make a string to a title case but have kept a trickerycondition in there\u001b[39;00m\n\u001b[0;32m      2\u001b[0m \u001b[38;5;28;01mfor\u001b[39;00m i \u001b[38;5;129;01min\u001b[39;00m \u001b[38;5;28mrange\u001b[39m (\u001b[38;5;28mlen\u001b[39m(s)):\u001b[38;5;66;03m#that is \"if i runb into a number first after the gap the letter that will come after it----\" \u001b[39;00m\n\u001b[1;32m----> 3\u001b[0m     \u001b[38;5;28;01mif\u001b[39;00m \u001b[43ms\u001b[49m\u001b[43m[\u001b[49m\u001b[43mi\u001b[49m\u001b[43m]\u001b[49m\u001b[38;5;241m.\u001b[39misdigit(): \u001b[38;5;66;03m#it does not need to change to uppercase letter\u001b[39;00m\n\u001b[0;32m      4\u001b[0m         \u001b[38;5;28;01mif\u001b[39;00m s[i\u001b[38;5;241m+\u001b[39m\u001b[38;5;241m1\u001b[39m] \u001b[38;5;241m!=\u001b[39m \u001b[38;5;124m\"\u001b[39m\u001b[38;5;124m \u001b[39m\u001b[38;5;124m\"\u001b[39m:\n\u001b[0;32m      5\u001b[0m             \u001b[38;5;28mprint\u001b[39m(\u001b[38;5;124m\"\u001b[39m\u001b[38;5;124myeah\u001b[39m\u001b[38;5;124m\"\u001b[39m)                  \u001b[38;5;66;03m#\"1 w 2 r 3g\"\u001b[39;00m\n",
      "\u001b[1;31mIndexError\u001b[0m: string index out of range"
     ]
    }
   ],
   "source": [
    "string = \"1 w 2 r 3g world\" #they have asked to make a string to a title case but have kept a trickerycondition in there\n",
    "for i in range (len(string)):\n",
    "    s = s.title()#that is \"if i runb into a number first after the gap the letter that will come after it----\" \n",
    "    if string[i].isdigit() and i != (len(string)-1): #it does not need to change to uppercase letter\n",
    "        if string[i+1] != \" \":\n",
    "            pr\n",
    "            string = list(string)\n",
    "            string[i+1] = string[i+1].lower()\n",
    "            string = \"\".join(string)title\n",
    "    else:\n",
    "        s = s.title()\n",
    "print(string)#this code is a total failure"
   ]
  },
  {
   "cell_type": "code",
   "execution_count": 203,
   "id": "2356ab09-61e8-4d47-ba7b-40e35a270a59",
   "metadata": {},
   "outputs": [
    {
     "name": "stdout",
     "output_type": "stream",
     "text": [
      "1 W 2 R 3g\n"
     ]
    }
   ],
   "source": [
    "s = \"1 w 2 r 3g\"\n",
    "for i in range (len(s)):#that is \"if i runb into a number first after the gap the letter that will come after it----\" \n",
    "    if s[i].isdigit() and i != (len(s)-1): #it does not need to change to uppercase letter\n",
    "        if s[i+1] != \" \":\n",
    "            s = list(s)\n",
    "            s[i+1] = s[i+1].lower()\n",
    "            s = \"\".join(s)\n",
    "        else:\n",
    "            s = s.title()\n",
    "if any(c.isdigit() for c in s) == False: #IF IT WOUN'T NOT BEEN THIS CODE I WOLD HAVE STILL NOT FOUND THE ANSWER FOR THAT QUESTION\n",
    "    s = s.title()\n",
    "print(s)\n",
    "    \n",
    "############################################################################################################################################\n",
    "###############################################THE ACTUAL FULL FUNCTIONING CODE#############################################################"
   ]
  },
  {
   "cell_type": "code",
   "execution_count": 204,
   "id": "3343a80d-74ce-4ee3-a6bc-86aeefd4fa4c",
   "metadata": {},
   "outputs": [
    {
     "data": {
      "text/plain": [
       "False"
      ]
     },
     "execution_count": 204,
     "metadata": {},
     "output_type": "execute_result"
    }
   ],
   "source": [
    "s.isdigit()\n",
    " #\"1 w 2 r 3g\""
   ]
  },
  {
   "cell_type": "code",
   "execution_count": 206,
   "id": "e129348d-2ba5-4075-a4f6-717d5b0454a3",
   "metadata": {},
   "outputs": [
    {
     "name": "stdout",
     "output_type": "stream",
     "text": [
      "Hello World\n"
     ]
    }
   ],
   "source": [
    "s = \"hello world\"\n",
    "for i in range (len(s)):#that is \"if i runb into a number first after the gap the letter that will come after it----\" \n",
    "    if s[i].isdigit() and i != (len(s)-1): #it does not need to change to uppercase letter\n",
    "        if s[i+1] != \" \":\n",
    "            s = list(s)\n",
    "            s[i+1] = s[i+1].lower()\n",
    "            s = \"\".join(s)\n",
    "        else:\n",
    "            s = s.title()\n",
    "if any(c.isdigit() for c in s) == False:\n",
    "    s = s.title()\n",
    "print(s)   \n",
    "############################################################################################################################################\n",
    "###############################################THE ACTUAL FULL FUNCTIONING CODE#############################################################"
   ]
  },
  {
   "cell_type": "code",
   "execution_count": 189,
   "id": "fc70cfcb-2472-4c1f-a3d8-4500a3dd33d8",
   "metadata": {},
   "outputs": [
    {
     "data": {
      "text/plain": [
       "False"
      ]
     },
     "execution_count": 189,
     "metadata": {},
     "output_type": "execute_result"
    }
   ],
   "source": [
    "s.isdigit()\n",
    " #\"1 w 2 r 3g\""
   ]
  },
  {
   "cell_type": "code",
   "execution_count": 124,
   "id": "c7166a4b-0a18-4c51-98f1-03f6dc5d8676",
   "metadata": {},
   "outputs": [
    {
     "name": "stdout",
     "output_type": "stream",
     "text": [
      "['1', ' ', 'w', ' ', '2', ' ', 'r', ' ', '3', 'g']\n"
     ]
    }
   ],
   "source": [
    "string = list(string)\n",
    "print(string)"
   ]
  },
  {
   "cell_type": "code",
   "execution_count": null,
   "id": "de46d884-b9c6-40de-bf49-42307d1b750f",
   "metadata": {},
   "outputs": [],
   "source": [
    "problems:\n",
    " 1.i didn't considered the fu**ing condition\n",
    " 2.didn't considered the out of index problem for(i+1) condition i have given\n",
    " 3.didn't considered the else condition if the problem does not have a element or alpha after a digit\n",
    " 4,did't considered if it is working also i just focused on the lower case the upper case had to be worked before that..."
   ]
  },
  {
   "cell_type": "code",
   "execution_count": 116,
   "id": "edb1d552-3854-4a78-a41a-d7fa1730821e",
   "metadata": {},
   "outputs": [
    {
     "ename": "KeyError",
     "evalue": "'OUTPUT_PATH'",
     "output_type": "error",
     "traceback": [
      "\u001b[1;31m---------------------------------------------------------------------------\u001b[0m",
      "\u001b[1;31mKeyError\u001b[0m                                  Traceback (most recent call last)",
      "Cell \u001b[1;32mIn[116], line 17\u001b[0m\n\u001b[0;32m     14\u001b[0m     \u001b[38;5;28;01mreturn\u001b[39;00m (s)\n\u001b[0;32m     16\u001b[0m \u001b[38;5;28;01mif\u001b[39;00m \u001b[38;5;18m__name__\u001b[39m \u001b[38;5;241m==\u001b[39m \u001b[38;5;124m'\u001b[39m\u001b[38;5;124m__main__\u001b[39m\u001b[38;5;124m'\u001b[39m:\n\u001b[1;32m---> 17\u001b[0m     fptr \u001b[38;5;241m=\u001b[39m \u001b[38;5;28mopen\u001b[39m(\u001b[43mos\u001b[49m\u001b[38;5;241;43m.\u001b[39;49m\u001b[43menviron\u001b[49m\u001b[43m[\u001b[49m\u001b[38;5;124;43m'\u001b[39;49m\u001b[38;5;124;43mOUTPUT_PATH\u001b[39;49m\u001b[38;5;124;43m'\u001b[39;49m\u001b[43m]\u001b[49m, \u001b[38;5;124m'\u001b[39m\u001b[38;5;124mw\u001b[39m\u001b[38;5;124m'\u001b[39m)\n\u001b[0;32m     19\u001b[0m     s \u001b[38;5;241m=\u001b[39m \u001b[38;5;28minput\u001b[39m()\n\u001b[0;32m     21\u001b[0m     result \u001b[38;5;241m=\u001b[39m solve(s)\n",
      "File \u001b[1;32m<frozen os>:679\u001b[0m, in \u001b[0;36m__getitem__\u001b[1;34m(self, key)\u001b[0m\n",
      "\u001b[1;31mKeyError\u001b[0m: 'OUTPUT_PATH'"
     ]
    }
   ],
   "source": [
    "import math\n",
    "import os\n",
    "import random\n",
    "import re\n",
    "import sys\n",
    "\n",
    "# Complete the solve function below.\n",
    "def solve(s):\n",
    "    for i in range (len(s)):\n",
    "        if s[i].isdigit():\n",
    "            s = list(s)\n",
    "            s[i+1] = s[i+1].lower()\n",
    "            s = \"\".join(s)\n",
    "    return (s)\n",
    "\n",
    "if __name__ == '__main__':\n",
    "    fptr = open(os.environ['OUTPUT_PATH'], 'w')\n",
    "\n",
    "    s = input()\n",
    "\n",
    "    result = solve(s)\n",
    "\n",
    "    fptr.write(result + '\\n')\n",
    "\n",
    "    fptr.close()\n"
   ]
  },
  {
   "cell_type": "code",
   "execution_count": null,
   "id": "22233a6b-382a-40ef-af10-a7e722c9d8b3",
   "metadata": {},
   "outputs": [],
   "source": []
  }
 ],
 "metadata": {
  "kernelspec": {
   "display_name": "Python 3 (ipykernel)",
   "language": "python",
   "name": "python3"
  },
  "language_info": {
   "codemirror_mode": {
    "name": "ipython",
    "version": 3
   },
   "file_extension": ".py",
   "mimetype": "text/x-python",
   "name": "python",
   "nbconvert_exporter": "python",
   "pygments_lexer": "ipython3",
   "version": "3.11.4"
  }
 },
 "nbformat": 4,
 "nbformat_minor": 5
}
