{
 "cells": [
  {
   "cell_type": "code",
   "execution_count": 13,
   "id": "31db997e-92f2-48c9-a73d-069a8d621afe",
   "metadata": {},
   "outputs": [
    {
     "name": "stdin",
     "output_type": "stream",
     "text": [
      "number of elements in the tuple : 4\n",
      "enter the elements with a space : 2 4 5 6\n"
     ]
    },
    {
     "name": "stdout",
     "output_type": "stream",
     "text": [
      "['2', '4', '5', '6']\n"
     ]
    }
   ],
   "source": [
    "# Enter your code here. Read input from STDIN. Print output to STDOUT\n",
    "n = eval(input(\"number of elements in the tuple :\"))\n",
    "integers = input(\"enter the elements with a space :\")\n",
    "k = []\n",
    "t_ = []\n",
    "k = integers.split()\n",
    "print(k)"
   ]
  },
  {
   "cell_type": "code",
   "execution_count": 18,
   "id": "6886d868-9c8d-43a3-8d69-27c2dbe09cb1",
   "metadata": {},
   "outputs": [
    {
     "name": "stdout",
     "output_type": "stream",
     "text": [
      "(2, 4, 5, 6)\n"
     ]
    },
    {
     "data": {
      "text/plain": [
       "-7285985161274167096"
      ]
     },
     "execution_count": 18,
     "metadata": {},
     "output_type": "execute_result"
    }
   ],
   "source": [
    "for i in range (0,n):\n",
    "    tt = int(k[i])\n",
    "    t_.append(tt)\n",
    "t = tuple(t_)\n",
    "t_ = []\n",
    "print(t)\n",
    "hash((t))"
   ]
  },
  {
   "cell_type": "code",
   "execution_count": 20,
   "id": "0b51aa9f-b190-42c1-a289-6dbf628abcd7",
   "metadata": {},
   "outputs": [
    {
     "name": "stdin",
     "output_type": "stream",
     "text": [
      " 2\n",
      " 1 2\n"
     ]
    },
    {
     "name": "stdout",
     "output_type": "stream",
     "text": [
      "-3550055125485641917\n"
     ]
    }
   ],
   "source": [
    "# Read the integer n\n",
    "k = int(input())# the same code with different logic line that are muvh simple given by chatgpt\n",
    "\n",
    "# Read n space-separated integers and create a tuple\n",
    "elements = tuple(map(int, input().split()))\n",
    "\n",
    "# Compute the hash of the tuple\n",
    "result = hash(elements)\n",
    "\n",
    "# Print the result\n",
    "print(result)\n"
   ]
  },
  {
   "cell_type": "code",
   "execution_count": null,
   "id": "dc87e81c-5066-4623-a0a5-86f731053e85",
   "metadata": {},
   "outputs": [],
   "source": [
    "# the default code that was provided to me:\n",
    "if __name__ == '__main__':\n",
    "    n = int(input())\n",
    "    student_marks = {}\n",
    "    for _ in range(n):\n",
    "        name, *line = input().split()\n",
    "        scores = list(map(float, line))\n",
    "        student_marks[name] = scores\n",
    "    query_name = input()"
   ]
  },
  {
   "cell_type": "code",
   "execution_count": null,
   "id": "c36a19f2-79be-464a-ac15-2ee5395ebdeb",
   "metadata": {},
   "outputs": [],
   "source": [
    "# You have to read the cases and erroes such that there would be no space for confusion\n",
    "# - learn and revise the code you have done priviously inorder to do that\n",
    "# - you have not yet written the logic and mistakes that you have done in the last program.."
   ]
  }
 ],
 "metadata": {
  "kernelspec": {
   "display_name": "Python 3 (ipykernel)",
   "language": "python",
   "name": "python3"
  },
  "language_info": {
   "codemirror_mode": {
    "name": "ipython",
    "version": 3
   },
   "file_extension": ".py",
   "mimetype": "text/x-python",
   "name": "python",
   "nbconvert_exporter": "python",
   "pygments_lexer": "ipython3",
   "version": "3.11.4"
  }
 },
 "nbformat": 4,
 "nbformat_minor": 5
}
