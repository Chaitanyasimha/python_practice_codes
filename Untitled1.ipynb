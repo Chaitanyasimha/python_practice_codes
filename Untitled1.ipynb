{
 "cells": [
  {
   "cell_type": "code",
   "execution_count": 3,
   "id": "5a4678e3-36fd-44c8-a5cd-464b64cb89e9",
   "metadata": {},
   "outputs": [
    {
     "data": {
      "text/plain": [
       "[1, 2, 3, 'banana', 'apple', 10, 20, 'apple', 40]"
      ]
     },
     "execution_count": 3,
     "metadata": {},
     "output_type": "execute_result"
    }
   ],
   "source": [
    "l1 = [1,2,3,'apple',10,20,'apple',40]\n",
    "\n",
    "#we want to insert an element before th apple we know its place but replace hardcoding\n",
    "i1 =l1.index('apple')\n",
    "l1.insert(i1,'banana')\n",
    "l1"
   ]
  },
  {
   "cell_type": "code",
   "execution_count": 4,
   "id": "92035622-b942-4a36-9941-e7e03d92606f",
   "metadata": {},
   "outputs": [
    {
     "data": {
      "text/plain": [
       "[1, 2, 3, 'banana', 'apple', 10, 20, 'apple', 'ma naana', 40]"
      ]
     },
     "execution_count": 4,
     "metadata": {},
     "output_type": "execute_result"
    }
   ],
   "source": [
    "#enterring element before 40 \n",
    "i1 =l1.index(40)\n",
    "l1.insert(i1,'ma naana')\n",
    "l1"
   ]
  },
  {
   "cell_type": "code",
   "execution_count": 16,
   "id": "c2cad9c3-6970-479a-a575-6c740a4c9b46",
   "metadata": {},
   "outputs": [
    {
     "data": {
      "text/plain": [
       "[1, 2, 3, 'banana', 'apple', 10, 20, 'cherry', 'cherry', 'apple', 'ma naana']"
      ]
     },
     "execution_count": 16,
     "metadata": {},
     "output_type": "execute_result"
    }
   ],
   "source": [
    "#to add element before the second apple\n",
    "#step-1: we want to find the index of the second apple\n",
    "#step-2: how to find the second 'apple' index\n",
    "i1 = l1.index(\"apple\")\n",
    "i2 = l1.index(\"apple\",i1+1)\n",
    "l1.insert(i2,'cherry')#have to watch th eprevious vedio of the class\n",
    "l1#this code will be sucessfull bhaiya"
   ]
  },
  {
   "cell_type": "code",
   "execution_count": null,
   "id": "d2789c1d-b436-46fc-90d0-0188f9b66e28",
   "metadata": {},
   "outputs": [],
   "source": [
    "#to add element before the second apple\n",
    "#pop-remove-del\n",
    "#step-1: we want to find the index of the second apple\n",
    "#step-2: how to find the second 'apple' index\n",
    "i1 = l1.index(\"apple\")\n",
    "l1.pop(i1)\n",
    "i1 = l1.index(\"apple\")#this is trail ans error\n",
    "l1.insert(i1,'cherry')\n",
    "l1"
   ]
  },
  {
   "cell_type": "markdown",
   "id": "a02d76cf-edcb-4ace-850d-9fb333b409b9",
   "metadata": {},
   "source": [
    "**pop-remove-del**\n",
    "- pop will remove the item\n",
    "- pop also display th eitem which is removing\n",
    "- pop will take on e argument: index\n",
    "- pop will remove the item based on the index\n",
    "- if you dont provide any index by default it will removes th elast value\n",
    "- because the default index value is -1"
   ]
  },
  {
   "cell_type": "code",
   "execution_count": 14,
   "id": "76393a69-b45e-4d3b-bf66-5850460ff459",
   "metadata": {},
   "outputs": [
    {
     "data": {
      "text/plain": [
       "[1, 2, 3, 'banana', 'apple', 10, 20, 'apple', 'ma naana']"
      ]
     },
     "execution_count": 14,
     "metadata": {},
     "output_type": "execute_result"
    }
   ],
   "source": [
    "l1 = [1, 2, 3, 'banana', 'apple', 10, 20, 'apple', 'ma naana', 40]\n",
    "l1.pop()\n",
    "l1"
   ]
  },
  {
   "cell_type": "code",
   "execution_count": 18,
   "id": "b6959581-5f8f-436a-85fa-d94fdff707e2",
   "metadata": {},
   "outputs": [
    {
     "data": {
      "text/plain": [
       "[1, 2, 3, 'banana', 10, 20, 'apple', 'ma naana', 40]"
      ]
     },
     "execution_count": 18,
     "metadata": {},
     "output_type": "execute_result"
    }
   ],
   "source": [
    "#for first apple\n",
    "l1 = [1, 2, 3, 'banana', 'apple', 10, 20, 'apple', 'ma naana', 40]\n",
    "i1 =l1.index(\"apple\")\n",
    "l1.pop(i1)\n",
    "l1"
   ]
  },
  {
   "cell_type": "code",
   "execution_count": 32,
   "id": "1d280293-b783-453c-82c3-da9f5aab38c2",
   "metadata": {},
   "outputs": [
    {
     "data": {
      "text/plain": [
       "[1, 2, 3, 'banana', 10, 20, 'ma naana', 40]"
      ]
     },
     "execution_count": 32,
     "metadata": {},
     "output_type": "execute_result"
    }
   ],
   "source": [
    "#for both apples\n",
    "l1 = [1, 2, 3, 'banana', 'apple', 10, 20, 'apple', 'ma naana', 40]\n",
    "i1 =l1.index(\"apple\")\n",
    "#i2 = l1.index(\"apple\",i1+1)#there is no i1_1\n",
    "l1.pop(i1)\n",
    "i1 =l1.index(\"apple\")\n",
    "l1.pop(i1)\n",
    "l1"
   ]
  },
  {
   "cell_type": "code",
   "execution_count": 31,
   "id": "fc4cddc8-2e1a-45c9-bc02-612e8cf8c36d",
   "metadata": {},
   "outputs": [
    {
     "data": {
      "text/plain": [
       "[1, 2, 3, 'banana', 'apple', 10, 20, 'ma naana', 40]"
      ]
     },
     "execution_count": 31,
     "metadata": {},
     "output_type": "execute_result"
    }
   ],
   "source": [
    "#for second apple\n",
    "l1 = [1, 2, 3, 'banana', 'apple', 10, 20, 'apple', 'ma naana', 40]\n",
    "i1 =l1.index(\"apple\")\n",
    "i2 = l1.index(\"apple\",i1+1)#there is no i1_1\n",
    "l1.pop(i2)\n",
    "l1"
   ]
  },
  {
   "cell_type": "code",
   "execution_count": 34,
   "id": "6a67b824-959d-45c1-8f0b-80a95c8d91be",
   "metadata": {},
   "outputs": [
    {
     "ename": "SyntaxError",
     "evalue": "cannot assign to literal (2351507906.py, line 4)",
     "output_type": "error",
     "traceback": [
      "\u001b[1;36m  Cell \u001b[1;32mIn[34], line 4\u001b[1;36m\u001b[0m\n\u001b[1;33m    for \"apple\" in str1:\u001b[0m\n\u001b[1;37m        ^\u001b[0m\n\u001b[1;31mSyntaxError\u001b[0m\u001b[1;31m:\u001b[0m cannot assign to literal\n"
     ]
    }
   ],
   "source": [
    "#using list and pop remove all the elements in the str1\n",
    "str1 = \"hai apple how are you apple in good apple thank you apple\"\n",
    "l1 = str1.split\n",
    "for \"apple\" in str1:\n",
    "    i1 = l1.index(\"apple\")\n",
    "    l1.pop(i1)\n",
    "str1 = \" \".join(l1)    "
   ]
  },
  {
   "cell_type": "code",
   "execution_count": 40,
   "id": "8addb9f3-ad08-4bdd-b349-117ba6c1623b",
   "metadata": {},
   "outputs": [
    {
     "ename": "TypeError",
     "evalue": "'builtin_function_or_method' object is not iterable",
     "output_type": "error",
     "traceback": [
      "\u001b[1;31m---------------------------------------------------------------------------\u001b[0m",
      "\u001b[1;31mTypeError\u001b[0m                                 Traceback (most recent call last)",
      "Cell \u001b[1;32mIn[40], line 3\u001b[0m\n\u001b[0;32m      1\u001b[0m \u001b[38;5;66;03m#using list and pop remove all the elements in the str1\u001b[39;00m\n\u001b[0;32m      2\u001b[0m str1 \u001b[38;5;241m=\u001b[39m \u001b[38;5;124m\"\u001b[39m\u001b[38;5;124mhai apple how are you apple in good apple thank you apple\u001b[39m\u001b[38;5;124m\"\u001b[39m\n\u001b[1;32m----> 3\u001b[0m l1 \u001b[38;5;241m=\u001b[39m \u001b[38;5;28;43mlist\u001b[39;49m\u001b[43m(\u001b[49m\u001b[43mstr1\u001b[49m\u001b[38;5;241;43m.\u001b[39;49m\u001b[43msplit\u001b[49m\u001b[43m)\u001b[49m\n\u001b[0;32m      4\u001b[0m count \u001b[38;5;241m=\u001b[39m \u001b[38;5;241m0\u001b[39m\n\u001b[0;32m      5\u001b[0m \u001b[38;5;28;01mfor\u001b[39;00m i \u001b[38;5;129;01min\u001b[39;00m \u001b[38;5;28mrange\u001b[39m(\u001b[38;5;28mlen\u001b[39m(l1)):\n",
      "\u001b[1;31mTypeError\u001b[0m: 'builtin_function_or_method' object is not iterable"
     ]
    }
   ],
   "source": [
    "#using list and pop remove all the elements in the str1\n",
    "str1 = \"hai apple how are you apple in good apple thank you apple\"\n",
    "l1 = list(str1.split)\n",
    "count = 0\n",
    "for i in range(len(l1)):\n",
    "    if l1[i] == \"apple\":\n",
    "        count = count+1\n",
    "for i in range (count):\n",
    "    i1 = l1.index(\"apple\")\n",
    "    l1.pop(i1)\n",
    "str1 = \" \".join(l1)    "
   ]
  },
  {
   "cell_type": "code",
   "execution_count": null,
   "id": "7bfb4c38-1fbe-4f8a-963a-3eea68761d9b",
   "metadata": {},
   "outputs": [],
   "source": [
    "list1 = str.split()\n",
    "count = list1.count(\"apple\")\n",
    "for i in range (count):\n",
    "    "
   ]
  },
  {
   "cell_type": "code",
   "execution_count": null,
   "id": "e89d432b-c282-4865-8805-b47b62224344",
   "metadata": {},
   "outputs": [],
   "source": [
    "### the string questions and lists questions has to be done in a word doc"
   ]
  },
  {
   "cell_type": "code",
   "execution_count": 1,
   "id": "03b429bd-02da-4353-b35c-d93116948e9f",
   "metadata": {},
   "outputs": [
    {
     "data": {
      "text/plain": [
       "'b'"
      ]
     },
     "execution_count": 1,
     "metadata": {},
     "output_type": "execute_result"
    }
   ],
   "source": [
    "str1 = \"banana\"\n",
    "str1[0]"
   ]
  },
  {
   "cell_type": "code",
   "execution_count": null,
   "id": "68830f90-1630-4195-aa22-ef547f4da754",
   "metadata": {},
   "outputs": [],
   "source": [
    "1. Which of the following is not a valid data type in Python?\n",
    "(A) int (B) string\n",
    "(C) float (D) double\n",
    "\n"
   ]
  }
 ],
 "metadata": {
  "kernelspec": {
   "display_name": "Python 3 (ipykernel)",
   "language": "python",
   "name": "python3"
  },
  "language_info": {
   "codemirror_mode": {
    "name": "ipython",
    "version": 3
   },
   "file_extension": ".py",
   "mimetype": "text/x-python",
   "name": "python",
   "nbconvert_exporter": "python",
   "pygments_lexer": "ipython3",
   "version": "3.11.4"
  }
 },
 "nbformat": 4,
 "nbformat_minor": 5
}
