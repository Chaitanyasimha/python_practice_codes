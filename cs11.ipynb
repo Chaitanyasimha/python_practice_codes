{
 "cells": [
  {
   "cell_type": "code",
   "execution_count": 8,
   "id": "4db9d04a-d1e6-46cc-9843-a49492bd2e6f",
   "metadata": {},
   "outputs": [
    {
     "name": "stdout",
     "output_type": "stream",
     "text": [
      "the count of sub_string is:3\n"
     ]
    }
   ],
   "source": [
    "# Q14) string1='ola ola ola'\n",
    "# Number of ola  = 3\n",
    "\n",
    "\n",
    "string1='ola ola ola'\n",
    "sub_str = \"ola\"\n",
    "count_ola = 0\n",
    "for i in range(len(string1)):\n",
    "    if (string1[i:(i+len(sub_str))] == sub_str):\n",
    "        count_ola = count_ola+1\n",
    "print(f\"the count of sub_string is:{count_ola}\")"
   ]
  },
  {
   "cell_type": "code",
   "execution_count": 10,
   "id": "00fe213d-25ac-4262-8aeb-58424c7f9c37",
   "metadata": {},
   "outputs": [
    {
     "name": "stdout",
     "output_type": "stream",
     "text": [
      "the count of sub_stringhow is:4\n"
     ]
    }
   ],
   "source": [
    "# Q15) string1='hello hello hello how how how how are you'\n",
    "# What is the most repeated word : how\n",
    "\n",
    "\n",
    "string1='hello hello hello how how how how are you'\n",
    "sub_str = \"how\"\n",
    "count_ola = 0\n",
    "for i in range(len(string1)):\n",
    "    if (string1[i:(i+len(sub_str))] == sub_str):\n",
    "        count_ola = count_ola+1\n",
    "print(f\"the count of sub_string{sub_str} is:{count_ola}\")"
   ]
  },
  {
   "cell_type": "code",
   "execution_count": 38,
   "id": "1aef1a79-c614-4a03-b2ee-0822bdccee85",
   "metadata": {},
   "outputs": [
    {
     "name": "stdout",
     "output_type": "stream",
     "text": [
      "['hellooooo', ' how', ' aree', 'u']\n",
      "the length of 'hellooooo' :9\n",
      "the length of 'u' :1\n"
     ]
    }
   ],
   "source": [
    "# Q16) string1='hellooooo how aree u'\n",
    "# what is the maximum length of word: helloooo\n",
    "# what is the minimum length of word: u\n",
    "\n",
    "\n",
    "# whithout using any method...\n",
    "string1 = 'hellooooo how aree u'\n",
    "liz = []                            #inserting the elements seperated by space and keeping them in a list\n",
    "cutter = 0\n",
    "for i in range(len(string1)):\n",
    "    if string1[i] == \" \":\n",
    "        liz.append(string1[cutter:i])\n",
    "        cutter = i\n",
    "        \n",
    "    if string1[i] == string1[-1]:\n",
    "        \n",
    "        liz.append(string1[cutter+1:])\n",
    "print(liz)\n",
    "\n",
    "\n",
    "#now finding the len of the elements\n",
    "\n",
    "for i in range(len(liz)):\n",
    "    if liz[i] == \"hellooooo\":\n",
    "        print(f\"the length of 'hellooooo' :{len(liz[i])}\")\n",
    "    if liz[i] == \"u\":\n",
    "        print(f\"the length of 'u' :{(len(liz[i]))}\")"
   ]
  },
  {
   "cell_type": "code",
   "execution_count": 11,
   "id": "82ff3122-4a0a-427f-a8f6-73f3056a79d1",
   "metadata": {},
   "outputs": [],
   "source": [
    "########################################## Q17 ############################################"
   ]
  },
  {
   "cell_type": "code",
   "execution_count": 27,
   "id": "ec18d70a-29dd-4d6a-a015-277246a9f368",
   "metadata": {},
   "outputs": [
    {
     "name": "stdin",
     "output_type": "stream",
     "text": [
      "enter a name Chaitanyasimha\n"
     ]
    },
    {
     "data": {
      "text/plain": [
       "[67, 104, 97, 105, 116, 97, 110, 121, 97, 115, 105, 109, 104, 97]"
      ]
     },
     "execution_count": 27,
     "metadata": {},
     "output_type": "execute_result"
    }
   ],
   "source": [
    "# Q17) with out using sorted then sort the letters\n",
    "\n",
    "string1 = input(\"enter a name\")\n",
    "ascii_list = [ord(i) for i in string1]\n",
    "ascii_list"
   ]
  },
  {
   "cell_type": "code",
   "execution_count": 28,
   "id": "d19665d6-d63c-4e16-8ca0-22760277c7c7",
   "metadata": {},
   "outputs": [],
   "source": [
    "#now we got the ascii values of the string"
   ]
  },
  {
   "cell_type": "code",
   "execution_count": 29,
   "id": "f8447872-5f16-4cb5-b55c-191e9208f49c",
   "metadata": {},
   "outputs": [
    {
     "data": {
      "text/plain": [
       "[67, 97, 97, 97, 97, 104, 104, 105, 105, 109, 110, 115, 116, 121]"
      ]
     },
     "execution_count": 29,
     "metadata": {},
     "output_type": "execute_result"
    }
   ],
   "source": [
    "temp_swap_num = 0\n",
    "for j in range(len(ascii_list)):\n",
    "    for i in range(len(ascii_list)-1):\n",
    "        if ascii_list[i] > ascii_list[i+1]:\n",
    "            temp_swap_num = ascii_list[i+1]\n",
    "            ascii_list[i+1] = ascii_list[i]\n",
    "            ascii_list[i] = temp_swap_num\n",
    "ascii_list\n",
    "# each time this inner loop iterates the max num will be iterated fully into its position"
   ]
  },
  {
   "cell_type": "code",
   "execution_count": 30,
   "id": "69b2c0f0-ffcf-4284-8dcb-bb5f58cc0dbb",
   "metadata": {},
   "outputs": [
    {
     "name": "stdout",
     "output_type": "stream",
     "text": [
      "Caaaahhiimnsty\n"
     ]
    }
   ],
   "source": [
    "char_list = [chr(i) for i in ascii_list]  # Convert ASCII values to characters\n",
    "string1 = \"\".join(char_list)  # Join characters to form a string\n",
    "print(string1)  # Output: ABC\n"
   ]
  },
  {
   "cell_type": "code",
   "execution_count": 15,
   "id": "0cb8c12a-6dba-44bb-90ae-a1d15e17c2c7",
   "metadata": {},
   "outputs": [],
   "source": [
    "#====================================the bubble sort is done================================="
   ]
  },
  {
   "cell_type": "code",
   "execution_count": 16,
   "id": "2383cf1c-6edf-48e9-bb60-91f1565d5cc4",
   "metadata": {},
   "outputs": [],
   "source": [
    "liz = [1,2,3,4,5]\n",
    "liz[3] = 3"
   ]
  },
  {
   "cell_type": "code",
   "execution_count": 5,
   "id": "7d9e2d08-414f-4733-be0a-038d66245912",
   "metadata": {},
   "outputs": [
    {
     "data": {
      "text/plain": [
       "[1, 2, 3, 3, 5]"
      ]
     },
     "execution_count": 5,
     "metadata": {},
     "output_type": "execute_result"
    }
   ],
   "source": [
    "liz"
   ]
  },
  {
   "cell_type": "code",
   "execution_count": 21,
   "id": "7d645afe-b737-499b-ac8d-89aece2c8448",
   "metadata": {},
   "outputs": [
    {
     "data": {
      "text/plain": [
       "'B'"
      ]
     },
     "execution_count": 21,
     "metadata": {},
     "output_type": "execute_result"
    }
   ],
   "source": [
    "chr(66)"
   ]
  },
  {
   "cell_type": "code",
   "execution_count": null,
   "id": "ff281cf9-2d13-49a3-a9de-fd1c2a53eb55",
   "metadata": {},
   "outputs": [],
   "source": []
  }
 ],
 "metadata": {
  "kernelspec": {
   "display_name": "Python 3 (ipykernel)",
   "language": "python",
   "name": "python3"
  },
  "language_info": {
   "codemirror_mode": {
    "name": "ipython",
    "version": 3
   },
   "file_extension": ".py",
   "mimetype": "text/x-python",
   "name": "python",
   "nbconvert_exporter": "python",
   "pygments_lexer": "ipython3",
   "version": "3.11.4"
  }
 },
 "nbformat": 4,
 "nbformat_minor": 5
}
