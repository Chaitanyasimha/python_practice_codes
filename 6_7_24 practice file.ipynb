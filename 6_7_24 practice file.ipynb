{
 "cells": [
  {
   "cell_type": "markdown",
   "id": "6d8b116b-7eeb-4444-90ac-9a22b6fe56a5",
   "metadata": {},
   "source": [
    "# Hare Krishna"
   ]
  },
  {
   "cell_type": "markdown",
   "id": "0a6d6d05-9217-4f68-811d-dabff4986d0f",
   "metadata": {},
   "source": []
  },
  {
   "cell_type": "code",
   "execution_count": null,
   "id": "002ff51c-fe5a-4b21-a57b-a4b5848e03bc",
   "metadata": {},
   "outputs": [],
   "source": []
  }
 ],
 "metadata": {
  "kernelspec": {
   "display_name": "Python 3 (ipykernel)",
   "language": "python",
   "name": "python3"
  },
  "language_info": {
   "codemirror_mode": {
    "name": "ipython",
    "version": 3
   },
   "file_extension": ".py",
   "mimetype": "text/x-python",
   "name": "python",
   "nbconvert_exporter": "python",
   "pygments_lexer": "ipython3",
   "version": "3.11.4"
  }
 },
 "nbformat": 4,
 "nbformat_minor": 5
}
