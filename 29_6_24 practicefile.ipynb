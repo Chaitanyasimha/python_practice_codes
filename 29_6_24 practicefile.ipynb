{
 "cells": [
  {
   "cell_type": "code",
   "execution_count": 4,
   "id": "06a31f70-283e-4e53-b0f7-e708969fa1f7",
   "metadata": {},
   "outputs": [
    {
     "ename": "NameError",
     "evalue": "name 'notes_100' is not defined",
     "output_type": "error",
     "traceback": [
      "\u001b[1;31m---------------------------------------------------------------------------\u001b[0m",
      "\u001b[1;31mNameError\u001b[0m                                 Traceback (most recent call last)",
      "Cell \u001b[1;32mIn[4], line 13\u001b[0m\n\u001b[0;32m     11\u001b[0m cash \u001b[38;5;241m=\u001b[39m \u001b[38;5;241m5600\u001b[39m\n\u001b[0;32m     12\u001b[0m calculate_notes(cash)\u001b[38;5;66;03m#the arguments are also nessasary as you have give the number of arguments\"\u001b[39;00m\n\u001b[1;32m---> 13\u001b[0m \u001b[38;5;28;01mif\u001b[39;00m \u001b[43mnotes_100\u001b[49m \u001b[38;5;241m>\u001b[39m \u001b[38;5;241m0\u001b[39m:\n\u001b[0;32m     14\u001b[0m     \u001b[38;5;28mprint\u001b[39m(\u001b[38;5;124mf\u001b[39m\u001b[38;5;124m\"\u001b[39m\u001b[38;5;124mYou get \u001b[39m\u001b[38;5;132;01m{\u001b[39;00mnotes_100\u001b[38;5;132;01m}\u001b[39;00m\u001b[38;5;124m 100-rupee notes\u001b[39m\u001b[38;5;124m\"\u001b[39m)\n\u001b[0;32m     15\u001b[0m \u001b[38;5;28;01mif\u001b[39;00m notes_50 \u001b[38;5;241m>\u001b[39m \u001b[38;5;241m0\u001b[39m:\n",
      "\u001b[1;31mNameError\u001b[0m: name 'notes_100' is not defined"
     ]
    }
   ],
   "source": [
    "def calculate_notes(amount):\n",
    "    notes_100 = 0\n",
    "    notes_50 = 0\n",
    "    notes_10b = 0\n",
    "    notes_100 = amount//100  ## you can create just a def function and name it something and assign the amount to the operations\n",
    "    amount%=100              ##in that way you can further use the fuction again and again easily \n",
    "    notes_50 = amount//50    ##\"in this programme it will be 'calculate_cas(notes)'\" \n",
    "    amount%=50\n",
    "    notes_10 = amount//10\n",
    "    return notes_100,notes_50,notes_10\n",
    "cash = 5600\n",
    "calculate_notes(cash)#the arguments are also nessasary as you have give the number of arguments\"\n",
    "if notes_100 > 0:\n",
    "    print(f\"You get {notes_100} 100-rupee notes\")\n",
    "if notes_50 > 0:\n",
    "    print(f\"You get {notes_50} 50-rupee notes\")\n",
    "if notes_10 > 0:\n",
    "    print(f\"You get {notes_10} 10-rupee notes\")"
   ]
  },
  {
   "cell_type": "code",
   "execution_count": null,
   "id": "6e27fa1c-5262-4b2c-af4b-1c7414db4ff7",
   "metadata": {},
   "outputs": [],
   "source": []
  }
 ],
 "metadata": {
  "kernelspec": {
   "display_name": "Python 3 (ipykernel)",
   "language": "python",
   "name": "python3"
  },
  "language_info": {
   "codemirror_mode": {
    "name": "ipython",
    "version": 3
   },
   "file_extension": ".py",
   "mimetype": "text/x-python",
   "name": "python",
   "nbconvert_exporter": "python",
   "pygments_lexer": "ipython3",
   "version": "3.11.4"
  }
 },
 "nbformat": 4,
 "nbformat_minor": 5
}
