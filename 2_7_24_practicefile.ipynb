{
 "cells": [
  {
   "cell_type": "code",
   "execution_count": 24,
   "id": "162a6bde-709a-4128-9d59-c5dae900c09c",
   "metadata": {},
   "outputs": [],
   "source": [
    "kam = []"
   ]
  },
  {
   "cell_type": "code",
   "execution_count": 25,
   "id": "b8d1b51a-6b31-435d-98cc-ee0557eb7662",
   "metadata": {},
   "outputs": [],
   "source": [
    "kam.insert(0,[0,1])"
   ]
  },
  {
   "cell_type": "code",
   "execution_count": 26,
   "id": "2270ea80-2600-489c-b715-4cadfe76f3e8",
   "metadata": {},
   "outputs": [
    {
     "data": {
      "text/plain": [
       "[[0, 1]]"
      ]
     },
     "execution_count": 26,
     "metadata": {},
     "output_type": "execute_result"
    }
   ],
   "source": [
    "kam"
   ]
  },
  {
   "cell_type": "code",
   "execution_count": 35,
   "id": "d7eaffe1-3afc-4cdd-8e66-01c0b4bbd5bc",
   "metadata": {},
   "outputs": [
    {
     "name": "stdin",
     "output_type": "stream",
     "text": [
      "enter the no of students : 4\n",
      "enter name of student : dheer\n",
      "enter the score here : 40\n",
      "enter name of student : karthik\n",
      "enter the score here : 80\n",
      "enter name of student : chait\n",
      "enter the score here : 90\n",
      "enter name of student : simha\n",
      "enter the score here : 100\n"
     ]
    },
    {
     "name": "stdout",
     "output_type": "stream",
     "text": [
      "[['dheer', 40], ['karthik', 80], ['chait', 90], ['simha', 100], ['simha', 100], ['chait', 90], ['karthik', 80], ['dheer', 40]]\n"
     ]
    }
   ],
   "source": [
    "#the list intialization\n",
    "grade_list = []\n",
    "score_list = []\n",
    "\n",
    "#taking the N no of students and inserting [name,score]values in a list\n",
    "N = eval(input(\"enter the no of students :\"))\n",
    "for _ in range (N) :\n",
    "    name = input(\"enter name of student :\")\n",
    "    score = eval(input(\"enter the score here :\"))\n",
    "    #inserting the score values in scorelist seperately\n",
    "    score_list.append(score)\n",
    "    for i in range (0,1):\n",
    "        grade_list.insert(_,[name,score])\n",
    "\n",
    "\n",
    "#the main loop for testing the nth lowest position\n",
    "min_score = min(score_list)\n",
    "nth_low_num = eval(input(\"enter the nth lowest score you want to find :\"))\n",
    "\n",
    "\n",
    "###\n",
    "#looping for the logic of finding lowest position\n"
   ]
  },
  {
   "cell_type": "code",
   "execution_count": 36,
   "id": "03eff3c4-12f0-4412-b99b-77d66874ef60",
   "metadata": {},
   "outputs": [
    {
     "data": {
      "text/plain": [
       "[40, 80, 90, 100]"
      ]
     },
     "execution_count": 36,
     "metadata": {},
     "output_type": "execute_result"
    }
   ],
   "source": [
    "score_list"
   ]
  },
  {
   "cell_type": "code",
   "execution_count": 51,
   "id": "f58502b3-c551-4ebb-aef0-f4e0960c0826",
   "metadata": {},
   "outputs": [
    {
     "name": "stdin",
     "output_type": "stream",
     "text": [
      "enter the no of students : 3\n",
      "enter name of student : r\n",
      "enter the score here : 66\n",
      "enter name of student : u\n",
      "enter the score here : 88\n",
      "enter name of student : 0\n",
      "enter the score here : 88\n"
     ]
    },
    {
     "name": "stdout",
     "output_type": "stream",
     "text": [
      "[['0', 88], ['0', 88], ['r', 66], ['r', 66], ['u', 88], ['u', 88]]\n"
     ]
    }
   ],
   "source": [
    "for k in range (len(grade_list)):\n",
    "    grade_list.remove(grade_list[-1])\n",
    "#the list intialization\n",
    "grade_list = []\n",
    "score_list = []\n",
    "\n",
    "#taking the N no of students and inserting [name,score]values in a list\n",
    "N = eval(input(\"enter the no of students :\"))\n",
    "for _ in range (N) :\n",
    "    name = input(\"enter name of student :\")\n",
    "    score = eval(input(\"enter the score here :\"))\n",
    "    #inserting the score values in scorelist seperately\n",
    "    score_list.append(score)\n",
    "    for i in range (0,2):\n",
    "        grade_list.insert(_,[name,score])\n",
    "grade_list.sort()\n",
    "print(grade_list)\n",
    "#just to restart the list for another execution\n",
    "    "
   ]
  },
  {
   "cell_type": "code",
   "execution_count": 47,
   "id": "a5260253-53f5-45ee-84a0-a610708bdad8",
   "metadata": {},
   "outputs": [
    {
     "ename": "SyntaxError",
     "evalue": "invalid syntax (3488160505.py, line 1)",
     "output_type": "error",
     "traceback": [
      "\u001b[1;36m  Cell \u001b[1;32mIn[47], line 1\u001b[1;36m\u001b[0m\n\u001b[1;33m    remove grade_list[0]\u001b[0m\n\u001b[1;37m           ^\u001b[0m\n\u001b[1;31mSyntaxError\u001b[0m\u001b[1;31m:\u001b[0m invalid syntax\n"
     ]
    }
   ],
   "source": []
  },
  {
   "cell_type": "code",
   "execution_count": 52,
   "id": "5c5ebfc6-0927-483b-bb93-ce5bc87d4036",
   "metadata": {},
   "outputs": [
    {
     "data": {
      "text/plain": [
       "[20, 22, 30, 42, 99, 134]"
      ]
     },
     "execution_count": 52,
     "metadata": {},
     "output_type": "execute_result"
    }
   ],
   "source": [
    "liz = [22,42,20,99,134,30]\n",
    "liz.sort()\n",
    "liz"
   ]
  },
  {
   "cell_type": "code",
   "execution_count": null,
   "id": "8d61cd10-1974-4d09-b06a-2c9156efeb44",
   "metadata": {},
   "outputs": [],
   "source": [
    "#The BrokenPipeError you're encountering typically occurs when the input or output stream is unexpectedly closed \n",
    "#while the program is still trying to read or write to it. This error is unusual in the context of reading inputs and manipulating lists,\n",
    "#so it might be caused by an environment issue or how the input is provided."
   ]
  },
  {
   "cell_type": "code",
   "execution_count": null,
   "id": "335b28f7-2af5-4333-a899-e1c2cd23de61",
   "metadata": {},
   "outputs": [],
   "source": [
    "#the list intialization\n",
    "grade_list = []\n",
    "score_list = []\n",
    "\n",
    "#taking the N no of students and inserting [name,score]values in a list\n",
    "N = eval(input())\n",
    "for _ in range (N) :\n",
    "    name = input()\n",
    "    score = float(input())\n",
    "    #inserting the score values in scorelist seperately\n",
    "    score_list.append(score)\n",
    "    for i in range (0,1):#see the loops and examining really helps a lot...\n",
    "        grade_list.insert(_,[name,score])\n",
    "\n",
    "print(grade_list)\n",
    "print(max(grade_list))\n",
    "grade_list.sort()\n",
    "print(grade_list)\n",
    "\n",
    "###\n",
    "#the main loop for testing the nth lowest position\n",
    "\n",
    "nth_place = 2\n",
    "for j in range (1,nth_place):#i have just kept 1 before the for loop in the privious code....to be exact in the nth place position value\n",
    "    temp_max = min(grade_list, key=lambda x: x[1])\n",
    "    while min(grade_list, key=lambda x: x[1]) == temp_max:\n",
    "        grade_list.remove(min(grade_list, key=lambda x: x[1]))\n",
    "\n",
    "for k in range (len(grade_list)):\n",
    "    if (grade_list[k]) == (min(grade_list, key=lambda x: x[1])):\n",
    "        print(min(grade_list)[1])\n",
    "#what if we cant make a comparision we can just loop through our list and find out similar values.\n",
    "#value = max(grade_list)[1]\n",
    "#value1 = \n",
    "#while value == value1 :\n",
    "#    print(max(grade_list))\n",
    "    \n",
    "#i think i can make it with value of the grade\n",
    "#while max(grade_list) == new_temp_max:\n",
    "#        print(max(grade_list))\n",
    "        \n",
    "print(grade_list)\n",
    "print(min(grade_list, key=lambda x: x[1]))    \n",
    "    \n",
    "#the while loop for poping the minimum element\n",
    "###\n",
    "\n",
    "\n",
    "#just to restart the list for another execution\n"
   ]
  },
  {
   "cell_type": "code",
   "execution_count": 53,
   "id": "7fdd3253-2034-4bc5-83ad-f5a0b861ccd3",
   "metadata": {},
   "outputs": [],
   "source": [
    "#all of this just to get headache huh but i thing the mistakes i made now will help me later\n",
    "#now i had to check the right code and learn it...."
   ]
  },
  {
   "cell_type": "code",
   "execution_count": null,
   "id": "1254bf79-851d-4717-8154-329ed2049fa0",
   "metadata": {},
   "outputs": [],
   "source": []
  }
 ],
 "metadata": {
  "kernelspec": {
   "display_name": "Python 3 (ipykernel)",
   "language": "python",
   "name": "python3"
  },
  "language_info": {
   "codemirror_mode": {
    "name": "ipython",
    "version": 3
   },
   "file_extension": ".py",
   "mimetype": "text/x-python",
   "name": "python",
   "nbconvert_exporter": "python",
   "pygments_lexer": "ipython3",
   "version": "3.11.4"
  }
 },
 "nbformat": 4,
 "nbformat_minor": 5
}
