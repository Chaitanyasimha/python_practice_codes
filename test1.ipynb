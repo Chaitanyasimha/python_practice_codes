{
 "cells": [
  {
   "cell_type": "code",
   "execution_count": 3,
   "id": "f9d0b491-7f30-4a86-8a78-c4d35dd9a197",
   "metadata": {},
   "outputs": [],
   "source": [
    "import random"
   ]
  },
  {
   "cell_type": "code",
   "execution_count": 2,
   "id": "54075b9b-0d82-4972-ad0e-859f5ce2be47",
   "metadata": {},
   "outputs": [
    {
     "name": "stdin",
     "output_type": "stream",
     "text": [
      "enter a value : 3\n",
      "enter b value : 7\n",
      "options :\n",
      "1.choose 1 for addition\n",
      "2.choose 2 for substraction\n",
      "3.choose 3 for multiplication\n",
      "4.choose 4 for division\n",
      "enter an option :\n",
      " 3\n"
     ]
    },
    {
     "name": "stdout",
     "output_type": "stream",
     "text": [
      "the multiplication of 3 and 7 is 21\n"
     ]
    }
   ],
   "source": [
    "#1. Write a program for all arithmetic operations using eval function. \n",
    "#ans :\n",
    "a = eval(input(\"enter a value :\"))\n",
    "b = eval(input(\"enter b value :\"))\n",
    "op = eval(input(\"options :\\n1.choose 1 for addition\\n2.choose 2 for substraction\\n3.choose 3 for multiplication\\n4.choose 4 for division\\nenter an option :\\n\"))\n",
    "while op < 0 or op > 4:\n",
    "    print(\"invalid option\")\n",
    "    op = eval(input(\"options :\\n1.choose 1 for addition\\n2.choose 2 for substraction\\n3.choose 3 for multiplication\\n4.choose 4 for division\\nenter an option :\\n\"))\n",
    "if op ==  1 :\n",
    "    print(f\"the additon of {a} and {b} is {a+b}\")\n",
    "elif op == 2:\n",
    "    print(f\"the substraction of {a} and {b} is {a-b}\")\n",
    "elif op == 3:\n",
    "    print(f\"the multiplication of {a} and {b} is {a*b}\")\n",
    "elif op == 4:\n",
    "    print(f\"the division of {a} and {b} is {a/b}\")"
   ]
  },
  {
   "cell_type": "code",
   "execution_count": 9,
   "id": "fca5fe65-5b9f-4891-a6a8-4a9a8b96209f",
   "metadata": {},
   "outputs": [
    {
     "name": "stdin",
     "output_type": "stream",
     "text": [
      "enter a val : 1\n"
     ]
    },
    {
     "name": "stdout",
     "output_type": "stream",
     "text": [
      "9\n",
      "26\n",
      "94\n"
     ]
    }
   ],
   "source": [
    "#2. Generate random numbers from 1 to 100 with a step of 10. \n",
    "#ans :\n",
    "a = eval(input(\"enter a val :\"))\n",
    "for i in range(1,10):\n",
    "    num = random.randint(a,100)\n",
    "    print(num)\n",
    "    a += num+10\n",
    "    if a>=90:\n",
    "        break"
   ]
  },
  {
   "cell_type": "markdown",
   "id": "8abd0592-7242-4e9e-8c16-82535f9ba86c",
   "metadata": {},
   "source": [
    "### indexes:\n",
    "- when storing elements using anything like (list,tuple or others)python takes in a order \n",
    "- And the order starts from 0 to n-1 where n is len of the collection\n",
    "**note :**\n",
    "- in python interpretor the string value is splited and compiled so we can use slice or indexes to a string too..."
   ]
  },
  {
   "cell_type": "code",
   "execution_count": 48,
   "id": "f7d8cc27-a684-417c-9e32-0c2f67b2fc34",
   "metadata": {},
   "outputs": [
    {
     "name": "stdin",
     "output_type": "stream",
     "text": [
      "enter the a value: apple\n"
     ]
    },
    {
     "name": "stdout",
     "output_type": "stream",
     "text": [
      "p\n",
      "p\n",
      "l\n",
      "e\n",
      "ape\n"
     ]
    }
   ],
   "source": [
    "#3.Explain slicing and indexing with examples\n",
    "a = input(\"enter the a value:\")\n",
    "#try to use list comprehensions for converting string to list hen you go home\"a_list = [a[::] for a in range (len(a)-1)]\"\n",
    "print(a[0])\n",
    "print(a[1])\n",
    "print(a[2])\n",
    "print(a[3])\n",
    "print(a[4])\n",
    "print(a[::2])"
   ]
  },
  {
   "cell_type": "markdown",
   "id": "f0f50bec-1240-43cf-84b6-b6bfe80bfb90",
   "metadata": {},
   "source": [
    "### slicing:\n",
    "- we can cut the collection of elements into other collection and we call it a slice\n",
    "- we can then use the slice for various operations"
   ]
  },
  {
   "cell_type": "code",
   "execution_count": 38,
   "id": "2a6d4c2a-19aa-4f4a-9717-61794c4c9819",
   "metadata": {},
   "outputs": [
    {
     "name": "stdin",
     "output_type": "stream",
     "text": [
      "enter a val : 1.1111\n"
     ]
    },
    {
     "name": "stdout",
     "output_type": "stream",
     "text": [
      "1.1111\n",
      "1.11\n"
     ]
    }
   ],
   "source": [
    "#4. How to round to two decimal places for a floating value.\n",
    "#ans:\n",
    "a = eval(input(\"enter a val :\"))\n",
    "print(a)\n",
    "rounding = round(a,2)\n",
    "print(rounding)"
   ]
  },
  {
   "cell_type": "code",
   "execution_count": 47,
   "id": "285fe968-1ca8-4d02-901f-c42b0d84ce66",
   "metadata": {},
   "outputs": [
    {
     "name": "stdin",
     "output_type": "stream",
     "text": [
      " 99\n"
     ]
    },
    {
     "name": "stdout",
     "output_type": "stream",
     "text": [
      "we are converting a string to other data types\n",
      "99\n",
      "99.0\n",
      "True\n"
     ]
    },
    {
     "name": "stdin",
     "output_type": "stream",
     "text": [
      " 0\n"
     ]
    },
    {
     "name": "stdout",
     "output_type": "stream",
     "text": [
      "we are converting a integer to other data types\n",
      "0\n",
      "0.0\n",
      "False\n"
     ]
    },
    {
     "name": "stdin",
     "output_type": "stream",
     "text": [
      " 0\n"
     ]
    },
    {
     "name": "stdout",
     "output_type": "stream",
     "text": [
      "we are converting a float to other data types\n",
      "0\n",
      "0.0\n",
      "False\n",
      "we are converting a boolean to other data types\n",
      "1\n",
      "1.0\n",
      "True\n"
     ]
    }
   ],
   "source": [
    "#5.Explain type casting with fundamental datatypes with example\n",
    "#string to others\n",
    "string = input()\n",
    "print(\"we are converting a string to other data types\")\n",
    "print(int(string))#can be only converted to int or float if its a number\n",
    "print(float(string))\n",
    "print(bool(string))\n",
    "#int to others\n",
    "integer = int(input())\n",
    "print(\"we are converting a integer to other data types\")\n",
    "print(str(integer))\n",
    "print(float(integer))\n",
    "print(bool(integer))#cannot be converted if its 0\n",
    "#float to others\n",
    "floatnum = float(input())\n",
    "print(\"we are converting a float to other data types\")\n",
    "print(int(floatnum ))\n",
    "print(str(floatnum))\n",
    "print(bool(floatnum))#cannot be converted if its 0\n",
    "#bool to others\n",
    "boolean = True\n",
    "print(\"we are converting a boolean to other data types\")\n",
    "print(int(boolean))\n",
    "print(float(boolean))\n",
    "print(str(boolean))"
   ]
  },
  {
   "cell_type": "code",
   "execution_count": null,
   "id": "7155e104-a3c9-4c93-a392-72b2e207e919",
   "metadata": {},
   "outputs": [],
   "source": []
  }
 ],
 "metadata": {
  "kernelspec": {
   "display_name": "Python 3 (ipykernel)",
   "language": "python",
   "name": "python3"
  },
  "language_info": {
   "codemirror_mode": {
    "name": "ipython",
    "version": 3
   },
   "file_extension": ".py",
   "mimetype": "text/x-python",
   "name": "python",
   "nbconvert_exporter": "python",
   "pygments_lexer": "ipython3",
   "version": "3.11.4"
  }
 },
 "nbformat": 4,
 "nbformat_minor": 5
}
