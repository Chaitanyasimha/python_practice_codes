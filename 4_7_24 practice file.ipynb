{
 "cells": [
  {
   "cell_type": "markdown",
   "id": "ce12e83e-1ebb-4889-b6b0-036bf0fd316c",
   "metadata": {},
   "source": [
    "# Hare Krishna"
   ]
  },
  {
   "cell_type": "code",
   "execution_count": 1,
   "id": "4518daee-d650-4202-a7f0-d182a3c7f564",
   "metadata": {},
   "outputs": [
    {
     "name": "stdin",
     "output_type": "stream",
     "text": [
      "enter the number of records : =\n"
     ]
    },
    {
     "ename": "ValueError",
     "evalue": "invalid literal for int() with base 10: '='",
     "output_type": "error",
     "traceback": [
      "\u001b[1;31m---------------------------------------------------------------------------\u001b[0m",
      "\u001b[1;31mValueError\u001b[0m                                Traceback (most recent call last)",
      "Cell \u001b[1;32mIn[1], line 1\u001b[0m\n\u001b[1;32m----> 1\u001b[0m n \u001b[38;5;241m=\u001b[39m \u001b[38;5;28;43mint\u001b[39;49m\u001b[43m(\u001b[49m\u001b[38;5;28;43minput\u001b[39;49m\u001b[43m(\u001b[49m\u001b[38;5;124;43m\"\u001b[39;49m\u001b[38;5;124;43menter the number of records :\u001b[39;49m\u001b[38;5;124;43m\"\u001b[39;49m\u001b[43m)\u001b[49m\u001b[43m)\u001b[49m\n\u001b[0;32m      2\u001b[0m n_records \u001b[38;5;241m=\u001b[39m {}\n\u001b[0;32m      3\u001b[0m \u001b[38;5;28;01mfor\u001b[39;00m i \u001b[38;5;129;01min\u001b[39;00m \u001b[38;5;28mrange\u001b[39m (n):\n",
      "\u001b[1;31mValueError\u001b[0m: invalid literal for int() with base 10: '='"
     ]
    }
   ],
   "source": [
    "n = int(input(\"enter the number of records :\"))\n",
    "n_records = {}\n",
    "for i in range (n):\n",
    "    temp_rec = input(\"enter a string of key value pairs with a space :\").split()\n",
    "    "
   ]
  },
  {
   "cell_type": "code",
   "execution_count": null,
   "id": "a620a9da-f0f4-45aa-b7af-6ef3c156fbd8",
   "metadata": {},
   "outputs": [],
   "source": [
    "n = {'elen':[4,7,9],'hero':[8,9,9],'haru':[4,5,6]}\n",
    "print(n.)\n"
   ]
  }
 ],
 "metadata": {
  "kernelspec": {
   "display_name": "Python 3 (ipykernel)",
   "language": "python",
   "name": "python3"
  },
  "language_info": {
   "codemirror_mode": {
    "name": "ipython",
    "version": 3
   },
   "file_extension": ".py",
   "mimetype": "text/x-python",
   "name": "python",
   "nbconvert_exporter": "python",
   "pygments_lexer": "ipython3",
   "version": "3.11.4"
  }
 },
 "nbformat": 4,
 "nbformat_minor": 5
}
