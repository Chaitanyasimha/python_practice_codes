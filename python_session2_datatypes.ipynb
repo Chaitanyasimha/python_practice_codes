{
 "cells": [
  {
   "cell_type": "markdown",
   "id": "7e2bb674-2638-4539-95e5-f5b5764d0a89",
   "metadata": {},
   "source": [
    "- python will take the dataa type automatically based on value provided\n",
    "- in python type declaration is not required\n",
    "- the main data types are:\n",
    "- int\n",
    "- float\n",
    "- bollean ..."
   ]
  },
  {
   "cell_type": "markdown",
   "id": "24ddbb6f-67bb-4ed1-bbb8-a5ec785e204c",
   "metadata": {},
   "source": [
    "we have different representations\n",
    "- binary representation\n",
    "- octa presentation\n",
    "- hexa representation\n",
    "  "
   ]
  },
  {
   "cell_type": "code",
   "execution_count": 1,
   "id": "0689eec8-ae91-4941-968d-711596162195",
   "metadata": {},
   "outputs": [
    {
     "data": {
      "text/plain": [
       "100"
      ]
     },
     "execution_count": 1,
     "metadata": {},
     "output_type": "execute_result"
    }
   ],
   "source": [
    "10000\n",
    "1000\n",
    "100"
   ]
  },
  {
   "cell_type": "markdown",
   "id": "cfa31330-b92a-439d-9657-aeb8a5a34029",
   "metadata": {},
   "source": [
    "** binary **\n",
    "- binary means 2\n",
    "- so it requires 2 digits\n",
    "- genarally we haave 1 2 3 3 4 5\n",
    "- so it will only represent it with only 0 and 2\n",
    "- representation shoud be start with **0b** then followed by a binary nuber\n"
   ]
  },
  {
   "cell_type": "code",
   "execution_count": 3,
   "id": "7832ee67-6b03-4513-99ac-397afbb36c09",
   "metadata": {},
   "outputs": [
    {
     "data": {
      "text/plain": [
       "(1, 3, 6, 31)"
      ]
     },
     "execution_count": 3,
     "metadata": {},
     "output_type": "execute_result"
    }
   ],
   "source": [
    "#ex:\n",
    "0b01,0b11,0b110,0b11111"
   ]
  },
  {
   "cell_type": "code",
   "execution_count": null,
   "id": "40ac1faf-77d1-491e-ada3-54ed080537d6",
   "metadata": {},
   "outputs": [],
   "source": []
  }
 ],
 "metadata": {
  "kernelspec": {
   "display_name": "Python 3 (ipykernel)",
   "language": "python",
   "name": "python3"
  },
  "language_info": {
   "codemirror_mode": {
    "name": "ipython",
    "version": 3
   },
   "file_extension": ".py",
   "mimetype": "text/x-python",
   "name": "python",
   "nbconvert_exporter": "python",
   "pygments_lexer": "ipython3",
   "version": "3.11.4"
  }
 },
 "nbformat": 4,
 "nbformat_minor": 5
}
