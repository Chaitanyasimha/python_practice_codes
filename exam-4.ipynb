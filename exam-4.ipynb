{
 "cells": [
  {
   "cell_type": "markdown",
   "id": "c90790ed-3ad5-44e9-ad36-c3e8a0ebcf6b",
   "metadata": {},
   "source": [
    "# Hare Krishna"
   ]
  },
  {
   "cell_type": "markdown",
   "id": "13e4c09c-255b-431d-8239-da75110f14ee",
   "metadata": {},
   "source": [
    "1. Which of the following is not a valid data type in Python?\n",
    "(A) int (B) string\n",
    "(C) float (D) double\n",
    "\n",
    "ans: double"
   ]
  },
  {
   "cell_type": "markdown",
   "id": "dd8ce7ae-b097-4519-950a-8f6f0bfde1ed",
   "metadata": {},
   "source": [
    "2. What will the output be of the following code?\n",
    "word = &quot;Python&quot;\n",
    "print(word[0])\n",
    "(A) p (B) P\n",
    "(C) y (D) Syntax Error\n",
    "\n",
    "ans: p"
   ]
  },
  {
   "cell_type": "markdown",
   "id": "72532ea4-85ae-4934-922d-09cc32654496",
   "metadata": {},
   "source": [
    "3. What will be the output pf the following code snippet?\n",
    "a = 5\n",
    "b = 2.5\n",
    "c = ‘Hello’\n",
    "result = a * b\n",
    "print(c + str(result))\n",
    "(A) Hello12.5 (B) HelloHello\n",
    "(C) Hello 12.5 (D) Error\n",
    "\n",
    "ans: Hello12.5"
   ]
  },
  {
   "cell_type": "markdown",
   "id": "fbd7511a-983e-4dd9-abd0-a4383bb85b2b",
   "metadata": {},
   "source": [
    "4. What will be the output of the following code snippet?\n",
    "S1 = ‘Python’\n",
    "S2 = ‘ is amazing!’\n",
    "result = S1*3 + S2\n",
    "print(result)\n",
    "(A) PythonPythonPython is amazing! (B) PythonPythonPython is\n",
    "amazing\n",
    "(C) Python 3 is amazing! (D) Error\n",
    "\n",
    "ans: PythonPythonPython is amazing!"
   ]
  },
  {
   "cell_type": "markdown",
   "id": "2b7826e3-e308-49a0-97d2-6d6d34a4688f",
   "metadata": {},
   "source": [
    "5. What will be the output of the following code snippet?\n",
    "x = 5\n",
    "y = 2\n",
    "result = x ** y // 3\n",
    "print(result)\n",
    "\n",
    "(A) 6 (B) 8\n",
    "(C) 8.34 (D) 6.34\n",
    "\n",
    "ans: 8"
   ]
  },
  {
   "cell_type": "markdown",
   "id": "678d7aba-c1bd-499e-83ee-c74ecab5d04d",
   "metadata": {},
   "source": [
    "6. What will be the output pf the following code snippet?\n",
    "fruits = [‘apple’, ’orange’, ‘banana]\n",
    "fruits.append(‘grapes’)\n",
    "print(len(fruits))\n",
    "(A) 4 (B) 5\n",
    "(C) 3 (D) 6\n",
    "\n",
    "ans: 4"
   ]
  },
  {
   "cell_type": "markdown",
   "id": "a4f81f59-e997-4ad1-84c6-522eda1b66a0",
   "metadata": {},
   "source": [
    "7. What will be the output pf the following code snippet?\n",
    "n = [1,2,3,4,5]\n",
    "n.pop(2)\n",
    "(A) Remove the element at index 2 (B) Remove the element with value 2\n",
    "(C) Raise an error (D) Print the element at index 2\n",
    "\n",
    "ans: Remove the element at index 2"
   ]
  },
  {
   "cell_type": "markdown",
   "id": "3710c7b8-4359-47dc-8b40-faa7dcbdb51a",
   "metadata": {},
   "source": [
    "8. What will be the output pf the following code snippet?\n",
    "person = [‘name’:’John’,’age’:30,’city’:’NewYork’]\n",
    "print(person[‘age’])\n",
    "(A) ‘John’ (B) 30\n",
    "C) ‘age’ (D) ‘NewYork’\n",
    "\n",
    "ans: 30"
   ]
  },
  {
   "cell_type": "markdown",
   "id": "d8065513-fe5c-4409-b64a-71dd1218a117",
   "metadata": {},
   "source": [
    "9. What will be the output pf the following code snippet?\n",
    "N1 = 25/5\n",
    "N2 =25%5\n",
    "print(N1,N2)\n",
    "(A) 5,0 (B) 5,5\n",
    "(C) 0,5 (D) both a and c\n",
    "\n",
    "ans: 5,0"
   ]
  },
  {
   "cell_type": "markdown",
   "id": "fa21182a-02e2-48cb-a195-7534f573de2b",
   "metadata": {},
   "source": [
    "10. What happens when you try to add a key that already exists in dictionary?\n",
    "(A) The new value will replace the existing value for the key\n",
    "(B) It will raise an error\n",
    "(C) The dictionary size will increase\n",
    "(D) The dictionary will remain unchange\n",
    "\n",
    "ans: The new value will replace the existing value for the key"
   ]
  },
  {
   "cell_type": "markdown",
   "id": "40e29727-49f8-475e-90ad-6040fa617051",
   "metadata": {},
   "source": [
    "11) What will be the output of the following code snippet?\n",
    "i = 1\n",
    "while True:\n",
    "if i%3 == 0:\n",
    "break\n",
    "print(i)\n",
    "i + = 1\n",
    "a) 1 2 b) 1 2 3\n",
    "c) error d) none of the mentioned\n",
    "\n",
    "ans: none of the mentioned"
   ]
  },
  {
   "cell_type": "markdown",
   "id": "39f4e19b-499b-44ef-8cf1-90d2ef9906aa",
   "metadata": {},
   "source": [
    "12) What is the purpose of the while loop in Python?\n",
    "a) To execute a block of code repeatedly until a condition is false\n",
    "b) To execute a block of code a fixed number of times\n",
    "c) To define a function\n",
    "d) To iterate over items in a sequence\n",
    "\n",
    "ans: To execute a block of code repeatedly until a condition is false"
   ]
  },
  {
   "cell_type": "markdown",
   "id": "a96c07aa-6211-4eb6-aefd-0a0975492573",
   "metadata": {},
   "source": [
    "13) What is the syntax for a for loop in Python?\n",
    "a) for item in sequence:\n",
    "b) for item in range(n):\n",
    "c) for index in range(len(sequence)):\n",
    "d) All of the above\n",
    "\n",
    "ans: All of the above"
   ]
  },
  {
   "cell_type": "markdown",
   "id": "42013650-f5cc-4633-a4d1-b42b758038f7",
   "metadata": {},
   "source": [
    "14) What will the following code snippet print?\n",
    "fruits = [&quot;apple&quot;, &quot;banana&quot;, &quot;cherry&quot;]\n",
    "for fruit in fruits:\n",
    "print(fruit)\n",
    "a) apple banana cherry b) [“apple”, “banana”, “cherry”]\n",
    "c) 0 1 2 d) No output\n",
    "\n",
    "ans: apple banana cherry"
   ]
  },
  {
   "cell_type": "markdown",
   "id": "56df8703-31a3-4120-8f60-6d9373c934e1",
   "metadata": {},
   "source": [
    "15) How can you skip the current iteration of a loop and continue with the next\n",
    "iteration?\n",
    "a) Using the skip statement b) Using the pass statement\n",
    "c) Using the break statement d) Using the continue statement\n",
    "\n",
    "ans: Using the continue statement"
   ]
  },
  {
   "cell_type": "markdown",
   "id": "906c4807-4db9-4776-89dd-e3ab984ed26d",
   "metadata": {},
   "source": [
    "16) What will be printed by the following code?\n",
    "num = 5\n",
    "while num &gt; 0:\n",
    "print(num)\n",
    "num -= 1\n",
    "if num == 3:\n",
    "break\n",
    "\n",
    "else:\n",
    "print(&quot;Done&quot;)\n",
    "a) 5 4 3 2 1      b) 5 4\n",
    "c) 5 4 3 2        d) 5 4 3\n",
    "\n",
    "ans:  5 4"
   ]
  },
  {
   "cell_type": "markdown",
   "id": "6bb4cf76-7e36-4052-847c-8b2947b1a774",
   "metadata": {},
   "source": [
    "17) What will be the output pf the following code snippet?\n",
    "x = 10\n",
    "if x &gt; 5:\n",
    "print(&quot;A&quot;)\n",
    "elif x &gt; 7:\n",
    "print(&quot;B&quot;)\n",
    "else:\n",
    "print(&quot;C&quot;)\n",
    "\n",
    "a) A b) B\n",
    "c) C d) A and B\n",
    "\n",
    "ans: A"
   ]
  },
  {
   "cell_type": "markdown",
   "id": "fe8c4086-3c31-44fc-8f57-e905e90143dd",
   "metadata": {},
   "source": [
    "18) What will be the output pf the following code snippet?\n",
    "x = 9\n",
    "if x &gt; 5:\n",
    "print(&quot;Greater than 5&quot;)\n",
    "if x &gt; 8:\n",
    "print(&quot;Greater than 8&quot;\n",
    "if x &gt; 12:\n",
    "print(&quot;Greater than 12&quot;)\n",
    "else:\n",
    "print(&quot;Equal or less than 12&quot;)\n",
    "\n",
    "a) Greater than 5\n",
    "Greater than 8\n",
    "Equal or less than 12\n",
    "b) Greater than 5\n",
    "Greater than 8\n",
    "Greater than 12\n",
    "Equal or less than 12\n",
    "c) Greater than 5\n",
    "\n",
    "Greater than 8\n",
    "d) Equal or less than 12\n",
    "\n",
    "ans: Greater than 5\n",
    "Greater than 8\n",
    "Equal or less than 12"
   ]
  },
  {
   "cell_type": "markdown",
   "id": "a9207089-3bcb-4308-90d7-dd949bcaeab7",
   "metadata": {},
   "source": [
    "19) How can you execute multiple statements under a single if block in Python?\n",
    "a) Separate statements with a semicolon\n",
    "b) Indent the statements to the same level\n",
    "c) Use the and keyword between statements\n",
    "d) Use the elif keyword\n",
    "\n",
    "ans: Indent the statements to the same level"
   ]
  },
  {
   "cell_type": "markdown",
   "id": "ee4f0256-f39a-404c-b48b-139d85175e37",
   "metadata": {},
   "source": [
    "21) What is the primary purpose of a function in Python?\n",
    "a) To execute a block of code repeatedly\n",
    "b) To organize code into manageable units and promote code reuse\n",
    "c) To perform mathematical operations\n",
    "d) To define conditional statements\n",
    "\n",
    "ans: To organize code into manageable units and promote code re use"
   ]
  },
  {
   "cell_type": "markdown",
   "id": "10774fe9-f2de-44ee-a134-08ab84d88a01",
   "metadata": {},
   "source": [
    "22) What keyword is used to define a function in Python?\n",
    "a) def b) function\n",
    "c) define d) func\n",
    "\n",
    "ans: def"
   ]
  },
  {
   "cell_type": "markdown",
   "id": "db098718-76c2-4775-82f1-0a987cdfa6e2",
   "metadata": {},
   "source": [
    "23) What is the purpose of the return statement in a function?\n",
    "a) To stop the execution of the function\n",
    "b) To print a value to the console\n",
    "c) To return a value to the caller\n",
    "d) To define a recursive function\n",
    "\n",
    "ans: To return a value to the caller"
   ]
  },
  {
   "cell_type": "markdown",
   "id": "0f4d4824-fc49-4b48-9d30-9cbe31edea30",
   "metadata": {},
   "source": [
    "24) Which of the following statements about function arguments in Python is\n",
    "true?\n",
    "a) All arguments must have default values\n",
    "b) Functions cannot have more than one argument\n",
    "c) Arguments are passed by value\n",
    "d) Arguments can have default values\n",
    "\n",
    "ans:Arguments can have default value"
   ]
  },
  {
   "cell_type": "markdown",
   "id": "cea1faa0-0476-4690-8f2a-59905da1f005",
   "metadata": {},
   "source": [
    "25) What will be the output of the following code snippet?\n",
    "def greet(name):\n",
    "print (&quot;Hello, &quot; + name + &quot;!&quot;)\n",
    "greet(&quot;Alice&quot;)\n",
    "a) Hello, Alice! b) Hello, name!\n",
    "c) Alice d) None\n",
    "\n",
    "ans: Hello, Alice!"
   ]
  },
  {
   "cell_type": "markdown",
   "id": "df6f0ba0-e840-43c7-a416-56c1d0b31f81",
   "metadata": {},
   "source": [
    "26) What is the purpose of the **kwargs parameter in a Python function\n",
    "definition?\n",
    "a) To accept a variable number of positional arguments\n",
    "b) To accept keyword arguments as a dictionary\n",
    "c) To specify default values for keyword arguments\n",
    "d) To raise an exception\n",
    "\n",
    "ans: To accept keyword arguments as a dictionary"
   ]
  },
  {
   "cell_type": "markdown",
   "id": "e33ecf6c-200a-4376-9d8d-9dda434c044e",
   "metadata": {},
   "source": [
    "27) What will be the output of the following code snippet?\n",
    "def countdown(n):\n",
    "if n &lt;= 0:\n",
    "print(&quot;Done!&quot;)\n",
    "else:\n",
    "print(n)\n",
    "countdown (n - 1)\n",
    "countdown (3)\n",
    "\n",
    "a) 3 2 1 Done! b) 1 2 3 Done!\n",
    "c) Done! 1 2 3 d) Done!\n",
    "\n",
    "ans:  3 2 1 Done!"
   ]
  },
  {
   "cell_type": "markdown",
   "id": "8beb5362-f1c3-4c1a-9fec-83bcf1399707",
   "metadata": {},
   "source": [
    "28) In python, function are\n",
    "a) Always called by passing reference\n",
    "b) Always called as passing value\n",
    "c) May be called by passing reference or value\n",
    "d) None of these\n",
    "\n",
    "ans: May be called by passing reference or value"
   ]
  },
  {
   "cell_type": "markdown",
   "id": "29cd4955-0be5-49a5-a7a9-884e369d50c1",
   "metadata": {},
   "source": [
    "29) What will be the output of the following python code?\n",
    "def func(x=1,y=2):\n",
    "x=x+y\n",
    "y +=1\n",
    "print(x,y)\n",
    "func(y=2,x=1)\n",
    "\n",
    "a) 1 3 b) 2 3\n",
    "c) 3 2 d) 3 3\n",
    "\n",
    "ans:  3 3"
   ]
  },
  {
   "cell_type": "markdown",
   "id": "fd7f83e2-b62a-4d5a-8b83-875424f0fd85",
   "metadata": {},
   "source": [
    "30) What will be the output of the following code snippet?\n",
    "def add (a, b):\n",
    "&quot;&quot;&quot;This function adds two numbers.&quot;&quot;&quot;\n",
    "return a + b\n",
    "print(add.__doc__)\n",
    "\n",
    "a) add b) This function adds two numbers.\n",
    "c) a + b d) None\n",
    "\n",
    "ans: This function adds two numbers."
   ]
  },
  {
   "cell_type": "code",
   "execution_count": null,
   "id": "69f409d9-5349-4a4c-b0e4-b7817349d3a1",
   "metadata": {},
   "outputs": [],
   "source": []
  }
 ],
 "metadata": {
  "kernelspec": {
   "display_name": "Python 3 (ipykernel)",
   "language": "python",
   "name": "python3"
  },
  "language_info": {
   "codemirror_mode": {
    "name": "ipython",
    "version": 3
   },
   "file_extension": ".py",
   "mimetype": "text/x-python",
   "name": "python",
   "nbconvert_exporter": "python",
   "pygments_lexer": "ipython3",
   "version": "3.11.4"
  }
 },
 "nbformat": 4,
 "nbformat_minor": 5
}
