{
 "cells": [
  {
   "cell_type": "markdown",
   "id": "34f3044a-7ff4-498b-b505-8e8ead72b8cb",
   "metadata": {},
   "source": [
    "**try-except**\n",
    "- there is "
   ]
  },
  {
   "cell_type": "markdown",
   "id": "2cc62f3a-33b6-4473-a2b2-c54e0eab7c7e",
   "metadata": {},
   "source": [
    "### note :\n",
    "- generally try and catch are used to catch the errors\n",
    "- ther are many ways we get error so we should avoid hard coding\n",
    "- for catching our particular errors exactky we use \"exept exeption as a:\""
   ]
  },
  {
   "cell_type": "code",
   "execution_count": null,
   "id": "de2fce52-dc78-4c92-8cc9-51967028e381",
   "metadata": {},
   "outputs": [],
   "source": [
    "### now on we have to write the try and except"
   ]
  }
 ],
 "metadata": {
  "kernelspec": {
   "display_name": "Python 3 (ipykernel)",
   "language": "python",
   "name": "python3"
  },
  "language_info": {
   "codemirror_mode": {
    "name": "ipython",
    "version": 3
   },
   "file_extension": ".py",
   "mimetype": "text/x-python",
   "name": "python",
   "nbconvert_exporter": "python",
   "pygments_lexer": "ipython3",
   "version": "3.11.4"
  }
 },
 "nbformat": 4,
 "nbformat_minor": 5
}
