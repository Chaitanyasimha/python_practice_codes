{
 "cells": [
  {
   "cell_type": "markdown",
   "id": "b03b63d3-799d-4dba-b4f4-8451b75a4c0f",
   "metadata": {},
   "source": [
    "## Hare krishna"
   ]
  },
  {
   "cell_type": "code",
   "execution_count": 1,
   "id": "4841d8f6-15c3-4890-8187-b108fc93a826",
   "metadata": {},
   "outputs": [],
   "source": [
    "import math"
   ]
  },
  {
   "cell_type": "code",
   "execution_count": 9,
   "id": "05444e0c-2004-42aa-ac36-c939b1b9dbf0",
   "metadata": {},
   "outputs": [
    {
     "name": "stdin",
     "output_type": "stream",
     "text": [
      "enter the basic salary : 150000\n"
     ]
    },
    {
     "name": "stdout",
     "output_type": "stream",
     "text": [
      "60000\n",
      "30000\n",
      "your gross salary allowance is 240000.\n"
     ]
    }
   ],
   "source": [
    " #que_1\n",
    "basic_salary = eval(input(\"enter the basic salary :\"))\n",
    "dearness_allowance = round(basic_salary*40/100)\n",
    "print(dearness_allowance)\n",
    "house_rent_allowance = round(basic_salary*20/100)\n",
    "print(house_rent_allowance)\n",
    "gross_salary = basic_salary+dearness_allowance+house_rent_allowance\n",
    "print(f\"your gross salary allowance is {gross_salary}.\")"
   ]
  },
  {
   "cell_type": "code",
   "execution_count": 14,
   "id": "1c8f14ad-9b87-41e8-b514-0dd73468802b",
   "metadata": {},
   "outputs": [
    {
     "name": "stdin",
     "output_type": "stream",
     "text": [
      "enter the distance between two cities in km : 60\n"
     ]
    },
    {
     "name": "stdout",
     "output_type": "stream",
     "text": [
      "the distance in meters :60000\n",
      "the distance in feet :1680000\n",
      "the distance in inches :20160000\n",
      "the distance in centimeters :51206400\n"
     ]
    }
   ],
   "source": [
    "#que_2\n",
    "distance = eval(input(\"enter the distance between two cities in km :\"))\n",
    "in_meters = distance*1000\n",
    "print(f\"the distance in meters :{in_meters}\")\n",
    "in_feet = round(in_meters*28)\n",
    "print(f\"the distance in feet :{in_feet}\")\n",
    "in_inches = round(in_feet*12)\n",
    "print(f\"the distance in inches :{in_inches}\")\n",
    "in_centimeters = round(in_inches*2.54)\n",
    "print(f\"the distance in centimeters :{in_centimeters}\")"
   ]
  },
  {
   "cell_type": "code",
   "execution_count": 16,
   "id": "7b902f7c-acf5-4db4-98e2-9c4420bb88e9",
   "metadata": {},
   "outputs": [
    {
     "name": "stdin",
     "output_type": "stream",
     "text": [
      "First Language: 100\n",
      "Second language: 100\n",
      "Third language: 99.9\n",
      "Science: 100\n",
      "Maths: 100\n",
      "Max marks is?: 100\n"
     ]
    },
    {
     "name": "stdout",
     "output_type": "stream",
     "text": [
      "your total are :499.9\n",
      "max marks are :500\n",
      "your percentage is :99.98\n"
     ]
    }
   ],
   "source": [
    "#que_3\n",
    "#11que_A\n",
    "sub1 = eval(input(\"First Language:\"))       \n",
    "sub2 = eval(input(\"Second language:\"))\n",
    "sub3 = eval(input(\"Third language:\"))\n",
    "sub4 = eval(input(\"Science:\"))\n",
    "sub5 = eval(input(\"Maths:\"))\n",
    "max_mark = eval(input(\"Max marks is?:\"))\n",
    "total_marks_obtained = sub1 + sub2 + sub3 + sub4 + sub5\n",
    "total_max = max_mark * 5\n",
    "percentage = round((total_marks_obtained / total_max) * 100,2)\n",
    "print(f\"your total are :{total_marks_obtained}\\nmax marks are :{total_max}\\nyour percentage is :{percentage}\")"
   ]
  },
  {
   "cell_type": "code",
   "execution_count": 21,
   "id": "b7639eac-3687-498a-86ee-bb50a4b34b59",
   "metadata": {},
   "outputs": [
    {
     "name": "stdin",
     "output_type": "stream",
     "text": [
      "enter temperature in farenheit : 269\n"
     ]
    },
    {
     "name": "stdout",
     "output_type": "stream",
     "text": [
      "269 farenheit is -4 in centigrade degree:\n"
     ]
    }
   ],
   "source": [
    "#que_4\n",
    "in_farenheit = eval(input(\"enter temperature in farenheit :\"))\n",
    "in_centigrade = in_farenheit-273\n",
    "print(f\"{in_farenheit} farenheit is {in_centigrade} in centigrade degree:\")"
   ]
  },
  {
   "cell_type": "code",
   "execution_count": 29,
   "id": "f72a2358-dfac-4572-9663-9c7b36619100",
   "metadata": {},
   "outputs": [
    {
     "name": "stdin",
     "output_type": "stream",
     "text": [
      "enter the lenghth : 11\n",
      "enter the breadth : 11\n"
     ]
    },
    {
     "name": "stdout",
     "output_type": "stream",
     "text": [
      "area of rectangle is 121\n",
      "perimeter of rectangle is 44\n"
     ]
    },
    {
     "name": "stdin",
     "output_type": "stream",
     "text": [
      "enter the radius : 2\n"
     ]
    },
    {
     "name": "stdout",
     "output_type": "stream",
     "text": [
      "area of circle is 12.6\n"
     ]
    }
   ],
   "source": [
    "#que_5\n",
    "#5. The length & breadth of a rectangle and radius of a circle are input through the keyboard. Write a program\n",
    "#to calculate the area & perimeter of the rectangle, and the area & circumference of the circle.\n",
    "length = eval(input(\"enter the lenghth :\"))\n",
    "bredth = eval(input(\"enter the breadth :\"))\n",
    "area_rec = length*bredth\n",
    "print(f\"area of rectangle is {area_rec}\")\n",
    "perimeter = 2*(length+bredth)\n",
    "print(f\"perimeter of rectangle is {perimeter}\")\n",
    "radius = eval(input(\"enter the radius :\"))\n",
    "area_cirle = round(math.pi*radius**2,1)\n",
    "print(f\"area of circle is {area_cirle}\")"
   ]
  },
  {
   "cell_type": "code",
   "execution_count": 38,
   "id": "3be41551-21ee-49b8-bbde-cec35ca93320",
   "metadata": {},
   "outputs": [
    {
     "name": "stdin",
     "output_type": "stream",
     "text": [
      "enter the c : 3\n",
      "enter the d : 5\n"
     ]
    },
    {
     "name": "stdout",
     "output_type": "stream",
     "text": [
      "5\n",
      "3\n",
      "swaping again :\n",
      "3\n",
      "5\n"
     ]
    }
   ],
   "source": [
    "#que6\n",
    "#whith out using temporary variable_m1\n",
    "c = eval(input(\"enter the c :\"))\n",
    "d = eval(input(\"enter the d :\")) \n",
    "c = c + d\n",
    "d = c - d\n",
    "c = c - d\n",
    "print(c)\n",
    "print(d)\n",
    "#with out using temporary variable_m2\n",
    "c,d = d,c\n",
    "print(\"swaping again :\")\n",
    "print(c)\n",
    "print(d)"
   ]
  },
  {
   "cell_type": "code",
   "execution_count": 47,
   "id": "4b6d9403-4f20-48ac-bb6f-69a17fc31ef8",
   "metadata": {},
   "outputs": [
    {
     "name": "stdin",
     "output_type": "stream",
     "text": [
      "enter num : 12345\n"
     ]
    },
    {
     "name": "stdout",
     "output_type": "stream",
     "text": [
      "54321\n"
     ]
    }
   ],
   "source": [
    "#7. If a five-digit number is input through the keyboard, write a program to reverse the number.  \n",
    "num = input(\"enter num :\")\n",
    "splited_tuple = num[::-1]\n",
    "print(int(splited_tuple))\n",
    "#this uses slices"
   ]
  },
  {
   "cell_type": "code",
   "execution_count": 4,
   "id": "2648b79b-864d-4a93-91c2-6c564e880bb0",
   "metadata": {},
   "outputs": [
    {
     "name": "stdin",
     "output_type": "stream",
     "text": [
      "enter the num : 123456\n"
     ]
    },
    {
     "name": "stdout",
     "output_type": "stream",
     "text": [
      "7\n"
     ]
    }
   ],
   "source": [
    "#que_8. If a four-digit number is input through the keyboard, write a program to obtain the sum of the first and last digit of this number.  \n",
    "num = input(\"enter the num :\")\n",
    "first_n = int(num[0])\n",
    "len_num = int(num[len(num) - 1])\n",
    "last_n = first_n + len_num\n",
    "print(last_n)"
   ]
  },
  {
   "cell_type": "code",
   "execution_count": 16,
   "id": "34d134e3-8114-48ae-b74f-147e91c3cd4a",
   "metadata": {},
   "outputs": [
    {
     "name": "stdin",
     "output_type": "stream",
     "text": [
      "enter percentage men : 52\n",
      "enter percentage of literacy : 48\n",
      "enter percentage of literate men : 35\n",
      "enter no of population : 80000\n"
     ]
    },
    {
     "name": "stdout",
     "output_type": "stream",
     "text": [
      "the no of men in the town are 41600.0\n",
      "the no of literates in the town are 38400.0\n",
      "the no of literate men in the town are 28000.0\n",
      "the no of illeterate men are :13600\n",
      "the no of illeterate women are :28000\n"
     ]
    }
   ],
   "source": [
    "#que_9.In a town, the percentage of men is 52. The percentage of total literacy is 48. If total percentage of literate\n",
    "#men is 35 of the total population, write a program to find the total number of illiterate men and women if\n",
    "#the population of the town is 80,000.\n",
    "\n",
    "#ans:\n",
    "p_men = eval(input(\"enter percentage men :\"))\n",
    "p_literacy = eval(input(\"enter percentage of literacy :\"))\n",
    "p_literate_men = eval(input(\"enter percentage of literate men :\"))\n",
    "population = eval(input(\"enter no of population :\"))\n",
    "no_of_men = round((population*p_men)/100,1)\n",
    "print(f\"the no of men in the town are {no_of_men}\")\n",
    "no_of_literates = round((population*p_literacy)/100,1)\n",
    "print(f\"the no of literates in the town are {no_of_literates}\")\n",
    "no_of_literate_men = round((population*p_literate_men)/100,1)\n",
    "print(f\"the no of literate men in the town are {no_of_literate_men}\")\n",
    "no_illiterate_men = round(no_of_men - no_of_literate_men)\n",
    "no_illiterate_women = round((population-no_of_men)-(no_of_literates - no_of_literate_men))\n",
    "print(f\"the no of illeterate men are :{no_illiterate_men}\")\n",
    "print(f\"the no of illeterate women are :{no_illiterate_women}\")"
   ]
  },
  {
   "cell_type": "code",
   "execution_count": null,
   "id": "498c5ad2-ebae-44ec-8b4d-f6d7d3a20814",
   "metadata": {},
   "outputs": [],
   "source": [
    "#que_10. A cashier has currency notes of denominations 10, 50 and 100. If the amount to be withdrawn is input\n",
    "#through the keyboard in hundreds, find the total number of currency notes of each denomination the\n",
    "#cashier will have to give to the withdrawer.\n",
    "\n",
    "#ANS:\n",
    "cash = eval(input(\"please enter amount in hundreds :\"))\n",
    "i = 0\n",
    "j = 0\n",
    "k = 0\n",
    "while (cash%100 == 0): \n",
    "    cash = cash - 100\n",
    "    i = i+1\n",
    "    if cash == 0:\n",
    "        break\n",
    "print(i)\n",
    "if i > 0:\n",
    "    print(f\"you get {i} no of 100 notes\")\n",
    "if j > 0:\n",
    "    print(f\"you get {j} no of 50 notes\")\n",
    "if k > 0:\n",
    "    print(f\"you get {k} no of 10 notes\")\n",
    "\n",
    "while (cash%50 == 0):\n",
    "    cash = cash - 50\n",
    "    j = j+1\n",
    "    while (cash%100 == 0):\n",
    "        cash = cash - 100\n",
    "        i = i+1\n",
    "        if cash == 0:\n",
    "            break\n",
    "    \n",
    "    if cash == 0:\n",
    "        break\n",
    "print(i)\n",
    "print(j)\n",
    "\n",
    "while (cash%10 == 0): #when you use the code like this ,this makes the code large and increse difficulty to debug\n",
    "    cash = cash - 10\n",
    "    k = k+1\n",
    "    while (cash%100 == 0):\n",
    "        cash = cash - 100\n",
    "        i = i+1\n",
    "        if cash == 0:\n",
    "            break\n",
    "    while (cash%50 == 0):\n",
    "        cash = cash - 50\n",
    "        j = j+1\n",
    "        while (cash%100 == 0):\n",
    "            cash = cash - 100\n",
    "            i = i+1\n",
    "            if cash == 0:\n",
    "                break\n",
    "        \n",
    "        if cash == 0:\n",
    "            break\n",
    "    \n",
    "    if cash == 0:\n",
    "        break\n",
    "print(i)\n",
    "print(j)\n",
    "print(k)\n",
    "if i > 0:\n",
    "    print(f\"you get {i} no of 100 notes\")\n",
    "if j > 0:\n",
    "    print(f\"you get {j} no of 50 notes\")\n",
    "if k > 0:\n",
    "    print(f\"you get {k} no of 10 notes\")"
   ]
  },
  {
   "cell_type": "markdown",
   "id": "829515d1-352d-40c2-b2a3-9f4e720874c7",
   "metadata": {},
   "source": [
    "### In the context of programming, \"redundant\" refers to parts of the code that are unnecessary\n",
    "### because they repeat or duplicate other parts of the code without adding any new functionality. \n",
    "### Redundant code can make programs harder to read, maintain, and debug, and can also lead to inefficiencies.\n",
    "- For example, in your original code, the nested loops that repeatedly check the conditions cash % 100 == 0 and cash % 50 == 0 are redundant\n",
    "- because these conditions are already being handled by the outer loops.\n",
    "- Including these nested checks doesn't provide any additional benefit and only complicates the code."
   ]
  },
  {
   "cell_type": "code",
   "execution_count": null,
   "id": "7ecd65ce-877d-4512-89d7-2a31356385be",
   "metadata": {},
   "outputs": [],
   "source": [
    "### note:\n",
    "- please write why your code isn't optimal and ask sir why the kernel givesup running your code.\n",
    "- Instead whats the optimal coding that you can do\n",
    "- compare them both and write the feedback\n",
    "- you didn't understand the new code yet so try to analyze it as long as you can but with clarity\n"
   ]
  },
  {
   "cell_type": "code",
   "execution_count": 27,
   "id": "2c090783-5475-4fdb-a22d-8f218c664ab1",
   "metadata": {},
   "outputs": [
    {
     "name": "stdin",
     "output_type": "stream",
     "text": [
      "Please enter the amount:  4980\n"
     ]
    },
    {
     "name": "stdout",
     "output_type": "stream",
     "text": [
      "49\n",
      "You get 49 100-rupee notes\n",
      "You get 1 50-rupee notes\n",
      "You get 3 10-rupee notes\n"
     ]
    }
   ],
   "source": [
    "def calculate_notes(amount):\n",
    "    # Calculate the number of 100-rupee notes\n",
    "    notes_100 = amount // 100\n",
    "    # Update the remaining amount\n",
    "    amount %= 100 #helps us get the remainder then store it in the amount\n",
    "\n",
    "    # Calculate the number of 50-rupee notes\n",
    "    notes_50 = amount // 50 #we can just find the no of 100 in the amount by just ignoring the remainder and after that we can store it again\n",
    "    # Update the remaining amount\n",
    "    amount %= 50\n",
    "\n",
    "    # Calculate the number of 10-rupee notes\n",
    "    notes_10 = amount // 10\n",
    "\n",
    "    # Return the number of notes as a tuple            ##when we write a funcion with def \"you must return the value of the variables\"\n",
    "    return notes_100, notes_50, notes_10               ##if not it will return none....that will be problatic in case of hackeranck\n",
    "                                                       ## or real time aplications.\n",
    "# Input the amount\n",
    "amount = int(input(\"Please enter the amount: \"))\n",
    "\n",
    "# Calculate the number of notes\n",
    "notes_100, notes_50, notes_10 = calculate_notes(amount) #if not spaces after the comma it ewill not work\n",
    "print(notes_100)\n",
    "# Print the result\n",
    "if notes_100 > 0:\n",
    "    print(f\"You get {notes_100} 100-rupee notes\")\n",
    "if notes_50 > 0:\n",
    "    print(f\"You get {notes_50} 50-rupee notes\")\n",
    "if notes_10 > 0:\n",
    "    print(f\"You get {notes_10} 10-rupee notes\")\n"
   ]
  },
  {
   "cell_type": "markdown",
   "id": "d4ab0fb4-a5d3-4a84-a34d-10c682b65ca2",
   "metadata": {},
   "source": [
    "# when ever you write a code make it simple yet with good fuctionality and easy to debug and understand."
   ]
  },
  {
   "cell_type": "code",
   "execution_count": 29,
   "id": "c1783c5f-759b-4875-97f0-4d270258576e",
   "metadata": {},
   "outputs": [
    {
     "name": "stdin",
     "output_type": "stream",
     "text": [
      "enter the amount : 5550\n"
     ]
    },
    {
     "name": "stdout",
     "output_type": "stream",
     "text": [
      "You get 55 100-rupee notes\n",
      "You get 1 50-rupee notes\n"
     ]
    }
   ],
   "source": [
    "amount = eval(input(\"enter the amount :\"))\n",
    "notes_100 = amount//100  ## you can create just a def function and name it something and assign the amount to the operations\n",
    "amount%=100              ##in that way you can further use the fuction again and again easily \n",
    "notes_50 = amount//50    ##\"in this programme it will be 'calculate_cas(notes)'\" \n",
    "amount%=50\n",
    "notes_10 = amount//10\n",
    "if notes_100 > 0:\n",
    "    print(f\"You get {notes_100} 100-rupee notes\")\n",
    "if notes_50 > 0:\n",
    "    print(f\"You get {notes_50} 50-rupee notes\")\n",
    "if notes_10 > 0:\n",
    "    print(f\"You get {notes_10} 10-rupee notes\")"
   ]
  },
  {
   "cell_type": "code",
   "execution_count": 39,
   "id": "72ad9f2a-422a-49c7-b992-3e647adfb440",
   "metadata": {},
   "outputs": [
    {
     "name": "stdin",
     "output_type": "stream",
     "text": [
      "enter the amount : 99980\n"
     ]
    },
    {
     "name": "stdout",
     "output_type": "stream",
     "text": [
      "999 1 3\n"
     ]
    }
   ],
   "source": [
    "def calculate_amount(amount):           #you cannot use the same name in the main block of the def function too\n",
    "    notes_100 = amount//100  ## you can create just a def function and name it something and assign the amount to the operations\n",
    "    amount%=100##in that way you can further use the fuction again and again easily \n",
    "    notes_50 = amount//50    ##\"in this programme it will be 'calculate_cas(notes)'\" \n",
    "    amount%=50\n",
    "    notes_10 = amount//10\n",
    "    return notes_100,notes_50,notes_10\n",
    "amount = eval(input(\"enter the amount :\"))\n",
    "notes_100, notes_50, notes_10 = calculate_amount(amount)\n",
    "calculate_amount(amount)\n",
    "print(notes_100,notes_50,notes_10)"
   ]
  },
  {
   "cell_type": "markdown",
   "id": "b890dc03-f978-4e27-96eb-3ea8e6895056",
   "metadata": {},
   "source": [
    "# TypeError: cannot unpack non-iterable NoneType object\n",
    "- this is because of values are not returned in a function. \"initializationn problem\""
   ]
  },
  {
   "cell_type": "code",
   "execution_count": null,
   "id": "a065013c-e01b-413f-8556-319c7b05cb97",
   "metadata": {},
   "outputs": [],
   "source": [
    "##i cant use the return statements they say because there is no coditions or something like \"\"for\"\" likethat.....\n",
    "#i can use the print statements instead of then in that case"
   ]
  },
  {
   "cell_type": "markdown",
   "id": "2dd77e8d-aad5-4a51-87e7-cbe090c546c2",
   "metadata": {},
   "source": [
    "# most common mistakes you do when it comes to def fuction:\n",
    "- you should pass on a values in the def function it should same in the outer loop that you are giving value\n",
    "- ex: if def cal_notes(amount): in the loop\n",
    "- in th outer loop you have to enter the **amount** as value tooo..."
   ]
  },
  {
   "cell_type": "code",
   "execution_count": 11,
   "id": "3598b06c-11a6-447b-96b7-bbdc9107f029",
   "metadata": {},
   "outputs": [],
   "source": [
    "# The error message you're seeing, \"cannot access local variable 'amount'\n",
    "# where it is not associated with a value,\" suggests that there might be an issue with the variable scope or initialization.\n",
    "# the initialization is incorrect"
   ]
  },
  {
   "cell_type": "markdown",
   "id": "ae978cb8-7be7-4173-907a-3b32efc4798d",
   "metadata": {},
   "source": [
    "# whenever you are creating a def function with a name  ex: \"calculate_amount(notes):\" \n",
    "# it mandatory to use the exact name \"\"inside the function\"\" when calling it for doing a operation\n",
    "# example you can use \"calculate_amount(notes)\" \n",
    "- some cases are exeption like the one sir have said but i don't know it for sure have to ask it with sir."
   ]
  },
  {
   "cell_type": "code",
   "execution_count": 20,
   "id": "ae36ca79-7626-4c0c-8bf9-ba453c6a84fe",
   "metadata": {},
   "outputs": [
    {
     "name": "stdin",
     "output_type": "stream",
     "text": [
      "enter the amount : 2220\n"
     ]
    },
    {
     "name": "stdout",
     "output_type": "stream",
     "text": [
      "You get 22 100-rupee notes\n",
      "You get 2 10-rupee notes\n"
     ]
    }
   ],
   "source": [
    "def calculate_amount(notes):#if you give it like this there will be probem with amount because it is not definined at the start\n",
    "    amount = eval(input(\"enter the amount :\"))#you can give anything that you want to pass throught the fuction in the def function\n",
    "    notes_100 = amount//100  ## you can create just a def function and name it something and assign the amount to the operations\n",
    "    amount%=100  ##in that way you can further use the fuction again and again easily \n",
    "    notes_50 = amount//50    ##\"in this programme it will be 'calculate_cas(notes)'\" \n",
    "    amount%=50\n",
    "    notes_10 = amount//10\n",
    "    return notes_100,notes_50,notes_10\n",
    "notes_100, notes_50, notes_10 = calculate_amount(amount)#the arguments are also nessasary as you have give the number of arguments\"\n",
    "if notes_100 > 0:\n",
    "    print(f\"You get {notes_100} 100-rupee notes\")\n",
    "if notes_50 > 0:\n",
    "    print(f\"You get {notes_50} 50-rupee notes\")\n",
    "if notes_10 > 0:\n",
    "    print(f\"You get {notes_10} 10-rupee notes\")"
   ]
  },
  {
   "cell_type": "code",
   "execution_count": null,
   "id": "c6e99b13-e11d-4dc0-93d0-26b624516ab2",
   "metadata": {},
   "outputs": [],
   "source": [
    "# this has to be a name errror but its not given because the variable values of before are stored inthe kernel\n",
    "# name error means you have done some initialization or assignation mistake."
   ]
  },
  {
   "cell_type": "code",
   "execution_count": 39,
   "id": "0811e3c0-caed-40ba-b1cf-87a508c7f401",
   "metadata": {},
   "outputs": [
    {
     "name": "stdin",
     "output_type": "stream",
     "text": [
      "enter the amount : 9990\n"
     ]
    },
    {
     "name": "stdout",
     "output_type": "stream",
     "text": [
      "You get 49 100-rupee notes\n",
      "You get 1 50-rupee notes\n",
      "You get 3 10-rupee notes\n"
     ]
    }
   ],
   "source": [
    "def calculate_amount(amount):\n",
    " #you cannot use the same name in the main block of the def function too\n",
    "    notes_100 = amount//100  ## you can create just a def function and name it something and assign the amount to the operations\n",
    "    amount%=100              ##in that way you can further use the fuction again and again easily \n",
    "    notes_50 = amount//50    ##\"in this programme it will be 'calculate_cas(notes)'\" \n",
    "    amount%=50\n",
    "    notes_10 = amount//10\n",
    "    return notes_100\n",
    "    return notes_50\n",
    "    return notes_10        #before i have written as tuple \"return notes_100,notes_50,notes_10\" like that \n",
    "amount = eval(input(\"enter the amount :\"))  #so it became difficult to print it seperately in a seperate pringt statement.\n",
    "calculate_amount(amount)\n",
    "if notes_100 > 0:\n",
    "    print(f\"You get {notes_100} 100-rupee notes\")\n",
    "if notes_50 > 0:\n",
    "    print(f\"You get {notes_50} 50-rupee notes\")\n",
    "if notes_10 > 0:\n",
    "    print(f\"You get {notes_10} 10-rupee notes\")"
   ]
  },
  {
   "cell_type": "code",
   "execution_count": 36,
   "id": "c1fef780-4820-4152-82a3-bb73f529c984",
   "metadata": {},
   "outputs": [
    {
     "name": "stdin",
     "output_type": "stream",
     "text": [
      "enter the amount : 9990\n"
     ]
    },
    {
     "data": {
      "text/plain": [
       "(99, 1, 4)"
      ]
     },
     "execution_count": 36,
     "metadata": {},
     "output_type": "execute_result"
    }
   ],
   "source": [
    "def calculate_amount(amount):\n",
    " #you cannot use the same name in the main block of the def function too\n",
    "    notes_100 = amount//100  ## you can create just a def function and name it something and assign the amount to the operations\n",
    "    amount%=100              ##in that way you can further use the fuction again and again easily \n",
    "    notes_50 = amount//50    ##\"in this programme it will be 'calculate_cas(notes)'\" \n",
    "    amount%=50\n",
    "    notes_10 = amount//10\n",
    "    return notes_100,notes_50,notes_10\n",
    "amount = eval(input(\"enter the amount :\"))\n",
    "calculate_amount(amount)"
   ]
  },
  {
   "cell_type": "code",
   "execution_count": null,
   "id": "16f38329-8998-46bb-b4d0-3a5a0e56d6db",
   "metadata": {},
   "outputs": [],
   "source": [
    "#this output is the proof that we have aquired to get the output but it its getting difficult because its in the tuple"
   ]
  }
 ],
 "metadata": {
  "kernelspec": {
   "display_name": "Python 3 (ipykernel)",
   "language": "python",
   "name": "python3"
  },
  "language_info": {
   "codemirror_mode": {
    "name": "ipython",
    "version": 3
   },
   "file_extension": ".py",
   "mimetype": "text/x-python",
   "name": "python",
   "nbconvert_exporter": "python",
   "pygments_lexer": "ipython3",
   "version": "3.11.4"
  }
 },
 "nbformat": 4,
 "nbformat_minor": 5
}
