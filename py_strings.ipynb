{
 "cells": [
  {
   "cell_type": "code",
   "execution_count": 1,
   "id": "7c959829-8b0a-4d08-87de-04ab764c610a",
   "metadata": {},
   "outputs": [
    {
     "data": {
      "text/plain": [
       "False"
      ]
     },
     "execution_count": 1,
     "metadata": {},
     "output_type": "execute_result"
    }
   ],
   "source": [
    "str1 = \"123\"\n",
    "str1.istitle()"
   ]
  },
  {
   "cell_type": "markdown",
   "id": "35c04de7-a23a-4e91-b78e-be21f2bfc6d2",
   "metadata": {},
   "source": [
    "**index**\n",
    "\n",
    "- index says that it will give the index of any letter in a given string'\n",
    "- we already seen about count :count will give how many letters are there in a string"
   ]
  },
  {
   "cell_type": "markdown",
   "id": "5c72f8c0-6a12-41dc-a77b-d85df7e02ad5",
   "metadata": {},
   "source": [
    "- seeing the references before work kills the creativity we only remember and do that"
   ]
  },
  {
   "cell_type": "code",
   "execution_count": 3,
   "id": "e71411b0-75fb-400c-8a94-dcaef8070f46",
   "metadata": {},
   "outputs": [
    {
     "data": {
      "text/plain": [
       "3"
      ]
     },
     "execution_count": 3,
     "metadata": {},
     "output_type": "execute_result"
    }
   ],
   "source": [
    "str1 = \"how how how\"\n",
    "str1.count(\"how\")"
   ]
  },
  {
   "cell_type": "code",
   "execution_count": 33,
   "id": "60403298-7b35-4e92-947a-c8dd09550f65",
   "metadata": {},
   "outputs": [
    {
     "data": {
      "text/plain": [
       "2"
      ]
     },
     "execution_count": 33,
     "metadata": {},
     "output_type": "execute_result"
    }
   ],
   "source": [
    "str1 = \"how how how\"\n",
    "str1.count(\"how\",0,10)"
   ]
  },
  {
   "cell_type": "code",
   "execution_count": 9,
   "id": "4e73b377-f11d-438c-ab25-393ae590f6a9",
   "metadata": {},
   "outputs": [
    {
     "data": {
      "text/plain": [
       "6"
      ]
     },
     "execution_count": 9,
     "metadata": {},
     "output_type": "execute_result"
    }
   ],
   "source": [
    "str1.index(\"w\",3)"
   ]
  },
  {
   "cell_type": "code",
   "execution_count": 15,
   "id": "4d444c3b-424b-4c96-b05a-34f32fc6f123",
   "metadata": {},
   "outputs": [
    {
     "data": {
      "text/plain": [
       "10"
      ]
     },
     "execution_count": 15,
     "metadata": {},
     "output_type": "execute_result"
    }
   ],
   "source": [
    "str1.index(\"w\",10)"
   ]
  },
  {
   "cell_type": "code",
   "execution_count": 19,
   "id": "01648cf2-4f25-46de-9175-a6fe10b6048f",
   "metadata": {},
   "outputs": [
    {
     "ename": "ValueError",
     "evalue": "substring not found",
     "output_type": "error",
     "traceback": [
      "\u001b[1;31m---------------------------------------------------------------------------\u001b[0m",
      "\u001b[1;31mValueError\u001b[0m                                Traceback (most recent call last)",
      "Cell \u001b[1;32mIn[19], line 1\u001b[0m\n\u001b[1;32m----> 1\u001b[0m \u001b[43mstr1\u001b[49m\u001b[38;5;241;43m.\u001b[39;49m\u001b[43mindex\u001b[49m\u001b[43m(\u001b[49m\u001b[38;5;124;43m\"\u001b[39;49m\u001b[38;5;124;43mw\u001b[39;49m\u001b[38;5;124;43m\"\u001b[39;49m\u001b[43m,\u001b[49m\u001b[38;5;241;43m10\u001b[39;49m\u001b[43m,\u001b[49m\u001b[38;5;241;43m3\u001b[39;49m\u001b[43m)\u001b[49m\n",
      "\u001b[1;31mValueError\u001b[0m: substring not found"
     ]
    }
   ],
   "source": [
    "str1.index(\"w\",10,3)"
   ]
  },
  {
   "cell_type": "code",
   "execution_count": 26,
   "id": "8cb5c130-42a3-4b25-9254-6b16d7d4c396",
   "metadata": {},
   "outputs": [
    {
     "data": {
      "text/plain": [
       "10"
      ]
     },
     "execution_count": 26,
     "metadata": {},
     "output_type": "execute_result"
    }
   ],
   "source": [
    "str1.index(\"w\",7,11)#returns the closeset element index with the substring in that given range"
   ]
  },
  {
   "cell_type": "code",
   "execution_count": 29,
   "id": "cb1b5217-46ca-4554-a9c7-955099c427d6",
   "metadata": {},
   "outputs": [
    {
     "data": {
      "text/plain": [
       "2"
      ]
     },
     "execution_count": 29,
     "metadata": {},
     "output_type": "execute_result"
    }
   ],
   "source": [
    "str1.index(\"w\",-11,-7)#have to know in aand out of the indexing concept"
   ]
  },
  {
   "cell_type": "code",
   "execution_count": 35,
   "id": "c7457ba1-062f-44d0-b9be-a028980970cd",
   "metadata": {},
   "outputs": [
    {
     "name": "stdout",
     "output_type": "stream",
     "text": [
      "1\n",
      "5\n",
      "9\n"
     ]
    }
   ],
   "source": [
    "str1 = \"hai hai hai\"\n",
    "i1 = str1.index(\"a\")\n",
    "print(i1)\n",
    "i2 = str1.index(\"a\",i1+1)\n",
    "print(i2)\n",
    "i3 = str1.index(\"a\",i2+1)\n",
    "print(i3)"
   ]
  },
  {
   "cell_type": "code",
   "execution_count": 36,
   "id": "d40269cd-9614-47e3-af86-6c5bc77a222b",
   "metadata": {},
   "outputs": [],
   "source": [
    "#home work get all the indeces using the above method"
   ]
  },
  {
   "cell_type": "markdown",
   "id": "81df396f-8c4c-4720-9e0e-287f8456f06e",
   "metadata": {},
   "source": [
    "### find method"
   ]
  },
  {
   "cell_type": "code",
   "execution_count": 38,
   "id": "4aa79afc-9d7f-452a-8a32-0840dfeda7ce",
   "metadata": {},
   "outputs": [
    {
     "data": {
      "text/plain": [
       "4"
      ]
     },
     "execution_count": 38,
     "metadata": {},
     "output_type": "execute_result"
    }
   ],
   "source": [
    "str1.find(\"hai\",3)"
   ]
  },
  {
   "cell_type": "code",
   "execution_count": 43,
   "id": "827220f1-8b2c-4ad3-96eb-8571a31b3c4a",
   "metadata": {},
   "outputs": [
    {
     "data": {
      "text/plain": [
       "'aai aai aai'"
      ]
     },
     "execution_count": 43,
     "metadata": {},
     "output_type": "execute_result"
    }
   ],
   "source": [
    "str1.replace(\"h\",\"a\")"
   ]
  },
  {
   "cell_type": "markdown",
   "id": "62b6d865-28f1-4d39-a19c-eb2cda5a3930",
   "metadata": {},
   "source": [
    "- if substring not found\n",
    "- count method will give zero\n",
    "- replaace method will give original string\n",
    "- index wil give **substring not found error**\n",
    "- find will give -1"
   ]
  },
  {
   "cell_type": "code",
   "execution_count": null,
   "id": "9b918702-bcb8-46bf-973c-5bda24a33da5",
   "metadata": {},
   "outputs": [],
   "source": [
    "str2 = \"chaitanya.simha795@gmail.com\"\n",
    "find the triggers\n",
    "for firstname .\n",
    "secondname . and @\n",
    "company name  @ AND SECOND"
   ]
  },
  {
   "cell_type": "markdown",
   "id": "9fe0cf80-3d2b-4d35-bca6-fbbe871e5baf",
   "metadata": {},
   "source": [
    "str2 = \"chaitanya.simha795@gmail.com\"\n",
    "first_t = str2.find(\".\",5)\n",
    "first_name = str2[0:first_t]\n",
    "print(first_name)"
   ]
  },
  {
   "cell_type": "code",
   "execution_count": 49,
   "id": "d1d67e28-f49c-4a04-9f40-58f790af072c",
   "metadata": {},
   "outputs": [
    {
     "name": "stdout",
     "output_type": "stream",
     "text": [
      "simha795\n"
     ]
    }
   ],
   "source": [
    "second_t = str2.find(\"@\",10)\n",
    "second_name = str2[first_t+1:second_t]\n",
    "print(second_name)"
   ]
  },
  {
   "cell_type": "code",
   "execution_count": 50,
   "id": "7c6d0d5b-e7fd-44eb-b9f3-c49ee09e4f02",
   "metadata": {},
   "outputs": [
    {
     "data": {
      "text/plain": [
       "('gmail', 'simha795', 'chaitanya')"
      ]
     },
     "execution_count": 50,
     "metadata": {},
     "output_type": "execute_result"
    }
   ],
   "source": [
    "i1 = str2.index(\".\")\n",
    "i2 = str2.index(\"@\")\n",
    "i3 = str2.index(\".\",i1+1)\n",
    "first_name = str2[:i1]\n",
    "second_name = str2[i1+1:i2]\n",
    "cname = str2[i2+1:i3]\n",
    "cname,second_name,first_name"
   ]
  },
  {
   "cell_type": "markdown",
   "id": "5bf104e9-377b-472f-952a-8202500d73ee",
   "metadata": {},
   "source": [
    "- upper/lower/casefold\n",
    "- capitalize/title\n",
    "- count\n",
    "- replace\n",
    "- index/find\n",
    "- start with is"
   ]
  },
  {
   "cell_type": "markdown",
   "id": "69885649-83a5-4400-a330-8322a0484986",
   "metadata": {},
   "source": [
    "- split\n",
    "- strip/lstrip/rstrip\n",
    "- startwith/endswith"
   ]
  },
  {
   "cell_type": "markdown",
   "id": "80bf7722-d410-4cdd-9dbc-7d38d6875441",
   "metadata": {},
   "source": [
    "**order**\n",
    "\n",
    "- representations\n",
    "- type\n",
    "- len\n",
    "- max\n",
    "- min\n",
    "- sorted\n",
    "- \n",
    "- for loop\n",
    "- slicing\n",
    "- methods"
   ]
  },
  {
   "cell_type": "markdown",
   "id": "fb92e549-ab01-40ed-a18c-16d8f0384de2",
   "metadata": {},
   "source": [
    "**representations**\n",
    "\n",
    "- string representation with quotes\n",
    "- list representation with [] brackets"
   ]
  },
  {
   "cell_type": "code",
   "execution_count": 1,
   "id": "84625122-08e9-48df-9798-a20af6f2b764",
   "metadata": {},
   "outputs": [
    {
     "data": {
      "text/plain": [
       "4"
      ]
     },
     "execution_count": 1,
     "metadata": {},
     "output_type": "execute_result"
    }
   ],
   "source": [
    "l1 = [1,2,3,4]\n",
    "l1[3]"
   ]
  },
  {
   "cell_type": "code",
   "execution_count": 3,
   "id": "e82237d8-2a9c-49dc-8f7d-cb266a36192f",
   "metadata": {},
   "outputs": [
    {
     "data": {
      "text/plain": [
       "list"
      ]
     },
     "execution_count": 3,
     "metadata": {},
     "output_type": "execute_result"
    }
   ],
   "source": [
    "type(l1)"
   ]
  },
  {
   "cell_type": "code",
   "execution_count": 4,
   "id": "b93dedf0-8536-4ac9-b89c-cadb4963597e",
   "metadata": {},
   "outputs": [
    {
     "data": {
      "text/plain": [
       "[1, 2, 3, 4, 'a', 'L', 'Chaitanya', 'simha']"
      ]
     },
     "execution_count": 4,
     "metadata": {},
     "output_type": "execute_result"
    }
   ],
   "source": [
    "l1 = [1,2,3,4,\"a\",\"L\",\"Chaitanya\",\"simha\"]\n",
    "l1"
   ]
  },
  {
   "cell_type": "code",
   "execution_count": 5,
   "id": "4b6c5d0d-cf37-481c-9223-8c198d01911d",
   "metadata": {},
   "outputs": [
    {
     "data": {
      "text/plain": [
       "'Chaitanya Simha'"
      ]
     },
     "execution_count": 5,
     "metadata": {},
     "output_type": "execute_result"
    }
   ],
   "source": [
    "name = \"Chaitanya Simha\"\n",
    "l2 = [name]\n",
    "name"
   ]
  },
  {
   "cell_type": "code",
   "execution_count": 42,
   "id": "72dc0e57-e861-418a-8528-147985d07a46",
   "metadata": {},
   "outputs": [
    {
     "data": {
      "text/plain": [
       "'chaitanyasimha'"
      ]
     },
     "execution_count": 42,
     "metadata": {},
     "output_type": "execute_result"
    }
   ],
   "source": [
    "l3 = [1,2,3,4,\"a\",[\"L\",\"Chaitanya\",\"simha\"]]\n",
    "l1"
   ]
  },
  {
   "cell_type": "code",
   "execution_count": 7,
   "id": "e51db071-e8f8-45d1-82ee-9fb4e4a8b2ec",
   "metadata": {},
   "outputs": [
    {
     "data": {
      "text/plain": [
       "[1, 2, 3, 4, 'a', ['L', 'Chaitanya', 'simha'], True, False]"
      ]
     },
     "execution_count": 7,
     "metadata": {},
     "output_type": "execute_result"
    }
   ],
   "source": [
    "l1 = [1,2,3,4,\"a\",[\"L\",\"Chaitanya\",\"simha\"],True,False]\n",
    "l1"
   ]
  },
  {
   "cell_type": "markdown",
   "id": "28f51c7e-9340-4d6a-a4a0-8c064ea4dce8",
   "metadata": {},
   "source": [
    "- lists are array of elements\n",
    "- list elements are hetrogenious all data types we are able to use in the lists\n",
    "- list elements allows duplicates\n",
    "- list in a list is possible\n",
    "- variable assignment also possible\n",
    "- variable assignment also possible in the list"
   ]
  },
  {
   "cell_type": "markdown",
   "id": "41755669-6ed6-48b0-b698-8705f1c4345f",
   "metadata": {},
   "source": [
    "- len\n",
    "- max\n",
    "- min\n",
    "- sorted"
   ]
  },
  {
   "cell_type": "raw",
   "id": "eb835555-7f71-4121-a4db-86273c66c1d7",
   "metadata": {},
   "source": [
    "l1 = \"chaitanya simha\"\n",
    "max(l1)"
   ]
  },
  {
   "cell_type": "code",
   "execution_count": 9,
   "id": "8ac8bcaa-7281-443b-9eae-27af267a02f4",
   "metadata": {},
   "outputs": [
    {
     "data": {
      "text/plain": [
       "' '"
      ]
     },
     "execution_count": 9,
     "metadata": {},
     "output_type": "execute_result"
    }
   ],
   "source": [
    "min(l1)"
   ]
  },
  {
   "cell_type": "code",
   "execution_count": 33,
   "id": "fc322268-3d94-4d9a-9b6d-40c07cd84882",
   "metadata": {},
   "outputs": [
    {
     "data": {
      "text/plain": [
       "['a', 'a', 'a', 'a', 'c', 'h', 'h', 'i', 'i', 'm', 'n', 's', 't', 'y']"
      ]
     },
     "execution_count": 33,
     "metadata": {},
     "output_type": "execute_result"
    }
   ],
   "source": [
    "l1 = \"chaitanyasimha\"\n",
    "sorted(l1)"
   ]
  },
  {
   "cell_type": "code",
   "execution_count": 34,
   "id": "002975ed-571c-401f-bda6-b310ce0bbbe7",
   "metadata": {},
   "outputs": [
    {
     "data": {
      "text/plain": [
       "14"
      ]
     },
     "execution_count": 34,
     "metadata": {},
     "output_type": "execute_result"
    }
   ],
   "source": [
    "len(l1)"
   ]
  },
  {
   "cell_type": "code",
   "execution_count": 35,
   "id": "b6a794fe-3043-45c8-b748-52f33e6f91d2",
   "metadata": {},
   "outputs": [
    {
     "data": {
      "text/plain": [
       "['c', 'h', 'a', 'i', 't', 'a', 'n', 'y', 'a', 's', 'i', 'm', 'h', 'a']"
      ]
     },
     "execution_count": 35,
     "metadata": {},
     "output_type": "execute_result"
    }
   ],
   "source": [
    "l2 = list(l1)\n",
    "l2"
   ]
  },
  {
   "cell_type": "code",
   "execution_count": 38,
   "id": "d9f07952-835e-4e17-8e8a-d83e8fa808d8",
   "metadata": {},
   "outputs": [
    {
     "data": {
      "text/plain": [
       "['y', 't', 's', 'n', 'm', 'i', 'i', 'h', 'h', 'c', 'a', 'a', 'a', 'a']"
      ]
     },
     "execution_count": 38,
     "metadata": {},
     "output_type": "execute_result"
    }
   ],
   "source": [
    "sorted(l1,reverse = True)"
   ]
  },
  {
   "cell_type": "code",
   "execution_count": 39,
   "id": "1329d287-e8b3-4189-907c-6f429d9060a1",
   "metadata": {},
   "outputs": [
    {
     "name": "stdout",
     "output_type": "stream",
     "text": [
      "5 4 3 2 1 "
     ]
    }
   ],
   "source": [
    "a = [1,2,3,4,5]\n",
    "b = reversed(a)\n",
    "for i in b:\n",
    "    print(i,end = \" \")"
   ]
  },
  {
   "cell_type": "code",
   "execution_count": 41,
   "id": "4a26e9d1-026e-47ab-acd0-2f5a9c5fdaca",
   "metadata": {},
   "outputs": [
    {
     "data": {
      "text/plain": [
       "[5, 4, 3, 2, 1]"
      ]
     },
     "execution_count": 41,
     "metadata": {},
     "output_type": "execute_result"
    }
   ],
   "source": [
    "a = [1,2,3,4,5]\n",
    "list(reversed(a))#to direcly convert to list to make them iterable"
   ]
  },
  {
   "cell_type": "code",
   "execution_count": 43,
   "id": "103f2f48-caf4-4462-8ea8-700f199b0c96",
   "metadata": {},
   "outputs": [
    {
     "ename": "TypeError",
     "evalue": "'builtin_function_or_method' object is not subscriptable",
     "output_type": "error",
     "traceback": [
      "\u001b[1;31m---------------------------------------------------------------------------\u001b[0m",
      "\u001b[1;31mTypeError\u001b[0m                                 Traceback (most recent call last)",
      "Cell \u001b[1;32mIn[43], line 1\u001b[0m\n\u001b[1;32m----> 1\u001b[0m \u001b[38;5;28;43mmin\u001b[39;49m\u001b[43m[\u001b[49m\u001b[43ml3\u001b[49m\u001b[43m]\u001b[49m\n",
      "\u001b[1;31mTypeError\u001b[0m: 'builtin_function_or_method' object is not subscriptable"
     ]
    }
   ],
   "source": [
    "min[l3]"
   ]
  },
  {
   "cell_type": "code",
   "execution_count": 44,
   "id": "53bcd463-3238-48b9-bcd5-b08e94187fc4",
   "metadata": {},
   "outputs": [],
   "source": [
    "#same data types are iterable"
   ]
  },
  {
   "cell_type": "code",
   "execution_count": null,
   "id": "cc4200dd-5977-4666-b1e1-db7b151dd893",
   "metadata": {},
   "outputs": [],
   "source": [
    "slicing and index i need a lot of practice in the list of a list too"
   ]
  },
  {
   "cell_type": "code",
   "execution_count": 46,
   "id": "d7a6f4a1-6093-4369-9e77-907dafd1cbe6",
   "metadata": {},
   "outputs": [
    {
     "data": {
      "text/plain": [
       "'b'"
      ]
     },
     "execution_count": 46,
     "metadata": {},
     "output_type": "execute_result"
    }
   ],
   "source": [
    "l4 = [1,[4,[\"a\",\"b\"]]]\n",
    "l4[1][1][1]"
   ]
  },
  {
   "cell_type": "code",
   "execution_count": 48,
   "id": "98a6eef0-e9f0-4d60-a18b-05f2a912a659",
   "metadata": {},
   "outputs": [
    {
     "name": "stderr",
     "output_type": "stream",
     "text": [
      "<>:1: SyntaxWarning: 'int' object is not subscriptable; perhaps you missed a comma?\n",
      "<>:1: SyntaxWarning: 'int' object is not subscriptable; perhaps you missed a comma?\n",
      "<>:1: SyntaxWarning: 'int' object is not subscriptable; perhaps you missed a comma?\n",
      "<>:1: SyntaxWarning: 'int' object is not subscriptable; perhaps you missed a comma?\n",
      "C:\\Users\\chait\\AppData\\Local\\Temp\\ipykernel_3688\\3540115058.py:1: SyntaxWarning: 'int' object is not subscriptable; perhaps you missed a comma?\n",
      "  l4[1[1[1]]]#you cant use indexing in this way...\n",
      "C:\\Users\\chait\\AppData\\Local\\Temp\\ipykernel_3688\\3540115058.py:1: SyntaxWarning: 'int' object is not subscriptable; perhaps you missed a comma?\n",
      "  l4[1[1[1]]]#you cant use indexing in this way...\n"
     ]
    },
    {
     "ename": "TypeError",
     "evalue": "'int' object is not subscriptable",
     "output_type": "error",
     "traceback": [
      "\u001b[1;31m---------------------------------------------------------------------------\u001b[0m",
      "\u001b[1;31mTypeError\u001b[0m                                 Traceback (most recent call last)",
      "Cell \u001b[1;32mIn[48], line 1\u001b[0m\n\u001b[1;32m----> 1\u001b[0m l4[\u001b[38;5;241m1\u001b[39m[\u001b[38;5;241;43m1\u001b[39;49m\u001b[43m[\u001b[49m\u001b[38;5;241;43m1\u001b[39;49m\u001b[43m]\u001b[49m]]\u001b[38;5;66;03m#you cant use indexing in this way...\u001b[39;00m\n",
      "\u001b[1;31mTypeError\u001b[0m: 'int' object is not subscriptable"
     ]
    }
   ],
   "source": [
    "l4[1[1[1]]]#you cant use indexing in this way..."
   ]
  },
  {
   "cell_type": "code",
   "execution_count": null,
   "id": "d5363fed-cc8a-4a2f-b4a5-63042bccf07d",
   "metadata": {},
   "outputs": [],
   "source": []
  }
 ],
 "metadata": {
  "kernelspec": {
   "display_name": "Python 3 (ipykernel)",
   "language": "python",
   "name": "python3"
  },
  "language_info": {
   "codemirror_mode": {
    "name": "ipython",
    "version": 3
   },
   "file_extension": ".py",
   "mimetype": "text/x-python",
   "name": "python",
   "nbconvert_exporter": "python",
   "pygments_lexer": "ipython3",
   "version": "3.11.4"
  }
 },
 "nbformat": 4,
 "nbformat_minor": 5
}
