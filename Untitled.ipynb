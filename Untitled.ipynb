{
 "cells": [
  {
   "cell_type": "code",
   "execution_count": 11,
   "id": "fdb2074e-2476-40f1-98e8-d2efd1868b2c",
   "metadata": {},
   "outputs": [
    {
     "name": "stdin",
     "output_type": "stream",
     "text": [
      "enter the no of elements: 4\n",
      "enter the value1 : 2=\n"
     ]
    },
    {
     "ename": "ValueError",
     "evalue": "invalid literal for int() with base 10: '2='",
     "output_type": "error",
     "traceback": [
      "\u001b[1;31m---------------------------------------------------------------------------\u001b[0m",
      "\u001b[1;31mValueError\u001b[0m                                Traceback (most recent call last)",
      "Cell \u001b[1;32mIn[11], line 4\u001b[0m\n\u001b[0;32m      2\u001b[0m N \u001b[38;5;241m=\u001b[39m \u001b[38;5;28mint\u001b[39m(\u001b[38;5;28minput\u001b[39m(\u001b[38;5;124m\"\u001b[39m\u001b[38;5;124menter the no of elements:\u001b[39m\u001b[38;5;124m\"\u001b[39m))\n\u001b[0;32m      3\u001b[0m \u001b[38;5;28;01mfor\u001b[39;00m i \u001b[38;5;129;01min\u001b[39;00m \u001b[38;5;28mrange\u001b[39m (\u001b[38;5;241m1\u001b[39m,N\u001b[38;5;241m+\u001b[39m\u001b[38;5;241m1\u001b[39m):\n\u001b[1;32m----> 4\u001b[0m     values \u001b[38;5;241m=\u001b[39m \u001b[38;5;28;43mint\u001b[39;49m\u001b[43m(\u001b[49m\u001b[38;5;28;43minput\u001b[39;49m\u001b[43m(\u001b[49m\u001b[38;5;124;43mf\u001b[39;49m\u001b[38;5;124;43m\"\u001b[39;49m\u001b[38;5;124;43menter the value\u001b[39;49m\u001b[38;5;132;43;01m{\u001b[39;49;00m\u001b[43mi\u001b[49m\u001b[38;5;132;43;01m}\u001b[39;49;00m\u001b[38;5;124;43m :\u001b[39;49m\u001b[38;5;124;43m\"\u001b[39;49m\u001b[43m)\u001b[49m\u001b[43m)\u001b[49m\n\u001b[0;32m      5\u001b[0m     nums\u001b[38;5;241m.\u001b[39mappend(values)\n\u001b[0;32m      6\u001b[0m \u001b[38;5;28mprint\u001b[39m(nums)\n",
      "\u001b[1;31mValueError\u001b[0m: invalid literal for int() with base 10: '2='"
     ]
    }
   ],
   "source": [
    "nums = []\n",
    "N = int(input(\"enter the no of elements:\"))\n",
    "for i in range (1,N+1):\n",
    "    values = int(input(f\"enter the value{i} :\"))\n",
    "    nums.append(values)\n",
    "print(nums)\n",
    "target = int(input())\n",
    "#main loop\n",
    "for j in range (N):\n",
    "    for k in range (1,N):\n",
    "        if (nums[j]+nums[k]) == target:\n",
    "            print([j,k])\n",
    "            while [j,k] == [k,j]:\n",
    "                break\n",
    "            break\n",
    "        break"
   ]
  },
  {
   "cell_type": "code",
   "execution_count": null,
   "id": "6bfc32cc-7f71-4281-826c-e878e9c3eb17",
   "metadata": {},
   "outputs": [],
   "source": [
    "num = [input()]\n",
    "N = int(input(\"enter the no of elements:\"))\n",
    "num = int(nums.split())\n",
    "print(nums)\n",
    "target = int(input())\n",
    "#main loop\n",
    "for j in range (N):\n",
    "    for k in range (1,N):\n",
    "        if (nums[j]+nums[k]) == target:\n",
    "            print([j,k])\n",
    "            while [j,k] == [k,j]:\n",
    "                break\n",
    "            break\n",
    "        break"
   ]
  },
  {
   "cell_type": "code",
   "execution_count": null,
   "id": "80f97afe-464a-484c-9ee2-4bb60c8cabbf",
   "metadata": {},
   "outputs": [],
   "source": [
    "num=list(map(int,input().split()))\n",
    "target=int(input())\n",
    "k = []\n",
    "for i in range(len(num)):\n",
    "    for j in range (i+1,len(num)):\n",
    "        if num[i]+num[j]==target:\n",
    "            k.append(i)\n",
    "            k.append(j)\n",
    "print(k)"
   ]
  }
 ],
 "metadata": {
  "kernelspec": {
   "display_name": "Python 3 (ipykernel)",
   "language": "python",
   "name": "python3"
  },
  "language_info": {
   "codemirror_mode": {
    "name": "ipython",
    "version": 3
   },
   "file_extension": ".py",
   "mimetype": "text/x-python",
   "name": "python",
   "nbconvert_exporter": "python",
   "pygments_lexer": "ipython3",
   "version": "3.11.4"
  }
 },
 "nbformat": 4,
 "nbformat_minor": 5
}
