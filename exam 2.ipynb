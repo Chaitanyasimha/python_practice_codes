{
 "cells": [
  {
   "cell_type": "code",
   "execution_count": 5,
   "id": "36141f31-8f77-483d-984e-7180a1ed43f1",
   "metadata": {},
   "outputs": [
    {
     "name": "stdin",
     "output_type": "stream",
     "text": [
      " simha\n"
     ]
    },
    {
     "name": "stdout",
     "output_type": "stream",
     "text": [
      "hello simha.\n"
     ]
    }
   ],
   "source": [
    "#Q- 1\n",
    "\n",
    "#Write a Python function greet(name)\n",
    "#that takes a person's name as an argument and prints a   greeting message in the format \"Hello, [name]!\". \n",
    "\n",
    "def greet(name):\n",
    "    print(f\"hello {name}.\")\n",
    "greet(input())"
   ]
  },
  {
   "cell_type": "code",
   "execution_count": 12,
   "id": "84e01d97-388a-4db4-b806-abdea40b82a9",
   "metadata": {},
   "outputs": [
    {
     "name": "stdin",
     "output_type": "stream",
     "text": [
      " 45\n"
     ]
    },
    {
     "name": "stdout",
     "output_type": "stream",
     "text": [
      "the square of 45 is 2025\n"
     ]
    }
   ],
   "source": [
    "#Q- 2\n",
    "\n",
    "#Write a Python function square(number) that takes an integer as an argument and returns the   square of that number. \n",
    "\n",
    "def square(num):\n",
    "    sq_num = num**2\n",
    "    print(f\"the square of {num} is {sq_num}\")\n",
    "square(int(input()))"
   ]
  },
  {
   "cell_type": "code",
   "execution_count": 10,
   "id": "5ba65cd2-21ae-4ddb-b4de-13a1432d8d83",
   "metadata": {},
   "outputs": [
    {
     "name": "stdin",
     "output_type": "stream",
     "text": [
      " 289\n"
     ]
    },
    {
     "name": "stdout",
     "output_type": "stream",
     "text": [
      "fahrenheit 289 in celsius is 16 \n"
     ]
    }
   ],
   "source": [
    "#Q-3\n",
    "\n",
    "#Write a Python function fahrenheit_to_celsius(fahrenheit)that takes a temperature in  Fahrenheit as an argument \n",
    "#and returns the equivalent temperature in Celsius. \n",
    "#The formula to convert   Fahrenheit to Celsius is: Celsius=(Fahrenheit−32)∗5/9Celsius = (Fahrenheit - 32) *   5/9Celsius=(Fahrenheit−32)∗5/9 \n",
    "\n",
    "def fahrenheit_to_celsius(fahrenheit):\n",
    "    celsius = fahrenheit - 273\n",
    "    print(f\"fahrenheit {fahrenheit} in celsius is {celsius} \")\n",
    "fahrenheit_to_celsius(int(input()))"
   ]
  },
  {
   "cell_type": "code",
   "execution_count": 14,
   "id": "e495181e-3118-4d5e-bcfe-81b92c2441b7",
   "metadata": {},
   "outputs": [
    {
     "name": "stdin",
     "output_type": "stream",
     "text": [
      " 40\n"
     ]
    },
    {
     "name": "stdout",
     "output_type": "stream",
     "text": [
      "the num 40 is positive\n"
     ]
    }
   ],
   "source": [
    "#Q-4\n",
    "\n",
    "#Write a Python script that takes an integer input from the userand prints \"Positive\" if the number is   greater than zero, \"Negative\"\n",
    "#if the number is less than zero, and \"Zero\" if the number is exactly zero. \n",
    "\n",
    "num = eval(input())\n",
    "if num == 0:\n",
    "    print(f\"the num {num} is zero\")\n",
    "if num > 0:\n",
    "    print(f\"the num {num} is positive\")\n",
    "if num < 0:\n",
    "    print(f\"the num {num} is nagative\")"
   ]
  },
  {
   "cell_type": "code",
   "execution_count": 21,
   "id": "053a7fd8-6ac7-47e0-88e2-ca35c8b48917",
   "metadata": {},
   "outputs": [
    {
     "name": "stdin",
     "output_type": "stream",
     "text": [
      " 2029\n"
     ]
    },
    {
     "name": "stdout",
     "output_type": "stream",
     "text": [
      "it's not a leap year\n"
     ]
    }
   ],
   "source": [
    "#Q-5\n",
    "\n",
    "#Write a Python script that takes a year as input from the user and prints \"Leap Year\" if the year is a   leap year,\n",
    "#and \"Not a Leap Year\" otherwise. (A year is a leap year if it is divisible by 4 but not by 100,\n",
    "#unless it is also divisible by 400.)\n",
    "\n",
    "num = eval(input())\n",
    "if num % 400 == 0:\n",
    "    print(\"it's a leap year\")\n",
    "elif num % 100 == 0:\n",
    "    print(\"it's not a leap year\")\n",
    "elif num % 4 == 0 :\n",
    "    print(\"it's a leap year\")\n",
    "else:\n",
    "    print(\"it's not a leap year\")"
   ]
  },
  {
   "cell_type": "code",
   "execution_count": null,
   "id": "a26b3c77-6cd6-44d1-a396-c2e862f92aad",
   "metadata": {},
   "outputs": [],
   "source": []
  }
 ],
 "metadata": {
  "kernelspec": {
   "display_name": "Python 3 (ipykernel)",
   "language": "python",
   "name": "python3"
  },
  "language_info": {
   "codemirror_mode": {
    "name": "ipython",
    "version": 3
   },
   "file_extension": ".py",
   "mimetype": "text/x-python",
   "name": "python",
   "nbconvert_exporter": "python",
   "pygments_lexer": "ipython3",
   "version": "3.11.4"
  }
 },
 "nbformat": 4,
 "nbformat_minor": 5
}
