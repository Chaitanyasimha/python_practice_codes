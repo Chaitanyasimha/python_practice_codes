{
 "cells": [
  {
   "cell_type": "markdown",
   "id": "bfd27eb0-5821-4081-805e-d3fa820ecaac",
   "metadata": {},
   "source": [
    "# hare krishna"
   ]
  },
  {
   "cell_type": "markdown",
   "id": "00dba8a2-f45a-4fce-8b75-7f4627aebd8a",
   "metadata": {},
   "source": [
    "### conditional statements"
   ]
  },
  {
   "cell_type": "markdown",
   "id": "7551f1ac-5803-4579-9c12-e9307bf24abf",
   "metadata": {},
   "source": [
    "- conditional statements used to excute a particular code after checking coditions"
   ]
  },
  {
   "cell_type": "markdown",
   "id": "3501e646-716c-4488-8bf9-8f0bdb8d9819",
   "metadata": {},
   "source": [
    "### if statements :"
   ]
  },
  {
   "cell_type": "code",
   "execution_count": 2,
   "id": "f58b0331-0ed6-4342-9504-2ce25386354f",
   "metadata": {},
   "outputs": [
    {
     "data": {
      "text/plain": [
       "'\\nif<condition>:\\n    <codeline1>\\n    <codeline2>\\n        ||\\n        || so on...\\n'"
      ]
     },
     "execution_count": 2,
     "metadata": {},
     "output_type": "execute_result"
    }
   ],
   "source": [
    "# syntax :\n",
    "\"\"\"\n",
    "if<condition>:\n",
    "    <codeline1>\n",
    "    <codeline2>\n",
    "        ||\n",
    "        || so on...\n",
    "\"\"\""
   ]
  },
  {
   "cell_type": "markdown",
   "id": "552b9c81-c63f-44b2-87bb-f9e9fae0b493",
   "metadata": {},
   "source": [
    "- when we use keyword first at the start of a line we use :\n",
    "- if we use the : we will have a gap or indentation in the next line representing the block of code\n",
    "- if condition is true it will execute the block of code with in the indentation\n",
    "- else it will skip the block of code\n",
    "- indentation require 4spaces"
   ]
  },
  {
   "cell_type": "code",
   "execution_count": 14,
   "id": "840ee641-e593-466b-bb41-cd9de581cf5b",
   "metadata": {},
   "outputs": [
    {
     "name": "stdout",
     "output_type": "stream",
     "text": [
      "true\n"
     ]
    }
   ],
   "source": [
    "if (100>10):\n",
    "    print(\"true\")"
   ]
  },
  {
   "cell_type": "markdown",
   "id": "caf77579-e77f-4a84-80f8-f6b90d663fbb",
   "metadata": {},
   "source": [
    "### you have to check the notes sir will send in classrooom today bruh.."
   ]
  },
  {
   "cell_type": "code",
   "execution_count": 15,
   "id": "0d3636c4-0720-42f7-a109-b2384c1b6c8e",
   "metadata": {},
   "outputs": [
    {
     "ename": "IndentationError",
     "evalue": "unexpected indent (1871802601.py, line 4)",
     "output_type": "error",
     "traceback": [
      "\u001b[1;36m  Cell \u001b[1;32mIn[15], line 4\u001b[1;36m\u001b[0m\n\u001b[1;33m    print(\"mikasa\")\u001b[0m\n\u001b[1;37m    ^\u001b[0m\n\u001b[1;31mIndentationError\u001b[0m\u001b[1;31m:\u001b[0m unexpected indent\n"
     ]
    }
   ],
   "source": [
    "if 77>9 :\n",
    "    print(\"eren\")\n",
    "print(\"eager\")\n",
    "    print(\"mikasa\")"
   ]
  },
  {
   "cell_type": "code",
   "execution_count": 16,
   "id": "c0442605-09b2-4413-be6e-191d68a1e9f1",
   "metadata": {},
   "outputs": [],
   "source": [
    "# if you try to give gap with out a reason or any loop or condition it will give error"
   ]
  },
  {
   "cell_type": "code",
   "execution_count": 19,
   "id": "0b5d8eda-a65f-4a69-8b48-008a73fbe771",
   "metadata": {},
   "outputs": [
    {
     "name": "stdout",
     "output_type": "stream",
     "text": [
      "eren\n",
      "eager\n",
      "mikasa\n"
     ]
    }
   ],
   "source": [
    "if ' ' :\n",
    "    print(\"eren\")\n",
    "print(\"eager\")\n",
    "print(\"mikasa\")"
   ]
  },
  {
   "cell_type": "markdown",
   "id": "a0963bf8-ee01-48bd-b67f-13f420185694",
   "metadata": {},
   "source": [
    "### if else"
   ]
  },
  {
   "cell_type": "code",
   "execution_count": 21,
   "id": "d4cf8776-d84d-4df7-8300-b0992c397ecd",
   "metadata": {},
   "outputs": [
    {
     "data": {
      "text/plain": [
       "'\\nif<condition>:\\n    <codeline1>\\n    <codeline2>\\n        ||\\n        || so on...\\nelse:\\n    <codeline1>\\n    <codeline2>\\n        ||\\n        || so on...\\n'"
      ]
     },
     "execution_count": 21,
     "metadata": {},
     "output_type": "execute_result"
    }
   ],
   "source": [
    "#syntax\n",
    "\"\"\"\n",
    "if<condition>:\n",
    "    <codeline1>\n",
    "    <codeline2>\n",
    "        ||\n",
    "        || so on...\n",
    "else:\n",
    "    <codeline1>\n",
    "    <codeline2>\n",
    "        ||\n",
    "        || so on...\n",
    "\"\"\""
   ]
  },
  {
   "cell_type": "code",
   "execution_count": 26,
   "id": "d535f1e6-96af-4d6f-80c2-eb6bbc6e20cc",
   "metadata": {},
   "outputs": [
    {
     "name": "stdout",
     "output_type": "stream",
     "text": [
      "eren\n"
     ]
    }
   ],
   "source": [
    "#we can also use the conditional statements like this...\n",
    "if 77>9 :print(\"eren\")\n",
    "else:print(\"mikasa\")"
   ]
  },
  {
   "cell_type": "code",
   "execution_count": 27,
   "id": "7e76bc43-dbb4-4ee8-85fd-8c73d2ddd8be",
   "metadata": {},
   "outputs": [
    {
     "data": {
      "text/plain": [
       "0.0"
      ]
     },
     "execution_count": 27,
     "metadata": {},
     "output_type": "execute_result"
    }
   ],
   "source": [
    "0/10"
   ]
  },
  {
   "cell_type": "code",
   "execution_count": 37,
   "id": "a540b492-e967-4175-bdc4-1b681d6b8ca6",
   "metadata": {},
   "outputs": [
    {
     "data": {
      "text/plain": [
       "5"
      ]
     },
     "execution_count": 37,
     "metadata": {},
     "output_type": "execute_result"
    }
   ],
   "source": [
    "555//111"
   ]
  },
  {
   "cell_type": "code",
   "execution_count": 32,
   "id": "8d090aba-bd93-4806-a6b8-9f2dd66e5f68",
   "metadata": {},
   "outputs": [
    {
     "data": {
      "text/plain": [
       "1.1111111111111112"
      ]
     },
     "execution_count": 32,
     "metadata": {},
     "output_type": "execute_result"
    }
   ],
   "source": [
    "10/9"
   ]
  },
  {
   "cell_type": "code",
   "execution_count": 40,
   "id": "0bddb79a-be5f-4e86-abe7-60c0ec846a1e",
   "metadata": {},
   "outputs": [
    {
     "name": "stdin",
     "output_type": "stream",
     "text": [
      " 9\n"
     ]
    },
    {
     "name": "stdout",
     "output_type": "stream",
     "text": [
      "odd\n"
     ]
    }
   ],
   "source": [
    "#check even or odd\n",
    "a = eval(input())\n",
    "if (a%2 == 0):\n",
    "    print(\"even\")\n",
    "else:\n",
    "    print(\"odd\")"
   ]
  },
  {
   "cell_type": "code",
   "execution_count": 41,
   "id": "daa9d4f9-1eef-4b81-9f0c-67dc691ccac7",
   "metadata": {},
   "outputs": [],
   "source": [
    "#learn some codes using the conditional statements and some example sinarios easy to hard..."
   ]
  },
  {
   "cell_type": "code",
   "execution_count": 42,
   "id": "83dd26ac-db07-4f52-93d3-96bb73a4b075",
   "metadata": {},
   "outputs": [],
   "source": [
    "#write a program to find armstrong numbers\n",
    "#armstrong number is a numbers where the sum of individual squares of that number is the same number\n",
    "#ex : 153=1^2+5^2+3^2"
   ]
  },
  {
   "cell_type": "code",
   "execution_count": 43,
   "id": "8862aec9-0af2-448d-be59-501deb5f81f7",
   "metadata": {},
   "outputs": [],
   "source": [
    "#practice codes in leetcode..."
   ]
  },
  {
   "cell_type": "code",
   "execution_count": 2,
   "id": "6f912351-e8f5-4e31-a6ee-d4b463a4a506",
   "metadata": {},
   "outputs": [
    {
     "name": "stdout",
     "output_type": "stream",
     "text": [
      "70\n",
      "even\n"
     ]
    }
   ],
   "source": [
    "import random\n",
    "st = eval(input())\n",
    "print(f\"{st}\")\n",
    "en = eval(input())\n",
    "print(f\"{en}\")\n",
    "i = random.randint(st,en)\n",
    "print(i)\n",
    "if (i%2 == 0):\n",
    "    print(\"even\")\n",
    "else:\n",
    "    print(\"odd\")"
   ]
  },
  {
   "cell_type": "code",
   "execution_count": 5,
   "id": "75cea1d8-87ef-4fa0-9718-ad0e1d2db6c8",
   "metadata": {},
   "outputs": [
    {
     "name": "stdin",
     "output_type": "stream",
     "text": [
      "enter distance : =\n"
     ]
    },
    {
     "ename": "SyntaxError",
     "evalue": "invalid syntax (<string>, line 1)",
     "output_type": "error",
     "traceback": [
      "Traceback \u001b[1;36m(most recent call last)\u001b[0m:\n",
      "\u001b[0m  File \u001b[0;32m~\\AppData\\Local\\Programs\\Python\\Python311\\Lib\\site-packages\\IPython\\core\\interactiveshell.py:3577\u001b[0m in \u001b[0;35mrun_code\u001b[0m\n    exec(code_obj, self.user_global_ns, self.user_ns)\u001b[0m\n",
      "\u001b[1;36m  Cell \u001b[1;32mIn[5], line 6\u001b[1;36m\n\u001b[1;33m    distance = eval(input(\"enter distance :\"))\u001b[1;36m\n",
      "\u001b[1;36m  File \u001b[1;32m<string>:1\u001b[1;36m\u001b[0m\n\u001b[1;33m    =\u001b[0m\n\u001b[1;37m    ^\u001b[0m\n\u001b[1;31mSyntaxError\u001b[0m\u001b[1;31m:\u001b[0m invalid syntax\n"
     ]
    }
   ],
   "source": [
    "#wqp to take distance as input\n",
    "#if distance is greater than 25km\n",
    "# then enter the charge\n",
    "#print the total cost\n",
    "#other wise print free ride\n",
    "distance = eval(input(\"enter distance :\"))\n",
    "if distance>25:\n",
    "    charge = eval(input(\"enter the charge :\"))\n",
    "    cost = distance*charge\n",
    "    print(\"the total charge in rs\")"
   ]
  },
  {
   "cell_type": "code",
   "execution_count": 4,
   "id": "34681b99-ce57-45e4-b437-948c73db99e8",
   "metadata": {},
   "outputs": [
    {
     "data": {
      "text/plain": [
       "'\\nwap ask user to enter distance\\ncut off distance enter 25km\\nif distance greater than 25km\\nprint\"good news your charge is only aplicable for only remaining of 25\"\\nchargable distance = distance cuttoff\\nthen enter the charge\\nprint the total cost\\n'"
      ]
     },
     "execution_count": 4,
     "metadata": {},
     "output_type": "execute_result"
    }
   ],
   "source": [
    "\"\"\"\n",
    "wap ask user to enter distance\n",
    "cut off distance enter 25km\n",
    "if distance greater than 25km\n",
    "print\"good news your charge is only aplicable for only remaining of 25\"\n",
    "chargable distance = distance cuttoff\n",
    "then enter the charge\n",
    "print the total cost\n",
    "\"\"\""
   ]
  },
  {
   "cell_type": "code",
   "execution_count": 6,
   "id": "a502ce74-6310-49e5-a67b-47d0aa168be2",
   "metadata": {},
   "outputs": [
    {
     "data": {
      "text/plain": [
       "'\\nwap to ask the user the course\\nask the user enter the institute\\nif the course = ds , institute = nar_it\\nprint(you are good person)\\nelse\\nprint(bad)\\n'"
      ]
     },
     "execution_count": 6,
     "metadata": {},
     "output_type": "execute_result"
    }
   ],
   "source": [
    "\"\"\"\n",
    "wap to ask the user the course\n",
    "ask the user enter the institute\n",
    "if the course = ds , institute = nar_it\n",
    "print(you are good person)\n",
    "else\n",
    "print(bad)\n",
    "\"\"\""
   ]
  },
  {
   "cell_type": "code",
   "execution_count": null,
   "id": "57e2e1ff-b574-4538-9dbf-bc06988a4d91",
   "metadata": {},
   "outputs": [],
   "source": [
    "#wap ask the enter a random number between 1 to 10,trat this as number1#wap the user enter another from keyboard,trat this as number2\n",
    "#if number1 equal to number2\n",
    "#     print you won\n",
    "#otherwise\n",
    "#     print you lost"
   ]
  },
  {
   "cell_type": "code",
   "execution_count": 7,
   "id": "55bb2416-091a-49c0-a30f-7379e5136bce",
   "metadata": {},
   "outputs": [],
   "source": [
    "#wap ask the user enter the percentage of marks a to 100\n",
    "#if percentage > 90 print a grade \n",
    "#if percentage >75 to 90 print b grade\n",
    "#if percentage between 5o to 75 c grade\n",
    "#if percentage >35 and <79 d grade\n",
    "#else fail"
   ]
  },
  {
   "cell_type": "code",
   "execution_count": 8,
   "id": "7aafaaf2-1e4e-49ab-94ef-a714707ba700",
   "metadata": {},
   "outputs": [
    {
     "data": {
      "text/plain": [
       "19"
      ]
     },
     "execution_count": 8,
     "metadata": {},
     "output_type": "execute_result"
    }
   ],
   "source": [
    "2019%400"
   ]
  },
  {
   "cell_type": "code",
   "execution_count": 15,
   "id": "860950ba-34cd-4b2a-9b7b-f9531242816d",
   "metadata": {},
   "outputs": [
    {
     "name": "stdin",
     "output_type": "stream",
     "text": [
      " 4\n",
      " her dress has holes\n"
     ]
    },
    {
     "name": "stdout",
     "output_type": "stream",
     "text": [
      "5\n"
     ]
    }
   ],
   "source": [
    "def is_vowel(letter):\n",
    "    return letter in ['a', 'e', 'i', 'o', 'u', 'y']\n",
    "\n",
    "def score_words(words):\n",
    "    score = 0\n",
    "    for word in words:\n",
    "        num_vowels = 0\n",
    "        word.split()\n",
    "        for letter in word:\n",
    "            if is_vowel(letter):\n",
    "                num_vowels += 1\n",
    "        if num_vowels % 2 == 0:\n",
    "            score = score+2\n",
    "        else:\n",
    "            score = score+1 #here was the problem\n",
    "    return score\n",
    "\n",
    "\n",
    "n = int(input())\n",
    "words = input().split()\n",
    "print(score_words(words))"
   ]
  },
  {
   "cell_type": "code",
   "execution_count": null,
   "id": "5ff94539-2117-4daf-be27-a321498e5e3e",
   "metadata": {},
   "outputs": [],
   "source": [
    "#write the mistake and insights you had with this problem..."
   ]
  }
 ],
 "metadata": {
  "kernelspec": {
   "display_name": "Python 3 (ipykernel)",
   "language": "python",
   "name": "python3"
  },
  "language_info": {
   "codemirror_mode": {
    "name": "ipython",
    "version": 3
   },
   "file_extension": ".py",
   "mimetype": "text/x-python",
   "name": "python",
   "nbconvert_exporter": "python",
   "pygments_lexer": "ipython3",
   "version": "3.11.4"
  }
 },
 "nbformat": 4,
 "nbformat_minor": 5
}
