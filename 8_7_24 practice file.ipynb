{
 "cells": [
  {
   "cell_type": "code",
   "execution_count": 1,
   "id": "843b980d-54fb-4622-a8cd-1da09d0f80cc",
   "metadata": {},
   "outputs": [
    {
     "name": "stdin",
     "output_type": "stream",
     "text": [
      "enter a number to enter that many records : jhdfkjasdflknlkrkgjliert\n"
     ]
    },
    {
     "name": "stdout",
     "output_type": "stream",
     "text": [
      "{'j': 3, 'h': 1, 'd': 2, 'f': 2, 'k': 4, 'a': 1, 's': 1, 'l': 3, 'n': 1, 'r': 2, 'g': 1, 'i': 1, 'e': 1, 't': 1}\n"
     ]
    }
   ],
   "source": [
    "num = input(\"enter a number to enter that many records :\")\n",
    "d = {}\n",
    "for i in num:\n",
    "    if i in d:\n",
    "        d[i]+=1\n",
    "    else:\n",
    "        d[i]=1\n",
    "print(d)"
   ]
  },
  {
   "cell_type": "code",
   "execution_count": 4,
   "id": "966e75af-1c90-4731-b8de-d4f1d052d5aa",
   "metadata": {},
   "outputs": [
    {
     "data": {
      "text/plain": [
       "{'a': [4, 5, 6, 7, 8, 34, 8]}"
      ]
     },
     "execution_count": 4,
     "metadata": {},
     "output_type": "execute_result"
    }
   ],
   "source": [
    "d1={}\n",
    "d1[\"a\"]=[4,5,6,7,8,34,8]\n",
    "d1"
   ]
  },
  {
   "cell_type": "code",
   "execution_count": null,
   "id": "f476eb98-4716-44cc-a0d9-d8a02cd18d7b",
   "metadata": {},
   "outputs": [],
   "source": []
  }
 ],
 "metadata": {
  "kernelspec": {
   "display_name": "Python 3 (ipykernel)",
   "language": "python",
   "name": "python3"
  },
  "language_info": {
   "codemirror_mode": {
    "name": "ipython",
    "version": 3
   },
   "file_extension": ".py",
   "mimetype": "text/x-python",
   "name": "python",
   "nbconvert_exporter": "python",
   "pygments_lexer": "ipython3",
   "version": "3.11.4"
  }
 },
 "nbformat": 4,
 "nbformat_minor": 5
}
