{
 "cells": [
  {
   "cell_type": "code",
   "execution_count": 4,
   "id": "3aef5f04-2f79-42cf-9077-0117a4e40933",
   "metadata": {},
   "outputs": [
    {
     "name": "stdout",
     "output_type": "stream",
     "text": [
      "Mumbai Chennai "
     ]
    }
   ],
   "source": [
    "# Q2)l1=['Hyd','Mumbai','Chennai','blr']\n",
    "#  ans=['Mumbai','Chennai']  \n",
    "#  we want lements which are len of element >4\n",
    "\n",
    "l1=['Hyd','Mumbai','Chennai','blr']\n",
    "for i in range(len(l1)):\n",
    "    if len(l1[i]) > 4:\n",
    "        print(l1[i],end = \" \")"
   ]
  },
  {
   "cell_type": "code",
   "execution_count": 7,
   "id": "0c378bb3-6485-4bf7-98f7-262321f0705c",
   "metadata": {},
   "outputs": [
    {
     "name": "stdout",
     "output_type": "stream",
     "text": [
      "Mum#bai Chen#nai "
     ]
    }
   ],
   "source": [
    "# Q3)l1=['Hyd','Mum#bai','Chen#nai','blr']\n",
    "#  ans=['Mum#bai'',Chen#nai']  \n",
    "#  we want lements which are having '#'\n",
    "\n",
    "l1=['Hyd','Mum#bai','Chen#nai','blr']\n",
    "for i in range(len(l1)):\n",
    "    if \"#\" in l1[i] :\n",
    "        print(l1[i],end = \" \")"
   ]
  },
  {
   "cell_type": "code",
   "execution_count": 8,
   "id": "10a6630b-d636-4292-8737-a73687ee08b8",
   "metadata": {},
   "outputs": [
    {
     "name": "stdout",
     "output_type": "stream",
     "text": [
      "hyd mumbai chennai blr "
     ]
    }
   ],
   "source": [
    "# Q4)l1=['hyd','mumbai','chennai','blr']\n",
    "#  ans= ['Hyd','Mumbai','Chennai','Blr']\n",
    "#  we want lements which are len of element >4\n",
    "\n",
    "l1=['hyd','mumbai','chennai','blr']\n",
    "for i in range(len(l1)):\n",
    "    if len(l1[i]) >= 3:\n",
    "        print(l1[i],end = \" \")"
   ]
  },
  {
   "cell_type": "code",
   "execution_count": 13,
   "id": "144d76cb-00d1-40c3-b71d-6c0603da624f",
   "metadata": {},
   "outputs": [
    {
     "name": "stdout",
     "output_type": "stream",
     "text": [
      "Hyd Mumbai "
     ]
    }
   ],
   "source": [
    "# Q5)l1=['Hyd','Mumbai','chennai','blr']\n",
    "#  ans= ['Hyd','Mumbai']\n",
    "#  we want lements which are having first letter capital\n",
    "\n",
    "l1=['Hyd','Mumbai','chennai','blr']\n",
    "for i in range(len(l1)):\n",
    "    if l1[i].istitle() :\n",
    "        print(l1[i],end = \" \")"
   ]
  },
  {
   "cell_type": "code",
   "execution_count": 15,
   "id": "9caeb955-17d6-4f92-aabe-86cdab64d47c",
   "metadata": {},
   "outputs": [
    {
     "name": "stdout",
     "output_type": "stream",
     "text": [
      "Mum#bai Chen#nai "
     ]
    }
   ],
   "source": [
    "# Q6)l1=['Hyd','Mum#bai','Chen#nai','blr']\n",
    "#  ans_#=['Mum#bai'',Chen#nai']  \n",
    "#  ans_without_#=['Hyd'','blr']\n",
    "#  we want lements which are having '#'\n",
    "\n",
    "l1=['Hyd','Mum#bai','Chen#nai','blr']\n",
    "for i in range(len(l1)):\n",
    "    if \"#\" in l1[i] :\n",
    "        print(l1[i],end = \" \")"
   ]
  },
  {
   "cell_type": "code",
   "execution_count": 19,
   "id": "48ad8b58-e294-45fa-96ca-92f11dfe8e39",
   "metadata": {},
   "outputs": [
    {
     "name": "stdout",
     "output_type": "stream",
     "text": [
      "the even list :[86, 80]\n",
      "the odd list :[3, 97, 9]\n"
     ]
    }
   ],
   "source": [
    "# Q7) ask the user get 5 numbers randomly\n",
    "#     even_list and odd_list\n",
    "#     even numbers should append at even_list\n",
    "#     odd number should append at odd_list\n",
    "\n",
    "import random\n",
    "even_list = []\n",
    "odd_list = []\n",
    "for i in range(5):\n",
    "    n = random.randint(1,100)\n",
    "    if (n%2 == 0):\n",
    "        even_list.append(n)\n",
    "    else:\n",
    "        odd_list.append(n)\n",
    "print(f\"the even list :{even_list}\")\n",
    "print(f\"the odd list :{odd_list}\")"
   ]
  },
  {
   "cell_type": "code",
   "execution_count": 21,
   "id": "6d4151f9-8eac-468f-a73c-029be486e5de",
   "metadata": {},
   "outputs": [
    {
     "data": {
      "text/plain": [
       "86"
      ]
     },
     "execution_count": 21,
     "metadata": {},
     "output_type": "execute_result"
    }
   ],
   "source": [
    "max(even_list)"
   ]
  },
  {
   "cell_type": "code",
   "execution_count": 103,
   "id": "563bd427-6c4d-481e-9593-a1f353167872",
   "metadata": {},
   "outputs": [
    {
     "name": "stdout",
     "output_type": "stream",
     "text": [
      "the sum of indices of max len element is :10\n"
     ]
    }
   ],
   "source": [
    "# Q8) str='hello hai how are you'\n",
    "# Maximum len of word using split and max method\n",
    "# sum of all the indexes of the maximum len of word using append\n",
    "\n",
    "str1='hello hai how are you'\n",
    "liz1 = str1.split()\n",
    "liz2 = []\n",
    "liz3 = []\n",
    "summator = 0\n",
    "#adding the len of each element into an another list\n",
    "for i in range(len(liz1)):\n",
    "    liz2.append(len(liz1[i]))\n",
    "\n",
    "#mathching the length of the element with the second list and getting the index and stroring it in the index variable\n",
    "for i in range (len(liz1)):\n",
    "    if len(liz1[i]) == max(liz2):\n",
    "        index = i\n",
    "sub_str = liz1[index]\n",
    "\n",
    "#then creating another list and inserting them with the indices of the max len element\n",
    "for i in range(len(str1)):\n",
    "    if (str1[i:(i+len(sub_str))]) == sub_str:\n",
    "        for j in range(0,len(sub_str)):\n",
    "            liz3.append(i+j)\n",
    "\n",
    "\n",
    "for i in range(len(liz3)):\n",
    "    summator = summator+(liz3[i])\n",
    "print(f\"the sum of indices of max len element is :{summator}\")\n",
    "##you can also use this way too\n",
    "\n",
    "#for i in liz1:\n",
    "#    if len(i) == len(sub_str):\n",
    "#        print(sub_str)"
   ]
  },
  {
   "cell_type": "code",
   "execution_count": 131,
   "id": "fee9f5ff-f5ab-4ea1-915c-4c4faa0a05d2",
   "metadata": {},
   "outputs": [
    {
     "name": "stdout",
     "output_type": "stream",
     "text": [
      "['virat', 'kohli', 'rcb', 'com, Rohit', 'sharma', 'mi', 'com, KL', 'Rahul', 'lucknow', 'com']\n"
     ]
    }
   ],
   "source": [
    "# Q9) str1='virat.kohli@rcb.com, Rohit.sharma@mi.com, KL.Rahul@lucknow.com'\n",
    "# Firstname=[]  second name=[]  cname =[]\n",
    "# append first name should be in first name list\n",
    "#        second name shoul be in second name list\n",
    "#        thirs name will be in thirs name list\n",
    "\n",
    "str1='virat.kohli@rcb.com, Rohit.sharma@mi.com, KL.Rahul@lucknow.com'\n",
    "first_name=[]\n",
    "second_name=[]  \n",
    "c_name =[]\n",
    "pointer = 0\n",
    "for i in str1.split(\"@\"):\n",
    "    for j in i.split(\".\"):\n",
    "        first_name.append(j)\n",
    "   \n",
    "    \n",
    "    \n",
    "print(first_name)"
   ]
  },
  {
   "cell_type": "code",
   "execution_count": 164,
   "id": "355f1f05-2fc8-4fab-ae96-1a5c9884ee05",
   "metadata": {},
   "outputs": [
    {
     "name": "stdout",
     "output_type": "stream",
     "text": [
      "['virat', 'Rohit', 'KL'] \n",
      " ['kohli', 'sharma', 'Rahul'] \n",
      " ['rcb', 'mi', 'lucknow']\n"
     ]
    }
   ],
   "source": [
    "s='virat.kohli@rcb.com, Rohit.sharma@mi.com, KL.Rahul@lucknow.com'\n",
    "l=[]\n",
    "for i in s.split(\",\"):\n",
    "    for j in i.split(\"@\"):\n",
    "        l.append(j)\n",
    "l1=[]\n",
    "for i in l:\n",
    "    for j in i.split(\".\"):\n",
    "        l1.append(j.strip())\n",
    "first=l1[0::4]      \n",
    "second=l1[1::4]\n",
    "team=l1[2::4]\n",
    "print(first,\"\\n\",second,\"\\n\",team)"
   ]
  },
  {
   "cell_type": "code",
   "execution_count": 16,
   "id": "3232b56f-4c35-48b8-a170-57b606fbec43",
   "metadata": {},
   "outputs": [
    {
     "name": "stdout",
     "output_type": "stream",
     "text": [
      "['virat', ' Rohit', ' KL'] ['kohli', 'sharma', 'Rahul'] ['rcb', 'mi', 'lucknow']\n"
     ]
    }
   ],
   "source": [
    "s='virat.kohli@rcb.com, Rohit.sharma@mi.com, KL.Rahul@lucknow.com'\n",
    "l,f,s1,t=[],[],[],[]\n",
    "for i in s.split(\",\"):\n",
    "    l.append(i)\n",
    "for i in l:\n",
    "    i1=i.split(\"@\")[1]\n",
    "    j2=i1.split('.')[0]\n",
    "    i=i.split(\"@\")[0]\n",
    "    j=i.split(\".\")[0]\n",
    "    j1=i.split(\".\")[1]\n",
    "    f.append(j)\n",
    "    s1.append(j1)\n",
    "    t.append(j2)\n",
    "print(f,s1,t)"
   ]
  },
  {
   "cell_type": "code",
   "execution_count": 19,
   "id": "c2a290d8-df57-4e72-9ec1-50feca9990b4",
   "metadata": {},
   "outputs": [
    {
     "name": "stdout",
     "output_type": "stream",
     "text": [
      "What is capital of India\n",
      "the answer :Delhi\n",
      "Who is PM of india\n",
      "the answer :Modi\n",
      "Who is ICT ODI captian\n",
      "the answer :Rohit\n",
      "aquired marks :3\n"
     ]
    }
   ],
   "source": [
    "\n",
    "# 10 )\n",
    "#  You have two lists\n",
    "# qns=['What is capital of India',\n",
    "#       'Who is PM of india',\n",
    "#        'Who is ICT ODI captian']\n",
    "# ans = ['Delhi','Modi','Rohit']\n",
    "\n",
    "# For i in qns:\n",
    "#     print(i)\n",
    "#     ans= delhi\n",
    "#      index should match\n",
    "#      delhi  modi\n",
    "#      marks= marks+1\n",
    "# print the total marks\n",
    "\n",
    "marks = 0\n",
    "qns=['What is capital of India','Who is PM of india','Who is ICT ODI captian']\n",
    "ans = ['Delhi','Modi','Rohit']\n",
    "for i in qns:\n",
    "    print(i)\n",
    "    for j in range(len(ans)):\n",
    "        if qns[j] == i:\n",
    "            print(f\"the answer :{ans[j]}\")\n",
    "            marks = marks + 1\n",
    "print(f\"aquired marks :{marks}\")"
   ]
  },
  {
   "cell_type": "code",
   "execution_count": null,
   "id": "38ba4c88-86ef-4eae-a48a-b1698d02ab82",
   "metadata": {},
   "outputs": [],
   "source": []
  }
 ],
 "metadata": {
  "kernelspec": {
   "display_name": "Python 3 (ipykernel)",
   "language": "python",
   "name": "python3"
  },
  "language_info": {
   "codemirror_mode": {
    "name": "ipython",
    "version": 3
   },
   "file_extension": ".py",
   "mimetype": "text/x-python",
   "name": "python",
   "nbconvert_exporter": "python",
   "pygments_lexer": "ipython3",
   "version": "3.11.4"
  }
 },
 "nbformat": 4,
 "nbformat_minor": 5
}
