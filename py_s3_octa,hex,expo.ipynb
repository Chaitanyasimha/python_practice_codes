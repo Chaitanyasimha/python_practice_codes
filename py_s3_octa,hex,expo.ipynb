{
 "cells": [
  {
   "cell_type": "markdown",
   "id": "bc27f31a-c89d-42d0-866c-12a20a337e5d",
   "metadata": {},
   "source": []
  },
  {
   "cell_type": "code",
   "execution_count": 2,
   "id": "85468c1b-bf59-48ec-b37f-199011a5916c",
   "metadata": {},
   "outputs": [],
   "source": [
    "import os\n"
   ]
  },
  {
   "cell_type": "code",
   "execution_count": 4,
   "id": "849c4f50-6177-41c6-991c-d82d7787741a",
   "metadata": {},
   "outputs": [
    {
     "data": {
      "text/plain": [
       "'C:\\\\Users\\\\chait\\\\Downloads\\\\Desktop\\\\python_work\\\\jupiter files'"
      ]
     },
     "execution_count": 4,
     "metadata": {},
     "output_type": "execute_result"
    }
   ],
   "source": [
    "os.getcwd() #it will get the current working directory\n"
   ]
  },
  {
   "cell_type": "markdown",
   "id": "c0177cb2-e29e-4d30-87b3-a14adad02e79",
   "metadata": {},
   "source": [
    "8    4   2   1\n",
    "0    0   0   0  0\n",
    "0    0   0   1  1\n",
    "0    0   1   0  2\n",
    "0    0   1   1  3\n",
    "0    1   0   0  4\n",
    "0    1   0   1  5\n",
    "0    1   1   0  6\n",
    "0    1   1   1  7\n",
    "1    0   0   0  8\n",
    "1    0   0   1  9\n",
    "1    0   1   0  10\n",
    "1    0   1   1  11\n",
    "1    1   0   0  12\n",
    "1    1   0   1  13\n",
    "1    1   1   0  14\n",
    "1    1   1   1  15"
   ]
  },
  {
   "cell_type": "markdown",
   "id": "b775d2e1-1a43-49f9-8660-8ce28fffebc2",
   "metadata": {},
   "source": [
    "**octa :**\n",
    "\n",
    "- octa is 8\n",
    "- so it requires 8 digits\n",
    "- genarally we haave 0 1 2 3 3 4 5\n",
    "- so it will only represent it with only 0 1 2 3 4 5 6 7\n",
    "- representation is oo123,0o012345\n",
    "- wrong representation is 0o108,0o5439\n"
   ]
  },
  {
   "cell_type": "code",
   "execution_count": 7,
   "id": "7a12cfc2-c357-47dc-9eac-bb6a6b18ec8b",
   "metadata": {},
   "outputs": [
    {
     "data": {
      "text/plain": [
       "668"
      ]
     },
     "execution_count": 7,
     "metadata": {},
     "output_type": "execute_result"
    }
   ],
   "source": [
    "0o1234"
   ]
  },
  {
   "cell_type": "code",
   "execution_count": 8,
   "id": "29b9b0de-619b-4042-9a23-22dfa7dbc285",
   "metadata": {},
   "outputs": [
    {
     "data": {
      "text/plain": [
       "2748"
      ]
     },
     "execution_count": 8,
     "metadata": {},
     "output_type": "execute_result"
    }
   ],
   "source": [
    "0xabcdef"
   ]
  },
  {
   "cell_type": "markdown",
   "id": "71a9a653-156e-431b-a661-595652609220",
   "metadata": {},
   "source": [
    "**hexa :**\n",
    "\n",
    "- hexa is 16\n",
    "- so it requires 16 digits\n",
    "- genarally we haave 0 1 2 3 3 4 5\n",
    "- so it will only represent it with only 0 1 2 3 4 5 6 7 8 9 a b c d e f\n",
    "- representation is 0xf9,0Xabc starts with 0x\n",
    "- wrong representation is 0Xgh,0xabcdefgh\n",
    "- the numbers up to 9 are allowed and letters are up to abcdef"
   ]
  },
  {
   "cell_type": "markdown",
   "id": "b46c8d70-aa1d-4d99-8d2a-fb0fc4360cf7",
   "metadata": {},
   "source": []
  },
  {
   "cell_type": "code",
   "execution_count": 9,
   "id": "ebdb229b-420f-478b-8f74-8b3fe4913fd8",
   "metadata": {},
   "outputs": [
    {
     "data": {
      "text/plain": [
       "2748"
      ]
     },
     "execution_count": 9,
     "metadata": {},
     "output_type": "execute_result"
    }
   ],
   "source": [
    "0xABC"
   ]
  },
  {
   "cell_type": "code",
   "execution_count": 16,
   "id": "bcebb91c-e11c-4b30-9cae-e782ba2739e8",
   "metadata": {},
   "outputs": [
    {
     "data": {
      "text/plain": [
       "(10.0, 100.0, 1000.0, 10000.0)"
      ]
     },
     "execution_count": 16,
     "metadata": {},
     "output_type": "execute_result"
    }
   ],
   "source": [
    "1e1,1e2,1e3,1e4\n",
    "#kep = K*10^p"
   ]
  },
  {
   "cell_type": "code",
   "execution_count": 11,
   "id": "cd5c6b4a-159f-49b8-af9c-1cf9089595d1",
   "metadata": {},
   "outputs": [
    {
     "data": {
      "text/plain": [
       "24000.0"
      ]
     },
     "execution_count": 11,
     "metadata": {},
     "output_type": "execute_result"
    }
   ],
   "source": [
    "24e3"
   ]
  },
  {
   "cell_type": "code",
   "execution_count": 12,
   "id": "89dad811-13a0-4fae-bd8d-bda0705e1738",
   "metadata": {},
   "outputs": [
    {
     "data": {
      "text/plain": [
       "(10.0, 100.0, 1000.0)"
      ]
     },
     "execution_count": 12,
     "metadata": {},
     "output_type": "execute_result"
    }
   ],
   "source": [
    "1e+1,1e+2,1e+3\n"
   ]
  },
  {
   "cell_type": "code",
   "execution_count": 13,
   "id": "b342f0a1-c396-43f4-917e-aeb470c79c3f",
   "metadata": {},
   "outputs": [
    {
     "data": {
      "text/plain": [
       "(0.1, 0.01, 0.001)"
      ]
     },
     "execution_count": 13,
     "metadata": {},
     "output_type": "execute_result"
    }
   ],
   "source": [
    "1e-1,1e-2,1e-3"
   ]
  },
  {
   "cell_type": "code",
   "execution_count": 15,
   "id": "c93d753a-37f4-4d12-8729-26287a093888",
   "metadata": {},
   "outputs": [
    {
     "data": {
      "text/plain": [
       "0.024"
      ]
     },
     "execution_count": 15,
     "metadata": {},
     "output_type": "execute_result"
    }
   ],
   "source": [
    "24e-3  #24/1000 = 0.024"
   ]
  },
  {
   "cell_type": "markdown",
   "id": "6d2ad486-39e1-45dc-967c-83f142f120ba",
   "metadata": {},
   "source": [
    "- positive sign means multiply\n",
    "- nagative sign means divide\n",
    "- machine learining algoriths use this representation like 24e-3"
   ]
  },
  {
   "cell_type": "markdown",
   "id": "3545fd18-a0b5-4329-9b93-95a1c9b6e6a4",
   "metadata": {},
   "source": [
    "**strings**\n",
    "- strings are used to represent the englsh language in the python\n",
    "- it can be done with the help of single quotes\n",
    "- double Quotes\n",
    "- triple Quotes"
   ]
  },
  {
   "cell_type": "markdown",
   "id": "ba4a8f5c-1b1e-421a-89d9-1883f32cce77",
   "metadata": {},
   "source": [
    "### \"\"\"\"triple Quotes\"\"\"\n",
    "- triple QOUTES IS NOT USED FOR THE CODING\n",
    "- ITS  IS USED TO PROVIDE INFORMATION TO THE USER\n",
    "- WE USE **MARKDOWN** FOR USING NOTES AS A MARKING UP FOR US\n",
    "- IN VS OR OTHERS THER ARE NO MARK UP LANGUAGE SO THE WORLD STARTED USING JUPYTER MORE\n",
    "- DOC STRING? WAHTS THAT?"
   ]
  },
  {
   "cell_type": "code",
   "execution_count": null,
   "id": "978eed51-e8dc-4725-bf1b-8a86917f959d",
   "metadata": {},
   "outputs": [],
   "source": []
  }
 ],
 "metadata": {
  "kernelspec": {
   "display_name": "Python 3 (ipykernel)",
   "language": "python",
   "name": "python3"
  },
  "language_info": {
   "codemirror_mode": {
    "name": "ipython",
    "version": 3
   },
   "file_extension": ".py",
   "mimetype": "text/x-python",
   "name": "python",
   "nbconvert_exporter": "python",
   "pygments_lexer": "ipython3",
   "version": "3.11.4"
  }
 },
 "nbformat": 4,
 "nbformat_minor": 5
}
