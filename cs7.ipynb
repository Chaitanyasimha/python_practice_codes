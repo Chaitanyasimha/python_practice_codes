{
 "cells": [
  {
   "cell_type": "code",
   "execution_count": 1,
   "id": "2b074df2-1d08-414a-b520-d758caab32a5",
   "metadata": {},
   "outputs": [
    {
     "name": "stdout",
     "output_type": "stream",
     "text": [
      "38 is a even number.\n",
      "18 is a even number.\n",
      "11 is a odd number.\n"
     ]
    }
   ],
   "source": [
    "#1Q) For example\n",
    "# take a random number between  1 to 100\n",
    "# print it is a even number and odd number\n",
    "# you need to generate 3 random number\n",
    "\n",
    "import random\n",
    "for i in range(3):\n",
    "    num = random.randint(1,100)\n",
    "    if (num % 2 == 0):\n",
    "        print(f\"{num} is a even number.\")\n",
    "    else:\n",
    "        print(f\"{num} is a odd number.\")"
   ]
  },
  {
   "cell_type": "code",
   "execution_count": 5,
   "id": "688031f3-0782-44de-8672-5ad62b0b60f9",
   "metadata": {},
   "outputs": [
    {
     "name": "stdout",
     "output_type": "stream",
     "text": [
      "10 is even num\n",
      "11 is odd num\n",
      "12 is even num\n",
      "13 is odd num\n",
      "14 is even num\n",
      "15 is odd num\n",
      "16 is even num\n",
      "17 is odd num\n",
      "18 is even num\n",
      "19 is odd num\n",
      "20 is even num\n"
     ]
    }
   ],
   "source": [
    "#2Q) wap ask the user print the number is even or odd between 10 to 20\n",
    "\n",
    "for i in range (10,21):\n",
    "    if (i%2 == 0):\n",
    "        print(f\"{i} is even num\")\n",
    "    else :\n",
    "        print(f\"{i} is odd num\")\n",
    "        "
   ]
  },
  {
   "cell_type": "code",
   "execution_count": 6,
   "id": "8f7376a6-b96c-4b31-be25-9d1c964cc52f",
   "metadata": {},
   "outputs": [
    {
     "name": "stdout",
     "output_type": "stream",
     "text": [
      " the square of 20 is 400\n",
      " the square of 21 is 441\n",
      " the square of 22 is 484\n",
      " the square of 23 is 529\n",
      " the square of 24 is 576\n",
      " the square of 25 is 625\n"
     ]
    }
   ],
   "source": [
    "#3Q) wap ask the user print the square of the number between\n",
    "# 20 to 25\n",
    "\n",
    "for i in range (20,26):\n",
    "    print(f\" the square of {i} is {i*i}\")\n",
    "    i = i+1"
   ]
  },
  {
   "cell_type": "code",
   "execution_count": 8,
   "id": "8d372db7-5d9d-4a3c-8952-e4e7eee752de",
   "metadata": {},
   "outputs": [
    {
     "name": "stdin",
     "output_type": "stream",
     "text": [
      "enter a the 1num : 9\n"
     ]
    },
    {
     "name": "stdout",
     "output_type": "stream",
     "text": [
      "the square of 9 is 81\n"
     ]
    },
    {
     "name": "stdin",
     "output_type": "stream",
     "text": [
      "enter a the 2num : 7\n"
     ]
    },
    {
     "name": "stdout",
     "output_type": "stream",
     "text": [
      "the square of 7 is 49\n"
     ]
    },
    {
     "name": "stdin",
     "output_type": "stream",
     "text": [
      "enter a the 3num : 8\n"
     ]
    },
    {
     "name": "stdout",
     "output_type": "stream",
     "text": [
      "the square of 8 is 64\n"
     ]
    }
   ],
   "source": [
    "#4Q) WAP ask the user enter number three times find the square of the number\n",
    "# How many times loop should run\n",
    "\n",
    "for i in range(1,4):\n",
    "    num = eval(input(f\"enter a the {i}num :\"))\n",
    "    print(f\"the square of {num} is {num**2}\")"
   ]
  },
  {
   "cell_type": "code",
   "execution_count": 9,
   "id": "1ae465e6-86b2-48fa-a579-165929d52125",
   "metadata": {},
   "outputs": [
    {
     "name": "stdin",
     "output_type": "stream",
     "text": [
      "enter a number : 14\n"
     ]
    },
    {
     "name": "stdout",
     "output_type": "stream",
     "text": [
      "14 X 1 = 14\n",
      "14 X 2 = 28\n",
      "14 X 3 = 42\n",
      "14 X 4 = 56\n",
      "14 X 5 = 70\n",
      "14 X 6 = 84\n",
      "14 X 7 = 98\n",
      "14 X 8 = 112\n",
      "14 X 9 = 126\n",
      "14 X 10 = 140\n"
     ]
    }
   ],
   "source": [
    "#5Q) Print the 14th table\n",
    "# ans:   14 x 1 = 14\n",
    "#        14 x 2 = 28\n",
    "#        14 x 3 = 42\n",
    "#\n",
    "#\n",
    "#        14 x10 = 140\n",
    "# How many times 10\n",
    "\n",
    "num = eval(input(\"enter a number :\"))\n",
    "for i in range(1,11):\n",
    "    print(f\"{num} X {i} = {num*i}\")"
   ]
  },
  {
   "cell_type": "code",
   "execution_count": 12,
   "id": "d8e7b0dc-fbaf-470b-99ac-06bf0a7e0422",
   "metadata": {},
   "outputs": [
    {
     "name": "stdout",
     "output_type": "stream",
     "text": [
      "1 3 5 15 25 75 "
     ]
    }
   ],
   "source": [
    "#6 Q) Find the factors of 75\n",
    "# step-1: Iterate the loop = which numbers factor you want\n",
    "# step-2: Apply the if condition\n",
    "#         cond= divide the number with each i\n",
    "\n",
    "factor = 75\n",
    "for i in range (1,76):\n",
    "    if (factor%i == 0):\n",
    "        print(i,end = \" \")"
   ]
  },
  {
   "cell_type": "code",
   "execution_count": 16,
   "id": "66ca4f64-421a-489f-8c23-2af8ccaee57a",
   "metadata": {},
   "outputs": [
    {
     "name": "stdout",
     "output_type": "stream",
     "text": [
      "55\n"
     ]
    }
   ],
   "source": [
    "#7Q) Write the sum of first 10 Natural numbers\n",
    "# 1 to 10\n",
    "# 1+2+3+4+5+6+7+8+9+10=55\n",
    "\n",
    "summ = 0\n",
    "for i in range (11):\n",
    "    summ = summ + i\n",
    "print(summ)"
   ]
  },
  {
   "cell_type": "code",
   "execution_count": 18,
   "id": "bd2cc2b0-e6d2-42de-9817-5b28998ce000",
   "metadata": {},
   "outputs": [
    {
     "name": "stdout",
     "output_type": "stream",
     "text": [
      "the average of first 10 nums :5.5\n"
     ]
    }
   ],
   "source": [
    "# 8Q) Average first 1 to 10 numbers\n",
    "# avg= summation of all the numbers/total number\n",
    "#Wap to find the average of ' N ' numbers in Python.\n",
    "\n",
    "summ = 0\n",
    "for i in range (11):\n",
    "    summ = summ + i\n",
    "avg = (summ)/10\n",
    "print(f\"the average of first 10 nums :{round(avg,2)}\")"
   ]
  },
  {
   "cell_type": "code",
   "execution_count": 20,
   "id": "75853d92-5717-4f7c-aebd-b1d6f34e05c2",
   "metadata": {},
   "outputs": [
    {
     "name": "stdout",
     "output_type": "stream",
     "text": [
      "1 3 5 15 25 75 \n",
      "the no of factors are :6\n"
     ]
    }
   ],
   "source": [
    "#9Q) Find the number of divisors of 75\n",
    "# ans: 1,3,5,15,25,75\n",
    "# Number =6\n",
    "\n",
    "factor = 75\n",
    "anum = 0\n",
    "for i in range (1,76):\n",
    "    if (factor%i == 0):\n",
    "        print(i,end = \" \")\n",
    "        anum = anum + 1\n",
    "print(f\"\\nthe no of factors are :{anum}\")"
   ]
  },
  {
   "cell_type": "code",
   "execution_count": 30,
   "id": "53ac9efb-ae9c-42b2-956a-b3de7e3b01bb",
   "metadata": {},
   "outputs": [
    {
     "name": "stdin",
     "output_type": "stream",
     "text": [
      "enter a num : 4\n"
     ]
    },
    {
     "name": "stdout",
     "output_type": "stream",
     "text": [
      "you_lose\n",
      "2 chances left.\n"
     ]
    },
    {
     "name": "stdin",
     "output_type": "stream",
     "text": [
      "enter a num : 5\n"
     ]
    },
    {
     "name": "stdout",
     "output_type": "stream",
     "text": [
      "you_lose\n",
      "1 chances left.\n"
     ]
    },
    {
     "name": "stdin",
     "output_type": "stream",
     "text": [
      "enter a num : 6\n"
     ]
    },
    {
     "name": "stdout",
     "output_type": "stream",
     "text": [
      "you_won\n"
     ]
    }
   ],
   "source": [
    "# 10Q)\n",
    "# Get a random number between  1 to 10 :  num1\n",
    "# Ask the user enter a number : num2\n",
    "# if num1 == num2  then print won\n",
    "# else print fail\n",
    "\n",
    "# Give 3 chances\n",
    "\n",
    "# Case-2: whenever you won the code should stop\n",
    "\n",
    "# Case-3:\n",
    "# Suppose i want to give 4 chances\n",
    "# Every time you fail I want to display\n",
    "#      Number of chances left\n",
    "\n",
    "# If all the chances you are used\n",
    "#    Try again after 24 hours\n",
    "\n",
    "# If you are win\n",
    "import random\n",
    "count = 0\n",
    "for i in range(3):\n",
    "    ran_num = random.randint(1,10)\n",
    "    user_num = eval(input(\"enter a num :\"))\n",
    "    if ran_num == user_num:\n",
    "        print(\"you_won\")\n",
    "        break\n",
    "    else:\n",
    "        print(\"you_lose\")\n",
    "        print(f\"{2-i} chances left.\")\n",
    "    count = count+1\n",
    "        \n",
    "if count == 3:\n",
    "    print(\"\\no chances left try again tommorow.\")"
   ]
  },
  {
   "cell_type": "code",
   "execution_count": 31,
   "id": "aae61d9f-fbfd-4379-b18e-205e84bd6fbd",
   "metadata": {},
   "outputs": [
    {
     "name": "stdout",
     "output_type": "stream",
     "text": [
      "2 ,even\n",
      "52 ,even\n",
      "1 ,odd\n",
      "90 ,even\n",
      "32 ,even\n",
      "the no of even no are :4\n",
      "the no of odd no are :1\n"
     ]
    }
   ],
   "source": [
    "#11q) wap ask the user get 5 random numbers\n",
    "# Get it is an even number or odd number\n",
    "# also count how many even numbers are there\n",
    "# and  count how many odd numbers are there\n",
    "\n",
    "# Idea\n",
    "# take two counters one even and odd count\n",
    "# For loop 5 times\n",
    "# each time take the random number\n",
    "# If condition\n",
    "#    True counter update\n",
    "# else\n",
    "#   Update the counter\n",
    "\n",
    "even_count = 0 #counter\n",
    "odd_count = 0  #summator\n",
    "for i in range (0,5):\n",
    "    num = random.randint(1,100)\n",
    "    if (num % 2 == 0):\n",
    "        even_count = even_count+1\n",
    "        print(f\"{num} ,even\")\n",
    "    else:\n",
    "        odd_count = odd_count+1\n",
    "        print(f\"{num} ,odd\")\n",
    "\n",
    "print(f\"the no of even no are :{even_count}\")\n",
    "print(f\"the no of odd no are :{odd_count}\")"
   ]
  },
  {
   "cell_type": "code",
   "execution_count": 33,
   "id": "44b7f905-7f7d-4f52-9ee2-fe3743b89c74",
   "metadata": {},
   "outputs": [
    {
     "name": "stdout",
     "output_type": "stream",
     "text": [
      "8 ,even\n",
      "85 ,odd\n",
      "59 ,odd\n",
      "64 ,even\n",
      "60 ,even\n",
      "the no of even no are :3\n",
      "the no of odd no are :2\n",
      "the even summation of the nums are :132\n",
      "the odd summation of the nums are :144\n"
     ]
    }
   ],
   "source": [
    "#12Q) wap ask the user get 5 random numbers\n",
    "# Get it is an even number or odd number\n",
    "# also count how many even numbers are there\n",
    "# and  count how many odd numbers are there\n",
    "# I want summ even numbers\n",
    "# I want summ odd numbers\n",
    "\n",
    "even_count = 0 #counter\n",
    "odd_count = 0  #summator\n",
    "even_sum = 0\n",
    "odd_sum = 0\n",
    "for i in range (0,5):\n",
    "    num = random.randint(1,100)\n",
    "    if (num % 2 == 0):\n",
    "        even_count = even_count+1\n",
    "        even_sum = even_sum + num\n",
    "        print(f\"{num} ,even\")\n",
    "    else:\n",
    "        odd_count = odd_count+1\n",
    "        odd_sum = odd_sum + num\n",
    "        print(f\"{num} ,odd\")\n",
    "\n",
    "\n",
    "print(f\"the no of even no are :{even_count}\")\n",
    "print(f\"the no of odd no are :{odd_count}\")\n",
    "print(f\"the even summation of the nums are :{even_sum}\")\n",
    "print(f\"the odd summation of the nums are :{odd_sum}\")"
   ]
  },
  {
   "cell_type": "code",
   "execution_count": null,
   "id": "95ff5996-f335-4067-927f-d7b25e31e580",
   "metadata": {},
   "outputs": [],
   "source": []
  }
 ],
 "metadata": {
  "kernelspec": {
   "display_name": "Python 3 (ipykernel)",
   "language": "python",
   "name": "python3"
  },
  "language_info": {
   "codemirror_mode": {
    "name": "ipython",
    "version": 3
   },
   "file_extension": ".py",
   "mimetype": "text/x-python",
   "name": "python",
   "nbconvert_exporter": "python",
   "pygments_lexer": "ipython3",
   "version": "3.11.4"
  }
 },
 "nbformat": 4,
 "nbformat_minor": 5
}
