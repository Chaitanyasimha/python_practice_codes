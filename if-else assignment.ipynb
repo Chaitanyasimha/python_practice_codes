{
 "cells": [
  {
   "cell_type": "markdown",
   "id": "4909d95a-1088-4480-b856-08325a0402e1",
   "metadata": {},
   "source": [
    "# Hare Krishna"
   ]
  },
  {
   "cell_type": "code",
   "execution_count": 10,
   "id": "66a561f3-f0f3-4a08-8904-a4a8ee276931",
   "metadata": {},
   "outputs": [
    {
     "name": "stdin",
     "output_type": "stream",
     "text": [
      "length in cm : 2\n"
     ]
    },
    {
     "name": "stdout",
     "output_type": "stream",
     "text": [
      "\n",
      "2 centimeter in inches is :0.787\n"
     ]
    }
   ],
   "source": [
    "#### Problem-1(Use conditional statements)\n",
    "\n",
    "#Write a program that asks the user to enter a length in centimetres. If the user enters\n",
    "#a negative length, the program should tell the user that the entry is invalid. Otherwise,\n",
    "#the program should convert the length to inches and print out the result. There are\n",
    "\n",
    "\n",
    "length = eval(input(\"length in cm :\"))\n",
    "if length > -1 :\n",
    "    print(f\"\\n{length} centimeter in inches is :{round(length/2.54,3)}\")#2.54 centimetres in an inch.\n",
    "else:\n",
    "    print(\"invlaid length\")"
   ]
  },
  {
   "cell_type": "code",
   "execution_count": 16,
   "id": "15032926-22ab-4439-b20a-22a37dc00022",
   "metadata": {},
   "outputs": [
    {
     "name": "stdin",
     "output_type": "stream",
     "text": [
      "enter the unit celsius and fahrenheit : celsius\n",
      "enter the value : 23\n"
     ]
    },
    {
     "name": "stdout",
     "output_type": "stream",
     "text": [
      "23celcius in fahrenheit is :73.4\n"
     ]
    }
   ],
   "source": [
    "#### Problem-2(Use conditional statements)\n",
    "#Ask the user for a temperature. Then ask them what units, Celsius or Fahrenheit, the\n",
    "#temperature is in. Your program should convert the temperature to the other unit. The\n",
    "#conversions are F = 9 5 C +32 and C = 5 9 (F − 32).\n",
    "\n",
    "\n",
    "unit = input(\"enter the unit celsius and fahrenheit :\")#°C = (°F - 32) ÷ 1.8\n",
    "value = int(input(\"enter the value :\"))                     \n",
    "\n",
    "if unit.lower() == \"fahrenheit\":\n",
    "    print(f\"{value}farenheit in celcius is :{round((value-32)/1.8,3)}\")\n",
    "elif unit.lower() == \"celsius\":\n",
    "    print(f\"{value}celcius in fahrenheit is :{round((value*1.8)+32,3)}\")\n",
    "else:\n",
    "    print(\"invalid unit\")"
   ]
  },
  {
   "cell_type": "code",
   "execution_count": 24,
   "id": "7658de98-3c7f-4ec3-8acb-33440eba19a2",
   "metadata": {},
   "outputs": [
    {
     "name": "stdin",
     "output_type": "stream",
     "text": [
      "enter the temperature : -270\n"
     ]
    },
    {
     "name": "stdout",
     "output_type": "stream",
     "text": [
      "the temperature is below freeing point\n"
     ]
    }
   ],
   "source": [
    "#### Problem-3(Use conditional statements)\n",
    "#Ask the user to enter a temperature in Celsius. The program should print a\n",
    "#message based on the temperature:\n",
    "#below absolute zero.\n",
    "#• If it is exactly -273.15, print that the temperature is absolute 0.\n",
    "#• If the temperature is between -273.15 and 0, print that the temperature is below\n",
    "#freezing. • If it is 0, print that the temperature is at the freezing point.\n",
    "#• If it is between 0 and 100, print that the temperature is in the normal\n",
    "#range. • If it is 100, print that the temperature is at the boiling point.\n",
    "#• If it is above 100, print that the temperature is above the boiling point.\n",
    "\n",
    "\n",
    "temp = int(input(\"enter the temperature :\"))\n",
    "if temp > -273 and temp < 0:\n",
    "    print(\"the temperature is below freeing point\")\n",
    "elif temp == 0:\n",
    "    print(\"the temperature is at freeing point\")\n",
    "elif temp > 0 and temp < 100:\n",
    "    print(\"the temperature is normal\")\n",
    "elif temp == 100:\n",
    "    print(\"the temperature is at boiling point\")\n",
    "elif temp > 100:\n",
    "    print(\"the temperature is above boiling point\")\n",
    "else:\n",
    "    print(\"enter a valid teperature when you try again later\")"
   ]
  },
  {
   "cell_type": "code",
   "execution_count": 31,
   "id": "8c3f684f-627a-4ad6-a34b-2852b0604469",
   "metadata": {},
   "outputs": [
    {
     "name": "stdin",
     "output_type": "stream",
     "text": [
      "enter the credits you have taken : 85\n"
     ]
    },
    {
     "name": "stdout",
     "output_type": "stream",
     "text": [
      "the student is a senior\n"
     ]
    }
   ],
   "source": [
    "#### Problem-4(Use conditional statements)\n",
    "#Write a program that asks the user how many credits they have taken. \n",
    "#If they have taken 23 or less, print that the student is a freshman. \n",
    "#If they have taken between 24 and 53, print that theyare asophomore.\n",
    "#The range for juniors is 54 to 83, and for seniors it is 84 and over.\n",
    "\n",
    "\n",
    "credits = eval(input(\"enter the credits you have taken :\"))\n",
    "if credits <= 23 and credits > 0:\n",
    "    print(\"the student is a freshman\")\n",
    "elif credits >= 24 and credits <= 53:\n",
    "    print(\"the student is a asphomore\")\n",
    "elif credits >= 54 and credits <= 83:\n",
    "    print(\"the student is a junior\")\n",
    "elif credits >= 84:\n",
    "    print(\"the student is a senior\")\n",
    "    \n",
    "else:\n",
    "    print(\"enter a valid credits next time you try\")"
   ]
  },
  {
   "cell_type": "code",
   "execution_count": 32,
   "id": "fd5d8342-aed3-4c46-ad18-6fdbae8749ce",
   "metadata": {},
   "outputs": [
    {
     "name": "stdin",
     "output_type": "stream",
     "text": [
      "enter a num : 3\n"
     ]
    },
    {
     "name": "stdout",
     "output_type": "stream",
     "text": [
      "no you are wrong\n"
     ]
    }
   ],
   "source": [
    "#### Problem-5(Use conditional statements)\n",
    "#Generate a random number between 1 and 10. Ask the user to guess the number and print a\n",
    "#message based on whether they get it right or not.\n",
    "\n",
    "import random\n",
    "ran_num = random.randint(1,10)\n",
    "guess_num = int(input(\"enter a num :\"))\n",
    "if ran_num == guess_num:\n",
    "    print(\"that's right\")\n",
    "else:\n",
    "    print(\"no you are wrong\")"
   ]
  },
  {
   "cell_type": "code",
   "execution_count": 39,
   "id": "a78ff993-281e-4b65-ab77-84c7a6595ee3",
   "metadata": {},
   "outputs": [
    {
     "name": "stdin",
     "output_type": "stream",
     "text": [
      "enter the number of items : 101\n"
     ]
    },
    {
     "name": "stdout",
     "output_type": "stream",
     "text": [
      "the total cost of the items :707$\n"
     ]
    }
   ],
   "source": [
    "#### Problem-6(Use conditional statements)\n",
    "#A store charges $12 per item if you buy less than 10 items. \n",
    "#If you buy between 10 and 99 items, the cost is $10 per item.\n",
    "#If you buy 100 or more items, the cost is $7per item. \n",
    "#Write a program that asks the user how many items they are buying and prints the total cost.\n",
    "\n",
    "\n",
    "num_items = eval(input(\"enter the number of items :\"))\n",
    "total_cost = 0\n",
    "if num_items == 0:\n",
    "    print(\"will you pay a tax or get outa ma shop right now\")\n",
    "elif num_items > 0 and num_items < 10:\n",
    "    total_cost = num_items*12\n",
    "    print(f\"the total cost of the items :{total_cost}$\")\n",
    "elif num_items >= 10 and num_items <= 99 :\n",
    "    total_cost = num_items*10\n",
    "    print(f\"the total cost of the items :{total_cost}$\")\n",
    "elif num_items >= 100:\n",
    "    total_cost = num_items*7\n",
    "    print(f\"the total cost of the items :{total_cost}$\")\n",
    "else:\n",
    "    print(\"enter valid items num\")"
   ]
  },
  {
   "cell_type": "code",
   "execution_count": 44,
   "id": "04997790-d364-44e2-b68d-0f982b0d1c2e",
   "metadata": {},
   "outputs": [
    {
     "name": "stdin",
     "output_type": "stream",
     "text": [
      "enter a num 1.001\n",
      "enter a num 1.002\n"
     ]
    },
    {
     "name": "stdout",
     "output_type": "stream",
     "text": [
      "close\n"
     ]
    }
   ],
   "source": [
    "#### Problem-7(Use conditional statements)\n",
    "#Write a program that asks the user for two numbers and prints Close if the\n",
    "#numbers are within .001 of each other and Not close otherwise.\n",
    "\n",
    "a = eval(input(\"enter a num\"))\n",
    "b = eval(input(\"enter a num\"))\n",
    "if (a - b)  or (b - a)  >= (0.001) or (-0.001):\n",
    "    print(\"close\")\n",
    "else:\n",
    "    print(\"not close\")"
   ]
  },
  {
   "cell_type": "code",
   "execution_count": 46,
   "id": "a81b98a9-0b21-42f5-a548-d37fca7023ca",
   "metadata": {},
   "outputs": [
    {
     "name": "stdin",
     "output_type": "stream",
     "text": [
      "enter a year 2024\n"
     ]
    },
    {
     "name": "stdout",
     "output_type": "stream",
     "text": [
      "it's a leap year\n"
     ]
    }
   ],
   "source": [
    "#### Problem-8(Use conditional statements)\n",
    "#A year is a leap year if it is divisible by 4, except that years divisible by 100 are not leap years unless\n",
    "#they are also divisible by 400. Write a program that asks the user for a year and prints out whether\n",
    "#it is a leap year or not.\n",
    "\n",
    "\n",
    "year = eval(input(\"enter a year\"))\n",
    "if (year%400 == 0):\n",
    "    print(\"yes it is a leap year\")\n",
    "elif(year%100 == 0):\n",
    "    print(\"it's not a leap year\")\n",
    "elif(year%4 == 0):\n",
    "    print(\"it's a leap year\")"
   ]
  },
  {
   "cell_type": "code",
   "execution_count": 48,
   "id": "39a40877-4916-41e1-8c0e-68bbdad6b31f",
   "metadata": {},
   "outputs": [
    {
     "name": "stdin",
     "output_type": "stream",
     "text": [
      "enter a num : 40\n"
     ]
    },
    {
     "name": "stdout",
     "output_type": "stream",
     "text": [
      "1 2 4 5 8 10 20 "
     ]
    }
   ],
   "source": [
    "#### Problem-9(Use conditional statements)\n",
    "#Write a program that asks the user to enter a number and prints out all the divisors of that\n",
    "#number. [Hint: the % operator is used to tell if a number is divisible by something.\n",
    "\n",
    "\n",
    "num = eval(input(\"enter a num :\"))\n",
    "for i in range(1,num):\n",
    "    if (num%i == 0):\n",
    "        print(i,end = \" \")"
   ]
  },
  {
   "cell_type": "code",
   "execution_count": 52,
   "id": "77f12a45-a7a4-4d64-aa20-44ffa0668f1d",
   "metadata": {},
   "outputs": [
    {
     "name": "stdin",
     "output_type": "stream",
     "text": [
      "enter a hour between 1 and 12 : 8\n",
      "enter a choose 1 for am or 2 for pm: 1\n",
      "enter how many hours into future you want to go : 5\n"
     ]
    },
    {
     "name": "stdout",
     "output_type": "stream",
     "text": [
      "you are '1pm' in the future\n"
     ]
    }
   ],
   "source": [
    "#### Problem-10(Use conditional statements)\n",
    "#Write a program that asks the user for an hour between 1 and 12, asks them to enter am or pm,\n",
    "#and asks them how many hours into the future they want to go.\n",
    "#Print out what the hour will be that many hours into the future, printing am or pm as\n",
    "#appropriate. An example is shown below.\n",
    "#Enter hour: 8\n",
    "#am (1) or pm (2)? 1\n",
    "#How many hours ahead? 5\n",
    "#New hour: 1 pm\n",
    "\n",
    "\n",
    "hour = eval(input(\"enter a hour between 1 and 12 :\"))\n",
    "choice = eval(input(\"enter a choose 1 for am or 2 for pm:\"))\n",
    "while choice < 1 and choice > 2:\n",
    "    print(\"invalid choice try again\")\n",
    "    choice = eval(input(\"enter a choose 1 for am or 2 for pm:\"))\n",
    "hours_to_future = eval(input(\"enter how many hours into future you want to go :\"))\n",
    "if hour+hours_to_future > 12:\n",
    "    if choice == 1:\n",
    "        print(f\"you are '{hour+hours_to_future-12}pm' in the future\")\n",
    "    if choice == 2:\n",
    "        print(f\"you are '{hour+hours_to_future-12}am' in the future\")\n",
    "else:\n",
    "    if choice == 1:\n",
    "        print(f\"you are '{hour+hours_to_future}am' in the future\")\n",
    "    if choice == 2:\n",
    "        print(f\"you are '{hour+hours_to_future}pm' in the future\")"
   ]
  },
  {
   "cell_type": "code",
   "execution_count": null,
   "id": "6dc6705f-5250-41b6-9695-ba0e6a3e882f",
   "metadata": {},
   "outputs": [],
   "source": [
    ":L"
   ]
  }
 ],
 "metadata": {
  "kernelspec": {
   "display_name": "Python 3 (ipykernel)",
   "language": "python",
   "name": "python3"
  },
  "language_info": {
   "codemirror_mode": {
    "name": "ipython",
    "version": 3
   },
   "file_extension": ".py",
   "mimetype": "text/x-python",
   "name": "python",
   "nbconvert_exporter": "python",
   "pygments_lexer": "ipython3",
   "version": "3.11.4"
  }
 },
 "nbformat": 4,
 "nbformat_minor": 5
}
