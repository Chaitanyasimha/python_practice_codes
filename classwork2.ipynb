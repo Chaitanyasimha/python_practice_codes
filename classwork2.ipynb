{
 "cells": [
  {
   "cell_type": "code",
   "execution_count": 3,
   "id": "ecb8910f-7811-4067-9dc2-aad4e4f8bbe2",
   "metadata": {},
   "outputs": [],
   "source": [
    "import random\n",
    "import time"
   ]
  },
  {
   "cell_type": "code",
   "execution_count": 14,
   "id": "5066236a-979a-4c01-a604-dfb033b8b38a",
   "metadata": {},
   "outputs": [
    {
     "name": "stdout",
     "output_type": "stream",
     "text": [
      "the value of a :9\n"
     ]
    },
    {
     "data": {
      "text/plain": [
       "81"
      ]
     },
     "execution_count": 14,
     "metadata": {},
     "output_type": "execute_result"
    }
   ],
   "source": [
    "#1que_A\n",
    "a = random.randint(5,10)\n",
    "print(f\"the value of a :{a}\")\n",
    "square = a*a\n",
    "square\n"
   ]
  },
  {
   "cell_type": "code",
   "execution_count": 40,
   "id": "818c9cc8-7dc6-4197-bb84-40e20521ccba",
   "metadata": {},
   "outputs": [
    {
     "name": "stdout",
     "output_type": "stream",
     "text": [
      "the value of x :6\n",
      "6---12---18---24---30\n"
     ]
    }
   ],
   "source": [
    "#2que_A\n",
    "x = random.randint(5,10)\n",
    "print(f\"the value of x :{x}\")\n",
    "print(x,end=\"---\")\n",
    "print(x*2,end=\"---\")\n",
    "print(x*3,end=\"---\")\n",
    "print(x*4,end=\"---\")\n",
    "print(x*5)"
   ]
  },
  {
   "cell_type": "code",
   "execution_count": 54,
   "id": "7f862820-dd7d-471d-bae1-0977b73bd6a8",
   "metadata": {},
   "outputs": [
    {
     "name": "stdout",
     "output_type": "stream",
     "text": [
      "the value of weight :6\n",
      "6kg is equal to 13.2 pounds\n"
     ]
    }
   ],
   "source": [
    "#3que_A\n",
    "weight = random.randint(5,10)\n",
    "print(f\"the value of weight :{weight}\")\n",
    "in_pound = round((weight*2.2),1)\n",
    "print(f\"{weight}kg is equal to {in_pound} pounds\")"
   ]
  },
  {
   "cell_type": "code",
   "execution_count": 56,
   "id": "75262043-58a8-442f-9b72-bc9a9cce95d2",
   "metadata": {},
   "outputs": [
    {
     "name": "stdout",
     "output_type": "stream",
     "text": [
      "the value of n1 :9\n",
      "the value of n2 :10\n",
      "the value of n3 :0\n",
      "the total is 19,average is 6.3.\n"
     ]
    }
   ],
   "source": [
    "#4que_A\n",
    "n1 = random.randint(0,10)\n",
    "print(f\"the value of n1 :{n1}\")\n",
    "n2 = random.randint(0,10)\n",
    "print(f\"the value of n2 :{n2}\")\n",
    "n3 = random.randint(0,10)\n",
    "print(f\"the value of n3 :{n3}\")\n",
    "total = n1+n2+n3\n",
    "avg = round((n1+n2+n3)/3,1)\n",
    "print(f\"the total is {total},average is {avg}.\")"
   ]
  },
  {
   "cell_type": "code",
   "execution_count": 57,
   "id": "b7269136-7225-47d1-854b-eb53ed445d75",
   "metadata": {},
   "outputs": [
    {
     "name": "stdout",
     "output_type": "stream",
     "text": [
      "the value of meal_price :182\n",
      "the tip percentage : 9\n",
      "the meal amount :182\n",
      "the tip price :16\n",
      "the total amount :198\n"
     ]
    }
   ],
   "source": [
    "#5que_A\n",
    "meal_price = random.randint(1,1000)\n",
    "print(f\"the value of meal_price :{meal_price}\")\n",
    "tip_percent = random.randint(1,10)\n",
    "print(f\"the tip percentage : {tip_percent}\")\n",
    "tip_amount = round(meal_price*tip_percent/100)\n",
    "print(\"the meal amount :\"+str(meal_price))\n",
    "print(\"the tip price :\"+str(int(tip_amount)))\n",
    "print(\"the total amount :\"+str(int(meal_price+tip_amount)))                  "
   ]
  },
  {
   "cell_type": "code",
   "execution_count": 58,
   "id": "fb4fde9d-f1d1-4fb4-816b-401ed27751bd",
   "metadata": {},
   "outputs": [
    {
     "name": "stdout",
     "output_type": "stream",
     "text": [
      "the value of n1 :1\n",
      "the value of n2 :6\n",
      "the addition value :7 \n",
      "the substraction value :-5 \n",
      "the multiply value :6\n",
      "the division value :0\n"
     ]
    }
   ],
   "source": [
    "#6que_a\n",
    "n1 = random.randint(1,10)\n",
    "print(f\"the value of n1 :{n1}\")\n",
    "n2 = random.randint(1,10)\n",
    "print(f\"the value of n2 :{n2}\")\n",
    "print(\"the addition value :\"+str(n1+n2),\"\\nthe substraction value :\"+str(n1-n2),\"\\nthe multiply value :\"+str(n1*n2))\n",
    "print(\"the division value :\"+str(int(n1/n2)))"
   ]
  },
  {
   "cell_type": "code",
   "execution_count": 66,
   "id": "51b97edc-0558-4ef2-92b2-7304db3e2195",
   "metadata": {},
   "outputs": [
    {
     "name": "stdout",
     "output_type": "stream",
     "text": [
      "the value of radius :2\n",
      "12.6\n"
     ]
    }
   ],
   "source": [
    "#7que_A\n",
    "pi = 3.14\n",
    "radius = random.randint(1,10)\n",
    "print(f\"the value of radius :{radius}\")\n",
    "area_of_circle = round(pi*radius*radius,1)\n",
    "print(area_of_circle)"
   ]
  },
  {
   "cell_type": "code",
   "execution_count": 67,
   "id": "d10d0dc5-f178-4213-a0da-827d4d435073",
   "metadata": {},
   "outputs": [
    {
     "name": "stdout",
     "output_type": "stream",
     "text": [
      "the value of amount_dol :4\n"
     ]
    },
    {
     "name": "stdin",
     "output_type": "stream",
     "text": [
      "how much 1$ in rupees : 83\n"
     ]
    },
    {
     "name": "stdout",
     "output_type": "stream",
     "text": [
      "the amount 4 in dollars is 332 in rupees \n"
     ]
    }
   ],
   "source": [
    "#8que_A\n",
    "amount_dol = random.randint(1,10)\n",
    "print(f\"the value of amount_dol :{amount_dol}\")\n",
    "amount_rupees = eval(input(\"how much 1$ in rupees :\"))\n",
    "print(f\"the amount {amount_dol} in dollars is {amount_rupees*amount_dol} in rupees \")"
   ]
  },
  {
   "cell_type": "code",
   "execution_count": 69,
   "id": "b1c297a7-c385-4acc-8f56-fd02ea6054d9",
   "metadata": {},
   "outputs": [
    {
     "name": "stdout",
     "output_type": "stream",
     "text": [
      "the value of b :8\n",
      "the value of h :5\n",
      "the are of triangle 20\n"
     ]
    }
   ],
   "source": [
    "#9que_A\n",
    "b = a = random.randint(1,10)\n",
    "print(f\"the value of b :{b}\")\n",
    "h = a = random.randint(1,10)\n",
    "print(f\"the value of h :{h}\")\n",
    "area = 1/2*b*h\n",
    "print(f\"the are of triangle {int(area)}\")"
   ]
  },
  {
   "cell_type": "code",
   "execution_count": 70,
   "id": "44df1de6-d5f8-4d84-b399-ec3aa2a7c150",
   "metadata": {},
   "outputs": [
    {
     "name": "stdout",
     "output_type": "stream",
     "text": [
      "the value of l :10\n",
      "the value of b :9\n",
      "the area of rectangle :90\n"
     ]
    }
   ],
   "source": [
    "#10que_A\n",
    "l = random.randint(1,10)\n",
    "print(f\"the value of l :{l}\")\n",
    "b = random.randint(1,10)\n",
    "print(f\"the value of b :{b}\")\n",
    "area_of_rec = l*b\n",
    "print(f\"the area of rectangle :{area_of_rec}\")"
   ]
  },
  {
   "cell_type": "code",
   "execution_count": null,
   "id": "e515d3a8-d12a-42a0-b2c0-5fc05e935322",
   "metadata": {
    "scrolled": true
   },
   "outputs": [
    {
     "name": "stdout",
     "output_type": "stream",
     "text": [
      "Father: Hey Baby!\n",
      "Daughter: Hello Daddy\n",
      "Father: I heard your exams are over, what about result\n",
      "Daughter: Yes dad! Results are out.\n",
      "Father: what is the percentage?\n",
      "Daughter: I will give my subject wise marks , you tell me the percentage\n",
      "Father : Okay!\n",
      "father:tell me marks in sub1\n",
      "daughter :94\n",
      "father:tell me marks in sub2\n",
      "daughter :24\n",
      "father:tell me marks in sub3\n",
      "daughter :52\n",
      "father:tell me marks in sub4\n",
      "daughter :56\n",
      "father:tell me marks in sub5\n",
      "daughter :77\n",
      "Daughter: Dad Now tell me how much percentage I got\n",
      "Father: Tell me the max marks of each subject\n"
     ]
    }
   ],
   "source": [
    "#11que_A\n",
    "print(\"Father: Hey Baby!\")\n",
    "time.sleep(1)\n",
    "print(\"Daughter: Hello Daddy\")\n",
    "time.sleep(1)\n",
    "print(\"Father: I heard your exams are over, what about result\")\n",
    "time.sleep(1)\n",
    "print(\"Daughter: Yes dad! Results are out.\")\n",
    "time.sleep(1)\n",
    "print(\"Father: what is the percentage?\")\n",
    "time.sleep(1)\n",
    "print(\"Daughter: I will give my subject wise marks , you tell me the percentage\")\n",
    "time.sleep(1)\n",
    "print(\"Father : Okay!\")\n",
    "time.sleep(1)\n",
    "sub1 = random.randint(1,100)\n",
    "print(f\"father:tell me marks in sub1\")\n",
    "time.sleep(1)\n",
    "print(f\"daughter :{sub1}\")\n",
    "time.sleep(1)\n",
    "sub2 = random.randint(1,100)\n",
    "print(f\"father:tell me marks in sub2\")\n",
    "time.sleep(1)\n",
    "print(f\"daughter :{sub2}\")\n",
    "time.sleep(1)\n",
    "sub3 = random.randint(1,100)\n",
    "print(f\"father:tell me marks in sub3\")\n",
    "time.sleep(1)\n",
    "print(f\"daughter :{sub3}\")\n",
    "time.sleep(1)\n",
    "sub4 = random.randint(1,100)\n",
    "print(f\"father:tell me marks in sub4\")\n",
    "time.sleep(1)\n",
    "print(f\"daughter :{sub4}\")\n",
    "time.sleep(1)\n",
    "sub5 = random.randint(1,100)\n",
    "print(f\"father:tell me marks in sub5\")\n",
    "time.sleep(1)\n",
    "print(f\"daughter :{sub5}\")\n",
    "time.sleep(1)\n",
    "print(\"Daughter: Dad Now tell me how much percentage I got\")\n",
    "time.sleep(1)\n",
    "print(\"Father: Tell me the max marks of each subject\")\n",
    "time.sleep(1)\n",
    "max_mark = eval(input(\"Max marks is?:\"))\n",
    "total_marks_obtained = sub1 + sub2 + sub3 + sub4 + sub5\n",
    "total_max = max_mark * 5\n",
    "percentage = round((total_marks_obtained / total_max) * 100,2)\n",
    "time.sleep(1)\n",
    "print(f\"your total are :{total_marks_obtained}\\nmax marks are :{total_max}\\nyour percentage is :{percentage}\")\n",
    "if percentage<50:\n",
    "    time.sleep(1)\n",
    "    print(\"daughter :cry,cry....\")\n",
    "    time.sleep(1)\n",
    "    print(\"father :dont worry baby you can do best in next exam i bought you sweets\")\n",
    "    time.sleep(1)\n",
    "else :\n",
    "    time.sleep(1)\n",
    "    print(\"daughter :cry,cry....\")\n",
    "    time.sleep(1)\n",
    "    print(\"father :dont worry baby you can do best in next exam i bought you sweets\")\n",
    "time.sleep(1)\n",
    "print(\"father(in his brain):she never quits to be over dramatic\")"
   ]
  },
  {
   "cell_type": "code",
   "execution_count": null,
   "id": "0aef1613-e1cb-44af-a5bd-6e86d8846396",
   "metadata": {},
   "outputs": [],
   "source": []
  }
 ],
 "metadata": {
  "kernelspec": {
   "display_name": "Python 3 (ipykernel)",
   "language": "python",
   "name": "python3"
  },
  "language_info": {
   "codemirror_mode": {
    "name": "ipython",
    "version": 3
   },
   "file_extension": ".py",
   "mimetype": "text/x-python",
   "name": "python",
   "nbconvert_exporter": "python",
   "pygments_lexer": "ipython3",
   "version": "3.11.4"
  }
 },
 "nbformat": 4,
 "nbformat_minor": 5
}
