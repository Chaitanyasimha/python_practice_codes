{
 "cells": [
  {
   "cell_type": "code",
   "execution_count": null,
   "id": "cc7efeb4-6460-499e-9a36-52dda086bf2b",
   "metadata": {},
   "outputs": [],
   "source": [
    "##########python divided into 3 types##############\n",
    "#============ basics\n",
    "#============intermediate part\n",
    "1.strings\n",
    "2.lists\n",
    "3.dictonary\n",
    "4.tuples\n",
    "5.sets\n",
    "6.lamda functions\n",
    "7.file handling sessions\n",
    "#=============advanced\n",
    "1.oops"
   ]
  },
  {
   "cell_type": "markdown",
   "id": "8622f07f-7337-40cc-a8f0-9d6721c67350",
   "metadata": {},
   "source": [
    "- initialization\n",
    "\n",
    "- len\n",
    "\n",
    "- max\n",
    "\n",
    "- min\n",
    "\n",
    "- indexing\n",
    "\n",
    "- for loop using index\n",
    "\n",
    "- mutable\n",
    "\n",
    "- concatination\n",
    "\n",
    "- sorted\n",
    "\n",
    "- reversed\n",
    "\n",
    "- in\n",
    "\n",
    "- for loop using in\n",
    "\n",
    "- ================part-2=======================\n",
    "\n",
    "- **methods :**\n",
    "\n",
    "- Initialization\n"
   ]
  },
  {
   "cell_type": "code",
   "execution_count": 17,
   "id": "6c56149a-f24e-466d-8ecd-d593af1884fb",
   "metadata": {},
   "outputs": [],
   "source": [
    "#do not confuse if you getting no qoutes in the output if you type single qoutes in the string for double qoutes it does not happen.\n",
    "#triple qoutes meaning its multiple line comment or it can be a multiline string\n",
    "#triple lines are used for docstrings\n",
    "# inorder to convey a informatiion about a code we use docstrings"
   ]
  },
  {
   "cell_type": "code",
   "execution_count": 15,
   "id": "bea6ae23-7dc3-4d05-be29-f027e63a77ea",
   "metadata": {},
   "outputs": [],
   "source": [
    "chait = \"\"\" \n",
    "            hi\n",
    "            hello\n",
    "            what are you thinking!!!\n",
    "           'chaitanya'\"\"\""
   ]
  },
  {
   "cell_type": "code",
   "execution_count": 16,
   "id": "00c6e9ca-d873-43d2-8482-4eb465fe4036",
   "metadata": {},
   "outputs": [
    {
     "name": "stdout",
     "output_type": "stream",
     "text": [
      " \n",
      "            hi\n",
      "            hello\n",
      "            what are you thinking!!!\n",
      "           'chaitanya'\n"
     ]
    }
   ],
   "source": [
    "print(chait)"
   ]
  },
  {
   "cell_type": "code",
   "execution_count": 19,
   "id": "f38cbbfa-9261-4093-b18d-bb5ac0279823",
   "metadata": {},
   "outputs": [
    {
     "data": {
      "text/plain": [
       "'y'"
      ]
     },
     "execution_count": 19,
     "metadata": {},
     "output_type": "execute_result"
    }
   ],
   "source": [
    "str1 = \"chaitanya\"\n",
    "max(str1)#this is because of ord"
   ]
  },
  {
   "cell_type": "code",
   "execution_count": 21,
   "id": "470becab-ec5f-44c9-a3c1-2465e0d53ac4",
   "metadata": {},
   "outputs": [
    {
     "data": {
      "text/plain": [
       "121"
      ]
     },
     "execution_count": 21,
     "metadata": {},
     "output_type": "execute_result"
    }
   ],
   "source": [
    "ord(\"y\")"
   ]
  },
  {
   "cell_type": "code",
   "execution_count": 22,
   "id": "44b87dfb-c75c-4b2a-b52e-daf970665ed6",
   "metadata": {},
   "outputs": [
    {
     "ename": "TypeError",
     "evalue": "unsupported operand type(s) for +: 'int' and 'str'",
     "output_type": "error",
     "traceback": [
      "\u001b[1;31m---------------------------------------------------------------------------\u001b[0m",
      "\u001b[1;31mTypeError\u001b[0m                                 Traceback (most recent call last)",
      "Cell \u001b[1;32mIn[22], line 1\u001b[0m\n\u001b[1;32m----> 1\u001b[0m \u001b[38;5;28;43msum\u001b[39;49m\u001b[43m(\u001b[49m\u001b[43mstr1\u001b[49m\u001b[43m)\u001b[49m\n",
      "\u001b[1;31mTypeError\u001b[0m: unsupported operand type(s) for +: 'int' and 'str'"
     ]
    }
   ],
   "source": [
    "sum(str1)"
   ]
  },
  {
   "cell_type": "code",
   "execution_count": 23,
   "id": "42be2fdf-cd2e-48af-be74-445b6f239f46",
   "metadata": {},
   "outputs": [
    {
     "data": {
      "text/plain": [
       "['a', 'a', 'a', 'c', 'h', 'i', 'n', 't', 'y']"
      ]
     },
     "execution_count": 23,
     "metadata": {},
     "output_type": "execute_result"
    }
   ],
   "source": [
    "sorted(str1)"
   ]
  },
  {
   "cell_type": "code",
   "execution_count": 24,
   "id": "36868e03-53fe-4cf6-8c33-a230e1ae3f95",
   "metadata": {},
   "outputs": [],
   "source": [
    "#sorted gives a accending order of sorted elements of a string"
   ]
  },
  {
   "cell_type": "code",
   "execution_count": 27,
   "id": "f2d4d34f-3fc0-4c23-bba8-4066b4f31ee2",
   "metadata": {},
   "outputs": [
    {
     "data": {
      "text/plain": [
       "['y', 't', 'n', 'i', 'h', 'c', 'a', 'a', 'a']"
      ]
     },
     "execution_count": 27,
     "metadata": {},
     "output_type": "execute_result"
    }
   ],
   "source": [
    "sorted(str1,reverse = True)"
   ]
  },
  {
   "cell_type": "code",
   "execution_count": 32,
   "id": "1f5a9c77-5a17-452c-95d5-176ff6c01435",
   "metadata": {},
   "outputs": [
    {
     "data": {
      "text/plain": [
       "0j"
      ]
     },
     "execution_count": 32,
     "metadata": {},
     "output_type": "execute_result"
    }
   ],
   "source": [
    "complex()#its the default value of caomplex"
   ]
  },
  {
   "cell_type": "code",
   "execution_count": 29,
   "id": "e4a10ef1-d0c4-490f-bfd1-af555fb1165a",
   "metadata": {},
   "outputs": [
    {
     "data": {
      "text/plain": [
       "(10+20j)"
      ]
     },
     "execution_count": 29,
     "metadata": {},
     "output_type": "execute_result"
    }
   ],
   "source": [
    "complex(10,20)"
   ]
  },
  {
   "cell_type": "code",
   "execution_count": 31,
   "id": "ac02c708-f678-43d6-8422-55e48d496004",
   "metadata": {},
   "outputs": [
    {
     "data": {
      "text/plain": [
       "(10+30j)"
      ]
     },
     "execution_count": 31,
     "metadata": {},
     "output_type": "execute_result"
    }
   ],
   "source": [
    "complex(10,30)#complex is ?"
   ]
  },
  {
   "cell_type": "code",
   "execution_count": null,
   "id": "e7cd4df2-0a5d-4c1a-bf8c-873c7b058eea",
   "metadata": {},
   "outputs": [],
   "source": [
    "import random\n"
   ]
  }
 ],
 "metadata": {
  "kernelspec": {
   "display_name": "Python 3 (ipykernel)",
   "language": "python",
   "name": "python3"
  },
  "language_info": {
   "codemirror_mode": {
    "name": "ipython",
    "version": 3
   },
   "file_extension": ".py",
   "mimetype": "text/x-python",
   "name": "python",
   "nbconvert_exporter": "python",
   "pygments_lexer": "ipython3",
   "version": "3.11.4"
  }
 },
 "nbformat": 4,
 "nbformat_minor": 5
}
