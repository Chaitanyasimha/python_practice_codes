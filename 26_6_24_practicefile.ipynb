{
 "cells": [
  {
   "cell_type": "code",
   "execution_count": 1,
   "id": "af0d5dab-c446-4bb9-9b69-54ce2b97336d",
   "metadata": {},
   "outputs": [
    {
     "name": "stdout",
     "output_type": "stream",
     "text": [
      "10 is even.\n"
     ]
    }
   ],
   "source": [
    "def check(number):\n",
    "    \"\"\"\n",
    "    This function checks if a given number is even or odd.\n",
    "\n",
    "    Args:\n",
    "    number (int): The number to be checked.\n",
    "\n",
    "    Returns:\n",
    "    str: A message indicating whether the number is even or odd.\n",
    "    \"\"\"\n",
    "    if number % 2 == 0:\n",
    "        return f\"{number} is even.\"\n",
    "    else:\n",
    "        return f\"{number} is odd.\"\n",
    "\n",
    "# Example usage:        #here it doesn't need a exact values\n",
    "num = 10\n",
    "result = check(num)\n",
    "print(result)  # Output: 10 is even."
   ]
  },
  {
   "cell_type": "code",
   "execution_count": 2,
   "id": "704ffd94-ed92-4fd1-a2e9-02709854e033",
   "metadata": {},
   "outputs": [
    {
     "ename": "NameError",
     "evalue": "name 'check_even_odd' is not defined",
     "output_type": "error",
     "traceback": [
      "\u001b[1;31m---------------------------------------------------------------------------\u001b[0m",
      "\u001b[1;31mNameError\u001b[0m                                 Traceback (most recent call last)",
      "Cell \u001b[1;32mIn[2], line 3\u001b[0m\n\u001b[0;32m      1\u001b[0m \u001b[38;5;66;03m# Example usage:\u001b[39;00m\n\u001b[0;32m      2\u001b[0m num \u001b[38;5;241m=\u001b[39m \u001b[38;5;241m10\u001b[39m\n\u001b[1;32m----> 3\u001b[0m result \u001b[38;5;241m=\u001b[39m \u001b[43mcheck_even_odd\u001b[49m(num)\n\u001b[0;32m      4\u001b[0m \u001b[38;5;28mprint\u001b[39m(result)  \u001b[38;5;66;03m# Output: 10 is even.\u001b[39;00m\n",
      "\u001b[1;31mNameError\u001b[0m: name 'check_even_odd' is not defined"
     ]
    }
   ],
   "source": [
    "# Example usage:\n",
    "num = 10\n",
    "result = check_even_odd(num)\n",
    "print(result)  # Output: 10 is even."
   ]
  },
  {
   "cell_type": "code",
   "execution_count": 20,
   "id": "4c236a95-2e7e-4810-a50d-38c70f3e81d0",
   "metadata": {},
   "outputs": [],
   "source": [
    "def even(chaitanya):\n",
    "    if chaitanya % 2 == 0:\n",
    "        print('{} num is even'.format(chaitanya))\n",
    "    else:\n",
    "        print('{} num is odd'.format(chaitanya))"
   ]
  },
  {
   "cell_type": "code",
   "execution_count": 21,
   "id": "3e764678-200a-47fd-a990-8051ec036c18",
   "metadata": {},
   "outputs": [
    {
     "name": "stdout",
     "output_type": "stream",
     "text": [
      "89 num is odd\n"
     ]
    }
   ],
   "source": [
    "even(89)"
   ]
  },
  {
   "cell_type": "code",
   "execution_count": 12,
   "id": "f9ad79bb-a409-4500-acb4-fa0a78fd842a",
   "metadata": {},
   "outputs": [
    {
     "name": "stdout",
     "output_type": "stream",
     "text": [
      "\n",
      "    This function checks if a given number is even or odd.\n",
      "\n",
      "    Args:\n",
      "    number (int): The number to be checked.\n",
      "\n",
      "    Returns:\n",
      "    str: A message indicating whether the number is even or odd.\n",
      "    \n"
     ]
    }
   ],
   "source": [
    "print(check.__doc__)"
   ]
  },
  {
   "cell_type": "code",
   "execution_count": 13,
   "id": "e65de56a-3ed0-4073-adab-f8cfc110bf00",
   "metadata": {},
   "outputs": [
    {
     "name": "stdout",
     "output_type": "stream",
     "text": [
      "Prints the values to a stream, or to sys.stdout by default.\n",
      "\n",
      "  sep\n",
      "    string inserted between values, default a space.\n",
      "  end\n",
      "    string appended after the last value, default a newline.\n",
      "  file\n",
      "    a file-like object (stream); defaults to the current sys.stdout.\n",
      "  flush\n",
      "    whether to forcibly flush the stream.\n"
     ]
    }
   ],
   "source": [
    "print(print.__doc__)"
   ]
  },
  {
   "cell_type": "code",
   "execution_count": 24,
   "id": "69521fe8-a598-48b2-b5e6-0ef01ab1a2e2",
   "metadata": {},
   "outputs": [
    {
     "name": "stdin",
     "output_type": "stream",
     "text": [
      " 2022\n"
     ]
    },
    {
     "name": "stdout",
     "output_type": "stream",
     "text": [
      "False\n",
      "None\n"
     ]
    }
   ],
   "source": [
    "def is_leap(year):\n",
    "    if (year%4 == 0):\n",
    "        print(\"True\")\n",
    "    else:\n",
    "        print(\"False\")\n",
    "\n",
    "year = int(input())\n",
    "print(is_leap(year))"
   ]
  },
  {
   "cell_type": "markdown",
   "id": "f626fabe-08e0-40c4-9a5b-759b818fd378",
   "metadata": {},
   "source": [
    "- it is giving none in the console because **is_leap** does not clearly return a value \n",
    "- it's just giving the result of print value cause of print statement\n",
    "- when defining a function we have to return the value of the function as rusult  ot result of print statement or other's...\n",
    "- in the above due to its vagueness in the code its executed the statement which is true as true or false but left other value as **none**"
   ]
  },
  {
   "cell_type": "code",
   "execution_count": 26,
   "id": "e6ad6d93-3c8f-4bc1-a72e-bd8af8e05575",
   "metadata": {},
   "outputs": [
    {
     "name": "stdin",
     "output_type": "stream",
     "text": [
      " 2022\n"
     ]
    },
    {
     "name": "stdout",
     "output_type": "stream",
     "text": [
      "False\n"
     ]
    }
   ],
   "source": [
    "def is_leap(year):\n",
    "    if (year%4 == 0):\n",
    "        return True\n",
    "    else:\n",
    "        return False\n",
    "        \n",
    "year = int(input())\n",
    "print(is_leap(year))"
   ]
  },
  {
   "cell_type": "code",
   "execution_count": 27,
   "id": "6bb873b0-a197-4277-bb46-8cd75384a616",
   "metadata": {},
   "outputs": [],
   "source": [
    "#rules of a leap year :\n",
    "#A year is a leap year if:\n",
    "#\n",
    "#1.It is divisible by 4.\n",
    "#2.However, if the year is also divisible by 100, it is not a leap year unless:\n",
    "#3.The year is also divisible by 400."
   ]
  },
  {
   "cell_type": "markdown",
   "id": "c7a3d129-3a6d-4657-8df2-4beb7dda72b1",
   "metadata": {},
   "source": [
    "- know the condition of the problem statement you are working with."
   ]
  },
  {
   "cell_type": "code",
   "execution_count": 31,
   "id": "054aea50-ae35-4a23-8acc-bff0517a4600",
   "metadata": {},
   "outputs": [
    {
     "name": "stdin",
     "output_type": "stream",
     "text": [
      " 2100\n"
     ]
    },
    {
     "name": "stdout",
     "output_type": "stream",
     "text": [
      "False\n"
     ]
    }
   ],
   "source": [
    "def is_leap(year):\n",
    "    if(year%400 == 0):\n",
    "        return True\n",
    "    elif(year%100 == 0):\n",
    "        return False\n",
    "    elif(year%4 == 0):\n",
    "        return True\n",
    "    else:\n",
    "        return False\n",
    "\n",
    "year = int(input())\n",
    "print(is_leap(year))"
   ]
  },
  {
   "cell_type": "code",
   "execution_count": null,
   "id": "666071c2-bc7d-4f9e-aa1a-daab751e6e20",
   "metadata": {},
   "outputs": [],
   "source": [
    "#case 1: if i use the and or or statements the condition of them has to be all correct (or)if any one of them has to be correct\n",
    "#but we hace to check 2 condition true and one false or not...for the leap year so we cant use the and (or) or statements\n",
    "#case2:L we can use is...elif...else format but it has to be in a order"
   ]
  },
  {
   "cell_type": "code",
   "execution_count": 32,
   "id": "13b29354-f8ca-4be6-8c1b-b96dd3808d7f",
   "metadata": {},
   "outputs": [
    {
     "name": "stdin",
     "output_type": "stream",
     "text": [
      " 12\n"
     ]
    },
    {
     "name": "stdout",
     "output_type": "stream",
     "text": [
      "[12]\n"
     ]
    },
    {
     "name": "stdin",
     "output_type": "stream",
     "text": [
      " 0\n",
      " 4\n"
     ]
    }
   ],
   "source": [
    "num_list = []\n",
    "num_list.append(eval(input()))\n",
    "print(num_list)\n",
    "num_list.insert(int(input()),int(input()))"
   ]
  },
  {
   "cell_type": "code",
   "execution_count": 33,
   "id": "b5d89aae-5c88-40f4-87b9-699194208342",
   "metadata": {},
   "outputs": [
    {
     "name": "stdout",
     "output_type": "stream",
     "text": [
      "[4, 12]\n"
     ]
    }
   ],
   "source": [
    "print(num_list)"
   ]
  },
  {
   "cell_type": "code",
   "execution_count": 36,
   "id": "c7906305-1109-473d-a34f-7488cca0d5bd",
   "metadata": {},
   "outputs": [
    {
     "name": "stdin",
     "output_type": "stream",
     "text": [
      " 12\n"
     ]
    },
    {
     "name": "stdout",
     "output_type": "stream",
     "text": [
      "[12]\n",
      "[12, 0, 1, 2, 3, 4, 5, 6, 7, 8, 9, 10, 11, 12, 13, 14, 15, 16, 17, 18, 19]\n"
     ]
    },
    {
     "name": "stdin",
     "output_type": "stream",
     "text": [
      " 1\n",
      " 9\n",
      " 1\n",
      " 8\n",
      " 1\n",
      " 7\n"
     ]
    },
    {
     "name": "stdout",
     "output_type": "stream",
     "text": [
      "[12, 7, 8, 9, 0, 1, 2, 3, 4, 5, 6, 7, 8, 9, 10, 11, 12, 13, 14, 15, 16, 17, 18, 19]\n"
     ]
    }
   ],
   "source": [
    "num_list = []\n",
    "num_list.append(eval(input()))\n",
    "print(num_list)\n",
    "for n in range (0,20):\n",
    "    num_list.append(n)\n",
    "print(num_list)\n",
    "num_list.insert(int(input()),int(input()))\n",
    "num_list.insert(int(input()),int(input()))\n",
    "num_list.insert(int(input()),int(input()))\n",
    "print(num_list)"
   ]
  },
  {
   "cell_type": "code",
   "execution_count": 42,
   "id": "2b33e8a4-2f58-4f58-88b4-3ad6ad3ce18b",
   "metadata": {},
   "outputs": [
    {
     "name": "stdin",
     "output_type": "stream",
     "text": [
      " 3\n",
      " append 9\n",
      " insert 1 8\n",
      " print\n"
     ]
    },
    {
     "name": "stdout",
     "output_type": "stream",
     "text": [
      "[9, 8]\n"
     ]
    }
   ],
   "source": [
    "N = int(input())\n",
    "num_list = []\n",
    "for i in range(N):\n",
    "    s = list(input().split())\n",
    "    if s[0] == 'insert':\n",
    "        num_list.insert(int(s[1]),int(s[2]))\n",
    "    if s[0] == 'print':\n",
    "        print(num_list)\n",
    "    if s[0] == 'remove':\n",
    "        num_list.remove(int(s[1]))\n",
    "    if s[0] == 'append':\n",
    "        num_list.append(int(s[1]))\n",
    "    if s[0] == 'sort':\n",
    "        num_list.sort()\n",
    "    if s[0] == 'pop':\n",
    "        num_list.pop()\n",
    "    if s[0] == 'reverse':\n",
    "        num_list.reverse()\n",
    "#HERE IN THIS CODE THEY HAVE SAID THAT WE HAVE TO WRITE THIS 7 LIST COMMAND STATEMENTS AND ITERATE THROUGH THEM \"N\" TIMES\n",
    "#WE CAN DO IT USING TWO LISTS\n",
    "#ONE LIST WITH THE THINGS WE ARE DOING AND FOLLOWING THROUGH THE COMMANDS\n",
    "#SECOND LIST USED TO TAKE A STRING INPUT AND SPLIT IT AND STORING IT IN A LIST \"[S]\" AND STORE THE SPLIT INPUT STRING\n",
    "# WHEN USING THE 2ND LIST IN THE COMMANDS WE JUST PASS ON THE MAIN SPLIT ELEMENT WHICH OF THE FOLLOWING COMMAND IS IT \n",
    "#AND EXECUTE THE APROPRIATE IF BLOCK \n",
    "#NOTE : YOU CANT PASS ON THE , BETWEEN THE VALUES OR THE STRING BECAUSE IT WILL SPLIT THROUGH THE SPACES \n",
    "#IF 3 SPACES 3 SPLITS WILL BE PERFORMED\n",
    "#how many values of n are given that many no of commands will be executed"
   ]
  },
  {
   "cell_type": "code",
   "execution_count": null,
   "id": "b69b7784-a3ba-4114-b1cf-53824533d16b",
   "metadata": {},
   "outputs": [],
   "source": []
  }
 ],
 "metadata": {
  "kernelspec": {
   "display_name": "Python 3 (ipykernel)",
   "language": "python",
   "name": "python3"
  },
  "language_info": {
   "codemirror_mode": {
    "name": "ipython",
    "version": 3
   },
   "file_extension": ".py",
   "mimetype": "text/x-python",
   "name": "python",
   "nbconvert_exporter": "python",
   "pygments_lexer": "ipython3",
   "version": "3.11.4"
  }
 },
 "nbformat": 4,
 "nbformat_minor": 5
}
