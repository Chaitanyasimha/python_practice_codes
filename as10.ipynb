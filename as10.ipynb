{
 "cells": [
  {
   "cell_type": "markdown",
   "id": "1cd65a13-a1ee-4498-9640-b25f11848235",
   "metadata": {},
   "source": [
    "# Hare Krishna"
   ]
  },
  {
   "cell_type": "code",
   "execution_count": 7,
   "id": "8de4287e-cc1f-45c3-bcec-47d27a503208",
   "metadata": {},
   "outputs": [
    {
     "name": "stdout",
     "output_type": "stream",
     "text": [
      "the times 'a' has repeated is :3\n"
     ]
    }
   ],
   "source": [
    "#Q1) WAP ask the user count how many 'a' are present in a given string\n",
    "# str1='hai naresh how are you'\n",
    "\n",
    "# Idea: counter wrapper\n",
    "# step-1: count=0\n",
    "# step-2: using for loop in operator iterate through  given string\n",
    "# step-3: apply the if condition, whenever the letter equal to 'a'\n",
    "# step-4: count=count+1\n",
    "\n",
    "\n",
    "str1 = 'hai naresh how are you'\n",
    "count = 0\n",
    "for i in str1:\n",
    "    if \"a\" == i :\n",
    "        count = count + 1 \n",
    "print(f\"the times 'a' has repeated is :{count}\")"
   ]
  },
  {
   "cell_type": "code",
   "execution_count": 13,
   "id": "9d3a3329-5a4e-4e5e-9338-d2ca9450909e",
   "metadata": {},
   "outputs": [
    {
     "name": "stdout",
     "output_type": "stream",
     "text": [
      "the times 'a' has repeated is :9\n"
     ]
    }
   ],
   "source": [
    "# Q2) WAP ask the find how many vowels are there in a given string\n",
    "# str1='hai naresh how are you'\n",
    "# ans=9\n",
    "\n",
    "\n",
    "str1 = 'hai naresh how are you'\n",
    "count = 0\n",
    "for i in str1:\n",
    "    if i in \"aeiou\" :\n",
    "        count = count + 1 \n",
    "print(f\"the times 'a' has repeated is :{count}\")"
   ]
  },
  {
   "cell_type": "code",
   "execution_count": 50,
   "id": "672ed556-d735-43ae-9b10-43a99f46f3f7",
   "metadata": {},
   "outputs": [
    {
     "name": "stdout",
     "output_type": "stream",
     "text": [
      "the vowels in str1 are :5\n"
     ]
    }
   ],
   "source": [
    "# Q3) Home work qn\n",
    "# str1='hai naresh how are you'\n",
    "# Repetaed vowels are there\n",
    "# We dont want repetaed vowels\n",
    "# Count the vowels avoid the repeatition: Unique vowels\n",
    "\n",
    "str1 = 'hai naresh how are you'\n",
    "str2 = set(str1)\n",
    "count = 0\n",
    "for i in str2:\n",
    "    if i in \"aeiou\" :\n",
    "        count = count + 1 \n",
    "print(f\"the vowels in str1 are :{count}\")\n"
   ]
  },
  {
   "cell_type": "code",
   "execution_count": 16,
   "id": "1224e4fe-5ebf-4234-b526-2e3cdde645c2",
   "metadata": {},
   "outputs": [
    {
     "name": "stdout",
     "output_type": "stream",
     "text": [
      "h\n",
      "a\n",
      "i\n",
      " \n",
      "n\n",
      "a\n",
      "r\n",
      "e\n",
      "s\n",
      "h\n",
      " \n",
      "h\n",
      "o\n",
      "w\n",
      " \n",
      "a\n",
      "r\n",
      "e\n",
      " \n",
      "y\n",
      "o\n",
      "u\n"
     ]
    }
   ],
   "source": [
    "# Q4) print each letter using for loop range\n",
    "\n",
    "str1 = 'hai naresh how are you'\n",
    "for i in str1:\n",
    "    print(i)"
   ]
  },
  {
   "cell_type": "code",
   "execution_count": 21,
   "id": "258a86a6-95aa-4302-b4e5-722f740bbfd2",
   "metadata": {},
   "outputs": [
    {
     "name": "stdout",
     "output_type": "stream",
     "text": [
      "the positive index of w is : 0\n",
      "the positive index of e is : 1\n",
      "the positive index of l is : 2\n",
      "the positive index of c is : 3\n",
      "the positive index of o is : 4\n",
      "the positive index of m is : 5\n",
      "the positive index of e is : 6\n"
     ]
    }
   ],
   "source": [
    "# Q5) wap ask the user iterate using a string\n",
    "# string='welcome'\n",
    "# print the postive index of w is 0\n",
    "#       the positive index of e is 1\n",
    "#       the positive index of l is 1\n",
    "\n",
    "\n",
    "string='welcome'\n",
    "for i in range(len(string)):\n",
    "    print(f\"the positive index of {string[i]} is : {i}\")"
   ]
  },
  {
   "cell_type": "code",
   "execution_count": 26,
   "id": "5ca77edf-cf03-4999-a461-679420b093a8",
   "metadata": {},
   "outputs": [
    {
     "name": "stdout",
     "output_type": "stream",
     "text": [
      "the negative index of w is : -7\n",
      "the negative index of e is : -6\n",
      "the negative index of l is : -5\n",
      "the negative index of c is : -4\n",
      "the negative index of o is : -3\n",
      "the negative index of m is : -2\n",
      "the negative index of e is : -1\n"
     ]
    }
   ],
   "source": [
    "# Q6) wap ask the user iterate using a string\n",
    "# string='welcome'\n",
    "# print the negative index of w is -7\n",
    "#       the negative index of e is -6\n",
    "#       the negative index of l is -5\n",
    "# the positive index is 0 and the negtaive index -7 for w\n",
    "\n",
    "\n",
    "string='welcome'\n",
    "for i in range(len(string)):\n",
    "    print(f\"the negative index of {string[i]} is : {i-len(string)}\")"
   ]
  },
  {
   "cell_type": "code",
   "execution_count": 31,
   "id": "e7303999-9cef-4e1a-a7e0-2974b15e33af",
   "metadata": {},
   "outputs": [
    {
     "name": "stdout",
     "output_type": "stream",
     "text": [
      "the positive index of w is :0\n",
      "the negative index of w is :-7\n"
     ]
    }
   ],
   "source": [
    "# Q7) wap ask the user iterate using a string\n",
    "# string='welcome'\n",
    "# # the positive index is 0 and the negtaive index -7 for w\n",
    "\n",
    "\n",
    "\n",
    "string='welcome'\n",
    "for i in range(len(string)):\n",
    "    if string[i] == \"w\":\n",
    "        print(f\"the positive index of {string[i]} is :{i}\")\n",
    "        print(f\"the negative index of {string[i]} is :{i-len(string)}\")"
   ]
  },
  {
   "cell_type": "code",
   "execution_count": 38,
   "id": "7face3b0-175a-46f8-a79a-1a9223a60321",
   "metadata": {},
   "outputs": [
    {
     "name": "stdout",
     "output_type": "stream",
     "text": [
      "1 8 18 "
     ]
    }
   ],
   "source": [
    "#Q8) wap ask the user get the index of each 'a' in a given string\n",
    "# s='hai how are you i am good'\n",
    "# a=1  8  18\n",
    "\n",
    "\n",
    "\n",
    "s='hai how are you i am good'\n",
    "for i in range(len(s)):\n",
    "    if s[i] == \"a\" :\n",
    "        print(i,end = \" \")"
   ]
  },
  {
   "cell_type": "code",
   "execution_count": 39,
   "id": "e5a0ff69-fb69-4199-84ff-f71dd8cfb274",
   "metadata": {},
   "outputs": [
    {
     "name": "stdout",
     "output_type": "stream",
     "text": [
      "the times 'a' has repeated is :3\n"
     ]
    }
   ],
   "source": [
    "#Q9) wap ask the user to get count of number of 'a' in a given string\n",
    "#     using for-range\n",
    "\n",
    "\n",
    "str1 = 'hai naresh how are you'\n",
    "count = 0\n",
    "for i in range(len(s)):\n",
    "    if s[i] == \"a\" :\n",
    "        count = count + 1 \n",
    "print(f\"the times 'a' has repeated is :{count}\")"
   ]
  },
  {
   "cell_type": "code",
   "execution_count": 45,
   "id": "64c0237a-3d9d-418e-87dc-4273a553e4c9",
   "metadata": {},
   "outputs": [
    {
     "name": "stdout",
     "output_type": "stream",
     "text": [
      "Sum of all index numbers of 'a' :27\n"
     ]
    }
   ],
   "source": [
    "#Q10) wap ask the user get the sum of all index numbers of 'a'\n",
    "# 1+8+18= 27\n",
    "\n",
    "\n",
    "\n",
    "summ_indices = 0\n",
    "s='hai how are you i am good'\n",
    "for i in range(len(s)):\n",
    "    if s[i] == \"a\" :\n",
    "        summ_indices = summ_indices + i\n",
    "print(F\"Sum of all index numbers of 'a' :{summ_indices}\")"
   ]
  },
  {
   "cell_type": "code",
   "execution_count": 52,
   "id": "035754d5-81d8-4972-ad75-a902433743de",
   "metadata": {},
   "outputs": [
    {
     "name": "stdout",
     "output_type": "stream",
     "text": [
      "the vowels in str1 are :9\n"
     ]
    }
   ],
   "source": [
    "#Q11) wap ask the user get the vowels from a given string using for-range\n",
    "\n",
    "str1 = 'hai naresh how are you'\n",
    "count = 0\n",
    "for i in range(len(str1)):\n",
    "    if str1[i] in \"aeiou\" :\n",
    "        count = count + 1 \n",
    "print(f\"the vowels in str1 are :{count}\")"
   ]
  },
  {
   "cell_type": "code",
   "execution_count": 53,
   "id": "4327c2d3-1237-474e-9bd2-6efcede71c50",
   "metadata": {},
   "outputs": [
    {
     "name": "stdout",
     "output_type": "stream",
     "text": [
      "the vowels in str1 are :11\n"
     ]
    }
   ],
   "source": [
    "#Q12)updated wap ask the user get the vowels from a given string using for-range\n",
    "\n",
    "\n",
    "s='hai how are you i am good'\n",
    "count = 0\n",
    "for i in range(len(s)):\n",
    "    if s[i] in \"aeiou\" :\n",
    "        count = count + 1 \n",
    "print(f\"the vowels in str1 are :{count}\")"
   ]
  },
  {
   "cell_type": "code",
   "execution_count": null,
   "id": "01185cf7-be53-409a-9a44-4d4aa4c28540",
   "metadata": {},
   "outputs": [],
   "source": []
  }
 ],
 "metadata": {
  "kernelspec": {
   "display_name": "Python 3 (ipykernel)",
   "language": "python",
   "name": "python3"
  },
  "language_info": {
   "codemirror_mode": {
    "name": "ipython",
    "version": 3
   },
   "file_extension": ".py",
   "mimetype": "text/x-python",
   "name": "python",
   "nbconvert_exporter": "python",
   "pygments_lexer": "ipython3",
   "version": "3.11.4"
  }
 },
 "nbformat": 4,
 "nbformat_minor": 5
}
