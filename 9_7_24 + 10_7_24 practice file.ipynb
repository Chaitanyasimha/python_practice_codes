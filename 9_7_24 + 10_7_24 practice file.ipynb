{
 "cells": [
  {
   "cell_type": "code",
   "execution_count": 4,
   "id": "335c8a0a-f7d0-448e-bc2c-313cd3675238",
   "metadata": {},
   "outputs": [
    {
     "data": {
      "text/plain": [
       "{'a': [4, 5, 6, 7, 8, 34, 8]}"
      ]
     },
     "execution_count": 4,
     "metadata": {},
     "output_type": "execute_result"
    }
   ],
   "source": [
    "# a dictionary can be defined or updated like this\n",
    "d1={}\n",
    "d1[\"a\"]=[4,5,6,7,8,34,8]\n",
    "d1"
   ]
  },
  {
   "cell_type": "code",
   "execution_count": 5,
   "id": "8af947e5-cfe6-4666-ba3d-ac00bf520c3c",
   "metadata": {},
   "outputs": [
    {
     "name": "stdin",
     "output_type": "stream",
     "text": [
      "enter a number to enter that many records : tdujxnhchgch gtyxcyui7y\n"
     ]
    },
    {
     "name": "stdout",
     "output_type": "stream",
     "text": [
      "{'t': 2, 'd': 1, 'u': 2, 'j': 1, 'x': 2, 'n': 1, 'h': 3, 'c': 3, 'g': 2, ' ': 1, 'y': 3, 'i': 1, '7': 1}\n"
     ]
    }
   ],
   "source": [
    "num = input(\"enter a number to enter that many records :\")\n",
    "d = {}\n",
    "for i in num:\n",
    "    if i in d:\n",
    "        d[i]+=1\n",
    "    else:\n",
    "        d[i]=1\n",
    "print(d)"
   ]
  },
  {
   "cell_type": "code",
   "execution_count": 7,
   "id": "9384597f-2de4-46fd-ba0f-a2921441f470",
   "metadata": {},
   "outputs": [
    {
     "ename": "SyntaxError",
     "evalue": "invalid syntax (2642062561.py, line 2)",
     "output_type": "error",
     "traceback": [
      "\u001b[1;36m  Cell \u001b[1;32mIn[7], line 2\u001b[1;36m\u001b[0m\n\u001b[1;33m    k.update({\"karthik\"}:{6,8,9,8})\u001b[0m\n\u001b[1;37m                        ^\u001b[0m\n\u001b[1;31mSyntaxError\u001b[0m\u001b[1;31m:\u001b[0m invalid syntax\n"
     ]
    }
   ],
   "source": [
    "k  = {}\n",
    "k.update({\"karthik\"}:{6,8,9,8})"
   ]
  },
  {
   "cell_type": "code",
   "execution_count": 2,
   "id": "028c381f-7ad6-40f0-bc39-9970e5b8a0d3",
   "metadata": {},
   "outputs": [
    {
     "ename": "SyntaxError",
     "evalue": "invalid syntax. Perhaps you forgot a comma? (986426693.py, line 3)",
     "output_type": "error",
     "traceback": [
      "\u001b[1;36m  Cell \u001b[1;32mIn[2], line 3\u001b[1;36m\u001b[0m\n\u001b[1;33m    dictionary.update(input{0} = input({(len(Input))}))\u001b[0m\n\u001b[1;37m                      ^\u001b[0m\n\u001b[1;31mSyntaxError\u001b[0m\u001b[1;31m:\u001b[0m invalid syntax. Perhaps you forgot a comma?\n"
     ]
    }
   ],
   "source": [
    "Input = input(\"enter a string of (key/value pair) :\").split()\n",
    "dictionary = {}\n",
    "dictionary.update(input{0} = input({(len(Input))}))\n",
    "print(dictionary)\n"
   ]
  },
  {
   "cell_type": "code",
   "execution_count": 2,
   "id": "c6943421-ed73-4d8c-9f2a-2dea452351d8",
   "metadata": {},
   "outputs": [
    {
     "name": "stdin",
     "output_type": "stream",
     "text": [
      "enter a string of (key/value pair) : karthik 3 5 7\n"
     ]
    },
    {
     "ename": "TypeError",
     "evalue": "list indices must be integers or slices, not map",
     "output_type": "error",
     "traceback": [
      "\u001b[1;31m---------------------------------------------------------------------------\u001b[0m",
      "\u001b[1;31mTypeError\u001b[0m                                 Traceback (most recent call last)",
      "Cell \u001b[1;32mIn[2], line 7\u001b[0m\n\u001b[0;32m      5\u001b[0m     a_list\u001b[38;5;241m.\u001b[39mappend(Input[i])\n\u001b[0;32m      6\u001b[0m a_list\u001b[38;5;241m.\u001b[39mremove(Input[\u001b[38;5;241m0\u001b[39m])\n\u001b[1;32m----> 7\u001b[0m dictionary[Input[\u001b[38;5;241m0\u001b[39m]] \u001b[38;5;241m=\u001b[39m \u001b[43mInput\u001b[49m\u001b[43m[\u001b[49m\u001b[38;5;28;43mmap\u001b[39;49m\u001b[43m(\u001b[49m\u001b[38;5;28;43mint\u001b[39;49m\u001b[43m,\u001b[49m\u001b[43ma_list\u001b[49m\u001b[43m)\u001b[49m\u001b[43m]\u001b[49m\n\u001b[0;32m      8\u001b[0m \u001b[38;5;28mprint\u001b[39m(dictionary)\n",
      "\u001b[1;31mTypeError\u001b[0m: list indices must be integers or slices, not map"
     ]
    }
   ],
   "source": [
    "Input = input(\"enter a string of (key/value pair) :\").split()\n",
    "dictionary = {}\n",
    "a_list = []\n",
    "for i in range(len(Input)):\n",
    "    a_list.append(Input[i])\n",
    "a_list.remove(Input[0])\n",
    "dictionary[Input[0]] = Input[map(int,a_list)]\n",
    "print(dictionary)\n"
   ]
  },
  {
   "cell_type": "code",
   "execution_count": 24,
   "id": "50964c89-02c1-4080-a6a9-77bdecc7e9a8",
   "metadata": {},
   "outputs": [
    {
     "name": "stdin",
     "output_type": "stream",
     "text": [
      "enter a string of (key/value pair) : k 9 8 7\n"
     ]
    },
    {
     "name": "stdout",
     "output_type": "stream",
     "text": [
      "[9, 8, 7]\n",
      "{'k': [9, 8, 7]}\n"
     ]
    }
   ],
   "source": [
    "Input = input(\"enter a string of (key/value pair) :\").split()\n",
    "dictionary = {}\n",
    "a_list = []\n",
    "for i in range(len(Input)):\n",
    "    a_list.append(Input[i])\n",
    "a_list.remove(Input[0])\n",
    "\n",
    "b_list = [int(a_list[j]) for j in range (len(a_list))]\n",
    "\n",
    "print(b_list)\n",
    "dictionary[Input[0]] = b_list[::]\n",
    "print(dictionary)\n"
   ]
  },
  {
   "cell_type": "code",
   "execution_count": 29,
   "id": "eab4386f-407f-4194-8ec2-041dda16e270",
   "metadata": {},
   "outputs": [
    {
     "name": "stdin",
     "output_type": "stream",
     "text": [
      "the the no of student records to enter : 3\n",
      "enter a string of (key/value pair) : k 7 8 9\n",
      "enter a string of (key/value pair) : h 7 8 9\n",
      "enter a string of (key/value pair) : f 4 5 6\n"
     ]
    },
    {
     "name": "stdout",
     "output_type": "stream",
     "text": [
      "{'k': [7, 8, 9], 'h': [7, 8, 9], 'f': [4, 5, 6]}\n"
     ]
    },
    {
     "name": "stdin",
     "output_type": "stream",
     "text": [
      "enter the student name to check the avg : f\n"
     ]
    },
    {
     "name": "stdout",
     "output_type": "stream",
     "text": [
      "5.0\n"
     ]
    }
   ],
   "source": [
    "#the initialization of dictionary to enter the key value pairs\n",
    "dictionary = {}\n",
    "no_of_records = int(input(\"the the no of student records to enter :\"))\n",
    "c_list = []\n",
    "summation = 0\n",
    "avg = 0\n",
    "#the inserting of records code part using to lists and for loop for the no of subjects\n",
    "for i in range(no_of_records):\n",
    "    Input = input(\"enter a string of (key/value pair) :\").split()\n",
    "    a_list = []\n",
    "    for j in range(len(Input)):\n",
    "        a_list.append(Input[j])\n",
    "    a_list.remove(Input[0])\n",
    "    #the numbers from string to a int list\n",
    "    b_list = [int(a_list[k]) for k in range (len(a_list))]\n",
    "\n",
    "\n",
    "    #the insertion of the records in the lists to a dictionary\n",
    "    dictionary[Input[0]] = b_list[::]\n",
    "print(dictionary)\n",
    "#====================Completion of the insertion of records=========================\n",
    "\n",
    "selected_student = input(\"enter the student name to check the avg :\")\n",
    "c_list = dictionary[selected_student]\n",
    "for elements in range(len(c_list)):\n",
    "    summation = summation + c_list[elements]\n",
    "avg = summation/(len(c_list))\n",
    "print(avg)\n",
    "    "
   ]
  },
  {
   "cell_type": "code",
   "execution_count": 31,
   "id": "7a9af657-d56d-4d7f-b002-601a84ca966d",
   "metadata": {},
   "outputs": [
    {
     "data": {
      "text/plain": [
       "5.0"
      ]
     },
     "execution_count": 31,
     "metadata": {},
     "output_type": "execute_result"
    }
   ],
   "source": [
    "round(avg,2)"
   ]
  },
  {
   "cell_type": "code",
   "execution_count": 27,
   "id": "999f74e1-bd42-4969-8a7c-a3790e1b1706",
   "metadata": {},
   "outputs": [
    {
     "data": {
      "text/plain": [
       "[9, 8, 7]"
      ]
     },
     "execution_count": 27,
     "metadata": {},
     "output_type": "execute_result"
    }
   ],
   "source": [
    "dictionary[\"k\"]"
   ]
  },
  {
   "cell_type": "code",
   "execution_count": null,
   "id": "4eb969e8-f465-4712-995a-a6394f8c0fce",
   "metadata": {},
   "outputs": [],
   "source": [
    "#the initialization of dictionary to enter the key value pairs\n",
    "dictionary = {}\n",
    "no_of_records = int(input())\n",
    "c_list = []\n",
    "summation = 0\n",
    "avg = 0\n",
    "#the inserting of records code part using to lists and for loop for the no of subjects\n",
    "for i in range(no_of_records):\n",
    "    Input = input().split()\n",
    "    a_list = []\n",
    "    for j in range(len(Input)):\n",
    "        a_list.append(Input[j])\n",
    "    a_list.remove(Input[0])\n",
    "    #the numbers from string to a int list\n",
    "    b_list = [int(a_list[k]) for k in range (len(a_list))]   #======== he will pass on some float values to confuse you so use \"eval\" \n",
    "                                                            #in place of int in the list comprehension...\n",
    "\n",
    "    #the insertion of the records in the lists to a dictionary\n",
    "    dictionary[Input[0]] = b_list[::]\n",
    "#====================Completion of the insertion of records=========================\n",
    "\n",
    "selected_student = input()\n",
    "c_list = dictionary[selected_student]\n",
    "for elements in range(len(c_list)):\n",
    "    summation = summation + c_list[elements]\n",
    "avg = summation/(len(c_list))\n",
    "print(avg)\n",
    "\n",
    "#this only when you want to print certain decimal point after the number\n",
    "#number can only give the decimal points if there is any exist other vise it only return the value.0 thats it\n",
    "print(f\"{avg:.2f}\")  \n",
    "    "
   ]
  },
  {
   "cell_type": "code",
   "execution_count": 32,
   "id": "233bae08-ee1a-4a4d-b585-8bf4085cf0a7",
   "metadata": {},
   "outputs": [
    {
     "name": "stdout",
     "output_type": "stream",
     "text": [
      "5.00\n"
     ]
    }
   ],
   "source": [
    "print(f\"{avg:.2f}\")  "
   ]
  },
  {
   "cell_type": "code",
   "execution_count": null,
   "id": "af6bf87a-3812-4614-9502-c8a8da4ec801",
   "metadata": {},
   "outputs": [],
   "source": []
  }
 ],
 "metadata": {
  "kernelspec": {
   "display_name": "Python 3 (ipykernel)",
   "language": "python",
   "name": "python3"
  },
  "language_info": {
   "codemirror_mode": {
    "name": "ipython",
    "version": 3
   },
   "file_extension": ".py",
   "mimetype": "text/x-python",
   "name": "python",
   "nbconvert_exporter": "python",
   "pygments_lexer": "ipython3",
   "version": "3.11.4"
  }
 },
 "nbformat": 4,
 "nbformat_minor": 5
}
