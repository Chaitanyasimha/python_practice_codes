{
 "cells": [
  {
   "cell_type": "code",
   "execution_count": 1,
   "id": "c2c61376-27b8-4b97-b5bb-823c6452f701",
   "metadata": {},
   "outputs": [
    {
     "data": {
      "text/plain": [
       "['a', 'h', 'i', 'm', 's']"
      ]
     },
     "execution_count": 1,
     "metadata": {},
     "output_type": "execute_result"
    }
   ],
   "source": [
    "sorted(\"simha\")"
   ]
  },
  {
   "cell_type": "code",
   "execution_count": 11,
   "id": "7eeba8cc-d0e3-4552-a1af-27ebc45fa982",
   "metadata": {},
   "outputs": [
    {
     "data": {
      "text/plain": [
       "['a', 'd', 'e', 'e', 'n', 'p', 's']"
      ]
     },
     "execution_count": 11,
     "metadata": {},
     "output_type": "execute_result"
    }
   ],
   "source": [
    "sorted(\"sandeep\",reverse = False)"
   ]
  },
  {
   "cell_type": "code",
   "execution_count": 10,
   "id": "56865257-7fbd-42f4-af0a-9d35d4139b61",
   "metadata": {},
   "outputs": [
    {
     "ename": "TypeError",
     "evalue": "sorted expected 1 argument, got 2",
     "output_type": "error",
     "traceback": [
      "\u001b[1;31m---------------------------------------------------------------------------\u001b[0m",
      "\u001b[1;31mTypeError\u001b[0m                                 Traceback (most recent call last)",
      "Cell \u001b[1;32mIn[10], line 1\u001b[0m\n\u001b[1;32m----> 1\u001b[0m \u001b[38;5;28;43msorted\u001b[39;49m\u001b[43m(\u001b[49m\u001b[38;5;124;43m\"\u001b[39;49m\u001b[38;5;124;43mkarthik\u001b[39;49m\u001b[38;5;124;43m\"\u001b[39;49m\u001b[43m,\u001b[49m\u001b[38;5;28;43;01mTrue\u001b[39;49;00m\u001b[43m)\u001b[49m\n",
      "\u001b[1;31mTypeError\u001b[0m: sorted expected 1 argument, got 2"
     ]
    }
   ],
   "source": [
    "sorted(\"karthik\",True) "
   ]
  },
  {
   "cell_type": "code",
   "execution_count": 13,
   "id": "724eb401-0f15-43de-bd74-725f9aa61705",
   "metadata": {},
   "outputs": [],
   "source": [
    "# slash left side no need of name of argument but right of slash it needs the name of the argument(\" / \")\n",
    "#when we see it in the help of the function or a method."
   ]
  },
  {
   "cell_type": "code",
   "execution_count": 14,
   "id": "9f9487a3-39f1-4a54-836a-c63b9f9b5378",
   "metadata": {},
   "outputs": [
    {
     "data": {
      "text/plain": [
       "[4, 6, 7, 7, 8, 9]"
      ]
     },
     "execution_count": 14,
     "metadata": {},
     "output_type": "execute_result"
    }
   ],
   "source": [
    "sorted([7,7,8,9,4,6])"
   ]
  },
  {
   "cell_type": "markdown",
   "id": "69b0d15b-ee79-4787-b225-1f8be8726953",
   "metadata": {},
   "source": [
    "**in operator :**"
   ]
  },
  {
   "cell_type": "markdown",
   "id": "45b63374-c5ec-4110-a08b-63b503d2cf73",
   "metadata": {},
   "source": [
    "**note**\n",
    "- in operator directly access the letters."
   ]
  },
  {
   "cell_type": "code",
   "execution_count": 28,
   "id": "eeb1ce26-4215-480d-a7c7-14ddef7abbf6",
   "metadata": {},
   "outputs": [
    {
     "name": "stdout",
     "output_type": "stream",
     "text": [
      "the no of vowels in the string is :9\n"
     ]
    }
   ],
   "source": [
    "#q1)wap ask the user count how many 'a' s are present in any given string\n",
    "#str1  = \"hai naresh how are you\"\n",
    "#m1\n",
    "str1 = \"hai naresh how are you\"\n",
    "counter = 0\n",
    "for i in str1:\n",
    "    if i == \"a\" or i == \"e\" or i == \"i\" or i == \"o\" or i == \"u\":\n",
    "        counter = counter+1\n",
    "print(f\"the no of vowels in the string is :{counter}\")"
   ]
  },
  {
   "cell_type": "code",
   "execution_count": 29,
   "id": "72a7c486-bc19-4463-b2b4-629e15c80767",
   "metadata": {},
   "outputs": [
    {
     "name": "stdout",
     "output_type": "stream",
     "text": [
      "the no of vowels in the string is :9\n"
     ]
    }
   ],
   "source": [
    "#m2\n",
    "str1 = \"hai naresh how are you\"\n",
    "counter = 0\n",
    "for i in str1:\n",
    "    if i in \"aeiou\":\n",
    "        counter = counter+1\n",
    "print(f\"the no of vowels in the string is :{counter}\")"
   ]
  },
  {
   "cell_type": "code",
   "execution_count": 32,
   "id": "d3b5812e-b46b-4cba-a1a8-0637df956898",
   "metadata": {},
   "outputs": [
    {
     "name": "stdout",
     "output_type": "stream",
     "text": [
      "the no of vowels in the string is :5\n"
     ]
    }
   ],
   "source": [
    "#q3)\n",
    "#M1\n",
    "str1 = set(\"hai naresh how are you\")\n",
    "counter = 0\n",
    "for i in str1:\n",
    "    if i in \"aeiou\":#removing the repeated words\n",
    "        counter = counter+1\n",
    "print(f\"the no of vowels in the string is :{counter}\")"
   ]
  },
  {
   "cell_type": "code",
   "execution_count": 33,
   "id": "82d43849-d88d-4401-9356-2e73b87e0391",
   "metadata": {},
   "outputs": [],
   "source": [
    "#how to update the empty strings"
   ]
  },
  {
   "cell_type": "code",
   "execution_count": 39,
   "id": "3a61cc90-e603-4c30-b7ab-455b3157f4d4",
   "metadata": {},
   "outputs": [
    {
     "name": "stdout",
     "output_type": "stream",
     "text": [
      " python\n"
     ]
    }
   ],
   "source": [
    "s1 = \"python\"\n",
    "s2 = \" \"\n",
    "for i in s1:\n",
    "    s2 = s2+i\n",
    "print(s2)"
   ]
  },
  {
   "cell_type": "markdown",
   "id": "33d09447-374e-47bd-b43d-744dc55a22ee",
   "metadata": {},
   "source": [
    "**concatination :**"
   ]
  },
  {
   "cell_type": "code",
   "execution_count": 40,
   "id": "d6340994-fdf9-4ac6-b7c1-c92bdfebe8f4",
   "metadata": {},
   "outputs": [
    {
     "data": {
      "text/plain": [
       "'python pythonbye'"
      ]
     },
     "execution_count": 40,
     "metadata": {},
     "output_type": "execute_result"
    }
   ],
   "source": [
    "s3 = \"bye\"\n",
    "s1+s2+s3"
   ]
  },
  {
   "cell_type": "code",
   "execution_count": 41,
   "id": "976a2dff-7d04-4557-b0ed-f6783e59d8d9",
   "metadata": {},
   "outputs": [
    {
     "ename": "TypeError",
     "evalue": "can't multiply sequence by non-int of type 'str'",
     "output_type": "error",
     "traceback": [
      "\u001b[1;31m---------------------------------------------------------------------------\u001b[0m",
      "\u001b[1;31mTypeError\u001b[0m                                 Traceback (most recent call last)",
      "Cell \u001b[1;32mIn[41], line 1\u001b[0m\n\u001b[1;32m----> 1\u001b[0m \u001b[43ms1\u001b[49m\u001b[38;5;241;43m*\u001b[39;49m\u001b[43ms2\u001b[49m\n",
      "\u001b[1;31mTypeError\u001b[0m: can't multiply sequence by non-int of type 'str'"
     ]
    }
   ],
   "source": [
    "s1*s2"
   ]
  },
  {
   "cell_type": "code",
   "execution_count": 43,
   "id": "7484d21e-2a4e-4d24-839c-cb45e586f0dd",
   "metadata": {},
   "outputs": [],
   "source": [
    "#can't multiply sequence by non-int of type 'str'(the first variable string is taken as sequence and second is string)"
   ]
  },
  {
   "cell_type": "code",
   "execution_count": 44,
   "id": "060f11aa-1df2-43e4-856f-8931f8546d0f",
   "metadata": {},
   "outputs": [
    {
     "data": {
      "text/plain": [
       "'pythonpython'"
      ]
     },
     "execution_count": 44,
     "metadata": {},
     "output_type": "execute_result"
    }
   ],
   "source": [
    "s1*2"
   ]
  },
  {
   "cell_type": "code",
   "execution_count": 46,
   "id": "c59caab0-0ea6-4a78-ac7f-9e91deb0ca3a",
   "metadata": {},
   "outputs": [
    {
     "ename": "TypeError",
     "evalue": "unsupported operand type(s) for /: 'str' and 'str'",
     "output_type": "error",
     "traceback": [
      "\u001b[1;31m---------------------------------------------------------------------------\u001b[0m",
      "\u001b[1;31mTypeError\u001b[0m                                 Traceback (most recent call last)",
      "Cell \u001b[1;32mIn[46], line 1\u001b[0m\n\u001b[1;32m----> 1\u001b[0m \u001b[43ms1\u001b[49m\u001b[38;5;241;43m/\u001b[39;49m\u001b[43ms2\u001b[49m\n",
      "\u001b[1;31mTypeError\u001b[0m: unsupported operand type(s) for /: 'str' and 'str'"
     ]
    }
   ],
   "source": [
    "s1/s2"
   ]
  },
  {
   "cell_type": "code",
   "execution_count": 47,
   "id": "4b9c845c-4d7d-4777-ab0a-1642fe18684f",
   "metadata": {},
   "outputs": [],
   "source": [
    "#unsupported operand type(s) for /: 'str' and 'str'(it takes both as string)"
   ]
  },
  {
   "cell_type": "code",
   "execution_count": 48,
   "id": "92f6c4e1-cc04-40b6-b508-b1e97d047e9c",
   "metadata": {},
   "outputs": [
    {
     "ename": "TypeError",
     "evalue": "unsupported operand type(s) for -: 'str' and 'str'",
     "output_type": "error",
     "traceback": [
      "\u001b[1;31m---------------------------------------------------------------------------\u001b[0m",
      "\u001b[1;31mTypeError\u001b[0m                                 Traceback (most recent call last)",
      "Cell \u001b[1;32mIn[48], line 1\u001b[0m\n\u001b[1;32m----> 1\u001b[0m \u001b[43ms1\u001b[49m\u001b[38;5;241;43m-\u001b[39;49m\u001b[43ms2\u001b[49m\n",
      "\u001b[1;31mTypeError\u001b[0m: unsupported operand type(s) for -: 'str' and 'str'"
     ]
    }
   ],
   "source": [
    "s1-s2"
   ]
  },
  {
   "cell_type": "code",
   "execution_count": 49,
   "id": "9c59b1de-50ee-4d85-85aa-13c9a1968d84",
   "metadata": {},
   "outputs": [],
   "source": [
    "#unsupported operand type(s) for -: 'str' and 'str' #same str and str is not supported"
   ]
  },
  {
   "cell_type": "code",
   "execution_count": 50,
   "id": "e9f6a9c1-957a-46f4-a860-c6946e190fd8",
   "metadata": {},
   "outputs": [
    {
     "ename": "TypeError",
     "evalue": "unsupported operand type(s) for -: 'str' and 'int'",
     "output_type": "error",
     "traceback": [
      "\u001b[1;31m---------------------------------------------------------------------------\u001b[0m",
      "\u001b[1;31mTypeError\u001b[0m                                 Traceback (most recent call last)",
      "Cell \u001b[1;32mIn[50], line 1\u001b[0m\n\u001b[1;32m----> 1\u001b[0m \u001b[43ms1\u001b[49m\u001b[38;5;241;43m-\u001b[39;49m\u001b[38;5;241;43m2\u001b[39;49m\n",
      "\u001b[1;31mTypeError\u001b[0m: unsupported operand type(s) for -: 'str' and 'int'"
     ]
    }
   ],
   "source": [
    "s1-2"
   ]
  },
  {
   "cell_type": "code",
   "execution_count": null,
   "id": "20db54a9-e050-450c-987d-c5e8bab20dae",
   "metadata": {},
   "outputs": [],
   "source": [
    "#unsupported operand type(s) for -: 'str' and 'int'"
   ]
  },
  {
   "cell_type": "markdown",
   "id": "731aca23-1951-4ea8-bdea-7bf9e184134e",
   "metadata": {},
   "source": [
    "**index :**\n",
    "\n",
    "- index meaning in python is a number attached to a letter\n",
    "- in python index starts with \"0\"\n",
    "- we have two directions\n",
    "-    positive direction\n",
    "-    negtive direction"
   ]
  },
  {
   "cell_type": "code",
   "execution_count": null,
   "id": "b7345992-9343-4685-8ab9-eba31479c992",
   "metadata": {},
   "outputs": [],
   "source": [
    "-6 -5 -4 -3 -2 -1\n",
    " p  y  t  h  o  n\n",
    " 0  1  2  3  4  5"
   ]
  },
  {
   "cell_type": "markdown",
   "id": "b0a68599-5d88-4043-9602-4ffa1d37a13c",
   "metadata": {},
   "source": [
    "**mutable and immutable concept**\n",
    "\n",
    "- mutable: we can change using indexing\n",
    "- immutable we cannot chanf=ge using indexing\n"
   ]
  },
  {
   "cell_type": "code",
   "execution_count": 19,
   "id": "69680760-0386-4663-9a44-224a5226bff4",
   "metadata": {},
   "outputs": [
    {
     "ename": "TypeError",
     "evalue": "'str' object does not support item assignment",
     "output_type": "error",
     "traceback": [
      "\u001b[1;31m---------------------------------------------------------------------------\u001b[0m",
      "\u001b[1;31mTypeError\u001b[0m                                 Traceback (most recent call last)",
      "Cell \u001b[1;32mIn[19], line 2\u001b[0m\n\u001b[0;32m      1\u001b[0m s \u001b[38;5;241m=\u001b[39m \u001b[38;5;124m\"\u001b[39m\u001b[38;5;124mSimha\u001b[39m\u001b[38;5;124m\"\u001b[39m\n\u001b[1;32m----> 2\u001b[0m \u001b[43ms\u001b[49m\u001b[43m[\u001b[49m\u001b[38;5;241;43m3\u001b[39;49m\u001b[43m]\u001b[49m \u001b[38;5;241m=\u001b[39m \u001b[38;5;124m'\u001b[39m\u001b[38;5;124mg\u001b[39m\u001b[38;5;124m'\u001b[39m \u001b[38;5;66;03m#settings are not possible\u001b[39;00m\n",
      "\u001b[1;31mTypeError\u001b[0m: 'str' object does not support item assignment"
     ]
    }
   ],
   "source": [
    "s = \"Simha\"\n",
    "s[3] = 'g' #settings are not possible"
   ]
  },
  {
   "cell_type": "code",
   "execution_count": 20,
   "id": "45c67689-f305-472f-b642-c66e38aeadc8",
   "metadata": {},
   "outputs": [
    {
     "name": "stdout",
     "output_type": "stream",
     "text": [
      "Simha\n"
     ]
    }
   ],
   "source": [
    "print(s)"
   ]
  },
  {
   "cell_type": "code",
   "execution_count": 21,
   "id": "7c1dd23c-2e73-4ff6-a1ee-34856f92a5df",
   "metadata": {},
   "outputs": [
    {
     "name": "stdout",
     "output_type": "stream",
     "text": [
      "['S', 'i', 'm', 'h', 'a']\n"
     ]
    }
   ],
   "source": [
    "s = list(s)\n",
    "print(s)"
   ]
  },
  {
   "cell_type": "code",
   "execution_count": 22,
   "id": "c7a7b584-5b68-44e4-a855-b16dbbef4486",
   "metadata": {},
   "outputs": [
    {
     "name": "stdout",
     "output_type": "stream",
     "text": [
      "['S', 'i', 'm', 'l', 'a']\n"
     ]
    }
   ],
   "source": [
    "s[3] = \"l\"\n",
    "print(s)"
   ]
  },
  {
   "cell_type": "code",
   "execution_count": 23,
   "id": "d9f8a70d-06d5-4264-8591-aa40b5b493dd",
   "metadata": {},
   "outputs": [
    {
     "name": "stdout",
     "output_type": "stream",
     "text": [
      "Simla\n"
     ]
    }
   ],
   "source": [
    "s = \"\".join(s)\n",
    "print(s)"
   ]
  },
  {
   "cell_type": "code",
   "execution_count": 26,
   "id": "e8623c1d-e28f-4879-ae99-f065e338d3bf",
   "metadata": {},
   "outputs": [
    {
     "name": "stdout",
     "output_type": "stream",
     "text": [
      "S\n",
      "i\n",
      "m\n",
      "l\n",
      "a\n"
     ]
    }
   ],
   "source": [
    "#que)print each letter using for loop range\n",
    "for i in range(len(s)): #this can be done using indices in the looping ...\n",
    "    print(s[i])#we can loop through the letters using letters too in this way but i've never acknowledged it eventho i have used it before"
   ]
  },
  {
   "cell_type": "markdown",
   "id": "9527c826-ca0f-4019-a069-904185605930",
   "metadata": {},
   "source": [
    "- **for-in** directly access the letters\n",
    "- for = using indices\n",
    "- in  = using letters"
   ]
  },
  {
   "cell_type": "code",
   "execution_count": 29,
   "id": "3f45b4c5-8ae7-423b-9aaf-8e20544c800a",
   "metadata": {},
   "outputs": [
    {
     "name": "stdout",
     "output_type": "stream",
     "text": [
      "the index of letters s is : 0 \n",
      "the index of letters i is : 1 \n",
      "the index of letters m is : 2 \n",
      "the index of letters h is : 3 \n",
      "the index of letters a is : 4 \n"
     ]
    }
   ],
   "source": [
    "#que)wap ask the user iterate using a string print the positive indices and negative indices\n",
    "name  = \"simha\"\n",
    "for i in range (len(name)):\n",
    "    print(f\"the index of letters {name[i]} is : {i} \")\n"
   ]
  },
  {
   "cell_type": "code",
   "execution_count": 31,
   "id": "af555268-76a7-49d6-b522-0f4f98ccb50e",
   "metadata": {},
   "outputs": [
    {
     "name": "stdout",
     "output_type": "stream",
     "text": [
      "the index of letters s is : -5 \n",
      "the index of letters i is : -4 \n",
      "the index of letters m is : -3 \n",
      "the index of letters h is : -2 \n",
      "the index of letters a is : -1 \n"
     ]
    }
   ],
   "source": [
    "name  = \"simha\"\n",
    "for i in range (len(name)):\n",
    "    print(f\"the index of letters {name[i]} is : {i-len(name)} \")"
   ]
  },
  {
   "cell_type": "code",
   "execution_count": 39,
   "id": "4b977c26-bff1-4983-94e4-a38375578ae1",
   "metadata": {},
   "outputs": [
    {
     "name": "stdout",
     "output_type": "stream",
     "text": [
      "the index of letters a is : 2 \n",
      "the index of letters a is : 5 \n",
      "the index of letters a is : 8 \n",
      "the index of letters a is : 14 \n"
     ]
    }
   ],
   "source": [
    "#que)wap ask the user to get the index of each \"a\" in the given index\n",
    "name1 = \"chaitanya simha\"\n",
    "for i in range (len(name1)):\n",
    "    if name1[i] == \"a\": \n",
    "        print(f\"the index of letters {name1[i]} is : {i} \")"
   ]
  },
  {
   "cell_type": "code",
   "execution_count": 37,
   "id": "4a832021-0f23-4966-90c4-6e3b6c5b1da7",
   "metadata": {},
   "outputs": [],
   "source": [
    "#wap ask the user to get the count of number of a in a given string\n",
    "#wap to ask to sum of all the indices of the letter a\n",
    "#wap ask  the user  to get the vowels from given string using range"
   ]
  },
  {
   "cell_type": "code",
   "execution_count": 42,
   "id": "ce11ae12-5541-454f-864d-e07fcbcb8c76",
   "metadata": {},
   "outputs": [
    {
     "name": "stdout",
     "output_type": "stream",
     "text": [
      "the index of letters a is : 2 \n",
      "the index of letters a is : 5 \n",
      "the index of letters a is : 8 \n",
      "the index of letters a is : 14 \n",
      "the count of of a :4\n"
     ]
    }
   ],
   "source": [
    "count = 0\n",
    "for i in range (len(name1)):\n",
    "    if name1[i] == \"a\": \n",
    "        print(f\"the index of letters {name1[i]} is : {i} \")\n",
    "        count += 1\n",
    "print(f\"the count of of a :{count}\")"
   ]
  },
  {
   "cell_type": "code",
   "execution_count": 45,
   "id": "8acd1aa7-e1c5-4da0-8e37-77f483eaa0a4",
   "metadata": {},
   "outputs": [
    {
     "name": "stdout",
     "output_type": "stream",
     "text": [
      "the index of letters a is : 2 \n",
      "the index of letters a is : 5 \n",
      "the index of letters a is : 8 \n",
      "the index of letters a is : 14 \n",
      "the count of of a :4\n",
      "the sum :29\n"
     ]
    }
   ],
   "source": [
    "count = 0\n",
    "summ_indices = 0\n",
    "for i in range (len(name1)):\n",
    "    if name1[i] == \"a\": \n",
    "        summ_indices = summ_indices + i\n",
    "        print(f\"the index of letters {name1[i]} is : {i} \")\n",
    "        count += 1\n",
    "print(f\"the count of of a :{count}\")\n",
    "print(f\"the sum :{summ_indices}\")"
   ]
  },
  {
   "cell_type": "code",
   "execution_count": 54,
   "id": "7a94ef11-c2bb-4a81-8fb4-c57a1c40ba1e",
   "metadata": {},
   "outputs": [
    {
     "name": "stdout",
     "output_type": "stream",
     "text": [
      "the index of letters a is : 2 \n",
      "the index of letters i is : 3 \n",
      "the index of letters a is : 5 \n",
      "the index of letters a is : 8 \n",
      "the index of letters i is : 11 \n",
      "the index of letters a is : 14 \n"
     ]
    }
   ],
   "source": [
    "for i in range (len(name1)):\n",
    "    if name1[i] in \"aeiou\": \n",
    "        print(f\"the index of letters {name1[i]} is : {i} \")"
   ]
  },
  {
   "cell_type": "code",
   "execution_count": null,
   "id": "132db921-3a93-41e4-9ccb-00008c38e2a1",
   "metadata": {},
   "outputs": [],
   "source": [
    "#q)"
   ]
  }
 ],
 "metadata": {
  "kernelspec": {
   "display_name": "Python 3 (ipykernel)",
   "language": "python",
   "name": "python3"
  },
  "language_info": {
   "codemirror_mode": {
    "name": "ipython",
    "version": 3
   },
   "file_extension": ".py",
   "mimetype": "text/x-python",
   "name": "python",
   "nbconvert_exporter": "python",
   "pygments_lexer": "ipython3",
   "version": "3.11.4"
  }
 },
 "nbformat": 4,
 "nbformat_minor": 5
}
