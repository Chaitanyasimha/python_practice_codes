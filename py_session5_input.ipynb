{
 "cells": [
  {
   "cell_type": "code",
   "execution_count": 2,
   "id": "ef432b16-a654-4d8e-b6e5-d4ed6efea78d",
   "metadata": {},
   "outputs": [
    {
     "name": "stdin",
     "output_type": "stream",
     "text": [
      " what???  shinu\n"
     ]
    },
    {
     "data": {
      "text/plain": [
       "'shinu'"
      ]
     },
     "execution_count": 2,
     "metadata": {},
     "output_type": "execute_result"
    }
   ],
   "source": [
    "#using input\" keyword\n",
    "input(\" what??? \")"
   ]
  },
  {
   "cell_type": "code",
   "execution_count": 3,
   "id": "ed4509eb-7065-4805-a12d-4506d74eb9a2",
   "metadata": {},
   "outputs": [],
   "source": [
    "#using just the input keyword will take the user input and print it like a string but it does not store"
   ]
  },
  {
   "cell_type": "code",
   "execution_count": 4,
   "id": "62a4d07e-3a27-4933-a4d9-e154e099b507",
   "metadata": {},
   "outputs": [],
   "source": [
    "#by default the input keyword use the string datatype,so perform the type casing"
   ]
  },
  {
   "cell_type": "code",
   "execution_count": 6,
   "id": "d78c9320-687c-405f-a497-5b2377fbbb76",
   "metadata": {},
   "outputs": [
    {
     "name": "stdin",
     "output_type": "stream",
     "text": [
      "what,a : 5\n",
      "what,b : 6\n"
     ]
    },
    {
     "name": "stdout",
     "output_type": "stream",
     "text": [
      "56\n"
     ]
    }
   ],
   "source": [
    "a = input(\"what,a :\")\n",
    "b = input(\"what,b :\")\n",
    "c = a+b\n",
    "print(c)"
   ]
  },
  {
   "cell_type": "code",
   "execution_count": 7,
   "id": "230d51b6-70dc-48a8-a131-88979a70a6fe",
   "metadata": {},
   "outputs": [
    {
     "name": "stdin",
     "output_type": "stream",
     "text": [
      "what,a : 6\n",
      "what,b : 7\n"
     ]
    },
    {
     "name": "stdout",
     "output_type": "stream",
     "text": [
      "13\n"
     ]
    }
   ],
   "source": [
    "#AFTER TYPE CONVERSION\n",
    "a = int(input(\"what,a :\"))\n",
    "b = int(input(\"what,b :\"))\n",
    "c = a+b\n",
    "print(c)"
   ]
  },
  {
   "cell_type": "code",
   "execution_count": 8,
   "id": "d95d5361-bfd9-4763-9617-bbbcaec46613",
   "metadata": {},
   "outputs": [
    {
     "name": "stdin",
     "output_type": "stream",
     "text": [
      "the eve val : 66.9\n"
     ]
    },
    {
     "name": "stdout",
     "output_type": "stream",
     "text": [
      "66.9\n"
     ]
    }
   ],
   "source": [
    "#\"eval\" is word for evaluate this use used for type conversion and also for doing mathemaatical operation on the int's\n",
    "#it will convert nubers to its type int or the float.\n",
    "eve = eval(input(\"the eve val :\"))\n",
    "print(eve)"
   ]
  },
  {
   "cell_type": "code",
   "execution_count": 11,
   "id": "34a4d897-cf37-4d19-bdf5-f7dd8de457e6",
   "metadata": {},
   "outputs": [
    {
     "name": "stdin",
     "output_type": "stream",
     "text": [
      " 8\n",
      " 9\n",
      " 99.9\n"
     ]
    },
    {
     "name": "stdout",
     "output_type": "stream",
     "text": [
      "38.96666666666667\n"
     ]
    }
   ],
   "source": [
    "#write program take 3 inputs from the console and do the average of that three inputs.\n",
    "a = eval(input())\n",
    "b = eval(input())\n",
    "c = eval(input())\n",
    "avg = (a+b+c)/3\n",
    "print(avg)"
   ]
  },
  {
   "cell_type": "code",
   "execution_count": 12,
   "id": "78b9b2d2-550b-45c9-8fea-3d225e7cce92",
   "metadata": {},
   "outputs": [],
   "source": [
    "#do the operation and problems we have used in the last session4_p2 file he said....."
   ]
  },
  {
   "cell_type": "code",
   "execution_count": 13,
   "id": "9643d9fe-5466-40d2-8dda-decc1f040286",
   "metadata": {},
   "outputs": [],
   "source": [
    "#15 question assignment monday is the submission"
   ]
  },
  {
   "cell_type": "code",
   "execution_count": null,
   "id": "1912697b-67cc-4590-9a6a-e4085839b9c0",
   "metadata": {},
   "outputs": [],
   "source": []
  }
 ],
 "metadata": {
  "kernelspec": {
   "display_name": "Python 3 (ipykernel)",
   "language": "python",
   "name": "python3"
  },
  "language_info": {
   "codemirror_mode": {
    "name": "ipython",
    "version": 3
   },
   "file_extension": ".py",
   "mimetype": "text/x-python",
   "name": "python",
   "nbconvert_exporter": "python",
   "pygments_lexer": "ipython3",
   "version": "3.11.4"
  }
 },
 "nbformat": 4,
 "nbformat_minor": 5
}
