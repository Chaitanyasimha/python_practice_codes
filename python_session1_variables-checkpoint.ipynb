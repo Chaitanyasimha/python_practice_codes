{
 "cells": [
  {
   "cell_type": "markdown",
   "id": "43ebf4e3-0816-4e4e-9e27-1851da0f61dd",
   "metadata": {},
   "source": [
    "#### krishna"
   ]
  },
  {
   "cell_type": "markdown",
   "id": "1f227aa2-99ca-460e-a679-e64f05fd8f95",
   "metadata": {},
   "source": [
    "- variables are used to store the values, it values can be updated and some basic things about variables_ _ _"
   ]
  },
  {
   "cell_type": "markdown",
   "id": "0c09eeb0-1dbc-4bf6-a640-97dd6d97aa05",
   "metadata": {},
   "source": [
    "- it will take the last output as its latest values"
   ]
  },
  {
   "cell_type": "code",
   "execution_count": 5,
   "id": "3cbc8736-53b1-4eb8-93c1-3a7295365d90",
   "metadata": {},
   "outputs": [
    {
     "data": {
      "text/plain": [
       "100"
      ]
     },
     "execution_count": 5,
     "metadata": {},
     "output_type": "execute_result"
    }
   ],
   "source": [
    "#i did'nt kneew that underscore can be used as a variable\n",
    "_=100\n",
    "_"
   ]
  },
  {
   "cell_type": "code",
   "execution_count": 9,
   "id": "6343543f-7f0c-417a-993e-b835a1123352",
   "metadata": {},
   "outputs": [
    {
     "ename": "TypeError",
     "evalue": "cannot unpack non-iterable int object",
     "output_type": "error",
     "traceback": [
      "\u001b[1;31m---------------------------------------------------------------------------\u001b[0m",
      "\u001b[1;31mTypeError\u001b[0m                                 Traceback (most recent call last)",
      "Cell \u001b[1;32mIn[9], line 3\u001b[0m\n\u001b[0;32m      1\u001b[0m \u001b[38;5;66;03m#it can share values, variables need individual values while assigning \u001b[39;00m\n\u001b[0;32m      2\u001b[0m \u001b[38;5;66;03m#fail_ex:\u001b[39;00m\n\u001b[1;32m----> 3\u001b[0m n1,n2 \u001b[38;5;241m=\u001b[39m \u001b[38;5;241m100\u001b[39m\n",
      "\u001b[1;31mTypeError\u001b[0m: cannot unpack non-iterable int object"
     ]
    }
   ],
   "source": [
    "#it can share values, variables need individual values while assigning \n",
    "#fail_ex:\n",
    "n1,n2 = 100"
   ]
  },
  {
   "cell_type": "code",
   "execution_count": 8,
   "id": "42d4901a-46d6-4208-a017-ea16e5b39490",
   "metadata": {},
   "outputs": [
    {
     "data": {
      "text/plain": [
       "(100, 200)"
      ]
     },
     "execution_count": 8,
     "metadata": {},
     "output_type": "execute_result"
    }
   ],
   "source": [
    "#it can share values, variables need individual values while assigning \n",
    "#pass_ex:\n",
    "n1,n2 = 100,200\n",
    "n1,n2"
   ]
  },
  {
   "cell_type": "code",
   "execution_count": 12,
   "id": "4abfb75f-a065-4d7f-8e30-795c7a0b12b3",
   "metadata": {},
   "outputs": [
    {
     "data": {
      "text/plain": [
       "(100, (100, 22))"
      ]
     },
     "execution_count": 12,
     "metadata": {},
     "output_type": "execute_result"
    }
   ],
   "source": [
    "#but the variables can take 2 values once\n",
    "v2 = 100,22 \n",
    "v1,v2"
   ]
  },
  {
   "cell_type": "markdown",
   "id": "ed4859b3-9a07-4ab9-9906-32eac9661d1c",
   "metadata": {},
   "source": [
    "### note\n",
    "-  variables are case sensitive and can be lower or upper\n",
    "- cannot start with nubers\n",
    "- can not use special charecters exept **underscore**\n",
    "- variables does not have spaces\n",
    "- only using underscore is possible as a variable\n",
    "- and you can't use keywords, methods and functions as variables\n",
    "- two variables cannot be assigned to single value\n",
    "- two values can be assigned to a single variable"
   ]
  },
  {
   "cell_type": "code",
   "execution_count": null,
   "id": "402b5e8d-e604-4e12-bbef-1cb5a08239a5",
   "metadata": {},
   "outputs": [],
   "source": [
    "-----"
   ]
  }
 ],
 "metadata": {
  "kernelspec": {
   "display_name": "Python 3 (ipykernel)",
   "language": "python",
   "name": "python3"
  },
  "language_info": {
   "codemirror_mode": {
    "name": "ipython",
    "version": 3
   },
   "file_extension": ".py",
   "mimetype": "text/x-python",
   "name": "python",
   "nbconvert_exporter": "python",
   "pygments_lexer": "ipython3",
   "version": "3.11.4"
  }
 },
 "nbformat": 4,
 "nbformat_minor": 5
}
