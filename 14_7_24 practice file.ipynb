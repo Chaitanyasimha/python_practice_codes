{
 "cells": [
  {
   "cell_type": "code",
   "execution_count": 5,
   "id": "251661d9-27e4-4117-bc2c-e90f65f15f9e",
   "metadata": {},
   "outputs": [
    {
     "name": "stdin",
     "output_type": "stream",
     "text": [
      " banana\n"
     ]
    },
    {
     "name": "stdout",
     "output_type": "stream",
     "text": [
      "b\n",
      "n\n",
      "n\n"
     ]
    }
   ],
   "source": [
    "def score_of_stuart():\n",
    "     score_stuart = 0\n",
    "    stuart_sub_str_L = []\n",
    "    for consonants in s:\n",
    "        if consonants not in \"aeiou\":\n",
    "            stuart_sub_str_L.append(consonants)\n",
    "            print(stuart_sub_str_L)\n",
    "        \n",
    "    \n",
    "def minion_game(string):\n",
    "    score_stuart = 0\n",
    "    stuart_sub_str_L = []\n",
    "    for consonants in s:\n",
    "        if consonants not in \"aeiou\":\n",
    "            stuart_sub_str_L\n",
    "            print(stuart_sub_str_L)\n",
    "        \n",
    "\n",
    "if __name__ == '__main__':\n",
    "    s = input()\n",
    "    minion_game(s)"
   ]
  },
  {
   "cell_type": "code",
   "execution_count": 13,
   "id": "7589ab61-709d-44f6-8ab8-ba9e8a8367c4",
   "metadata": {},
   "outputs": [
    {
     "name": "stdout",
     "output_type": "stream",
     "text": [
      "['B', 'n', 'n']\n"
     ]
    }
   ],
   "source": [
    "def score_of_stuart(s):\n",
    "    score_stuart = 0\n",
    "    stuart_sub_str_L = []\n",
    "    \n",
    "    #found the single substrings possible for the  string for stuart,appended it...\n",
    "    for consonants in s:\n",
    "        if consonants not in \"aeiou\":\n",
    "            stuart_sub_str_L.append(consonants)\n",
    "    print(stuart_sub_str_L)\n",
    "score_of_stuart(\"Banana\")"
   ]
  },
  {
   "cell_type": "code",
   "execution_count": 35,
   "id": "050a7eaf-838e-4314-8fb8-ebed8704a745",
   "metadata": {},
   "outputs": [
    {
     "name": "stdout",
     "output_type": "stream",
     "text": [
      "['B', 'n', 'n']\n",
      "3\n"
     ]
    }
   ],
   "source": [
    "def score_of_stuart(s):\n",
    "    score_stuart = 0\n",
    "    stuart_sub_str_l = []\n",
    "\n",
    "    s = list(s)\n",
    "    \n",
    "    #found the single substrings possible for the  string for stuart,appended it...\n",
    "    for consonants in s:\n",
    "        if consonants not in \"aeiou\":\n",
    "            stuart_sub_str_l.append(consonants)\n",
    "    #checking the score of 1 letter substrings.. and adding score\n",
    "    for i in range (len(stuart_sub_str_l)):\n",
    "        if stuart_sub_str_l[i] in s:\n",
    "            score_stuart = score_stuart+1\n",
    "    print(stuart_sub_str_l)\n",
    "    print(score_stuart)\n",
    "\n",
    "\n",
    "score_of_stuart(\"Banana\")"
   ]
  },
  {
   "cell_type": "code",
   "execution_count": 41,
   "id": "485eb388-0927-4c3a-8197-dded19b69575",
   "metadata": {},
   "outputs": [
    {
     "ename": "IndexError",
     "evalue": "list index out of range",
     "output_type": "error",
     "traceback": [
      "\u001b[1;31m---------------------------------------------------------------------------\u001b[0m",
      "\u001b[1;31mIndexError\u001b[0m                                Traceback (most recent call last)",
      "Cell \u001b[1;32mIn[41], line 41\u001b[0m\n\u001b[0;32m     32\u001b[0m     \u001b[38;5;28mprint\u001b[39m(score_stuart)\n\u001b[0;32m     34\u001b[0m     \u001b[38;5;66;03m#findiing the double_strings possible for the string,and appending\u001b[39;00m\n\u001b[0;32m     35\u001b[0m     \u001b[38;5;66;03m#for consonants in s:\u001b[39;00m\n\u001b[0;32m     36\u001b[0m      \u001b[38;5;66;03m#   if consonants not in \"aeiou\":\u001b[39;00m\n\u001b[0;32m     37\u001b[0m       \u001b[38;5;66;03m#      stuart_sub_str_l.append(consonants)#we cannot do this everytime and for every string it needs to be flexible so try as the size\u001b[39;00m\n\u001b[0;32m     38\u001b[0m                                                \u001b[38;5;66;03m#of the list then append it all to a list then check if that possible sting is present in that \u001b[39;00m\n\u001b[0;32m     39\u001b[0m                                                \u001b[38;5;66;03m#possible size - it has to happenn based on the size of the substring is = size of the gapcheck\u001b[39;00m\n\u001b[1;32m---> 41\u001b[0m \u001b[43mscore_of_stuart\u001b[49m\u001b[43m(\u001b[49m\u001b[38;5;124;43m\"\u001b[39;49m\u001b[38;5;124;43mBanana\u001b[39;49m\u001b[38;5;124;43m\"\u001b[39;49m\u001b[43m)\u001b[49m\n",
      "Cell \u001b[1;32mIn[41], line 21\u001b[0m, in \u001b[0;36mscore_of_stuart\u001b[1;34m(s)\u001b[0m\n\u001b[0;32m     19\u001b[0m     stuart_sub_str_l\u001b[38;5;241m.\u001b[39mappend(s[i]\u001b[38;5;241m+\u001b[39ms[i\u001b[38;5;241m+\u001b[39m\u001b[38;5;241m1\u001b[39m]\u001b[38;5;241m+\u001b[39ms[i\u001b[38;5;241m+\u001b[39m\u001b[38;5;241m2\u001b[39m]\u001b[38;5;241m+\u001b[39ms[i\u001b[38;5;241m+\u001b[39m\u001b[38;5;241m3\u001b[39m])\n\u001b[0;32m     20\u001b[0m \u001b[38;5;28;01mif\u001b[39;00m \u001b[38;5;28mlen\u001b[39m(stuart_sub_str_l[\u001b[38;5;241m-\u001b[39m\u001b[38;5;241m1\u001b[39m]) \u001b[38;5;241m==\u001b[39m (\u001b[38;5;241m4\u001b[39m):\n\u001b[1;32m---> 21\u001b[0m     stuart_sub_str_l\u001b[38;5;241m.\u001b[39mappend(s[i]\u001b[38;5;241m+\u001b[39ms[i\u001b[38;5;241m+\u001b[39m\u001b[38;5;241m1\u001b[39m]\u001b[38;5;241m+\u001b[39ms[i\u001b[38;5;241m+\u001b[39m\u001b[38;5;241m2\u001b[39m]\u001b[38;5;241m+\u001b[39ms[i\u001b[38;5;241m+\u001b[39m\u001b[38;5;241m3\u001b[39m]\u001b[38;5;241m+\u001b[39m\u001b[43ms\u001b[49m\u001b[43m[\u001b[49m\u001b[43mi\u001b[49m\u001b[38;5;241;43m+\u001b[39;49m\u001b[38;5;241;43m4\u001b[39;49m\u001b[43m]\u001b[49m)\n\u001b[0;32m     22\u001b[0m \u001b[38;5;28;01mif\u001b[39;00m \u001b[38;5;28mlen\u001b[39m(stuart_sub_str_l[\u001b[38;5;241m-\u001b[39m\u001b[38;5;241m1\u001b[39m]) \u001b[38;5;241m==\u001b[39m (\u001b[38;5;241m5\u001b[39m):\n\u001b[0;32m     23\u001b[0m     stuart_sub_str_l\u001b[38;5;241m.\u001b[39mappend(s[i]\u001b[38;5;241m+\u001b[39ms[i\u001b[38;5;241m+\u001b[39m\u001b[38;5;241m1\u001b[39m]\u001b[38;5;241m+\u001b[39ms[i\u001b[38;5;241m+\u001b[39m\u001b[38;5;241m2\u001b[39m]\u001b[38;5;241m+\u001b[39ms[i\u001b[38;5;241m+\u001b[39m\u001b[38;5;241m3\u001b[39m]\u001b[38;5;241m+\u001b[39ms[i\u001b[38;5;241m+\u001b[39m\u001b[38;5;241m4\u001b[39m]\u001b[38;5;241m+\u001b[39ms[i\u001b[38;5;241m+\u001b[39m\u001b[38;5;241m5\u001b[39m])\n",
      "\u001b[1;31mIndexError\u001b[0m: list index out of range"
     ]
    }
   ],
   "source": [
    "def score_of_stuart(s):\n",
    "    score_stuart = 0\n",
    "    stuart_sub_str_l = []\n",
    "\n",
    "    s = list(s)\n",
    "    \n",
    "    #found the single substrings possible for the  string for stuart,appended it...\n",
    "    for i in range(len(s)):\n",
    "        for i in range(len(s)):\n",
    "            if s[i] not in \"aeiou\":\n",
    "                #consonant_Index = i\n",
    "                if list != []:\n",
    "                    stuart_sub_str_l.append(s[i])\n",
    "                if len(stuart_sub_str_l[-1]) == (1) and len(s) == 3:\n",
    "                    stuart_sub_str_l.append(s[i]+s[i+1])\n",
    "                if len(stuart_sub_str_l[-1]) == (2) a:\n",
    "                    stuart_sub_str_l.append(s[i]+s[i+1]+s[i+2])\n",
    "                if len(stuart_sub_str_l[-1]) == (3):     \n",
    "                    stuart_sub_str_l.append(s[i]+s[i+1]+s[i+2]+s[i+3])\n",
    "                if len(stuart_sub_str_l[-1]) == (4):\n",
    "                    stuart_sub_str_l.append(s[i]+s[i+1]+s[i+2]+s[i+3]+s[i+4])\n",
    "                if len(stuart_sub_str_l[-1]) == (5) and len(s) == 10:\n",
    "                    stuart_sub_str_l.append(s[i]+s[i+1]+s[i+2]+s[i+3]+s[i+4]+s[i+5])\n",
    "                if len(stuart_sub_str_l[-1]) == (6) and s[i] == 6 :\n",
    "                    stuart_sub_str_l.append(s[i]+s[i+1]+s[i+2]+s[i+3]+s[i+4]+s[i+5]+s[i+6])\n",
    "            \n",
    "    #checking the score of 1 letter substrings.. and adding score\n",
    "    for i in range (len(stuart_sub_str_l)):\n",
    "        if stuart_sub_str_l[i] in s:\n",
    "            score_stuart = score_stuart+1\n",
    "    print(stuart_sub_str_l)\n",
    "    print(score_stuart)\n",
    "\n",
    "    #findiing the double_strings possible for the string,and appending\n",
    "    #for consonants in s:\n",
    "     #   if consonants not in \"aeiou\":\n",
    "      #      stuart_sub_str_l.append(consonants)#we cannot do this everytime and for every string it needs to be flexible so try as the size\n",
    "                                               #of the list then append it all to a list then check if that possible sting is present in that \n",
    "                                               #possible size - it has to happenn based on the size of the substring is = size of the gapcheck\n",
    "\n",
    "score_of_stuart(\"Banana\")"
   ]
  },
  {
   "cell_type": "code",
   "execution_count": null,
   "id": "cfd494c0-6be2-4e5e-85d3-6441acfd98c2",
   "metadata": {},
   "outputs": [],
   "source": []
  }
 ],
 "metadata": {
  "kernelspec": {
   "display_name": "Python 3 (ipykernel)",
   "language": "python",
   "name": "python3"
  },
  "language_info": {
   "codemirror_mode": {
    "name": "ipython",
    "version": 3
   },
   "file_extension": ".py",
   "mimetype": "text/x-python",
   "name": "python",
   "nbconvert_exporter": "python",
   "pygments_lexer": "ipython3",
   "version": "3.11.4"
  }
 },
 "nbformat": 4,
 "nbformat_minor": 5
}
